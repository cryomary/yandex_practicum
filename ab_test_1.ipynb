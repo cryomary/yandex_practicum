{
 "cells": [
  {
   "cell_type": "markdown",
   "metadata": {},
   "source": [
    "# Проект по А/B-тестированию"
   ]
  },
  {
   "cell_type": "markdown",
   "metadata": {},
   "source": [
    "###  Описание проекта\n",
    "\n",
    "**Цель проекта** — провести оценку результатов A/B-теста основе датасета с действиями пользователей, технического задания и нескольких вспомогательных датасетов.\n",
    "\n",
    "Для этого требуется выполнить **следующие шаги**:\n",
    "- Загрузить данные и изучить общую информацию о датасете;\n",
    "- Выполнить предобработку данных;\n",
    "- Оценить корректность проведения теста;\n",
    "- Провести исследовательский анализ данных;\n",
    "- Провести оценку результатов A/B-тестирования;\n",
    "- Проанализировать результаты теста.\n",
    "\n",
    "**1. Загрузка данных**\n",
    "\n",
    "**2. Предобработка данных:**\n",
    "- Преобразование типов данных (при необходимости);\n",
    "- Выявление и удаление дубликатов, в том числе неявных (при необходимости);\n",
    "- Выявление и удаление/заполнение пропусков (при необходимости);\n",
    "\n",
    "**3. Оценка корректности проведения теста:**\n",
    "- Проверить соответствие данных требованиям технического задания и корректность всех пунктов технического задания;\n",
    "- Убедиться, что время проведения теста не совпадает с маркетинговыми и другими активностями;\n",
    "- Обратить внимание на аудиторию теста: удостовериться, что нет пересечений с конкурирующим тестом и нет пользователей, участвующих в двух группах теста одновременно; проверить равномерность распределения пользователей по тестовым группам и правильность их формирования;\n",
    "\n",
    "**4. Исследовательский анализ данных:**\n",
    "- Определить  одинаково ли распределены количество событий на пользователя в выборках;\n",
    "- Выяснить как число событий в выборках распределено по дням;\n",
    "- Определить, как меняется конверсия в воронке в выборках на разных этапах;\n",
    "- Выявить какие особенности данных нужно учесть, прежде чем приступать к A/B-тестированию;\n",
    "\n",
    "**5. Оценка результатов A/B-тестирования:**\n",
    "- Описать результаты A/B-тестирования;\n",
    "- Проверить статистическую разницу долей z-критерием;\n",
    "\n",
    "**6. Анализ результатов теста:**\n",
    "- Написать выводы по этапу исследовательского анализа данных и по проведённой оценке результатов A/B-тестирования;\n",
    "- Написать общее заключение о корректности проведения теста.\n",
    "\n",
    "\n",
    "**Техническое задание**\n",
    "- Название теста: `recommender_system_test`;\n",
    "- группы: А — контрольная, B — новая платёжная воронка;\n",
    "- дата запуска: 2020-12-07;\n",
    "- дата остановки набора новых пользователей: 2020-12-21;\n",
    "- дата остановки: 2021-01-04;\n",
    "- аудитория: 15% новых пользователей из региона EU;\n",
    "- назначение теста: тестирование изменений, связанных с внедрением улучшенной рекомендательной системы;\n",
    "- ожидаемое количество участников теста: 6000.\n",
    "- ожидаемый эффект: за 14 дней с момента регистрации пользователи покажут улучшение каждой метрики не менее, чем на 10%:\n",
    "    - конверсии в просмотр карточек товаров — событие `product_page`,\n",
    "    - просмотры корзины — `product_cart`,\n",
    "    - покупки — `purchase`."
   ]
  },
  {
   "cell_type": "markdown",
   "metadata": {},
   "source": [
    "## Загрузка данных и изучение общей информации"
   ]
  },
  {
   "cell_type": "code",
   "execution_count": 1,
   "metadata": {},
   "outputs": [],
   "source": [
    "# импорт библиотек\n",
    "import pandas as pd\n",
    "import warnings\n",
    "warnings.filterwarnings(\"ignore\")\n",
    "import plotly.express as px\n",
    "import plotly.graph_objects as go\n",
    "import seaborn as sns\n",
    "import matplotlib.pyplot as plt\n",
    "from datetime import datetime as dt\n",
    "import numpy as np\n",
    "import math\n",
    "from scipy import stats "
   ]
  },
  {
   "cell_type": "code",
   "execution_count": 2,
   "metadata": {},
   "outputs": [],
   "source": [
    "# сохранение таблицы csv в переменные\n",
    "marketing_events = pd.read_csv('/datasets/ab_project_marketing_events.csv') \n",
    "\n",
    "new_users = pd.read_csv('/datasets/final_ab_new_users.csv')\n",
    "\n",
    "events = pd.read_csv('/datasets/final_ab_events.csv')\n",
    "\n",
    "participants = pd.read_csv('/datasets/final_ab_participants.csv')"
   ]
  },
  {
   "cell_type": "code",
   "execution_count": 3,
   "metadata": {},
   "outputs": [
    {
     "data": {
      "text/html": [
       "<div>\n",
       "<style scoped>\n",
       "    .dataframe tbody tr th:only-of-type {\n",
       "        vertical-align: middle;\n",
       "    }\n",
       "\n",
       "    .dataframe tbody tr th {\n",
       "        vertical-align: top;\n",
       "    }\n",
       "\n",
       "    .dataframe thead th {\n",
       "        text-align: right;\n",
       "    }\n",
       "</style>\n",
       "<table border=\"1\" class=\"dataframe\">\n",
       "  <thead>\n",
       "    <tr style=\"text-align: right;\">\n",
       "      <th></th>\n",
       "      <th>name</th>\n",
       "      <th>regions</th>\n",
       "      <th>start_dt</th>\n",
       "      <th>finish_dt</th>\n",
       "    </tr>\n",
       "  </thead>\n",
       "  <tbody>\n",
       "    <tr>\n",
       "      <th>0</th>\n",
       "      <td>Christmas&amp;New Year Promo</td>\n",
       "      <td>EU, N.America</td>\n",
       "      <td>2020-12-25</td>\n",
       "      <td>2021-01-03</td>\n",
       "    </tr>\n",
       "    <tr>\n",
       "      <th>1</th>\n",
       "      <td>St. Valentine's Day Giveaway</td>\n",
       "      <td>EU, CIS, APAC, N.America</td>\n",
       "      <td>2020-02-14</td>\n",
       "      <td>2020-02-16</td>\n",
       "    </tr>\n",
       "    <tr>\n",
       "      <th>2</th>\n",
       "      <td>St. Patric's Day Promo</td>\n",
       "      <td>EU, N.America</td>\n",
       "      <td>2020-03-17</td>\n",
       "      <td>2020-03-19</td>\n",
       "    </tr>\n",
       "    <tr>\n",
       "      <th>3</th>\n",
       "      <td>Easter Promo</td>\n",
       "      <td>EU, CIS, APAC, N.America</td>\n",
       "      <td>2020-04-12</td>\n",
       "      <td>2020-04-19</td>\n",
       "    </tr>\n",
       "    <tr>\n",
       "      <th>4</th>\n",
       "      <td>4th of July Promo</td>\n",
       "      <td>N.America</td>\n",
       "      <td>2020-07-04</td>\n",
       "      <td>2020-07-11</td>\n",
       "    </tr>\n",
       "  </tbody>\n",
       "</table>\n",
       "</div>"
      ],
      "text/plain": [
       "                           name                   regions    start_dt  \\\n",
       "0      Christmas&New Year Promo             EU, N.America  2020-12-25   \n",
       "1  St. Valentine's Day Giveaway  EU, CIS, APAC, N.America  2020-02-14   \n",
       "2        St. Patric's Day Promo             EU, N.America  2020-03-17   \n",
       "3                  Easter Promo  EU, CIS, APAC, N.America  2020-04-12   \n",
       "4             4th of July Promo                 N.America  2020-07-04   \n",
       "\n",
       "    finish_dt  \n",
       "0  2021-01-03  \n",
       "1  2020-02-16  \n",
       "2  2020-03-19  \n",
       "3  2020-04-19  \n",
       "4  2020-07-11  "
      ]
     },
     "execution_count": 3,
     "metadata": {},
     "output_type": "execute_result"
    }
   ],
   "source": [
    "# вывод таблицы\n",
    "marketing_events.head(5)"
   ]
  },
  {
   "cell_type": "code",
   "execution_count": 4,
   "metadata": {},
   "outputs": [
    {
     "name": "stdout",
     "output_type": "stream",
     "text": [
      "<class 'pandas.core.frame.DataFrame'>\n",
      "RangeIndex: 14 entries, 0 to 13\n",
      "Data columns (total 4 columns):\n",
      " #   Column     Non-Null Count  Dtype \n",
      "---  ------     --------------  ----- \n",
      " 0   name       14 non-null     object\n",
      " 1   regions    14 non-null     object\n",
      " 2   start_dt   14 non-null     object\n",
      " 3   finish_dt  14 non-null     object\n",
      "dtypes: object(4)\n",
      "memory usage: 576.0+ bytes\n"
     ]
    }
   ],
   "source": [
    "# вывод информации о датасете\n",
    "marketing_events.info()"
   ]
  },
  {
   "cell_type": "markdown",
   "metadata": {},
   "source": [
    "<div class=\"alert alert-info\">\n",
    "    \n",
    "**📝 Комментарий Маши**\n",
    "    \n",
    "Датасет `marketing_events` содержит календарь маркетинговых событий на 2020 год - 14 строк и 4 колонки:\n",
    "- `name` — название маркетингового события;\n",
    "- `regions` — регионы, в которых будет проводиться рекламная кампания;\n",
    "- `start_dt` — дата начала кампании;\n",
    "- `finish_dt` — дата завершения кампании.\n",
    "    \n",
    "Столбцы с датами необходимой преобразовать в тип времени datetime.\n",
    "    \n",
    "</div>"
   ]
  },
  {
   "cell_type": "code",
   "execution_count": 5,
   "metadata": {},
   "outputs": [
    {
     "data": {
      "text/html": [
       "<div>\n",
       "<style scoped>\n",
       "    .dataframe tbody tr th:only-of-type {\n",
       "        vertical-align: middle;\n",
       "    }\n",
       "\n",
       "    .dataframe tbody tr th {\n",
       "        vertical-align: top;\n",
       "    }\n",
       "\n",
       "    .dataframe thead th {\n",
       "        text-align: right;\n",
       "    }\n",
       "</style>\n",
       "<table border=\"1\" class=\"dataframe\">\n",
       "  <thead>\n",
       "    <tr style=\"text-align: right;\">\n",
       "      <th></th>\n",
       "      <th>user_id</th>\n",
       "      <th>first_date</th>\n",
       "      <th>region</th>\n",
       "      <th>device</th>\n",
       "    </tr>\n",
       "  </thead>\n",
       "  <tbody>\n",
       "    <tr>\n",
       "      <th>0</th>\n",
       "      <td>D72A72121175D8BE</td>\n",
       "      <td>2020-12-07</td>\n",
       "      <td>EU</td>\n",
       "      <td>PC</td>\n",
       "    </tr>\n",
       "    <tr>\n",
       "      <th>1</th>\n",
       "      <td>F1C668619DFE6E65</td>\n",
       "      <td>2020-12-07</td>\n",
       "      <td>N.America</td>\n",
       "      <td>Android</td>\n",
       "    </tr>\n",
       "    <tr>\n",
       "      <th>2</th>\n",
       "      <td>2E1BF1D4C37EA01F</td>\n",
       "      <td>2020-12-07</td>\n",
       "      <td>EU</td>\n",
       "      <td>PC</td>\n",
       "    </tr>\n",
       "    <tr>\n",
       "      <th>3</th>\n",
       "      <td>50734A22C0C63768</td>\n",
       "      <td>2020-12-07</td>\n",
       "      <td>EU</td>\n",
       "      <td>iPhone</td>\n",
       "    </tr>\n",
       "    <tr>\n",
       "      <th>4</th>\n",
       "      <td>E1BDDCE0DAFA2679</td>\n",
       "      <td>2020-12-07</td>\n",
       "      <td>N.America</td>\n",
       "      <td>iPhone</td>\n",
       "    </tr>\n",
       "  </tbody>\n",
       "</table>\n",
       "</div>"
      ],
      "text/plain": [
       "            user_id  first_date     region   device\n",
       "0  D72A72121175D8BE  2020-12-07         EU       PC\n",
       "1  F1C668619DFE6E65  2020-12-07  N.America  Android\n",
       "2  2E1BF1D4C37EA01F  2020-12-07         EU       PC\n",
       "3  50734A22C0C63768  2020-12-07         EU   iPhone\n",
       "4  E1BDDCE0DAFA2679  2020-12-07  N.America   iPhone"
      ]
     },
     "execution_count": 5,
     "metadata": {},
     "output_type": "execute_result"
    }
   ],
   "source": [
    "# вывод пяти строк датасета\n",
    "new_users.head(5)"
   ]
  },
  {
   "cell_type": "code",
   "execution_count": 6,
   "metadata": {},
   "outputs": [
    {
     "name": "stdout",
     "output_type": "stream",
     "text": [
      "<class 'pandas.core.frame.DataFrame'>\n",
      "RangeIndex: 61733 entries, 0 to 61732\n",
      "Data columns (total 4 columns):\n",
      " #   Column      Non-Null Count  Dtype \n",
      "---  ------      --------------  ----- \n",
      " 0   user_id     61733 non-null  object\n",
      " 1   first_date  61733 non-null  object\n",
      " 2   region      61733 non-null  object\n",
      " 3   device      61733 non-null  object\n",
      "dtypes: object(4)\n",
      "memory usage: 1.9+ MB\n"
     ]
    }
   ],
   "source": [
    "# вывод информации о датасете\n",
    "new_users.info()"
   ]
  },
  {
   "cell_type": "markdown",
   "metadata": {},
   "source": [
    "<div class=\"alert alert-info\">\n",
    "    \n",
    "**📝 Комментарий Маши**\n",
    "\n",
    "Датасет `new_users` содержит информацию о пользователях - 61733 строк и 4 колонки:\n",
    "- `user_id` — идентификатор пользователя;\n",
    "- `first_date` — дата регистрации;\n",
    "- `region` — регион пользователя;\n",
    "- `device` — устройство, с которого происходила регистрация.\n",
    "    \n",
    "Столбец с датами необходимой преобразовать в тип времени datetime.\n",
    "</div>"
   ]
  },
  {
   "cell_type": "code",
   "execution_count": 7,
   "metadata": {},
   "outputs": [
    {
     "data": {
      "text/html": [
       "<div>\n",
       "<style scoped>\n",
       "    .dataframe tbody tr th:only-of-type {\n",
       "        vertical-align: middle;\n",
       "    }\n",
       "\n",
       "    .dataframe tbody tr th {\n",
       "        vertical-align: top;\n",
       "    }\n",
       "\n",
       "    .dataframe thead th {\n",
       "        text-align: right;\n",
       "    }\n",
       "</style>\n",
       "<table border=\"1\" class=\"dataframe\">\n",
       "  <thead>\n",
       "    <tr style=\"text-align: right;\">\n",
       "      <th></th>\n",
       "      <th>user_id</th>\n",
       "      <th>event_dt</th>\n",
       "      <th>event_name</th>\n",
       "      <th>details</th>\n",
       "    </tr>\n",
       "  </thead>\n",
       "  <tbody>\n",
       "    <tr>\n",
       "      <th>0</th>\n",
       "      <td>E1BDDCE0DAFA2679</td>\n",
       "      <td>2020-12-07 20:22:03</td>\n",
       "      <td>purchase</td>\n",
       "      <td>99.99</td>\n",
       "    </tr>\n",
       "    <tr>\n",
       "      <th>1</th>\n",
       "      <td>7B6452F081F49504</td>\n",
       "      <td>2020-12-07 09:22:53</td>\n",
       "      <td>purchase</td>\n",
       "      <td>9.99</td>\n",
       "    </tr>\n",
       "    <tr>\n",
       "      <th>2</th>\n",
       "      <td>9CD9F34546DF254C</td>\n",
       "      <td>2020-12-07 12:59:29</td>\n",
       "      <td>purchase</td>\n",
       "      <td>4.99</td>\n",
       "    </tr>\n",
       "    <tr>\n",
       "      <th>3</th>\n",
       "      <td>96F27A054B191457</td>\n",
       "      <td>2020-12-07 04:02:40</td>\n",
       "      <td>purchase</td>\n",
       "      <td>4.99</td>\n",
       "    </tr>\n",
       "    <tr>\n",
       "      <th>4</th>\n",
       "      <td>1FD7660FDF94CA1F</td>\n",
       "      <td>2020-12-07 10:15:09</td>\n",
       "      <td>purchase</td>\n",
       "      <td>4.99</td>\n",
       "    </tr>\n",
       "  </tbody>\n",
       "</table>\n",
       "</div>"
      ],
      "text/plain": [
       "            user_id             event_dt event_name  details\n",
       "0  E1BDDCE0DAFA2679  2020-12-07 20:22:03   purchase    99.99\n",
       "1  7B6452F081F49504  2020-12-07 09:22:53   purchase     9.99\n",
       "2  9CD9F34546DF254C  2020-12-07 12:59:29   purchase     4.99\n",
       "3  96F27A054B191457  2020-12-07 04:02:40   purchase     4.99\n",
       "4  1FD7660FDF94CA1F  2020-12-07 10:15:09   purchase     4.99"
      ]
     },
     "execution_count": 7,
     "metadata": {},
     "output_type": "execute_result"
    }
   ],
   "source": [
    "# вывод пяти строк датасета\n",
    "events.head(5)"
   ]
  },
  {
   "cell_type": "code",
   "execution_count": 8,
   "metadata": {},
   "outputs": [
    {
     "name": "stdout",
     "output_type": "stream",
     "text": [
      "<class 'pandas.core.frame.DataFrame'>\n",
      "RangeIndex: 440317 entries, 0 to 440316\n",
      "Data columns (total 4 columns):\n",
      " #   Column      Non-Null Count   Dtype  \n",
      "---  ------      --------------   -----  \n",
      " 0   user_id     440317 non-null  object \n",
      " 1   event_dt    440317 non-null  object \n",
      " 2   event_name  440317 non-null  object \n",
      " 3   details     62740 non-null   float64\n",
      "dtypes: float64(1), object(3)\n",
      "memory usage: 13.4+ MB\n"
     ]
    }
   ],
   "source": [
    "# вывод информации о датасете\n",
    "events.info()"
   ]
  },
  {
   "cell_type": "markdown",
   "metadata": {},
   "source": [
    "<div class=\"alert alert-info\">\n",
    "    \n",
    "**📝 Комментарий Маши**\n",
    "\n",
    "Датасет `events` содержит информацию о действиях новых пользователей в период с 7 декабря 2020 по 4 января 2021 года - 440317 строк и 4 колонки:\n",
    "- `user_id` — идентификатор пользователя;\n",
    "- `event_dt` — дата и время события;\n",
    "- `event_name` — тип события;\n",
    "- `details` — дополнительные данные о событии. Например, для покупок, `purchase,` в этом поле хранится стоимость покупки в долларах.\n",
    "    \n",
    "Столбец с датами необходимой преобразовать в тип времени datetime.\n",
    "</div>"
   ]
  },
  {
   "cell_type": "code",
   "execution_count": 9,
   "metadata": {},
   "outputs": [
    {
     "data": {
      "text/html": [
       "<div>\n",
       "<style scoped>\n",
       "    .dataframe tbody tr th:only-of-type {\n",
       "        vertical-align: middle;\n",
       "    }\n",
       "\n",
       "    .dataframe tbody tr th {\n",
       "        vertical-align: top;\n",
       "    }\n",
       "\n",
       "    .dataframe thead th {\n",
       "        text-align: right;\n",
       "    }\n",
       "</style>\n",
       "<table border=\"1\" class=\"dataframe\">\n",
       "  <thead>\n",
       "    <tr style=\"text-align: right;\">\n",
       "      <th></th>\n",
       "      <th>user_id</th>\n",
       "      <th>group</th>\n",
       "      <th>ab_test</th>\n",
       "    </tr>\n",
       "  </thead>\n",
       "  <tbody>\n",
       "    <tr>\n",
       "      <th>0</th>\n",
       "      <td>D1ABA3E2887B6A73</td>\n",
       "      <td>A</td>\n",
       "      <td>recommender_system_test</td>\n",
       "    </tr>\n",
       "    <tr>\n",
       "      <th>1</th>\n",
       "      <td>A7A3664BD6242119</td>\n",
       "      <td>A</td>\n",
       "      <td>recommender_system_test</td>\n",
       "    </tr>\n",
       "    <tr>\n",
       "      <th>2</th>\n",
       "      <td>DABC14FDDFADD29E</td>\n",
       "      <td>A</td>\n",
       "      <td>recommender_system_test</td>\n",
       "    </tr>\n",
       "    <tr>\n",
       "      <th>3</th>\n",
       "      <td>04988C5DF189632E</td>\n",
       "      <td>A</td>\n",
       "      <td>recommender_system_test</td>\n",
       "    </tr>\n",
       "    <tr>\n",
       "      <th>4</th>\n",
       "      <td>482F14783456D21B</td>\n",
       "      <td>B</td>\n",
       "      <td>recommender_system_test</td>\n",
       "    </tr>\n",
       "  </tbody>\n",
       "</table>\n",
       "</div>"
      ],
      "text/plain": [
       "            user_id group                  ab_test\n",
       "0  D1ABA3E2887B6A73     A  recommender_system_test\n",
       "1  A7A3664BD6242119     A  recommender_system_test\n",
       "2  DABC14FDDFADD29E     A  recommender_system_test\n",
       "3  04988C5DF189632E     A  recommender_system_test\n",
       "4  482F14783456D21B     B  recommender_system_test"
      ]
     },
     "execution_count": 9,
     "metadata": {},
     "output_type": "execute_result"
    }
   ],
   "source": [
    "# вывод пяти строк датасета\n",
    "participants.head(5)"
   ]
  },
  {
   "cell_type": "code",
   "execution_count": 10,
   "metadata": {},
   "outputs": [
    {
     "name": "stdout",
     "output_type": "stream",
     "text": [
      "<class 'pandas.core.frame.DataFrame'>\n",
      "RangeIndex: 18268 entries, 0 to 18267\n",
      "Data columns (total 3 columns):\n",
      " #   Column   Non-Null Count  Dtype \n",
      "---  ------   --------------  ----- \n",
      " 0   user_id  18268 non-null  object\n",
      " 1   group    18268 non-null  object\n",
      " 2   ab_test  18268 non-null  object\n",
      "dtypes: object(3)\n",
      "memory usage: 428.3+ KB\n"
     ]
    }
   ],
   "source": [
    "# вывод информации о датасете\n",
    "participants.info()"
   ]
  },
  {
   "cell_type": "markdown",
   "metadata": {},
   "source": [
    "<div class=\"alert alert-info\">\n",
    "    \n",
    "**📝 Комментарий Маши**\n",
    "\n",
    "Датасет `participants` - таблица участников тестов из 18268 строк и 3 колонок:\n",
    "- `user_id` — идентификатор пользователя;\n",
    "- `ab_test` — название теста;\n",
    "- `group` — группа пользователя.\n",
    "</div>"
   ]
  },
  {
   "cell_type": "markdown",
   "metadata": {},
   "source": [
    "## Предобработка данных"
   ]
  },
  {
   "cell_type": "markdown",
   "metadata": {},
   "source": [
    "- Выявление дубликатов и пропусков;"
   ]
  },
  {
   "cell_type": "code",
   "execution_count": 11,
   "metadata": {},
   "outputs": [
    {
     "data": {
      "text/plain": [
       "'Статистические показатели marketing_events:'"
      ]
     },
     "metadata": {},
     "output_type": "display_data"
    },
    {
     "data": {
      "text/html": [
       "<div>\n",
       "<style scoped>\n",
       "    .dataframe tbody tr th:only-of-type {\n",
       "        vertical-align: middle;\n",
       "    }\n",
       "\n",
       "    .dataframe tbody tr th {\n",
       "        vertical-align: top;\n",
       "    }\n",
       "\n",
       "    .dataframe thead th {\n",
       "        text-align: right;\n",
       "    }\n",
       "</style>\n",
       "<table border=\"1\" class=\"dataframe\">\n",
       "  <thead>\n",
       "    <tr style=\"text-align: right;\">\n",
       "      <th></th>\n",
       "      <th>name</th>\n",
       "      <th>regions</th>\n",
       "      <th>start_dt</th>\n",
       "      <th>finish_dt</th>\n",
       "    </tr>\n",
       "  </thead>\n",
       "  <tbody>\n",
       "    <tr>\n",
       "      <th>count</th>\n",
       "      <td>14</td>\n",
       "      <td>14</td>\n",
       "      <td>14</td>\n",
       "      <td>14</td>\n",
       "    </tr>\n",
       "    <tr>\n",
       "      <th>unique</th>\n",
       "      <td>14</td>\n",
       "      <td>6</td>\n",
       "      <td>14</td>\n",
       "      <td>14</td>\n",
       "    </tr>\n",
       "    <tr>\n",
       "      <th>top</th>\n",
       "      <td>Easter Promo</td>\n",
       "      <td>APAC</td>\n",
       "      <td>2020-12-30</td>\n",
       "      <td>2020-03-10</td>\n",
       "    </tr>\n",
       "    <tr>\n",
       "      <th>freq</th>\n",
       "      <td>1</td>\n",
       "      <td>4</td>\n",
       "      <td>1</td>\n",
       "      <td>1</td>\n",
       "    </tr>\n",
       "  </tbody>\n",
       "</table>\n",
       "</div>"
      ],
      "text/plain": [
       "                name regions    start_dt   finish_dt\n",
       "count             14      14          14          14\n",
       "unique            14       6          14          14\n",
       "top     Easter Promo    APAC  2020-12-30  2020-03-10\n",
       "freq               1       4           1           1"
      ]
     },
     "metadata": {},
     "output_type": "display_data"
    },
    {
     "data": {
      "text/plain": [
       "'Дубликаты:'"
      ]
     },
     "metadata": {},
     "output_type": "display_data"
    },
    {
     "data": {
      "text/plain": [
       "0"
      ]
     },
     "metadata": {},
     "output_type": "display_data"
    },
    {
     "data": {
      "text/plain": [
       "'Пропущенные значения:'"
      ]
     },
     "metadata": {},
     "output_type": "display_data"
    },
    {
     "data": {
      "text/plain": [
       "name         0\n",
       "regions      0\n",
       "start_dt     0\n",
       "finish_dt    0\n",
       "dtype: int64"
      ]
     },
     "metadata": {},
     "output_type": "display_data"
    }
   ],
   "source": [
    "# вывод стат. показателей датасета\n",
    "display('Статистические показатели marketing_events:', marketing_events.describe())\n",
    "\n",
    "# подсчет дубликатов\n",
    "display('Дубликаты:', marketing_events.duplicated().sum()) \n",
    "\n",
    "# подсчет пропусков\n",
    "display('Пропущенные значения:', marketing_events.isna().sum()) "
   ]
  },
  {
   "cell_type": "markdown",
   "metadata": {},
   "source": [
    "<div class=\"alert alert-info\">\n",
    "    \n",
    "**📝 Комментарий Маши**\n",
    "    \n",
    "Датасет `marketing_events` не содержит дубликатов и пропусков.\n",
    "    \n",
    "</div>"
   ]
  },
  {
   "cell_type": "code",
   "execution_count": 12,
   "metadata": {},
   "outputs": [
    {
     "data": {
      "text/plain": [
       "'Статистические показатели new_users:'"
      ]
     },
     "metadata": {},
     "output_type": "display_data"
    },
    {
     "data": {
      "text/html": [
       "<div>\n",
       "<style scoped>\n",
       "    .dataframe tbody tr th:only-of-type {\n",
       "        vertical-align: middle;\n",
       "    }\n",
       "\n",
       "    .dataframe tbody tr th {\n",
       "        vertical-align: top;\n",
       "    }\n",
       "\n",
       "    .dataframe thead th {\n",
       "        text-align: right;\n",
       "    }\n",
       "</style>\n",
       "<table border=\"1\" class=\"dataframe\">\n",
       "  <thead>\n",
       "    <tr style=\"text-align: right;\">\n",
       "      <th></th>\n",
       "      <th>user_id</th>\n",
       "      <th>first_date</th>\n",
       "      <th>region</th>\n",
       "      <th>device</th>\n",
       "    </tr>\n",
       "  </thead>\n",
       "  <tbody>\n",
       "    <tr>\n",
       "      <th>count</th>\n",
       "      <td>61733</td>\n",
       "      <td>61733</td>\n",
       "      <td>61733</td>\n",
       "      <td>61733</td>\n",
       "    </tr>\n",
       "    <tr>\n",
       "      <th>unique</th>\n",
       "      <td>61733</td>\n",
       "      <td>17</td>\n",
       "      <td>4</td>\n",
       "      <td>4</td>\n",
       "    </tr>\n",
       "    <tr>\n",
       "      <th>top</th>\n",
       "      <td>B8F5A3560F2DF46E</td>\n",
       "      <td>2020-12-21</td>\n",
       "      <td>EU</td>\n",
       "      <td>Android</td>\n",
       "    </tr>\n",
       "    <tr>\n",
       "      <th>freq</th>\n",
       "      <td>1</td>\n",
       "      <td>6290</td>\n",
       "      <td>46270</td>\n",
       "      <td>27520</td>\n",
       "    </tr>\n",
       "  </tbody>\n",
       "</table>\n",
       "</div>"
      ],
      "text/plain": [
       "                 user_id  first_date region   device\n",
       "count              61733       61733  61733    61733\n",
       "unique             61733          17      4        4\n",
       "top     B8F5A3560F2DF46E  2020-12-21     EU  Android\n",
       "freq                   1        6290  46270    27520"
      ]
     },
     "metadata": {},
     "output_type": "display_data"
    },
    {
     "data": {
      "text/plain": [
       "'Дубликаты:'"
      ]
     },
     "metadata": {},
     "output_type": "display_data"
    },
    {
     "data": {
      "text/plain": [
       "0"
      ]
     },
     "metadata": {},
     "output_type": "display_data"
    },
    {
     "data": {
      "text/plain": [
       "'Пропущенные значения:'"
      ]
     },
     "metadata": {},
     "output_type": "display_data"
    },
    {
     "data": {
      "text/plain": [
       "user_id       0\n",
       "first_date    0\n",
       "region        0\n",
       "device        0\n",
       "dtype: int64"
      ]
     },
     "metadata": {},
     "output_type": "display_data"
    }
   ],
   "source": [
    "# вывод стат. показателей датасета\n",
    "display('Статистические показатели new_users:', new_users.describe())\n",
    "\n",
    "# подсчет дубликатов\n",
    "display('Дубликаты:', new_users.duplicated().sum()) \n",
    "\n",
    "# подсчет пропусков\n",
    "display('Пропущенные значения:', new_users.isna().sum()) "
   ]
  },
  {
   "cell_type": "markdown",
   "metadata": {},
   "source": [
    "<div class=\"alert alert-info\">\n",
    "    \n",
    "**📝 Комментарий Маши**\n",
    "    \n",
    "Датасет `new_users` не содержит дубликатов и пропусков.\n",
    "\n",
    "</div>"
   ]
  },
  {
   "cell_type": "code",
   "execution_count": 13,
   "metadata": {},
   "outputs": [
    {
     "data": {
      "text/plain": [
       "'Статистические показатели new_users:'"
      ]
     },
     "metadata": {},
     "output_type": "display_data"
    },
    {
     "data": {
      "text/html": [
       "<div>\n",
       "<style scoped>\n",
       "    .dataframe tbody tr th:only-of-type {\n",
       "        vertical-align: middle;\n",
       "    }\n",
       "\n",
       "    .dataframe tbody tr th {\n",
       "        vertical-align: top;\n",
       "    }\n",
       "\n",
       "    .dataframe thead th {\n",
       "        text-align: right;\n",
       "    }\n",
       "</style>\n",
       "<table border=\"1\" class=\"dataframe\">\n",
       "  <thead>\n",
       "    <tr style=\"text-align: right;\">\n",
       "      <th></th>\n",
       "      <th>details</th>\n",
       "    </tr>\n",
       "  </thead>\n",
       "  <tbody>\n",
       "    <tr>\n",
       "      <th>count</th>\n",
       "      <td>62740.000000</td>\n",
       "    </tr>\n",
       "    <tr>\n",
       "      <th>mean</th>\n",
       "      <td>23.877631</td>\n",
       "    </tr>\n",
       "    <tr>\n",
       "      <th>std</th>\n",
       "      <td>72.180465</td>\n",
       "    </tr>\n",
       "    <tr>\n",
       "      <th>min</th>\n",
       "      <td>4.990000</td>\n",
       "    </tr>\n",
       "    <tr>\n",
       "      <th>25%</th>\n",
       "      <td>4.990000</td>\n",
       "    </tr>\n",
       "    <tr>\n",
       "      <th>50%</th>\n",
       "      <td>4.990000</td>\n",
       "    </tr>\n",
       "    <tr>\n",
       "      <th>75%</th>\n",
       "      <td>9.990000</td>\n",
       "    </tr>\n",
       "    <tr>\n",
       "      <th>max</th>\n",
       "      <td>499.990000</td>\n",
       "    </tr>\n",
       "  </tbody>\n",
       "</table>\n",
       "</div>"
      ],
      "text/plain": [
       "            details\n",
       "count  62740.000000\n",
       "mean      23.877631\n",
       "std       72.180465\n",
       "min        4.990000\n",
       "25%        4.990000\n",
       "50%        4.990000\n",
       "75%        9.990000\n",
       "max      499.990000"
      ]
     },
     "metadata": {},
     "output_type": "display_data"
    },
    {
     "data": {
      "text/plain": [
       "'Дубликаты:'"
      ]
     },
     "metadata": {},
     "output_type": "display_data"
    },
    {
     "data": {
      "text/plain": [
       "0"
      ]
     },
     "metadata": {},
     "output_type": "display_data"
    },
    {
     "data": {
      "text/plain": [
       "'Пропущенные значения:'"
      ]
     },
     "metadata": {},
     "output_type": "display_data"
    },
    {
     "data": {
      "text/plain": [
       "user_id            0\n",
       "event_dt           0\n",
       "event_name         0\n",
       "details       377577\n",
       "dtype: int64"
      ]
     },
     "metadata": {},
     "output_type": "display_data"
    }
   ],
   "source": [
    "# вывод стат. показателей датасета\n",
    "display('Статистические показатели new_users:', events.describe())\n",
    "\n",
    "# подсчет дубликатов\n",
    "display('Дубликаты:', events.duplicated().sum()) \n",
    "\n",
    "# подсчет пропусков\n",
    "display('Пропущенные значения:', events.isna().sum()) "
   ]
  },
  {
   "cell_type": "code",
   "execution_count": 14,
   "metadata": {},
   "outputs": [
    {
     "data": {
      "text/html": [
       "<div>\n",
       "<style scoped>\n",
       "    .dataframe tbody tr th:only-of-type {\n",
       "        vertical-align: middle;\n",
       "    }\n",
       "\n",
       "    .dataframe tbody tr th {\n",
       "        vertical-align: top;\n",
       "    }\n",
       "\n",
       "    .dataframe thead th {\n",
       "        text-align: right;\n",
       "    }\n",
       "</style>\n",
       "<table border=\"1\" class=\"dataframe\">\n",
       "  <thead>\n",
       "    <tr style=\"text-align: right;\">\n",
       "      <th></th>\n",
       "      <th>event_name</th>\n",
       "      <th>details</th>\n",
       "    </tr>\n",
       "  </thead>\n",
       "  <tbody>\n",
       "    <tr>\n",
       "      <th>0</th>\n",
       "      <td>login</td>\n",
       "      <td>NaN</td>\n",
       "    </tr>\n",
       "    <tr>\n",
       "      <th>1</th>\n",
       "      <td>product_cart</td>\n",
       "      <td>NaN</td>\n",
       "    </tr>\n",
       "    <tr>\n",
       "      <th>2</th>\n",
       "      <td>product_page</td>\n",
       "      <td>NaN</td>\n",
       "    </tr>\n",
       "    <tr>\n",
       "      <th>3</th>\n",
       "      <td>purchase</td>\n",
       "      <td>23.877631</td>\n",
       "    </tr>\n",
       "  </tbody>\n",
       "</table>\n",
       "</div>"
      ],
      "text/plain": [
       "     event_name    details\n",
       "0         login        NaN\n",
       "1  product_cart        NaN\n",
       "2  product_page        NaN\n",
       "3      purchase  23.877631"
      ]
     },
     "execution_count": 14,
     "metadata": {},
     "output_type": "execute_result"
    }
   ],
   "source": [
    "# убедимся, что пропуски в details - только стоимость покупки\n",
    "events.groupby('event_name')['details'].agg('mean').reset_index() "
   ]
  },
  {
   "cell_type": "markdown",
   "metadata": {},
   "source": [
    "<div class=\"alert alert-info\">\n",
    "    \n",
    "**📝 Комментарий Маши**\n",
    "    \n",
    "В датасете `events` нет дубликатов, но есть 377577 пропусков в столбце `details`. Но т.к. данный столбец является дополнительным и содержит только стоимость покупки для события `purchase`, то нет смысла заполнять его пропуски - оставим, как есть.\n",
    "\n",
    "</div>"
   ]
  },
  {
   "cell_type": "code",
   "execution_count": 15,
   "metadata": {},
   "outputs": [
    {
     "data": {
      "text/plain": [
       "'Статистические показатели new_users:'"
      ]
     },
     "metadata": {},
     "output_type": "display_data"
    },
    {
     "data": {
      "text/html": [
       "<div>\n",
       "<style scoped>\n",
       "    .dataframe tbody tr th:only-of-type {\n",
       "        vertical-align: middle;\n",
       "    }\n",
       "\n",
       "    .dataframe tbody tr th {\n",
       "        vertical-align: top;\n",
       "    }\n",
       "\n",
       "    .dataframe thead th {\n",
       "        text-align: right;\n",
       "    }\n",
       "</style>\n",
       "<table border=\"1\" class=\"dataframe\">\n",
       "  <thead>\n",
       "    <tr style=\"text-align: right;\">\n",
       "      <th></th>\n",
       "      <th>user_id</th>\n",
       "      <th>group</th>\n",
       "      <th>ab_test</th>\n",
       "    </tr>\n",
       "  </thead>\n",
       "  <tbody>\n",
       "    <tr>\n",
       "      <th>count</th>\n",
       "      <td>18268</td>\n",
       "      <td>18268</td>\n",
       "      <td>18268</td>\n",
       "    </tr>\n",
       "    <tr>\n",
       "      <th>unique</th>\n",
       "      <td>16666</td>\n",
       "      <td>2</td>\n",
       "      <td>2</td>\n",
       "    </tr>\n",
       "    <tr>\n",
       "      <th>top</th>\n",
       "      <td>B3D8D3BB3ED8F850</td>\n",
       "      <td>A</td>\n",
       "      <td>interface_eu_test</td>\n",
       "    </tr>\n",
       "    <tr>\n",
       "      <th>freq</th>\n",
       "      <td>2</td>\n",
       "      <td>9655</td>\n",
       "      <td>11567</td>\n",
       "    </tr>\n",
       "  </tbody>\n",
       "</table>\n",
       "</div>"
      ],
      "text/plain": [
       "                 user_id  group            ab_test\n",
       "count              18268  18268              18268\n",
       "unique             16666      2                  2\n",
       "top     B3D8D3BB3ED8F850      A  interface_eu_test\n",
       "freq                   2   9655              11567"
      ]
     },
     "metadata": {},
     "output_type": "display_data"
    },
    {
     "data": {
      "text/plain": [
       "'Дубликаты:'"
      ]
     },
     "metadata": {},
     "output_type": "display_data"
    },
    {
     "data": {
      "text/plain": [
       "0"
      ]
     },
     "metadata": {},
     "output_type": "display_data"
    },
    {
     "data": {
      "text/plain": [
       "'Пропущенные значения:'"
      ]
     },
     "metadata": {},
     "output_type": "display_data"
    },
    {
     "data": {
      "text/plain": [
       "user_id    0\n",
       "group      0\n",
       "ab_test    0\n",
       "dtype: int64"
      ]
     },
     "metadata": {},
     "output_type": "display_data"
    }
   ],
   "source": [
    "# вывод стат. показателей датасета\n",
    "display('Статистические показатели new_users:', participants.describe())\n",
    "\n",
    "# подсчет дубликатов\n",
    "display('Дубликаты:', participants.duplicated().sum()) \n",
    "\n",
    "# подсчет пропусков\n",
    "display('Пропущенные значения:', participants.isna().sum()) #подсчет пропусков"
   ]
  },
  {
   "cell_type": "markdown",
   "metadata": {},
   "source": [
    "<div class=\"alert alert-info\">\n",
    "    \n",
    "**📝 Комментарий Маши**\n",
    "\n",
    "Датафрейм `participants` не содержит дубликатов и пропусков.\n",
    "\n",
    "</div>"
   ]
  },
  {
   "cell_type": "markdown",
   "metadata": {},
   "source": [
    "- Преобразование типов данных;"
   ]
  },
  {
   "cell_type": "code",
   "execution_count": 16,
   "metadata": {},
   "outputs": [],
   "source": [
    "# преобразуем формат даты и времени в столбцах\n",
    "marketing_events['start_dt'] = pd.to_datetime(marketing_events['start_dt'], format='%Y-%m-%d')\n",
    "\n",
    "marketing_events['finish_dt'] = pd.to_datetime(marketing_events['finish_dt'], format='%Y-%m-%d')\n",
    "\n",
    "new_users['first_date'] = pd.to_datetime(new_users['first_date'], format='%Y-%m-%d')\n",
    "\n",
    "events['event_dt'] = pd.to_datetime(events['event_dt'], format='%Y-%m-%d %H:%M:%S')\n"
   ]
  },
  {
   "cell_type": "markdown",
   "metadata": {},
   "source": [
    "<div class=\"alert alert-info\">\n",
    "    \n",
    "**📝 Комментарий Маши**\n",
    "\n",
    "Все колонки с информацией о датах привели из строкового типа во временной.\n",
    "\n",
    "</div>"
   ]
  },
  {
   "cell_type": "markdown",
   "metadata": {},
   "source": [
    "## Оценка корректности проведения теста:"
   ]
  },
  {
   "cell_type": "markdown",
   "metadata": {},
   "source": [
    "- Проверить соответствие данных требованиям технического задания и корректность всех пунктов технического задания;\n"
   ]
  },
  {
   "cell_type": "code",
   "execution_count": 17,
   "metadata": {},
   "outputs": [
    {
     "data": {
      "text/plain": [
       "ab_test                  group\n",
       "interface_eu_test        A        5831\n",
       "                         B        5736\n",
       "recommender_system_test  A        3824\n",
       "                         B        2877\n",
       "Name: user_id, dtype: int64"
      ]
     },
     "execution_count": 17,
     "metadata": {},
     "output_type": "execute_result"
    }
   ],
   "source": [
    "# оценим группировку значений по тесту и группе теста\n",
    "participants.groupby(['ab_test', 'group'])['user_id'].agg('nunique')"
   ]
  },
  {
   "cell_type": "markdown",
   "metadata": {},
   "source": [
    "<div class=\"alert alert-info\">\n",
    "    \n",
    "**📝 Комментарий Маши**\n",
    "\n",
    "В датасете присутствуют данные по двум разным тестам. Согласно ТЗ, работаем только с одним - recommender_system_test. Но удалять данные по тесту interface_eu_test не будем.\n",
    "\n",
    "</div>"
   ]
  },
  {
   "cell_type": "code",
   "execution_count": 18,
   "metadata": {},
   "outputs": [
    {
     "data": {
      "text/plain": [
       "'min дата:'"
      ]
     },
     "metadata": {},
     "output_type": "display_data"
    },
    {
     "data": {
      "text/plain": [
       "Timestamp('2020-12-07 00:00:00')"
      ]
     },
     "metadata": {},
     "output_type": "display_data"
    },
    {
     "data": {
      "text/plain": [
       "'max дата:'"
      ]
     },
     "metadata": {},
     "output_type": "display_data"
    },
    {
     "data": {
      "text/plain": [
       "Timestamp('2020-12-23 00:00:00')"
      ]
     },
     "metadata": {},
     "output_type": "display_data"
    }
   ],
   "source": [
    "# посмотрим на самую раннюю и позднюю даты набора пользователей\n",
    "display('min дата:',  new_users['first_date'].min())\n",
    "display('max дата:',  new_users['first_date'].max())"
   ]
  },
  {
   "cell_type": "code",
   "execution_count": 19,
   "metadata": {},
   "outputs": [],
   "source": [
    "# создадим новый датасет с набором пользователей до 21 декабря 2020\n",
    "new_users = new_users.query('first_date != [\"2020-12-22\", \"2020-12-23\"]')"
   ]
  },
  {
   "cell_type": "markdown",
   "metadata": {},
   "source": [
    "<div class=\"alert alert-info\">\n",
    "    \n",
    "**📝 Комментарий Маши**\n",
    "\n",
    "Согласно ТЗ:\n",
    "- дата запуска 7 декабря 2020 (совпадает с мин.датой)\n",
    "- дата остановки набора новых пользователей: 21 декабря 2020, поэтому необходимо удалить строки с более поздними датами(с 22-23 декабря 2020)\n",
    "\n",
    "</div>"
   ]
  },
  {
   "cell_type": "code",
   "execution_count": 20,
   "metadata": {},
   "outputs": [
    {
     "data": {
      "text/plain": [
       "'min дата:'"
      ]
     },
     "metadata": {},
     "output_type": "display_data"
    },
    {
     "data": {
      "text/plain": [
       "Timestamp('2020-12-07 00:00:33')"
      ]
     },
     "metadata": {},
     "output_type": "display_data"
    },
    {
     "data": {
      "text/plain": [
       "'max дата:'"
      ]
     },
     "metadata": {},
     "output_type": "display_data"
    },
    {
     "data": {
      "text/plain": [
       "Timestamp('2020-12-30 23:36:33')"
      ]
     },
     "metadata": {},
     "output_type": "display_data"
    }
   ],
   "source": [
    "# посмотрим на самую раннюю и позднюю даты событий\n",
    "display('min дата:',  events['event_dt'].min())\n",
    "display('max дата:',  events['event_dt'].max())"
   ]
  },
  {
   "cell_type": "markdown",
   "metadata": {},
   "source": [
    "<div class=\"alert alert-info\">\n",
    "    \n",
    "**📝 Комментарий Маши**\n",
    "\n",
    "Согласно ТЗ:\n",
    "- дата остановки тестирования - 4 января 2021. \n",
    "\n",
    "Т.к. последняя дата событий в таблице - 30 декабря 2020. Оставляем, как есть.\n",
    "\n",
    "</div>"
   ]
  },
  {
   "cell_type": "code",
   "execution_count": 21,
   "metadata": {},
   "outputs": [
    {
     "data": {
      "text/plain": [
       "EU           42340\n",
       "N.America     8347\n",
       "CIS           2900\n",
       "APAC          2883\n",
       "Name: region, dtype: int64"
      ]
     },
     "execution_count": 21,
     "metadata": {},
     "output_type": "execute_result"
    }
   ],
   "source": [
    "# посчитаем кол-во пользователей в регионах\n",
    "new_users['region'].value_counts()"
   ]
  },
  {
   "cell_type": "code",
   "execution_count": 22,
   "metadata": {},
   "outputs": [
    {
     "data": {
      "text/html": [
       "<div>\n",
       "<style scoped>\n",
       "    .dataframe tbody tr th:only-of-type {\n",
       "        vertical-align: middle;\n",
       "    }\n",
       "\n",
       "    .dataframe tbody tr th {\n",
       "        vertical-align: top;\n",
       "    }\n",
       "\n",
       "    .dataframe thead th {\n",
       "        text-align: right;\n",
       "    }\n",
       "</style>\n",
       "<table border=\"1\" class=\"dataframe\">\n",
       "  <thead>\n",
       "    <tr style=\"text-align: right;\">\n",
       "      <th></th>\n",
       "      <th>user_id</th>\n",
       "      <th>first_date</th>\n",
       "      <th>region</th>\n",
       "      <th>device</th>\n",
       "    </tr>\n",
       "  </thead>\n",
       "  <tbody>\n",
       "    <tr>\n",
       "      <th>0</th>\n",
       "      <td>D72A72121175D8BE</td>\n",
       "      <td>2020-12-07</td>\n",
       "      <td>EU</td>\n",
       "      <td>PC</td>\n",
       "    </tr>\n",
       "    <tr>\n",
       "      <th>1</th>\n",
       "      <td>2E1BF1D4C37EA01F</td>\n",
       "      <td>2020-12-07</td>\n",
       "      <td>EU</td>\n",
       "      <td>PC</td>\n",
       "    </tr>\n",
       "    <tr>\n",
       "      <th>2</th>\n",
       "      <td>50734A22C0C63768</td>\n",
       "      <td>2020-12-07</td>\n",
       "      <td>EU</td>\n",
       "      <td>iPhone</td>\n",
       "    </tr>\n",
       "    <tr>\n",
       "      <th>3</th>\n",
       "      <td>8942E64218C9A1ED</td>\n",
       "      <td>2020-12-07</td>\n",
       "      <td>EU</td>\n",
       "      <td>PC</td>\n",
       "    </tr>\n",
       "    <tr>\n",
       "      <th>4</th>\n",
       "      <td>FFCEA1179C253104</td>\n",
       "      <td>2020-12-07</td>\n",
       "      <td>EU</td>\n",
       "      <td>Android</td>\n",
       "    </tr>\n",
       "    <tr>\n",
       "      <th>...</th>\n",
       "      <td>...</td>\n",
       "      <td>...</td>\n",
       "      <td>...</td>\n",
       "      <td>...</td>\n",
       "    </tr>\n",
       "    <tr>\n",
       "      <th>42335</th>\n",
       "      <td>1DB53B933257165D</td>\n",
       "      <td>2020-12-20</td>\n",
       "      <td>EU</td>\n",
       "      <td>Android</td>\n",
       "    </tr>\n",
       "    <tr>\n",
       "      <th>42336</th>\n",
       "      <td>538643EB4527ED03</td>\n",
       "      <td>2020-12-20</td>\n",
       "      <td>EU</td>\n",
       "      <td>Mac</td>\n",
       "    </tr>\n",
       "    <tr>\n",
       "      <th>42337</th>\n",
       "      <td>7ADEE837D5D8CBBD</td>\n",
       "      <td>2020-12-20</td>\n",
       "      <td>EU</td>\n",
       "      <td>PC</td>\n",
       "    </tr>\n",
       "    <tr>\n",
       "      <th>42338</th>\n",
       "      <td>1C7D23927835213F</td>\n",
       "      <td>2020-12-20</td>\n",
       "      <td>EU</td>\n",
       "      <td>iPhone</td>\n",
       "    </tr>\n",
       "    <tr>\n",
       "      <th>42339</th>\n",
       "      <td>8F04273BB2860229</td>\n",
       "      <td>2020-12-20</td>\n",
       "      <td>EU</td>\n",
       "      <td>Android</td>\n",
       "    </tr>\n",
       "  </tbody>\n",
       "</table>\n",
       "<p>42340 rows × 4 columns</p>\n",
       "</div>"
      ],
      "text/plain": [
       "                user_id first_date region   device\n",
       "0      D72A72121175D8BE 2020-12-07     EU       PC\n",
       "1      2E1BF1D4C37EA01F 2020-12-07     EU       PC\n",
       "2      50734A22C0C63768 2020-12-07     EU   iPhone\n",
       "3      8942E64218C9A1ED 2020-12-07     EU       PC\n",
       "4      FFCEA1179C253104 2020-12-07     EU  Android\n",
       "...                 ...        ...    ...      ...\n",
       "42335  1DB53B933257165D 2020-12-20     EU  Android\n",
       "42336  538643EB4527ED03 2020-12-20     EU      Mac\n",
       "42337  7ADEE837D5D8CBBD 2020-12-20     EU       PC\n",
       "42338  1C7D23927835213F 2020-12-20     EU   iPhone\n",
       "42339  8F04273BB2860229 2020-12-20     EU  Android\n",
       "\n",
       "[42340 rows x 4 columns]"
      ]
     },
     "execution_count": 22,
     "metadata": {},
     "output_type": "execute_result"
    }
   ],
   "source": [
    "#оставляем в датасете только пользователей из Европы согласно ТЗ\n",
    "users_eu = new_users.query('region == \"EU\"').reset_index(drop=True)\n",
    "\n",
    "users_eu"
   ]
  },
  {
   "cell_type": "markdown",
   "metadata": {},
   "source": [
    "<div class=\"alert alert-info\">\n",
    "    \n",
    "**📝 Комментарий Маши**\n",
    "\n",
    "Согласно ТЗ:\n",
    "- аудитория: 15% новых пользователей из региона EU;\n",
    "\n",
    "</div>"
   ]
  },
  {
   "cell_type": "markdown",
   "metadata": {},
   "source": [
    "-\tОбратить внимание на аудиторию теста: удостовериться, что нет пересечений с конкурирующим тестом и нет пользователей, участвующих в двух группах теста одновременно; проверить равномерность распределения пользователей по тестовым группам и правильность их формирования;\n"
   ]
  },
  {
   "cell_type": "code",
   "execution_count": 23,
   "metadata": {},
   "outputs": [
    {
     "data": {
      "text/html": [
       "<div>\n",
       "<style scoped>\n",
       "    .dataframe tbody tr th:only-of-type {\n",
       "        vertical-align: middle;\n",
       "    }\n",
       "\n",
       "    .dataframe tbody tr th {\n",
       "        vertical-align: top;\n",
       "    }\n",
       "\n",
       "    .dataframe thead th {\n",
       "        text-align: right;\n",
       "    }\n",
       "</style>\n",
       "<table border=\"1\" class=\"dataframe\">\n",
       "  <thead>\n",
       "    <tr style=\"text-align: right;\">\n",
       "      <th></th>\n",
       "      <th>user_id</th>\n",
       "      <th>first_date</th>\n",
       "      <th>region</th>\n",
       "      <th>device</th>\n",
       "      <th>group</th>\n",
       "      <th>ab_test</th>\n",
       "    </tr>\n",
       "  </thead>\n",
       "  <tbody>\n",
       "    <tr>\n",
       "      <th>0</th>\n",
       "      <td>D72A72121175D8BE</td>\n",
       "      <td>2020-12-07</td>\n",
       "      <td>EU</td>\n",
       "      <td>PC</td>\n",
       "      <td>A</td>\n",
       "      <td>recommender_system_test</td>\n",
       "    </tr>\n",
       "    <tr>\n",
       "      <th>1</th>\n",
       "      <td>2E1BF1D4C37EA01F</td>\n",
       "      <td>2020-12-07</td>\n",
       "      <td>EU</td>\n",
       "      <td>PC</td>\n",
       "      <td>A</td>\n",
       "      <td>interface_eu_test</td>\n",
       "    </tr>\n",
       "    <tr>\n",
       "      <th>2</th>\n",
       "      <td>50734A22C0C63768</td>\n",
       "      <td>2020-12-07</td>\n",
       "      <td>EU</td>\n",
       "      <td>iPhone</td>\n",
       "      <td>B</td>\n",
       "      <td>interface_eu_test</td>\n",
       "    </tr>\n",
       "    <tr>\n",
       "      <th>3</th>\n",
       "      <td>E6DE857AFBDC6102</td>\n",
       "      <td>2020-12-07</td>\n",
       "      <td>EU</td>\n",
       "      <td>PC</td>\n",
       "      <td>B</td>\n",
       "      <td>recommender_system_test</td>\n",
       "    </tr>\n",
       "    <tr>\n",
       "      <th>4</th>\n",
       "      <td>E6DE857AFBDC6102</td>\n",
       "      <td>2020-12-07</td>\n",
       "      <td>EU</td>\n",
       "      <td>PC</td>\n",
       "      <td>B</td>\n",
       "      <td>interface_eu_test</td>\n",
       "    </tr>\n",
       "    <tr>\n",
       "      <th>...</th>\n",
       "      <td>...</td>\n",
       "      <td>...</td>\n",
       "      <td>...</td>\n",
       "      <td>...</td>\n",
       "      <td>...</td>\n",
       "      <td>...</td>\n",
       "    </tr>\n",
       "    <tr>\n",
       "      <th>16911</th>\n",
       "      <td>27007FC1A9B62FC5</td>\n",
       "      <td>2020-12-20</td>\n",
       "      <td>EU</td>\n",
       "      <td>iPhone</td>\n",
       "      <td>B</td>\n",
       "      <td>interface_eu_test</td>\n",
       "    </tr>\n",
       "    <tr>\n",
       "      <th>16912</th>\n",
       "      <td>89CB0BFBC3F35126</td>\n",
       "      <td>2020-12-20</td>\n",
       "      <td>EU</td>\n",
       "      <td>PC</td>\n",
       "      <td>B</td>\n",
       "      <td>recommender_system_test</td>\n",
       "    </tr>\n",
       "    <tr>\n",
       "      <th>16913</th>\n",
       "      <td>75F25D4DADA37ABB</td>\n",
       "      <td>2020-12-20</td>\n",
       "      <td>EU</td>\n",
       "      <td>Android</td>\n",
       "      <td>B</td>\n",
       "      <td>interface_eu_test</td>\n",
       "    </tr>\n",
       "    <tr>\n",
       "      <th>16914</th>\n",
       "      <td>2C29721DDDA76B2A</td>\n",
       "      <td>2020-12-20</td>\n",
       "      <td>EU</td>\n",
       "      <td>iPhone</td>\n",
       "      <td>B</td>\n",
       "      <td>interface_eu_test</td>\n",
       "    </tr>\n",
       "    <tr>\n",
       "      <th>16915</th>\n",
       "      <td>1C7D23927835213F</td>\n",
       "      <td>2020-12-20</td>\n",
       "      <td>EU</td>\n",
       "      <td>iPhone</td>\n",
       "      <td>B</td>\n",
       "      <td>interface_eu_test</td>\n",
       "    </tr>\n",
       "  </tbody>\n",
       "</table>\n",
       "<p>16916 rows × 6 columns</p>\n",
       "</div>"
      ],
      "text/plain": [
       "                user_id first_date region   device group  \\\n",
       "0      D72A72121175D8BE 2020-12-07     EU       PC     A   \n",
       "1      2E1BF1D4C37EA01F 2020-12-07     EU       PC     A   \n",
       "2      50734A22C0C63768 2020-12-07     EU   iPhone     B   \n",
       "3      E6DE857AFBDC6102 2020-12-07     EU       PC     B   \n",
       "4      E6DE857AFBDC6102 2020-12-07     EU       PC     B   \n",
       "...                 ...        ...    ...      ...   ...   \n",
       "16911  27007FC1A9B62FC5 2020-12-20     EU   iPhone     B   \n",
       "16912  89CB0BFBC3F35126 2020-12-20     EU       PC     B   \n",
       "16913  75F25D4DADA37ABB 2020-12-20     EU  Android     B   \n",
       "16914  2C29721DDDA76B2A 2020-12-20     EU   iPhone     B   \n",
       "16915  1C7D23927835213F 2020-12-20     EU   iPhone     B   \n",
       "\n",
       "                       ab_test  \n",
       "0      recommender_system_test  \n",
       "1            interface_eu_test  \n",
       "2            interface_eu_test  \n",
       "3      recommender_system_test  \n",
       "4            interface_eu_test  \n",
       "...                        ...  \n",
       "16911        interface_eu_test  \n",
       "16912  recommender_system_test  \n",
       "16913        interface_eu_test  \n",
       "16914        interface_eu_test  \n",
       "16915        interface_eu_test  \n",
       "\n",
       "[16916 rows x 6 columns]"
      ]
     },
     "execution_count": 23,
     "metadata": {},
     "output_type": "execute_result"
    }
   ],
   "source": [
    "# соберем один универсальный датафрейм (к пользователям из Европы присоединяем участников теста и удаляем пропущ.зн.)\n",
    "ab_data = users_eu.merge(participants, on='user_id', how='left').dropna().reset_index(drop=True)\n",
    "\n",
    "ab_data"
   ]
  },
  {
   "cell_type": "markdown",
   "metadata": {},
   "source": [
    "<div class=\"alert alert-info\">\n",
    "    \n",
    "**📝 Комментарий Маши**\n",
    "\n",
    "Определили целевую аудиторию в таблице `ab_data`\n",
    "\n",
    "</div>"
   ]
  },
  {
   "cell_type": "code",
   "execution_count": 24,
   "metadata": {},
   "outputs": [
    {
     "data": {
      "text/plain": [
       "ab_test\n",
       "interface_eu_test          10565\n",
       "recommender_system_test     6351\n",
       "Name: user_id, dtype: int64"
      ]
     },
     "execution_count": 24,
     "metadata": {},
     "output_type": "execute_result"
    }
   ],
   "source": [
    "# как распределились пользователи по тесту\n",
    "ab_data.groupby('ab_test')['user_id'].agg('count') "
   ]
  },
  {
   "cell_type": "markdown",
   "metadata": {},
   "source": [
    "<div class=\"alert alert-info\">\n",
    "    \n",
    "**📝 Комментарий Маши**\n",
    "\n",
    "Участников теста `interface_eu_test` из Европы - 10565\n",
    "\n",
    "Участников теста `recommender_system_tes` из Европы - 6351\n",
    "\n",
    "</div>"
   ]
  },
  {
   "cell_type": "code",
   "execution_count": 25,
   "metadata": {},
   "outputs": [],
   "source": [
    "# к таблице с пользователями присоединяем участников тестов и отбрасываем пропущ. значения\n",
    "users_total = new_users.merge(participants, on='user_id', how='left').dropna().reset_index(drop=True) "
   ]
  },
  {
   "cell_type": "code",
   "execution_count": 26,
   "metadata": {},
   "outputs": [
    {
     "data": {
      "text/html": [
       "<div>\n",
       "<style scoped>\n",
       "    .dataframe tbody tr th:only-of-type {\n",
       "        vertical-align: middle;\n",
       "    }\n",
       "\n",
       "    .dataframe tbody tr th {\n",
       "        vertical-align: top;\n",
       "    }\n",
       "\n",
       "    .dataframe thead th {\n",
       "        text-align: right;\n",
       "    }\n",
       "</style>\n",
       "<table border=\"1\" class=\"dataframe\">\n",
       "  <thead>\n",
       "    <tr style=\"text-align: right;\">\n",
       "      <th></th>\n",
       "      <th>region</th>\n",
       "      <th>ab_test</th>\n",
       "    </tr>\n",
       "  </thead>\n",
       "  <tbody>\n",
       "    <tr>\n",
       "      <th>0</th>\n",
       "      <td>APAC</td>\n",
       "      <td>72</td>\n",
       "    </tr>\n",
       "    <tr>\n",
       "      <th>1</th>\n",
       "      <td>CIS</td>\n",
       "      <td>55</td>\n",
       "    </tr>\n",
       "    <tr>\n",
       "      <th>2</th>\n",
       "      <td>EU</td>\n",
       "      <td>6351</td>\n",
       "    </tr>\n",
       "    <tr>\n",
       "      <th>3</th>\n",
       "      <td>N.America</td>\n",
       "      <td>223</td>\n",
       "    </tr>\n",
       "  </tbody>\n",
       "</table>\n",
       "</div>"
      ],
      "text/plain": [
       "      region  ab_test\n",
       "0       APAC       72\n",
       "1        CIS       55\n",
       "2         EU     6351\n",
       "3  N.America      223"
      ]
     },
     "execution_count": 26,
     "metadata": {},
     "output_type": "execute_result"
    }
   ],
   "source": [
    "# распределение по регионам\n",
    "ch = users_total.query('ab_test == \"recommender_system_test\"')\n",
    "ch = ch.groupby('region')['ab_test'].agg('count').reset_index()\n",
    "ch"
   ]
  },
  {
   "cell_type": "code",
   "execution_count": 27,
   "metadata": {},
   "outputs": [
    {
     "data": {
      "text/plain": [
       "'Всего пользователей:'"
      ]
     },
     "metadata": {},
     "output_type": "display_data"
    },
    {
     "data": {
      "text/plain": [
       "6701"
      ]
     },
     "metadata": {},
     "output_type": "display_data"
    }
   ],
   "source": [
    "# определение кол-ва пользователей\n",
    "display('Всего пользователей:', ch['ab_test'].sum()) "
   ]
  },
  {
   "cell_type": "code",
   "execution_count": 28,
   "metadata": {},
   "outputs": [],
   "source": [
    "# построение круговой диаграммы с процентами по каждому региону\n",
    "fig = go.Figure(data=[go.Pie(labels=ch['region'], \n",
    "                             values=ch['ab_test'], \n",
    "                             pull = [0.1, 0])]) \n",
    "\n",
    "# оформление графика\n",
    "# fig.update_layout(title='Распределение пользователей теста \"Recommender_system_test\" по регионам', \n",
    "                  # width=800, \n",
    "                  # height=600) \n",
    "\n",
    "#вывод графика\n",
    "# fig.show() "
   ]
  },
  {
   "attachments": {
    "image.png": {
     "image/png": "[encoded data removed]"
    }
   },
   "cell_type": "markdown",
   "metadata": {},
   "source": [
    "![image.png](attachment:image.png)"
   ]
  },
  {
   "cell_type": "markdown",
   "metadata": {},
   "source": [
    "<div class=\"alert alert-info\">\n",
    "    \n",
    "**📝 Комментарий Маши**\n",
    "\n",
    "Участников теста `interface_eu_test` - 10565\n",
    "Участников теста `recommender_system_test` - 6351\n",
    "\n",
    "Всего пользователей теста `recommender_system_test` со всех регионов - 6701, подавляющее большинство из Европы (94,8%).\n",
    "\n",
    "</div>"
   ]
  },
  {
   "cell_type": "code",
   "execution_count": 29,
   "metadata": {},
   "outputs": [
    {
     "data": {
      "text/html": [
       "<div>\n",
       "<style scoped>\n",
       "    .dataframe tbody tr th:only-of-type {\n",
       "        vertical-align: middle;\n",
       "    }\n",
       "\n",
       "    .dataframe tbody tr th {\n",
       "        vertical-align: top;\n",
       "    }\n",
       "\n",
       "    .dataframe thead th {\n",
       "        text-align: right;\n",
       "    }\n",
       "</style>\n",
       "<table border=\"1\" class=\"dataframe\">\n",
       "  <thead>\n",
       "    <tr style=\"text-align: right;\">\n",
       "      <th></th>\n",
       "      <th>user_id</th>\n",
       "      <th>number</th>\n",
       "    </tr>\n",
       "  </thead>\n",
       "  <tbody>\n",
       "    <tr>\n",
       "      <th>0</th>\n",
       "      <td>0002CE61FF2C4011</td>\n",
       "      <td>1</td>\n",
       "    </tr>\n",
       "    <tr>\n",
       "      <th>1</th>\n",
       "      <td>000ABE35EE11412F</td>\n",
       "      <td>1</td>\n",
       "    </tr>\n",
       "    <tr>\n",
       "      <th>2</th>\n",
       "      <td>001064FEAAB631A1</td>\n",
       "      <td>2</td>\n",
       "    </tr>\n",
       "    <tr>\n",
       "      <th>3</th>\n",
       "      <td>0010A1C096941592</td>\n",
       "      <td>1</td>\n",
       "    </tr>\n",
       "    <tr>\n",
       "      <th>4</th>\n",
       "      <td>001C05E87D336C59</td>\n",
       "      <td>1</td>\n",
       "    </tr>\n",
       "    <tr>\n",
       "      <th>...</th>\n",
       "      <td>...</td>\n",
       "      <td>...</td>\n",
       "    </tr>\n",
       "    <tr>\n",
       "      <th>15309</th>\n",
       "      <td>FFE858A7845F005E</td>\n",
       "      <td>1</td>\n",
       "    </tr>\n",
       "    <tr>\n",
       "      <th>15310</th>\n",
       "      <td>FFED90241D04503F</td>\n",
       "      <td>2</td>\n",
       "    </tr>\n",
       "    <tr>\n",
       "      <th>15311</th>\n",
       "      <td>FFEFC0E55C1CCD4F</td>\n",
       "      <td>1</td>\n",
       "    </tr>\n",
       "    <tr>\n",
       "      <th>15312</th>\n",
       "      <td>FFF28D02B1EACBE1</td>\n",
       "      <td>2</td>\n",
       "    </tr>\n",
       "    <tr>\n",
       "      <th>15313</th>\n",
       "      <td>FFF58BC33966EB51</td>\n",
       "      <td>1</td>\n",
       "    </tr>\n",
       "  </tbody>\n",
       "</table>\n",
       "<p>15314 rows × 2 columns</p>\n",
       "</div>"
      ],
      "text/plain": [
       "                user_id  number\n",
       "0      0002CE61FF2C4011       1\n",
       "1      000ABE35EE11412F       1\n",
       "2      001064FEAAB631A1       2\n",
       "3      0010A1C096941592       1\n",
       "4      001C05E87D336C59       1\n",
       "...                 ...     ...\n",
       "15309  FFE858A7845F005E       1\n",
       "15310  FFED90241D04503F       2\n",
       "15311  FFEFC0E55C1CCD4F       1\n",
       "15312  FFF28D02B1EACBE1       2\n",
       "15313  FFF58BC33966EB51       1\n",
       "\n",
       "[15314 rows x 2 columns]"
      ]
     },
     "execution_count": 29,
     "metadata": {},
     "output_type": "execute_result"
    }
   ],
   "source": [
    "# таблица с количество тестов, в которых принимал участие каждый пользователь\n",
    "two_tests_users = ab_data.groupby('user_id', as_index=False)['ab_test'].agg('nunique')\n",
    "\n",
    "# переименуем столбец\n",
    "two_tests_users = two_tests_users.rename(columns={'ab_test': 'number'})\n",
    "\n",
    "# выведем таблицу\n",
    "two_tests_users"
   ]
  },
  {
   "cell_type": "code",
   "execution_count": 30,
   "metadata": {},
   "outputs": [
    {
     "data": {
      "text/html": [
       "<div>\n",
       "<style scoped>\n",
       "    .dataframe tbody tr th:only-of-type {\n",
       "        vertical-align: middle;\n",
       "    }\n",
       "\n",
       "    .dataframe tbody tr th {\n",
       "        vertical-align: top;\n",
       "    }\n",
       "\n",
       "    .dataframe thead th {\n",
       "        text-align: right;\n",
       "    }\n",
       "</style>\n",
       "<table border=\"1\" class=\"dataframe\">\n",
       "  <thead>\n",
       "    <tr style=\"text-align: right;\">\n",
       "      <th></th>\n",
       "      <th>user_id</th>\n",
       "      <th>first_date</th>\n",
       "      <th>region</th>\n",
       "      <th>device</th>\n",
       "      <th>group</th>\n",
       "      <th>ab_test</th>\n",
       "    </tr>\n",
       "  </thead>\n",
       "  <tbody>\n",
       "    <tr>\n",
       "      <th>0</th>\n",
       "      <td>D72A72121175D8BE</td>\n",
       "      <td>2020-12-07</td>\n",
       "      <td>EU</td>\n",
       "      <td>PC</td>\n",
       "      <td>A</td>\n",
       "      <td>recommender_system_test</td>\n",
       "    </tr>\n",
       "    <tr>\n",
       "      <th>3</th>\n",
       "      <td>E6DE857AFBDC6102</td>\n",
       "      <td>2020-12-07</td>\n",
       "      <td>EU</td>\n",
       "      <td>PC</td>\n",
       "      <td>B</td>\n",
       "      <td>recommender_system_test</td>\n",
       "    </tr>\n",
       "    <tr>\n",
       "      <th>7</th>\n",
       "      <td>DD4352CDCF8C3D57</td>\n",
       "      <td>2020-12-07</td>\n",
       "      <td>EU</td>\n",
       "      <td>Android</td>\n",
       "      <td>B</td>\n",
       "      <td>recommender_system_test</td>\n",
       "    </tr>\n",
       "    <tr>\n",
       "      <th>10</th>\n",
       "      <td>831887FE7F2D6CBA</td>\n",
       "      <td>2020-12-07</td>\n",
       "      <td>EU</td>\n",
       "      <td>Android</td>\n",
       "      <td>A</td>\n",
       "      <td>recommender_system_test</td>\n",
       "    </tr>\n",
       "    <tr>\n",
       "      <th>12</th>\n",
       "      <td>4CB179C7F847320B</td>\n",
       "      <td>2020-12-07</td>\n",
       "      <td>EU</td>\n",
       "      <td>iPhone</td>\n",
       "      <td>B</td>\n",
       "      <td>recommender_system_test</td>\n",
       "    </tr>\n",
       "    <tr>\n",
       "      <th>...</th>\n",
       "      <td>...</td>\n",
       "      <td>...</td>\n",
       "      <td>...</td>\n",
       "      <td>...</td>\n",
       "      <td>...</td>\n",
       "      <td>...</td>\n",
       "    </tr>\n",
       "    <tr>\n",
       "      <th>16903</th>\n",
       "      <td>A09DFE27D4CFF8E8</td>\n",
       "      <td>2020-12-20</td>\n",
       "      <td>EU</td>\n",
       "      <td>Android</td>\n",
       "      <td>B</td>\n",
       "      <td>recommender_system_test</td>\n",
       "    </tr>\n",
       "    <tr>\n",
       "      <th>16907</th>\n",
       "      <td>0F7D49FC184EDCDE</td>\n",
       "      <td>2020-12-20</td>\n",
       "      <td>EU</td>\n",
       "      <td>PC</td>\n",
       "      <td>A</td>\n",
       "      <td>recommender_system_test</td>\n",
       "    </tr>\n",
       "    <tr>\n",
       "      <th>16909</th>\n",
       "      <td>574ACBC674BC385D</td>\n",
       "      <td>2020-12-20</td>\n",
       "      <td>EU</td>\n",
       "      <td>Mac</td>\n",
       "      <td>A</td>\n",
       "      <td>recommender_system_test</td>\n",
       "    </tr>\n",
       "    <tr>\n",
       "      <th>16910</th>\n",
       "      <td>0416B34D35C8C8B8</td>\n",
       "      <td>2020-12-20</td>\n",
       "      <td>EU</td>\n",
       "      <td>Android</td>\n",
       "      <td>A</td>\n",
       "      <td>recommender_system_test</td>\n",
       "    </tr>\n",
       "    <tr>\n",
       "      <th>16912</th>\n",
       "      <td>89CB0BFBC3F35126</td>\n",
       "      <td>2020-12-20</td>\n",
       "      <td>EU</td>\n",
       "      <td>PC</td>\n",
       "      <td>B</td>\n",
       "      <td>recommender_system_test</td>\n",
       "    </tr>\n",
       "  </tbody>\n",
       "</table>\n",
       "<p>6351 rows × 6 columns</p>\n",
       "</div>"
      ],
      "text/plain": [
       "                user_id first_date region   device group  \\\n",
       "0      D72A72121175D8BE 2020-12-07     EU       PC     A   \n",
       "3      E6DE857AFBDC6102 2020-12-07     EU       PC     B   \n",
       "7      DD4352CDCF8C3D57 2020-12-07     EU  Android     B   \n",
       "10     831887FE7F2D6CBA 2020-12-07     EU  Android     A   \n",
       "12     4CB179C7F847320B 2020-12-07     EU   iPhone     B   \n",
       "...                 ...        ...    ...      ...   ...   \n",
       "16903  A09DFE27D4CFF8E8 2020-12-20     EU  Android     B   \n",
       "16907  0F7D49FC184EDCDE 2020-12-20     EU       PC     A   \n",
       "16909  574ACBC674BC385D 2020-12-20     EU      Mac     A   \n",
       "16910  0416B34D35C8C8B8 2020-12-20     EU  Android     A   \n",
       "16912  89CB0BFBC3F35126 2020-12-20     EU       PC     B   \n",
       "\n",
       "                       ab_test  \n",
       "0      recommender_system_test  \n",
       "3      recommender_system_test  \n",
       "7      recommender_system_test  \n",
       "10     recommender_system_test  \n",
       "12     recommender_system_test  \n",
       "...                        ...  \n",
       "16903  recommender_system_test  \n",
       "16907  recommender_system_test  \n",
       "16909  recommender_system_test  \n",
       "16910  recommender_system_test  \n",
       "16912  recommender_system_test  \n",
       "\n",
       "[6351 rows x 6 columns]"
      ]
     },
     "execution_count": 30,
     "metadata": {},
     "output_type": "execute_result"
    }
   ],
   "source": [
    "# пользователи, которые участвовали только в тесте recommender_system_test\n",
    "rstest_users = ab_data.query('ab_test == \"recommender_system_test\"')\n",
    "\n",
    "# выведем таблицу\n",
    "rstest_users"
   ]
  },
  {
   "cell_type": "code",
   "execution_count": 31,
   "metadata": {},
   "outputs": [
    {
     "data": {
      "text/html": [
       "<div>\n",
       "<style scoped>\n",
       "    .dataframe tbody tr th:only-of-type {\n",
       "        vertical-align: middle;\n",
       "    }\n",
       "\n",
       "    .dataframe tbody tr th {\n",
       "        vertical-align: top;\n",
       "    }\n",
       "\n",
       "    .dataframe thead th {\n",
       "        text-align: right;\n",
       "    }\n",
       "</style>\n",
       "<table border=\"1\" class=\"dataframe\">\n",
       "  <thead>\n",
       "    <tr style=\"text-align: right;\">\n",
       "      <th></th>\n",
       "      <th>user_id</th>\n",
       "      <th>first_date</th>\n",
       "      <th>region</th>\n",
       "      <th>device</th>\n",
       "      <th>group</th>\n",
       "      <th>ab_test</th>\n",
       "      <th>number</th>\n",
       "    </tr>\n",
       "  </thead>\n",
       "  <tbody>\n",
       "    <tr>\n",
       "      <th>0</th>\n",
       "      <td>D72A72121175D8BE</td>\n",
       "      <td>2020-12-07</td>\n",
       "      <td>EU</td>\n",
       "      <td>PC</td>\n",
       "      <td>A</td>\n",
       "      <td>recommender_system_test</td>\n",
       "      <td>1</td>\n",
       "    </tr>\n",
       "    <tr>\n",
       "      <th>1</th>\n",
       "      <td>E6DE857AFBDC6102</td>\n",
       "      <td>2020-12-07</td>\n",
       "      <td>EU</td>\n",
       "      <td>PC</td>\n",
       "      <td>B</td>\n",
       "      <td>recommender_system_test</td>\n",
       "      <td>2</td>\n",
       "    </tr>\n",
       "    <tr>\n",
       "      <th>2</th>\n",
       "      <td>DD4352CDCF8C3D57</td>\n",
       "      <td>2020-12-07</td>\n",
       "      <td>EU</td>\n",
       "      <td>Android</td>\n",
       "      <td>B</td>\n",
       "      <td>recommender_system_test</td>\n",
       "      <td>2</td>\n",
       "    </tr>\n",
       "    <tr>\n",
       "      <th>3</th>\n",
       "      <td>831887FE7F2D6CBA</td>\n",
       "      <td>2020-12-07</td>\n",
       "      <td>EU</td>\n",
       "      <td>Android</td>\n",
       "      <td>A</td>\n",
       "      <td>recommender_system_test</td>\n",
       "      <td>1</td>\n",
       "    </tr>\n",
       "    <tr>\n",
       "      <th>4</th>\n",
       "      <td>4CB179C7F847320B</td>\n",
       "      <td>2020-12-07</td>\n",
       "      <td>EU</td>\n",
       "      <td>iPhone</td>\n",
       "      <td>B</td>\n",
       "      <td>recommender_system_test</td>\n",
       "      <td>1</td>\n",
       "    </tr>\n",
       "    <tr>\n",
       "      <th>...</th>\n",
       "      <td>...</td>\n",
       "      <td>...</td>\n",
       "      <td>...</td>\n",
       "      <td>...</td>\n",
       "      <td>...</td>\n",
       "      <td>...</td>\n",
       "      <td>...</td>\n",
       "    </tr>\n",
       "    <tr>\n",
       "      <th>6346</th>\n",
       "      <td>A09DFE27D4CFF8E8</td>\n",
       "      <td>2020-12-20</td>\n",
       "      <td>EU</td>\n",
       "      <td>Android</td>\n",
       "      <td>B</td>\n",
       "      <td>recommender_system_test</td>\n",
       "      <td>2</td>\n",
       "    </tr>\n",
       "    <tr>\n",
       "      <th>6347</th>\n",
       "      <td>0F7D49FC184EDCDE</td>\n",
       "      <td>2020-12-20</td>\n",
       "      <td>EU</td>\n",
       "      <td>PC</td>\n",
       "      <td>A</td>\n",
       "      <td>recommender_system_test</td>\n",
       "      <td>1</td>\n",
       "    </tr>\n",
       "    <tr>\n",
       "      <th>6348</th>\n",
       "      <td>574ACBC674BC385D</td>\n",
       "      <td>2020-12-20</td>\n",
       "      <td>EU</td>\n",
       "      <td>Mac</td>\n",
       "      <td>A</td>\n",
       "      <td>recommender_system_test</td>\n",
       "      <td>1</td>\n",
       "    </tr>\n",
       "    <tr>\n",
       "      <th>6349</th>\n",
       "      <td>0416B34D35C8C8B8</td>\n",
       "      <td>2020-12-20</td>\n",
       "      <td>EU</td>\n",
       "      <td>Android</td>\n",
       "      <td>A</td>\n",
       "      <td>recommender_system_test</td>\n",
       "      <td>1</td>\n",
       "    </tr>\n",
       "    <tr>\n",
       "      <th>6350</th>\n",
       "      <td>89CB0BFBC3F35126</td>\n",
       "      <td>2020-12-20</td>\n",
       "      <td>EU</td>\n",
       "      <td>PC</td>\n",
       "      <td>B</td>\n",
       "      <td>recommender_system_test</td>\n",
       "      <td>1</td>\n",
       "    </tr>\n",
       "  </tbody>\n",
       "</table>\n",
       "<p>6351 rows × 7 columns</p>\n",
       "</div>"
      ],
      "text/plain": [
       "               user_id first_date region   device group  \\\n",
       "0     D72A72121175D8BE 2020-12-07     EU       PC     A   \n",
       "1     E6DE857AFBDC6102 2020-12-07     EU       PC     B   \n",
       "2     DD4352CDCF8C3D57 2020-12-07     EU  Android     B   \n",
       "3     831887FE7F2D6CBA 2020-12-07     EU  Android     A   \n",
       "4     4CB179C7F847320B 2020-12-07     EU   iPhone     B   \n",
       "...                ...        ...    ...      ...   ...   \n",
       "6346  A09DFE27D4CFF8E8 2020-12-20     EU  Android     B   \n",
       "6347  0F7D49FC184EDCDE 2020-12-20     EU       PC     A   \n",
       "6348  574ACBC674BC385D 2020-12-20     EU      Mac     A   \n",
       "6349  0416B34D35C8C8B8 2020-12-20     EU  Android     A   \n",
       "6350  89CB0BFBC3F35126 2020-12-20     EU       PC     B   \n",
       "\n",
       "                      ab_test  number  \n",
       "0     recommender_system_test       1  \n",
       "1     recommender_system_test       2  \n",
       "2     recommender_system_test       2  \n",
       "3     recommender_system_test       1  \n",
       "4     recommender_system_test       1  \n",
       "...                       ...     ...  \n",
       "6346  recommender_system_test       2  \n",
       "6347  recommender_system_test       1  \n",
       "6348  recommender_system_test       1  \n",
       "6349  recommender_system_test       1  \n",
       "6350  recommender_system_test       1  \n",
       "\n",
       "[6351 rows x 7 columns]"
      ]
     },
     "execution_count": 31,
     "metadata": {},
     "output_type": "execute_result"
    }
   ],
   "source": [
    "#к таблице с пользователям нашего теста присоединяем кол-во тестов пользователя\n",
    "rstest_users = rstest_users.merge(two_tests_users, on='user_id', how='left')\n",
    "\n",
    "# выведем таблицу\n",
    "rstest_users"
   ]
  },
  {
   "cell_type": "code",
   "execution_count": 32,
   "metadata": {},
   "outputs": [
    {
     "data": {
      "text/plain": [
       "1602"
      ]
     },
     "execution_count": 32,
     "metadata": {},
     "output_type": "execute_result"
    }
   ],
   "source": [
    "# участники двух тестов\n",
    "len(rstest_users.query('number == 2')) "
   ]
  },
  {
   "cell_type": "code",
   "execution_count": 33,
   "metadata": {},
   "outputs": [
    {
     "data": {
      "text/plain": [
       "6351"
      ]
     },
     "execution_count": 33,
     "metadata": {},
     "output_type": "execute_result"
    }
   ],
   "source": [
    "# общее кол-во участников\n",
    "len(rstest_users) "
   ]
  },
  {
   "cell_type": "code",
   "execution_count": 34,
   "metadata": {},
   "outputs": [
    {
     "data": {
      "text/plain": [
       "15.0"
      ]
     },
     "execution_count": 34,
     "metadata": {},
     "output_type": "execute_result"
    }
   ],
   "source": [
    "# доля участников теста относительно всех новых пользователей Европы\n",
    "len(rstest_users)/len(new_users.query('region == \"EU\"')) * 100 "
   ]
  },
  {
   "cell_type": "markdown",
   "metadata": {},
   "source": [
    "<div class=\"alert alert-info\">\n",
    "    \n",
    "**📝 Комментарий Маши**\n",
    "\n",
    "1602 (из 6351) участников теста `recommender_system_test` участвовали и в другом тесте. Их отбросим, и в дальнейшем не будем рассматривать, т.к. они могут повлиять на конечные результаты.\n",
    "    \n",
    "В тесте участвуют 15% новых пользователей региона EU, совпадает с ТЗ.\n",
    "\n",
    "</div>"
   ]
  },
  {
   "cell_type": "code",
   "execution_count": 35,
   "metadata": {},
   "outputs": [
    {
     "data": {
      "text/plain": [
       "23420"
      ]
     },
     "execution_count": 35,
     "metadata": {},
     "output_type": "execute_result"
    }
   ],
   "source": [
    "# таблица событий пользователей нашей выборки\n",
    "ab_events = events[events['user_id'].isin(rstest_users['user_id'])].reset_index(drop=True)\n",
    "\n",
    "# количество событий пользователей, входящими в выборку теста\n",
    "len(ab_events) "
   ]
  },
  {
   "cell_type": "code",
   "execution_count": 36,
   "metadata": {},
   "outputs": [
    {
     "data": {
      "text/html": [
       "<div>\n",
       "<style scoped>\n",
       "    .dataframe tbody tr th:only-of-type {\n",
       "        vertical-align: middle;\n",
       "    }\n",
       "\n",
       "    .dataframe tbody tr th {\n",
       "        vertical-align: top;\n",
       "    }\n",
       "\n",
       "    .dataframe thead th {\n",
       "        text-align: right;\n",
       "    }\n",
       "</style>\n",
       "<table border=\"1\" class=\"dataframe\">\n",
       "  <thead>\n",
       "    <tr style=\"text-align: right;\">\n",
       "      <th></th>\n",
       "      <th>user_id</th>\n",
       "      <th>event_dt</th>\n",
       "      <th>event_name</th>\n",
       "      <th>details</th>\n",
       "    </tr>\n",
       "  </thead>\n",
       "  <tbody>\n",
       "    <tr>\n",
       "      <th>0</th>\n",
       "      <td>831887FE7F2D6CBA</td>\n",
       "      <td>2020-12-07 06:50:29</td>\n",
       "      <td>purchase</td>\n",
       "      <td>4.99</td>\n",
       "    </tr>\n",
       "    <tr>\n",
       "      <th>1</th>\n",
       "      <td>3C5DD0288AC4FE23</td>\n",
       "      <td>2020-12-07 19:42:40</td>\n",
       "      <td>purchase</td>\n",
       "      <td>4.99</td>\n",
       "    </tr>\n",
       "    <tr>\n",
       "      <th>2</th>\n",
       "      <td>49EA242586C87836</td>\n",
       "      <td>2020-12-07 06:31:24</td>\n",
       "      <td>purchase</td>\n",
       "      <td>99.99</td>\n",
       "    </tr>\n",
       "    <tr>\n",
       "      <th>3</th>\n",
       "      <td>2B06EB547B7AAD08</td>\n",
       "      <td>2020-12-07 21:36:38</td>\n",
       "      <td>purchase</td>\n",
       "      <td>4.99</td>\n",
       "    </tr>\n",
       "    <tr>\n",
       "      <th>4</th>\n",
       "      <td>A640F31CAC7823A6</td>\n",
       "      <td>2020-12-07 18:48:26</td>\n",
       "      <td>purchase</td>\n",
       "      <td>4.99</td>\n",
       "    </tr>\n",
       "    <tr>\n",
       "      <th>...</th>\n",
       "      <td>...</td>\n",
       "      <td>...</td>\n",
       "      <td>...</td>\n",
       "      <td>...</td>\n",
       "    </tr>\n",
       "    <tr>\n",
       "      <th>23415</th>\n",
       "      <td>D21F0D4FDCD82DB2</td>\n",
       "      <td>2020-12-29 02:17:00</td>\n",
       "      <td>login</td>\n",
       "      <td>NaN</td>\n",
       "    </tr>\n",
       "    <tr>\n",
       "      <th>23416</th>\n",
       "      <td>96BDD55846D1F7F6</td>\n",
       "      <td>2020-12-29 16:53:42</td>\n",
       "      <td>login</td>\n",
       "      <td>NaN</td>\n",
       "    </tr>\n",
       "    <tr>\n",
       "      <th>23417</th>\n",
       "      <td>553BAE96C6EB6240</td>\n",
       "      <td>2020-12-29 14:09:14</td>\n",
       "      <td>login</td>\n",
       "      <td>NaN</td>\n",
       "    </tr>\n",
       "    <tr>\n",
       "      <th>23418</th>\n",
       "      <td>DD4352CDCF8C3D57</td>\n",
       "      <td>2020-12-30 12:42:56</td>\n",
       "      <td>login</td>\n",
       "      <td>NaN</td>\n",
       "    </tr>\n",
       "    <tr>\n",
       "      <th>23419</th>\n",
       "      <td>75845C83258FBF73</td>\n",
       "      <td>2020-12-30 06:42:52</td>\n",
       "      <td>login</td>\n",
       "      <td>NaN</td>\n",
       "    </tr>\n",
       "  </tbody>\n",
       "</table>\n",
       "<p>23420 rows × 4 columns</p>\n",
       "</div>"
      ],
      "text/plain": [
       "                user_id            event_dt event_name  details\n",
       "0      831887FE7F2D6CBA 2020-12-07 06:50:29   purchase     4.99\n",
       "1      3C5DD0288AC4FE23 2020-12-07 19:42:40   purchase     4.99\n",
       "2      49EA242586C87836 2020-12-07 06:31:24   purchase    99.99\n",
       "3      2B06EB547B7AAD08 2020-12-07 21:36:38   purchase     4.99\n",
       "4      A640F31CAC7823A6 2020-12-07 18:48:26   purchase     4.99\n",
       "...                 ...                 ...        ...      ...\n",
       "23415  D21F0D4FDCD82DB2 2020-12-29 02:17:00      login      NaN\n",
       "23416  96BDD55846D1F7F6 2020-12-29 16:53:42      login      NaN\n",
       "23417  553BAE96C6EB6240 2020-12-29 14:09:14      login      NaN\n",
       "23418  DD4352CDCF8C3D57 2020-12-30 12:42:56      login      NaN\n",
       "23419  75845C83258FBF73 2020-12-30 06:42:52      login      NaN\n",
       "\n",
       "[23420 rows x 4 columns]"
      ]
     },
     "execution_count": 36,
     "metadata": {},
     "output_type": "execute_result"
    }
   ],
   "source": [
    "# выведем таблицу\n",
    "ab_events"
   ]
  },
  {
   "cell_type": "code",
   "execution_count": 37,
   "metadata": {},
   "outputs": [],
   "source": [
    "# объединение таблицы с событиями с данными пользователей теста\n",
    "ab_events = ab_events.merge(rstest_users, on='user_id', how='inner') "
   ]
  },
  {
   "cell_type": "code",
   "execution_count": 38,
   "metadata": {},
   "outputs": [
    {
     "data": {
      "text/html": [
       "<div>\n",
       "<style scoped>\n",
       "    .dataframe tbody tr th:only-of-type {\n",
       "        vertical-align: middle;\n",
       "    }\n",
       "\n",
       "    .dataframe tbody tr th {\n",
       "        vertical-align: top;\n",
       "    }\n",
       "\n",
       "    .dataframe thead th {\n",
       "        text-align: right;\n",
       "    }\n",
       "</style>\n",
       "<table border=\"1\" class=\"dataframe\">\n",
       "  <thead>\n",
       "    <tr style=\"text-align: right;\">\n",
       "      <th></th>\n",
       "      <th>user_id</th>\n",
       "      <th>event_dt</th>\n",
       "      <th>event_name</th>\n",
       "      <th>details</th>\n",
       "      <th>first_date</th>\n",
       "      <th>region</th>\n",
       "      <th>device</th>\n",
       "      <th>group</th>\n",
       "      <th>ab_test</th>\n",
       "      <th>number</th>\n",
       "    </tr>\n",
       "  </thead>\n",
       "  <tbody>\n",
       "    <tr>\n",
       "      <th>0</th>\n",
       "      <td>831887FE7F2D6CBA</td>\n",
       "      <td>2020-12-07 06:50:29</td>\n",
       "      <td>purchase</td>\n",
       "      <td>4.99</td>\n",
       "      <td>2020-12-07</td>\n",
       "      <td>EU</td>\n",
       "      <td>Android</td>\n",
       "      <td>A</td>\n",
       "      <td>recommender_system_test</td>\n",
       "      <td>1</td>\n",
       "    </tr>\n",
       "    <tr>\n",
       "      <th>1</th>\n",
       "      <td>831887FE7F2D6CBA</td>\n",
       "      <td>2020-12-09 02:19:17</td>\n",
       "      <td>purchase</td>\n",
       "      <td>99.99</td>\n",
       "      <td>2020-12-07</td>\n",
       "      <td>EU</td>\n",
       "      <td>Android</td>\n",
       "      <td>A</td>\n",
       "      <td>recommender_system_test</td>\n",
       "      <td>1</td>\n",
       "    </tr>\n",
       "    <tr>\n",
       "      <th>2</th>\n",
       "      <td>831887FE7F2D6CBA</td>\n",
       "      <td>2020-12-07 06:50:30</td>\n",
       "      <td>product_cart</td>\n",
       "      <td>NaN</td>\n",
       "      <td>2020-12-07</td>\n",
       "      <td>EU</td>\n",
       "      <td>Android</td>\n",
       "      <td>A</td>\n",
       "      <td>recommender_system_test</td>\n",
       "      <td>1</td>\n",
       "    </tr>\n",
       "    <tr>\n",
       "      <th>3</th>\n",
       "      <td>831887FE7F2D6CBA</td>\n",
       "      <td>2020-12-08 10:52:27</td>\n",
       "      <td>product_cart</td>\n",
       "      <td>NaN</td>\n",
       "      <td>2020-12-07</td>\n",
       "      <td>EU</td>\n",
       "      <td>Android</td>\n",
       "      <td>A</td>\n",
       "      <td>recommender_system_test</td>\n",
       "      <td>1</td>\n",
       "    </tr>\n",
       "    <tr>\n",
       "      <th>4</th>\n",
       "      <td>831887FE7F2D6CBA</td>\n",
       "      <td>2020-12-09 02:19:17</td>\n",
       "      <td>product_cart</td>\n",
       "      <td>NaN</td>\n",
       "      <td>2020-12-07</td>\n",
       "      <td>EU</td>\n",
       "      <td>Android</td>\n",
       "      <td>A</td>\n",
       "      <td>recommender_system_test</td>\n",
       "      <td>1</td>\n",
       "    </tr>\n",
       "    <tr>\n",
       "      <th>...</th>\n",
       "      <td>...</td>\n",
       "      <td>...</td>\n",
       "      <td>...</td>\n",
       "      <td>...</td>\n",
       "      <td>...</td>\n",
       "      <td>...</td>\n",
       "      <td>...</td>\n",
       "      <td>...</td>\n",
       "      <td>...</td>\n",
       "      <td>...</td>\n",
       "    </tr>\n",
       "    <tr>\n",
       "      <th>23415</th>\n",
       "      <td>1484BBF124DB1B18</td>\n",
       "      <td>2020-12-27 10:53:34</td>\n",
       "      <td>login</td>\n",
       "      <td>NaN</td>\n",
       "      <td>2020-12-21</td>\n",
       "      <td>EU</td>\n",
       "      <td>PC</td>\n",
       "      <td>A</td>\n",
       "      <td>recommender_system_test</td>\n",
       "      <td>1</td>\n",
       "    </tr>\n",
       "    <tr>\n",
       "      <th>23416</th>\n",
       "      <td>BEF16764A13AEC34</td>\n",
       "      <td>2020-12-21 03:49:49</td>\n",
       "      <td>login</td>\n",
       "      <td>NaN</td>\n",
       "      <td>2020-12-21</td>\n",
       "      <td>EU</td>\n",
       "      <td>PC</td>\n",
       "      <td>B</td>\n",
       "      <td>recommender_system_test</td>\n",
       "      <td>2</td>\n",
       "    </tr>\n",
       "    <tr>\n",
       "      <th>23417</th>\n",
       "      <td>BEF16764A13AEC34</td>\n",
       "      <td>2020-12-22 18:52:25</td>\n",
       "      <td>login</td>\n",
       "      <td>NaN</td>\n",
       "      <td>2020-12-21</td>\n",
       "      <td>EU</td>\n",
       "      <td>PC</td>\n",
       "      <td>B</td>\n",
       "      <td>recommender_system_test</td>\n",
       "      <td>2</td>\n",
       "    </tr>\n",
       "    <tr>\n",
       "      <th>23418</th>\n",
       "      <td>BEF16764A13AEC34</td>\n",
       "      <td>2020-12-24 22:11:00</td>\n",
       "      <td>login</td>\n",
       "      <td>NaN</td>\n",
       "      <td>2020-12-21</td>\n",
       "      <td>EU</td>\n",
       "      <td>PC</td>\n",
       "      <td>B</td>\n",
       "      <td>recommender_system_test</td>\n",
       "      <td>2</td>\n",
       "    </tr>\n",
       "    <tr>\n",
       "      <th>23419</th>\n",
       "      <td>23DDD27AC3FEFA63</td>\n",
       "      <td>2020-12-21 02:51:45</td>\n",
       "      <td>login</td>\n",
       "      <td>NaN</td>\n",
       "      <td>2020-12-21</td>\n",
       "      <td>EU</td>\n",
       "      <td>PC</td>\n",
       "      <td>A</td>\n",
       "      <td>recommender_system_test</td>\n",
       "      <td>1</td>\n",
       "    </tr>\n",
       "  </tbody>\n",
       "</table>\n",
       "<p>23420 rows × 10 columns</p>\n",
       "</div>"
      ],
      "text/plain": [
       "                user_id            event_dt    event_name  details first_date  \\\n",
       "0      831887FE7F2D6CBA 2020-12-07 06:50:29      purchase     4.99 2020-12-07   \n",
       "1      831887FE7F2D6CBA 2020-12-09 02:19:17      purchase    99.99 2020-12-07   \n",
       "2      831887FE7F2D6CBA 2020-12-07 06:50:30  product_cart      NaN 2020-12-07   \n",
       "3      831887FE7F2D6CBA 2020-12-08 10:52:27  product_cart      NaN 2020-12-07   \n",
       "4      831887FE7F2D6CBA 2020-12-09 02:19:17  product_cart      NaN 2020-12-07   \n",
       "...                 ...                 ...           ...      ...        ...   \n",
       "23415  1484BBF124DB1B18 2020-12-27 10:53:34         login      NaN 2020-12-21   \n",
       "23416  BEF16764A13AEC34 2020-12-21 03:49:49         login      NaN 2020-12-21   \n",
       "23417  BEF16764A13AEC34 2020-12-22 18:52:25         login      NaN 2020-12-21   \n",
       "23418  BEF16764A13AEC34 2020-12-24 22:11:00         login      NaN 2020-12-21   \n",
       "23419  23DDD27AC3FEFA63 2020-12-21 02:51:45         login      NaN 2020-12-21   \n",
       "\n",
       "      region   device group                  ab_test  number  \n",
       "0         EU  Android     A  recommender_system_test       1  \n",
       "1         EU  Android     A  recommender_system_test       1  \n",
       "2         EU  Android     A  recommender_system_test       1  \n",
       "3         EU  Android     A  recommender_system_test       1  \n",
       "4         EU  Android     A  recommender_system_test       1  \n",
       "...      ...      ...   ...                      ...     ...  \n",
       "23415     EU       PC     A  recommender_system_test       1  \n",
       "23416     EU       PC     B  recommender_system_test       2  \n",
       "23417     EU       PC     B  recommender_system_test       2  \n",
       "23418     EU       PC     B  recommender_system_test       2  \n",
       "23419     EU       PC     A  recommender_system_test       1  \n",
       "\n",
       "[23420 rows x 10 columns]"
      ]
     },
     "execution_count": 38,
     "metadata": {},
     "output_type": "execute_result"
    }
   ],
   "source": [
    "# выведем таблицу\n",
    "ab_events"
   ]
  },
  {
   "cell_type": "code",
   "execution_count": 39,
   "metadata": {},
   "outputs": [
    {
     "data": {
      "text/plain": [
       "3481"
      ]
     },
     "execution_count": 39,
     "metadata": {},
     "output_type": "execute_result"
    }
   ],
   "source": [
    "# кол-во участников, совершивших события\n",
    "len(ab_events['user_id'].unique()) "
   ]
  },
  {
   "cell_type": "markdown",
   "metadata": {},
   "source": [
    "<div class=\"alert alert-info\">\n",
    "    \n",
    "**📝 Комментарий Маши**\n",
    "\n",
    "Количество уникальных пользователей в таблице событий - 3481.\n",
    "\n",
    "</div>"
   ]
  },
  {
   "cell_type": "markdown",
   "metadata": {},
   "source": [
    "- Определить, как меняется конверсия в воронке в выборках на разных этапах;"
   ]
  },
  {
   "cell_type": "code",
   "execution_count": 40,
   "metadata": {},
   "outputs": [],
   "source": [
    "# колонка с лайфтаймом\n",
    "ab_events['lifetime'] = (ab_events['event_dt'] - ab_events['first_date']).dt.days \n",
    "\n",
    "# оставляем события, совершенные в течение 14 дней с момента регистрации\n",
    "ab_events = ab_events.query('lifetime <= 14') \n"
   ]
  },
  {
   "cell_type": "code",
   "execution_count": 41,
   "metadata": {},
   "outputs": [],
   "source": [
    "# таблица для построения воронки \n",
    "funnel = ab_events.pivot_table(index='event_name', columns='group', values='user_id', aggfunc='nunique').reindex(['login', 'product_page', 'product_cart', 'purchase'])\n",
    "\n",
    "# колонка с общим кол-вом пользователей\n",
    "funnel['total'] = funnel.sum(axis=1) "
   ]
  },
  {
   "cell_type": "code",
   "execution_count": 42,
   "metadata": {},
   "outputs": [],
   "source": [
    "# построение воронки с конверсией\n",
    "fig = go.Figure()\n",
    "# fig.add_trace(go.Funnel(\n",
    "    # name = 'A',\n",
    "    # y = funnel['A'].index,\n",
    "    # x = funnel['A'].values,\n",
    "    # textinfo = \"value+percent previous\"))\n",
    "# fig.add_trace(go.Funnel(\n",
    "    # name = 'B',\n",
    "    # y = funnel['B'].index,\n",
    "    # x = funnel['B'].values,\n",
    "    # textinfo = \"value+percent previous\"))\n",
    "# fig.update_layout(\n",
    "    # title = 'Продуктовая воронка с конверсией к предыдущему шагу')\n",
    "# fig.show()"
   ]
  },
  {
   "attachments": {
    "image.png": {
     "image/png": "[encoded data removed]"
    }
   },
   "cell_type": "markdown",
   "metadata": {},
   "source": [
    "![image.png](attachment:image.png)"
   ]
  },
  {
   "cell_type": "markdown",
   "metadata": {},
   "source": [
    "<div class=\"alert alert-info\">\n",
    "    \n",
    "**📝 Комментарий Маши**\n",
    "\n",
    "Варианты действий:\n",
    "\n",
    "- login - регистрация пользователя\n",
    "- product_page - посещение страницы с товаром\n",
    "- product_cart - добавление товара в корзину\n",
    "- purchase - заказ\n",
    "    \n",
    "Некоторые пользователи пропускали шаг \"добавление товара в корзину\" и переходили с \"посещение страницы с товаром\" к \"заказу\". Скорее всего, благодаря опции \"быстрая покупка\".\n",
    "\n",
    "\n",
    "</div>"
   ]
  },
  {
   "cell_type": "code",
   "execution_count": 43,
   "metadata": {},
   "outputs": [
    {
     "data": {
      "text/plain": [
       "31.989247311827956"
      ]
     },
     "execution_count": 43,
     "metadata": {},
     "output_type": "execute_result"
    }
   ],
   "source": [
    "# конверсия в группе А\n",
    "funnel.loc['purchase', 'A']/funnel.loc['login', 'A'] * 100 "
   ]
  },
  {
   "cell_type": "code",
   "execution_count": 44,
   "metadata": {},
   "outputs": [
    {
     "data": {
      "text/plain": [
       "28.424657534246577"
      ]
     },
     "execution_count": 44,
     "metadata": {},
     "output_type": "execute_result"
    }
   ],
   "source": [
    "# конверсия в группе В\n",
    "funnel.loc['purchase', 'B']/funnel.loc['login', 'B'] * 100 "
   ]
  },
  {
   "cell_type": "code",
   "execution_count": 45,
   "metadata": {},
   "outputs": [
    {
     "data": {
      "text/plain": [
       "88.85691262806493"
      ]
     },
     "execution_count": 45,
     "metadata": {},
     "output_type": "execute_result"
    }
   ],
   "source": [
    "# отношение конверсии группы В к группе А\n",
    "(funnel.loc['purchase', 'B']/funnel.loc['login', 'B']) / (funnel.loc['purchase', 'A']/funnel.loc['login', 'A']) *100"
   ]
  },
  {
   "cell_type": "markdown",
   "metadata": {},
   "source": [
    "<div class=\"alert alert-info\">\n",
    "    \n",
    "**📝 Комментарий Маши**\n",
    "\n",
    "Конверсия залогинившихся пользователей в покупки в группе А составляет: 31.99%\n",
    "    \n",
    "Конверсия залогинившихся пользователей в покупки в группе B составляет: 28.42%\n",
    "    \n",
    "Отношение конверсии в покупки в группе В к группе А: 88.86%\n",
    "    \n",
    "Ождиаемый эффект по ТЗ: за 14 дней с момента регистрации пользователи покажут улучшение каждой метрики не менее, чем на 10%. По результатам, это не случилось.\n",
    "\n",
    "\n",
    "</div>"
   ]
  },
  {
   "cell_type": "markdown",
   "metadata": {},
   "source": [
    "## Исследовательский анализ данных"
   ]
  },
  {
   "cell_type": "markdown",
   "metadata": {},
   "source": [
    "- Определить одинаково ли распределены количество событий на пользователя в выборках;"
   ]
  },
  {
   "cell_type": "code",
   "execution_count": 46,
   "metadata": {},
   "outputs": [
    {
     "data": {
      "text/html": [
       "<div>\n",
       "<style scoped>\n",
       "    .dataframe tbody tr th:only-of-type {\n",
       "        vertical-align: middle;\n",
       "    }\n",
       "\n",
       "    .dataframe tbody tr th {\n",
       "        vertical-align: top;\n",
       "    }\n",
       "\n",
       "    .dataframe thead th {\n",
       "        text-align: right;\n",
       "    }\n",
       "</style>\n",
       "<table border=\"1\" class=\"dataframe\">\n",
       "  <thead>\n",
       "    <tr style=\"text-align: right;\">\n",
       "      <th></th>\n",
       "      <th>user_id</th>\n",
       "      <th>group</th>\n",
       "      <th>event_name</th>\n",
       "    </tr>\n",
       "  </thead>\n",
       "  <tbody>\n",
       "    <tr>\n",
       "      <th>0</th>\n",
       "      <td>001064FEAAB631A1</td>\n",
       "      <td>B</td>\n",
       "      <td>6</td>\n",
       "    </tr>\n",
       "    <tr>\n",
       "      <th>1</th>\n",
       "      <td>0010A1C096941592</td>\n",
       "      <td>A</td>\n",
       "      <td>12</td>\n",
       "    </tr>\n",
       "    <tr>\n",
       "      <th>2</th>\n",
       "      <td>00341D8401F0F665</td>\n",
       "      <td>A</td>\n",
       "      <td>2</td>\n",
       "    </tr>\n",
       "    <tr>\n",
       "      <th>3</th>\n",
       "      <td>003DF44D7589BBD4</td>\n",
       "      <td>A</td>\n",
       "      <td>15</td>\n",
       "    </tr>\n",
       "    <tr>\n",
       "      <th>4</th>\n",
       "      <td>00505E15A9D81546</td>\n",
       "      <td>A</td>\n",
       "      <td>5</td>\n",
       "    </tr>\n",
       "    <tr>\n",
       "      <th>...</th>\n",
       "      <td>...</td>\n",
       "      <td>...</td>\n",
       "      <td>...</td>\n",
       "    </tr>\n",
       "    <tr>\n",
       "      <th>3476</th>\n",
       "      <td>FF5B24BCE4387F86</td>\n",
       "      <td>A</td>\n",
       "      <td>9</td>\n",
       "    </tr>\n",
       "    <tr>\n",
       "      <th>3477</th>\n",
       "      <td>FF825C1D791989B5</td>\n",
       "      <td>A</td>\n",
       "      <td>8</td>\n",
       "    </tr>\n",
       "    <tr>\n",
       "      <th>3478</th>\n",
       "      <td>FF8CF7057415EB29</td>\n",
       "      <td>B</td>\n",
       "      <td>4</td>\n",
       "    </tr>\n",
       "    <tr>\n",
       "      <th>3479</th>\n",
       "      <td>FFAE9489C76F352B</td>\n",
       "      <td>A</td>\n",
       "      <td>6</td>\n",
       "    </tr>\n",
       "    <tr>\n",
       "      <th>3480</th>\n",
       "      <td>FFF28D02B1EACBE1</td>\n",
       "      <td>B</td>\n",
       "      <td>9</td>\n",
       "    </tr>\n",
       "  </tbody>\n",
       "</table>\n",
       "<p>3481 rows × 3 columns</p>\n",
       "</div>"
      ],
      "text/plain": [
       "               user_id group  event_name\n",
       "0     001064FEAAB631A1     B           6\n",
       "1     0010A1C096941592     A          12\n",
       "2     00341D8401F0F665     A           2\n",
       "3     003DF44D7589BBD4     A          15\n",
       "4     00505E15A9D81546     A           5\n",
       "...                ...   ...         ...\n",
       "3476  FF5B24BCE4387F86     A           9\n",
       "3477  FF825C1D791989B5     A           8\n",
       "3478  FF8CF7057415EB29     B           4\n",
       "3479  FFAE9489C76F352B     A           6\n",
       "3480  FFF28D02B1EACBE1     B           9\n",
       "\n",
       "[3481 rows x 3 columns]"
      ]
     },
     "execution_count": 46,
     "metadata": {},
     "output_type": "execute_result"
    }
   ],
   "source": [
    "# среднее количество событий на пользователа по группам \n",
    "event_by_user_id = ab_events.groupby(['user_id', 'group'])['event_name'].agg('count').reset_index()\n",
    "\n",
    "# вывод таблицы\n",
    "event_by_user_id"
   ]
  },
  {
   "cell_type": "code",
   "execution_count": 47,
   "metadata": {},
   "outputs": [
    {
     "data": {
      "text/plain": [
       "6.903609831029186"
      ]
     },
     "execution_count": 47,
     "metadata": {},
     "output_type": "execute_result"
    }
   ],
   "source": [
    "# события пользователей группы А\n",
    "event_by_user_id_A = event_by_user_id.query('group == \"A\"')\n",
    "\n",
    "# среднее количество событий на пользователя группы А\n",
    "event_by_user_id_A['event_name'].sum() / event_by_user_id_A['user_id'].count() "
   ]
  },
  {
   "cell_type": "code",
   "execution_count": 48,
   "metadata": {},
   "outputs": [
    {
     "data": {
      "text/plain": [
       "5.531356898517674"
      ]
     },
     "execution_count": 48,
     "metadata": {},
     "output_type": "execute_result"
    }
   ],
   "source": [
    "# события пользователей группы В\n",
    "event_by_user_id_B = event_by_user_id.query('group == \"B\"')\n",
    "\n",
    "# среднее количество событий на пользователя группы В\n",
    "event_by_user_id_B['event_name'].sum() / event_by_user_id_B['user_id'].count()"
   ]
  },
  {
   "cell_type": "markdown",
   "metadata": {},
   "source": [
    "<div class=\"alert alert-info\">\n",
    "    \n",
    "**📝 Комментарий Маши**\n",
    "\n",
    "Среднее количество событий на пользователя в группе А: 7\n",
    "    \n",
    "Среднее количество событий на пользователя в группе B: 6\n",
    "   \n",
    "</div>"
   ]
  },
  {
   "cell_type": "markdown",
   "metadata": {},
   "source": [
    "- Выяснить как число событий в выборках распределено по дням;"
   ]
  },
  {
   "cell_type": "code",
   "execution_count": 49,
   "metadata": {},
   "outputs": [
    {
     "data": {
      "text/html": [
       "<div>\n",
       "<style scoped>\n",
       "    .dataframe tbody tr th:only-of-type {\n",
       "        vertical-align: middle;\n",
       "    }\n",
       "\n",
       "    .dataframe tbody tr th {\n",
       "        vertical-align: top;\n",
       "    }\n",
       "\n",
       "    .dataframe thead th {\n",
       "        text-align: right;\n",
       "    }\n",
       "</style>\n",
       "<table border=\"1\" class=\"dataframe\">\n",
       "  <thead>\n",
       "    <tr style=\"text-align: right;\">\n",
       "      <th></th>\n",
       "      <th>name</th>\n",
       "      <th>regions</th>\n",
       "      <th>start_dt</th>\n",
       "      <th>finish_dt</th>\n",
       "    </tr>\n",
       "  </thead>\n",
       "  <tbody>\n",
       "    <tr>\n",
       "      <th>0</th>\n",
       "      <td>Christmas&amp;New Year Promo</td>\n",
       "      <td>EU, N.America</td>\n",
       "      <td>2020-12-25</td>\n",
       "      <td>2021-01-03</td>\n",
       "    </tr>\n",
       "    <tr>\n",
       "      <th>1</th>\n",
       "      <td>St. Valentine's Day Giveaway</td>\n",
       "      <td>EU, CIS, APAC, N.America</td>\n",
       "      <td>2020-02-14</td>\n",
       "      <td>2020-02-16</td>\n",
       "    </tr>\n",
       "    <tr>\n",
       "      <th>2</th>\n",
       "      <td>St. Patric's Day Promo</td>\n",
       "      <td>EU, N.America</td>\n",
       "      <td>2020-03-17</td>\n",
       "      <td>2020-03-19</td>\n",
       "    </tr>\n",
       "    <tr>\n",
       "      <th>3</th>\n",
       "      <td>Easter Promo</td>\n",
       "      <td>EU, CIS, APAC, N.America</td>\n",
       "      <td>2020-04-12</td>\n",
       "      <td>2020-04-19</td>\n",
       "    </tr>\n",
       "    <tr>\n",
       "      <th>4</th>\n",
       "      <td>4th of July Promo</td>\n",
       "      <td>N.America</td>\n",
       "      <td>2020-07-04</td>\n",
       "      <td>2020-07-11</td>\n",
       "    </tr>\n",
       "    <tr>\n",
       "      <th>5</th>\n",
       "      <td>Black Friday Ads Campaign</td>\n",
       "      <td>EU, CIS, APAC, N.America</td>\n",
       "      <td>2020-11-26</td>\n",
       "      <td>2020-12-01</td>\n",
       "    </tr>\n",
       "    <tr>\n",
       "      <th>6</th>\n",
       "      <td>Chinese New Year Promo</td>\n",
       "      <td>APAC</td>\n",
       "      <td>2020-01-25</td>\n",
       "      <td>2020-02-07</td>\n",
       "    </tr>\n",
       "    <tr>\n",
       "      <th>7</th>\n",
       "      <td>Labor day (May 1st) Ads Campaign</td>\n",
       "      <td>EU, CIS, APAC</td>\n",
       "      <td>2020-05-01</td>\n",
       "      <td>2020-05-03</td>\n",
       "    </tr>\n",
       "    <tr>\n",
       "      <th>8</th>\n",
       "      <td>International Women's Day Promo</td>\n",
       "      <td>EU, CIS, APAC</td>\n",
       "      <td>2020-03-08</td>\n",
       "      <td>2020-03-10</td>\n",
       "    </tr>\n",
       "    <tr>\n",
       "      <th>9</th>\n",
       "      <td>Victory Day CIS (May 9th) Event</td>\n",
       "      <td>CIS</td>\n",
       "      <td>2020-05-09</td>\n",
       "      <td>2020-05-11</td>\n",
       "    </tr>\n",
       "    <tr>\n",
       "      <th>10</th>\n",
       "      <td>CIS New Year Gift Lottery</td>\n",
       "      <td>CIS</td>\n",
       "      <td>2020-12-30</td>\n",
       "      <td>2021-01-07</td>\n",
       "    </tr>\n",
       "    <tr>\n",
       "      <th>11</th>\n",
       "      <td>Dragon Boat Festival Giveaway</td>\n",
       "      <td>APAC</td>\n",
       "      <td>2020-06-25</td>\n",
       "      <td>2020-07-01</td>\n",
       "    </tr>\n",
       "    <tr>\n",
       "      <th>12</th>\n",
       "      <td>Single's Day Gift Promo</td>\n",
       "      <td>APAC</td>\n",
       "      <td>2020-11-11</td>\n",
       "      <td>2020-11-12</td>\n",
       "    </tr>\n",
       "    <tr>\n",
       "      <th>13</th>\n",
       "      <td>Chinese Moon Festival</td>\n",
       "      <td>APAC</td>\n",
       "      <td>2020-10-01</td>\n",
       "      <td>2020-10-07</td>\n",
       "    </tr>\n",
       "  </tbody>\n",
       "</table>\n",
       "</div>"
      ],
      "text/plain": [
       "                                name                   regions   start_dt  \\\n",
       "0           Christmas&New Year Promo             EU, N.America 2020-12-25   \n",
       "1       St. Valentine's Day Giveaway  EU, CIS, APAC, N.America 2020-02-14   \n",
       "2             St. Patric's Day Promo             EU, N.America 2020-03-17   \n",
       "3                       Easter Promo  EU, CIS, APAC, N.America 2020-04-12   \n",
       "4                  4th of July Promo                 N.America 2020-07-04   \n",
       "5          Black Friday Ads Campaign  EU, CIS, APAC, N.America 2020-11-26   \n",
       "6             Chinese New Year Promo                      APAC 2020-01-25   \n",
       "7   Labor day (May 1st) Ads Campaign             EU, CIS, APAC 2020-05-01   \n",
       "8    International Women's Day Promo             EU, CIS, APAC 2020-03-08   \n",
       "9    Victory Day CIS (May 9th) Event                       CIS 2020-05-09   \n",
       "10         CIS New Year Gift Lottery                       CIS 2020-12-30   \n",
       "11     Dragon Boat Festival Giveaway                      APAC 2020-06-25   \n",
       "12           Single's Day Gift Promo                      APAC 2020-11-11   \n",
       "13             Chinese Moon Festival                      APAC 2020-10-01   \n",
       "\n",
       "    finish_dt  \n",
       "0  2021-01-03  \n",
       "1  2020-02-16  \n",
       "2  2020-03-19  \n",
       "3  2020-04-19  \n",
       "4  2020-07-11  \n",
       "5  2020-12-01  \n",
       "6  2020-02-07  \n",
       "7  2020-05-03  \n",
       "8  2020-03-10  \n",
       "9  2020-05-11  \n",
       "10 2021-01-07  \n",
       "11 2020-07-01  \n",
       "12 2020-11-12  \n",
       "13 2020-10-07  "
      ]
     },
     "execution_count": 49,
     "metadata": {},
     "output_type": "execute_result"
    }
   ],
   "source": [
    "# календарь маркетинговых активностей\n",
    "marketing_events "
   ]
  },
  {
   "cell_type": "code",
   "execution_count": 50,
   "metadata": {},
   "outputs": [
    {
     "data": {
      "text/html": [
       "<div>\n",
       "<style scoped>\n",
       "    .dataframe tbody tr th:only-of-type {\n",
       "        vertical-align: middle;\n",
       "    }\n",
       "\n",
       "    .dataframe tbody tr th {\n",
       "        vertical-align: top;\n",
       "    }\n",
       "\n",
       "    .dataframe thead th {\n",
       "        text-align: right;\n",
       "    }\n",
       "</style>\n",
       "<table border=\"1\" class=\"dataframe\">\n",
       "  <thead>\n",
       "    <tr style=\"text-align: right;\">\n",
       "      <th></th>\n",
       "      <th>name</th>\n",
       "      <th>regions</th>\n",
       "      <th>start_dt</th>\n",
       "      <th>finish_dt</th>\n",
       "    </tr>\n",
       "  </thead>\n",
       "  <tbody>\n",
       "    <tr>\n",
       "      <th>0</th>\n",
       "      <td>Christmas&amp;New Year Promo</td>\n",
       "      <td>EU, N.America</td>\n",
       "      <td>2020-12-25</td>\n",
       "      <td>2021-01-03</td>\n",
       "    </tr>\n",
       "    <tr>\n",
       "      <th>10</th>\n",
       "      <td>CIS New Year Gift Lottery</td>\n",
       "      <td>CIS</td>\n",
       "      <td>2020-12-30</td>\n",
       "      <td>2021-01-07</td>\n",
       "    </tr>\n",
       "  </tbody>\n",
       "</table>\n",
       "</div>"
      ],
      "text/plain": [
       "                         name        regions   start_dt  finish_dt\n",
       "0    Christmas&New Year Promo  EU, N.America 2020-12-25 2021-01-03\n",
       "10  CIS New Year Gift Lottery            CIS 2020-12-30 2021-01-07"
      ]
     },
     "execution_count": 50,
     "metadata": {},
     "output_type": "execute_result"
    }
   ],
   "source": [
    "# маркетинговые актвности, пересекающиеся с периодом теста\n",
    "marketing_events.query('\"2020-11-30\" <= start_dt <= \"2021-01-04\"') "
   ]
  },
  {
   "cell_type": "markdown",
   "metadata": {},
   "source": [
    "<div class=\"alert alert-info\">\n",
    "    \n",
    "**📝 Комментарий Маши**\n",
    "\n",
    "Две активности пересекаются с датой проведения теста - Christmas&New Year Promo и CIS New Year Gift Lottery\t\n",
    "</div>"
   ]
  },
  {
   "cell_type": "code",
   "execution_count": 51,
   "metadata": {},
   "outputs": [],
   "source": [
    "# построение гистограммы по общему кол-ву заказов\n",
    "fig = px.histogram(ab_events, x='event_dt', y='user_id', barmode = 'overlay', color='group', title = 'Распределение количества событий пользователей по времени в группах', histfunc='count', \\\n",
    "             labels={'event_dt':'дата', 'count':'количество событий'}) \n",
    "\n",
    "# установка расстояния между столбцами\n",
    "# fig.update_layout(bargap=0.2) \n",
    "\n",
    "# вывод графика\n",
    "# fig.show() "
   ]
  },
  {
   "attachments": {
    "image.png": {
     "image/png": "[encoded data removed]"
    }
   },
   "cell_type": "markdown",
   "metadata": {},
   "source": [
    "![image.png](attachment:image.png)"
   ]
  },
  {
   "cell_type": "markdown",
   "metadata": {},
   "source": [
    "<div class=\"alert alert-info\">\n",
    "    \n",
    "**📝 Комментарий Маши**\n",
    "\n",
    "По графику видно, что в период рождественской маркетинговой активности наблюдается рост продаж.\n",
    "    \n",
    "Группа А существенно преобладает кол-вом событий над группой В. Хотя в первые дни теста наблюдается схожее кол-во. Затем группа А сделала резкий скачок в предрождественские дни, после пошло на спад с 21 декабря.\n",
    "    \n",
    "    \n",
    "</div>"
   ]
  },
  {
   "cell_type": "markdown",
   "metadata": {},
   "source": [
    "## Оценка результатов A/B-тестирования"
   ]
  },
  {
   "cell_type": "markdown",
   "metadata": {},
   "source": [
    "- Подготовка данных для A/B-тестирования"
   ]
  },
  {
   "cell_type": "code",
   "execution_count": 52,
   "metadata": {},
   "outputs": [
    {
     "data": {
      "text/html": [
       "<div>\n",
       "<style scoped>\n",
       "    .dataframe tbody tr th:only-of-type {\n",
       "        vertical-align: middle;\n",
       "    }\n",
       "\n",
       "    .dataframe tbody tr th {\n",
       "        vertical-align: top;\n",
       "    }\n",
       "\n",
       "    .dataframe thead th {\n",
       "        text-align: right;\n",
       "    }\n",
       "</style>\n",
       "<table border=\"1\" class=\"dataframe\">\n",
       "  <thead>\n",
       "    <tr style=\"text-align: right;\">\n",
       "      <th>group</th>\n",
       "      <th>A</th>\n",
       "      <th>B</th>\n",
       "      <th>total</th>\n",
       "    </tr>\n",
       "    <tr>\n",
       "      <th>event_name</th>\n",
       "      <th></th>\n",
       "      <th></th>\n",
       "      <th></th>\n",
       "    </tr>\n",
       "  </thead>\n",
       "  <tbody>\n",
       "    <tr>\n",
       "      <th>login</th>\n",
       "      <td>2604</td>\n",
       "      <td>876</td>\n",
       "      <td>3480</td>\n",
       "    </tr>\n",
       "    <tr>\n",
       "      <th>product_page</th>\n",
       "      <td>1685</td>\n",
       "      <td>493</td>\n",
       "      <td>2178</td>\n",
       "    </tr>\n",
       "    <tr>\n",
       "      <th>product_cart</th>\n",
       "      <td>782</td>\n",
       "      <td>244</td>\n",
       "      <td>1026</td>\n",
       "    </tr>\n",
       "    <tr>\n",
       "      <th>purchase</th>\n",
       "      <td>833</td>\n",
       "      <td>249</td>\n",
       "      <td>1082</td>\n",
       "    </tr>\n",
       "  </tbody>\n",
       "</table>\n",
       "</div>"
      ],
      "text/plain": [
       "group            A    B  total\n",
       "event_name                    \n",
       "login         2604  876   3480\n",
       "product_page  1685  493   2178\n",
       "product_cart   782  244   1026\n",
       "purchase       833  249   1082"
      ]
     },
     "execution_count": 52,
     "metadata": {},
     "output_type": "execute_result"
    }
   ],
   "source": [
    "# таблица с воронкой\n",
    "funnel "
   ]
  },
  {
   "cell_type": "code",
   "execution_count": 53,
   "metadata": {},
   "outputs": [
    {
     "data": {
      "text/html": [
       "<div>\n",
       "<style scoped>\n",
       "    .dataframe tbody tr th:only-of-type {\n",
       "        vertical-align: middle;\n",
       "    }\n",
       "\n",
       "    .dataframe tbody tr th {\n",
       "        vertical-align: top;\n",
       "    }\n",
       "\n",
       "    .dataframe thead th {\n",
       "        text-align: right;\n",
       "    }\n",
       "</style>\n",
       "<table border=\"1\" class=\"dataframe\">\n",
       "  <thead>\n",
       "    <tr style=\"text-align: right;\">\n",
       "      <th>event_name</th>\n",
       "      <th>login</th>\n",
       "      <th>product_page</th>\n",
       "      <th>product_cart</th>\n",
       "      <th>purchase</th>\n",
       "    </tr>\n",
       "    <tr>\n",
       "      <th>group</th>\n",
       "      <th></th>\n",
       "      <th></th>\n",
       "      <th></th>\n",
       "      <th></th>\n",
       "    </tr>\n",
       "  </thead>\n",
       "  <tbody>\n",
       "    <tr>\n",
       "      <th>A</th>\n",
       "      <td>2604</td>\n",
       "      <td>1685</td>\n",
       "      <td>782</td>\n",
       "      <td>833</td>\n",
       "    </tr>\n",
       "    <tr>\n",
       "      <th>B</th>\n",
       "      <td>876</td>\n",
       "      <td>493</td>\n",
       "      <td>244</td>\n",
       "      <td>249</td>\n",
       "    </tr>\n",
       "    <tr>\n",
       "      <th>total</th>\n",
       "      <td>3480</td>\n",
       "      <td>2178</td>\n",
       "      <td>1026</td>\n",
       "      <td>1082</td>\n",
       "    </tr>\n",
       "  </tbody>\n",
       "</table>\n",
       "</div>"
      ],
      "text/plain": [
       "event_name  login  product_page  product_cart  purchase\n",
       "group                                                  \n",
       "A            2604          1685           782       833\n",
       "B             876           493           244       249\n",
       "total        3480          2178          1026      1082"
      ]
     },
     "execution_count": 53,
     "metadata": {},
     "output_type": "execute_result"
    }
   ],
   "source": [
    "# транспонируем таблицу с воронкой\n",
    "funnel_ab = funnel.transpose() \n",
    "funnel_ab"
   ]
  },
  {
   "cell_type": "markdown",
   "metadata": {},
   "source": [
    "- Описать результаты A/B-тестирования;"
   ]
  },
  {
   "cell_type": "markdown",
   "metadata": {},
   "source": [
    "*Нулевая гипотеза* - есть cтатистически значимые различия в событиях между группами А и В.\n",
    "\n",
    "*Альтернативная гипотеза* - различий между выборками нет.\n",
    "\n",
    "Считаем статистику в стандартных отклонениях стандартного нормального распределения с помощью z-теста Фишера.\n",
    "\n",
    "Уровень статистической значимости - 5-процентная (0.05)"
   ]
  },
  {
   "cell_type": "code",
   "execution_count": 54,
   "metadata": {},
   "outputs": [
    {
     "name": "stdout",
     "output_type": "stream",
     "text": [
      "p-значение: 8.195976000324734e-06\n",
      "Отвергаем нулевую гипотезу: между долями есть значимая разница\n"
     ]
    }
   ],
   "source": [
    "# критический уровень статистической значимости\n",
    "alpha = 0.05\n",
    "\n",
    "successes = np.array(funnel_ab.loc[['A', 'B'], 'product_page'] )\n",
    "trials = np.array(funnel_ab.loc[['A', 'B'], 'login'] )\n",
    "\n",
    "# конверсия в первой группе:\n",
    "p1 = successes[0] / trials[0]\n",
    "# конверсия во второй группе:\n",
    "p2 = successes[1] / trials[1]\n",
    "\n",
    "# пропорция успехов в комбинированном датасете:\n",
    "p_combined = (successes[0] + successes[1]) / (trials[0] + trials[1])\n",
    "\n",
    "# разница пропорций в датасетах\n",
    "difference = p1 - p2\n",
    "\n",
    "# считаем статистику в ст.отклонениях стандартного нормального распределения\n",
    "z_value = difference / math.sqrt(p_combined * (1 - p_combined) * (1/trials[0] + 1/trials[1]))\n",
    "\n",
    "# задаем стандартное нормальное распределение (среднее 0, ст.отклонение 1)\n",
    "distr = stats.norm(0, 1)\n",
    "\n",
    "p_value = (1 - distr.cdf(abs(z_value))) * 2\n",
    " \n",
    "print('p-значение:',p_value)\n",
    "\n",
    "if (p_value < alpha):\n",
    "    print(\"Отвергаем нулевую гипотезу: между долями есть значимая разница\")\n",
    "    \n",
    "else:\n",
    "    print(\"Не получилось отвергнуть нулевую гипотезу, нет оснований считать доли разными.\")"
   ]
  },
  {
   "cell_type": "code",
   "execution_count": 55,
   "metadata": {},
   "outputs": [
    {
     "name": "stdout",
     "output_type": "stream",
     "text": [
      "p-значение: 0.2276722007959906\n",
      "Не получилось отвергнуть нулевую гипотезу, нет оснований считать доли разными.\n"
     ]
    }
   ],
   "source": [
    "# критический уровень статистической значимости\n",
    "alpha = 0.05\n",
    "\n",
    "successes = np.array(funnel_ab.loc[['A', 'B'], 'product_cart'] )\n",
    "trials = np.array(funnel_ab.loc[['A', 'B'], 'product_page'] )\n",
    "\n",
    "# конверсия в первой группе:\n",
    "p1 = successes[0] / trials[0]\n",
    "# конверсия во второй группе:\n",
    "p2 = successes[1] / trials[1]\n",
    "\n",
    "# пропорция успехов в комбинированном датасете:\n",
    "p_combined = (successes[0] + successes[1]) / (trials[0] + trials[1])\n",
    "\n",
    "# разница пропорций в датасетах\n",
    "difference = p1 - p2\n",
    "\n",
    "# считаем статистику в ст.отклонениях стандартного нормального распределения\n",
    "z_value = difference / math.sqrt(p_combined * (1 - p_combined) * (1/trials[0] + 1/trials[1]))\n",
    "\n",
    "# задаем стандартное нормальное распределение (среднее 0, ст.отклонение 1)\n",
    "distr = stats.norm(0, 1)\n",
    "\n",
    "p_value = (1 - distr.cdf(abs(z_value))) * 2\n",
    " \n",
    "print('p-значение:',p_value)\n",
    "\n",
    "if (p_value < alpha):\n",
    "    print(\"Отвергаем нулевую гипотезу: между долями есть значимая разница\")\n",
    "    \n",
    "else:\n",
    "    print(\"Не получилось отвергнуть нулевую гипотезу, нет оснований считать доли разными.\")"
   ]
  },
  {
   "cell_type": "code",
   "execution_count": 56,
   "metadata": {},
   "outputs": [
    {
     "name": "stdout",
     "output_type": "stream",
     "text": [
      "p-значение: 0.04864766695042433\n",
      "Отвергаем нулевую гипотезу: между долями есть значимая разница\n"
     ]
    }
   ],
   "source": [
    "# критический уровень статистической значимости\n",
    "alpha = 0.05\n",
    "\n",
    "successes = np.array(funnel_ab.loc[['A', 'B'], 'purchase'] )\n",
    "trials = np.array(funnel_ab.loc[['A', 'B'], 'login'] )\n",
    "\n",
    "# конверсия в первой группе:\n",
    "p1 = successes[0] / trials[0]\n",
    "# конверсия во второй группе:\n",
    "p2 = successes[1] / trials[1]\n",
    "\n",
    "# пропорция успехов в комбинированном датасете:\n",
    "p_combined = (successes[0] + successes[1]) / (trials[0] + trials[1])\n",
    "\n",
    "# разница пропорций в датасетах\n",
    "difference = p1 - p2\n",
    "\n",
    "# считаем статистику в ст.отклонениях стандартного нормального распределения\n",
    "z_value = difference / math.sqrt(p_combined * (1 - p_combined) * (1/trials[0] + 1/trials[1]))\n",
    "\n",
    "# задаем стандартное нормальное распределение (среднее 0, ст.отклонение 1)\n",
    "distr = stats.norm(0, 1)\n",
    "\n",
    "p_value = (1 - distr.cdf(abs(z_value))) * 2\n",
    " \n",
    "print('p-значение:',p_value)\n",
    "\n",
    "if (p_value < alpha):\n",
    "    print(\"Отвергаем нулевую гипотезу: между долями есть значимая разница\")\n",
    "    \n",
    "else:\n",
    "    print(\"Не получилось отвергнуть нулевую гипотезу, нет оснований считать доли разными.\")"
   ]
  },
  {
   "cell_type": "markdown",
   "metadata": {},
   "source": [
    "<div class=\"alert alert-info\">\n",
    "    \n",
    "**📝 Комментарий Маши**\n",
    "\n",
    "Разница между событиями 'product_page' и 'login' оказалась значимой; между 'product_cart' и 'product_page' существенной разницы нет; между 'purchase' и 'login' разница значима.\n",
    "    \n",
    "    \n",
    "</div>"
   ]
  },
  {
   "cell_type": "markdown",
   "metadata": {},
   "source": [
    "- Проверить статистическую разницу долей z-критерием;"
   ]
  },
  {
   "cell_type": "code",
   "execution_count": 57,
   "metadata": {},
   "outputs": [],
   "source": [
    "# функция для проведения теста\n",
    "def z_test(n1, x1, n2, x2):\n",
    "    p1 = x1 / n1\n",
    "    p2 = x2 / n2\n",
    "    p = (x1 + x2) / (n1 + n2)\n",
    "    SE = np.sqrt(p * (1 - p) * (1/n1 + 1/n2))\n",
    "    z_stat = (p1 - p2) / SE\n",
    "    \n",
    "    p = stats.norm.cdf(np.abs(z_stat))\n",
    "    return 2 * (1 - p)"
   ]
  },
  {
   "cell_type": "code",
   "execution_count": 58,
   "metadata": {},
   "outputs": [
    {
     "data": {
      "text/plain": [
       "group\n",
       "A    2604\n",
       "B     877\n",
       "Name: user_id, dtype: int64"
      ]
     },
     "execution_count": 58,
     "metadata": {},
     "output_type": "execute_result"
    }
   ],
   "source": [
    "# создание таблицы кол-ва пользователей по группам\n",
    "totals = ab_events.groupby('group')['user_id'].nunique()\n",
    "\n",
    "# вывод таблицы\n",
    "totals"
   ]
  },
  {
   "cell_type": "code",
   "execution_count": 59,
   "metadata": {},
   "outputs": [
    {
     "data": {
      "text/html": [
       "<div>\n",
       "<style scoped>\n",
       "    .dataframe tbody tr th:only-of-type {\n",
       "        vertical-align: middle;\n",
       "    }\n",
       "\n",
       "    .dataframe tbody tr th {\n",
       "        vertical-align: top;\n",
       "    }\n",
       "\n",
       "    .dataframe thead th {\n",
       "        text-align: right;\n",
       "    }\n",
       "</style>\n",
       "<table border=\"1\" class=\"dataframe\">\n",
       "  <thead>\n",
       "    <tr style=\"text-align: right;\">\n",
       "      <th>group</th>\n",
       "      <th>A</th>\n",
       "      <th>B</th>\n",
       "      <th>total</th>\n",
       "    </tr>\n",
       "    <tr>\n",
       "      <th>event_name</th>\n",
       "      <th></th>\n",
       "      <th></th>\n",
       "      <th></th>\n",
       "    </tr>\n",
       "  </thead>\n",
       "  <tbody>\n",
       "    <tr>\n",
       "      <th>login</th>\n",
       "      <td>2604</td>\n",
       "      <td>876</td>\n",
       "      <td>3480</td>\n",
       "    </tr>\n",
       "    <tr>\n",
       "      <th>product_page</th>\n",
       "      <td>1685</td>\n",
       "      <td>493</td>\n",
       "      <td>2178</td>\n",
       "    </tr>\n",
       "    <tr>\n",
       "      <th>product_cart</th>\n",
       "      <td>782</td>\n",
       "      <td>244</td>\n",
       "      <td>1026</td>\n",
       "    </tr>\n",
       "    <tr>\n",
       "      <th>purchase</th>\n",
       "      <td>833</td>\n",
       "      <td>249</td>\n",
       "      <td>1082</td>\n",
       "    </tr>\n",
       "  </tbody>\n",
       "</table>\n",
       "</div>"
      ],
      "text/plain": [
       "group            A    B  total\n",
       "event_name                    \n",
       "login         2604  876   3480\n",
       "product_page  1685  493   2178\n",
       "product_cart   782  244   1026\n",
       "purchase       833  249   1082"
      ]
     },
     "execution_count": 59,
     "metadata": {},
     "output_type": "execute_result"
    }
   ],
   "source": [
    "# подготовка данных для z-теста, транспонируем таблицу \n",
    "funnel_ab = funnel_ab.transpose()\n",
    "\n",
    "# вывод таблица\n",
    "funnel_ab"
   ]
  },
  {
   "cell_type": "code",
   "execution_count": 60,
   "metadata": {},
   "outputs": [
    {
     "data": {
      "text/html": [
       "<div>\n",
       "<style scoped>\n",
       "    .dataframe tbody tr th:only-of-type {\n",
       "        vertical-align: middle;\n",
       "    }\n",
       "\n",
       "    .dataframe tbody tr th {\n",
       "        vertical-align: top;\n",
       "    }\n",
       "\n",
       "    .dataframe thead th {\n",
       "        text-align: right;\n",
       "    }\n",
       "</style>\n",
       "<table border=\"1\" class=\"dataframe\">\n",
       "  <thead>\n",
       "    <tr style=\"text-align: right;\">\n",
       "      <th>group</th>\n",
       "      <th>A</th>\n",
       "      <th>B</th>\n",
       "      <th>total</th>\n",
       "      <th>alpha</th>\n",
       "      <th>p-value</th>\n",
       "    </tr>\n",
       "    <tr>\n",
       "      <th>event_name</th>\n",
       "      <th></th>\n",
       "      <th></th>\n",
       "      <th></th>\n",
       "      <th></th>\n",
       "      <th></th>\n",
       "    </tr>\n",
       "  </thead>\n",
       "  <tbody>\n",
       "    <tr>\n",
       "      <th>login</th>\n",
       "      <td>2604</td>\n",
       "      <td>876</td>\n",
       "      <td>3480</td>\n",
       "      <td>0.0625</td>\n",
       "      <td>0.084818</td>\n",
       "    </tr>\n",
       "    <tr>\n",
       "      <th>product_page</th>\n",
       "      <td>1685</td>\n",
       "      <td>493</td>\n",
       "      <td>2178</td>\n",
       "      <td>0.0625</td>\n",
       "      <td>0.000007</td>\n",
       "    </tr>\n",
       "    <tr>\n",
       "      <th>product_cart</th>\n",
       "      <td>782</td>\n",
       "      <td>244</td>\n",
       "      <td>1026</td>\n",
       "      <td>0.0625</td>\n",
       "      <td>0.214692</td>\n",
       "    </tr>\n",
       "    <tr>\n",
       "      <th>purchase</th>\n",
       "      <td>833</td>\n",
       "      <td>249</td>\n",
       "      <td>1082</td>\n",
       "      <td>0.0625</td>\n",
       "      <td>0.046525</td>\n",
       "    </tr>\n",
       "  </tbody>\n",
       "</table>\n",
       "</div>"
      ],
      "text/plain": [
       "group            A    B  total   alpha   p-value\n",
       "event_name                                      \n",
       "login         2604  876   3480  0.0625  0.084818\n",
       "product_page  1685  493   2178  0.0625  0.000007\n",
       "product_cart   782  244   1026  0.0625  0.214692\n",
       "purchase       833  249   1082  0.0625  0.046525"
      ]
     },
     "execution_count": 60,
     "metadata": {},
     "output_type": "execute_result"
    }
   ],
   "source": [
    "# добавление столбца alpha\t\n",
    "funnel_ab['alpha'] = 0.5 / (funnel_ab.shape[0] * 2) \n",
    "\n",
    "# добавление столбца p-value\n",
    "funnel_ab['p-value'] = funnel_ab.apply(lambda x: z_test(totals['A'], x['A'], totals['B'], x['B']), axis=1)\n",
    "\n",
    "# вывод таблицы\n",
    "funnel_ab"
   ]
  },
  {
   "cell_type": "markdown",
   "metadata": {},
   "source": [
    "<div class=\"alert alert-info\">\n",
    "    \n",
    "**📝 Комментарий Маши**\n",
    "\n",
    "Такие же результаты получены с помощью z-теста.\n",
    "    \n",
    "    \n",
    "</div>"
   ]
  },
  {
   "cell_type": "code",
   "execution_count": 61,
   "metadata": {},
   "outputs": [
    {
     "data": {
      "text/html": [
       "<div>\n",
       "<style scoped>\n",
       "    .dataframe tbody tr th:only-of-type {\n",
       "        vertical-align: middle;\n",
       "    }\n",
       "\n",
       "    .dataframe tbody tr th {\n",
       "        vertical-align: top;\n",
       "    }\n",
       "\n",
       "    .dataframe thead th {\n",
       "        text-align: right;\n",
       "    }\n",
       "</style>\n",
       "<table border=\"1\" class=\"dataframe\">\n",
       "  <thead>\n",
       "    <tr style=\"text-align: right;\">\n",
       "      <th>event_name</th>\n",
       "      <th>login</th>\n",
       "      <th>product_page</th>\n",
       "      <th>product_cart</th>\n",
       "      <th>purchase</th>\n",
       "    </tr>\n",
       "    <tr>\n",
       "      <th>group</th>\n",
       "      <th></th>\n",
       "      <th></th>\n",
       "      <th></th>\n",
       "      <th></th>\n",
       "    </tr>\n",
       "  </thead>\n",
       "  <tbody>\n",
       "    <tr>\n",
       "      <th>A</th>\n",
       "      <td>2604.000000</td>\n",
       "      <td>1685.000000</td>\n",
       "      <td>782.000000</td>\n",
       "      <td>833.000000</td>\n",
       "    </tr>\n",
       "    <tr>\n",
       "      <th>B</th>\n",
       "      <td>876.000000</td>\n",
       "      <td>493.000000</td>\n",
       "      <td>244.000000</td>\n",
       "      <td>249.000000</td>\n",
       "    </tr>\n",
       "    <tr>\n",
       "      <th>total</th>\n",
       "      <td>3480.000000</td>\n",
       "      <td>2178.000000</td>\n",
       "      <td>1026.000000</td>\n",
       "      <td>1082.000000</td>\n",
       "    </tr>\n",
       "    <tr>\n",
       "      <th>alpha</th>\n",
       "      <td>0.062500</td>\n",
       "      <td>0.062500</td>\n",
       "      <td>0.062500</td>\n",
       "      <td>0.062500</td>\n",
       "    </tr>\n",
       "    <tr>\n",
       "      <th>p-value</th>\n",
       "      <td>0.084818</td>\n",
       "      <td>0.000007</td>\n",
       "      <td>0.214692</td>\n",
       "      <td>0.046525</td>\n",
       "    </tr>\n",
       "  </tbody>\n",
       "</table>\n",
       "</div>"
      ],
      "text/plain": [
       "event_name        login  product_page  product_cart     purchase\n",
       "group                                                           \n",
       "A           2604.000000   1685.000000    782.000000   833.000000\n",
       "B            876.000000    493.000000    244.000000   249.000000\n",
       "total       3480.000000   2178.000000   1026.000000  1082.000000\n",
       "alpha          0.062500      0.062500      0.062500     0.062500\n",
       "p-value        0.084818      0.000007      0.214692     0.046525"
      ]
     },
     "execution_count": 61,
     "metadata": {},
     "output_type": "execute_result"
    }
   ],
   "source": [
    "# подготовка данных для выполнения поправки Бонферрони, транспонируем таблицу \n",
    "funnel_ab = funnel_ab.transpose()\n",
    "\n",
    "# вывод таблицы\n",
    "funnel_ab"
   ]
  },
  {
   "cell_type": "markdown",
   "metadata": {},
   "source": [
    "*Нулевая гипотеза* - есть cтатистически значимые различия в событиях.\n",
    "\n",
    "*Альтернативная гипотеза* - различий между выборками нет.\n",
    "\n",
    "Считаем статистику в стандартных отклонениях стандартного нормального распределения с помощью z-теста Фишера.\n",
    "\n",
    "Уровень статистической значимости - 5-процентная (0.05)"
   ]
  },
  {
   "cell_type": "code",
   "execution_count": 62,
   "metadata": {},
   "outputs": [
    {
     "name": "stdout",
     "output_type": "stream",
     "text": [
      "p-значение для сравнения групп product_page и login:  0.5509534417556234\n",
      "p-значение для сравнения групп product_cart и product_page:  0.3797217369780912\n",
      "p-значение для сравнения групп purchase и login:  0.23118975878765102\n",
      "Не получилось отвергнуть нулевую гипотезу для сравнения групп product_page и login\n",
      "Не получилось отвергнуть нулевую гипотезу для сравнения групп product_cart и product_page\n",
      "Не получилось отвергнуть нулевую гипотезу для сравнения групп purchase и login\n"
     ]
    }
   ],
   "source": [
    "# критический уровень статистической значимости\n",
    "alpha = 0.05  \n",
    "\n",
    "results_AB = stats.ttest_ind(funnel_ab['product_page'], funnel_ab['login'])\n",
    "\n",
    "results_BC = stats.ttest_ind(funnel_ab['product_cart'], funnel_ab['product_page'])\n",
    "\n",
    "results_AC = stats.ttest_ind(funnel_ab['purchase'], funnel_ab['login'])\n",
    "\n",
    "# произведено три сравнения\n",
    "bonferroni_alpha = alpha / 3  \n",
    "\n",
    "print('p-значение для сравнения групп product_page и login: ', results_AB.pvalue)\n",
    "print('p-значение для сравнения групп product_cart и product_page: ', results_BC.pvalue)\n",
    "print('p-значение для сравнения групп purchase и login: ', results_AC.pvalue)\n",
    "\n",
    "if results_AB.pvalue < bonferroni_alpha:\n",
    "    print('Отвергаем нулевую гипотезу для сравнения групп product_page и login')\n",
    "else:\n",
    "    print(\n",
    "        'Не получилось отвергнуть нулевую гипотезу для сравнения групп product_page и login'\n",
    "    )\n",
    "\n",
    "if results_BC.pvalue < bonferroni_alpha:\n",
    "    print('Отвергаем нулевую гипотезу для сравнения групп product_cart и product_page')\n",
    "else:\n",
    "    print(\n",
    "        'Не получилось отвергнуть нулевую гипотезу для сравнения групп product_cart и product_page'\n",
    "    )\n",
    "\n",
    "if results_AC.pvalue < bonferroni_alpha:\n",
    "    print('Отвергаем нулевую гипотезу для сравнения групп purchase и login')\n",
    "else:\n",
    "    print(\n",
    "        'Не получилось отвергнуть нулевую гипотезу для сравнения групп purchase и login'\n",
    "    ) "
   ]
  },
  {
   "cell_type": "markdown",
   "metadata": {},
   "source": [
    "<div class=\"alert alert-info\">\n",
    "    \n",
    "**📝 Комментарий Маши**\n",
    "\n",
    "При применении поправки Бонферрони выявлено наличие cтатистически значимых различий в событиях.\n",
    "    \n",
    "    \n",
    "</div>"
   ]
  },
  {
   "cell_type": "markdown",
   "metadata": {},
   "source": [
    "## Выводы. Анализ результатов теста\n",
    "\n",
    "После предобработки данных выявлены следующие особенности данных, которые нужно учесть прежде чем приступать к A/B-тестированию:\n",
    "    \n",
    "•\tПо ТЗ – дата окончания теста 4 января 2021, но в датасете присутствуют данные лишь до 30 декабря 2020\n",
    "    \n",
    "•\tВо временном отрезке проведения теста также были задействованы рождетсвенские маркетинговые активности, которые могут препятствовать правильной интерпретации теста\n",
    "    \n",
    "•\tТолько 55% пользователей выборки после предобработки и отсечения ненужных данных имели события в рассматриваемый период\n",
    "    \n",
    "•\tПользователи и среднее кол-во между группами распределены неравномерно \n",
    "    \n",
    "В продуктовой воронке 4 шага: регистрация пользователя, посещение страницы с товаром, добавление товара в корзину, заказ. Некоторые пользователи переходят к заказу, миня добавление товара в корзину. Скорее всего, благодаря определенной опции, которая позволяет это делать (например, быстрое оформление заказа). \n",
    "    \n",
    "Конверсия пользователей в покупки в группе А составляет 31.99%, в группе B - 28.42%.\n",
    "    \n",
    "Разница между событиями 'product_page' и 'login' оказалась значимой; между 'product_cart' и 'product_page' существенной разницы нет; между 'purchase' и 'login' разница значима. Поправка Бонферонни говорит о том, что есть cтатистически значимые различия между событиями."
   ]
  }
 ],
 "metadata": {
  "ExecuteTimeLog": [
   {
    "duration": 419,
    "start_time": "2023-03-20T04:03:12.986Z"
   },
   {
    "duration": 964,
    "start_time": "2023-03-20T04:27:01.341Z"
   },
   {
    "duration": 16,
    "start_time": "2023-03-20T04:27:16.089Z"
   },
   {
    "duration": 10,
    "start_time": "2023-03-20T04:27:26.822Z"
   },
   {
    "duration": 11,
    "start_time": "2023-03-20T04:27:33.500Z"
   },
   {
    "duration": 9,
    "start_time": "2023-03-20T04:27:42.708Z"
   },
   {
    "duration": 11,
    "start_time": "2023-03-20T04:30:08.142Z"
   },
   {
    "duration": 19,
    "start_time": "2023-03-20T04:30:21.255Z"
   },
   {
    "duration": 55,
    "start_time": "2023-03-20T04:30:56.421Z"
   },
   {
    "duration": 13,
    "start_time": "2023-03-20T04:31:09.446Z"
   },
   {
    "duration": 18,
    "start_time": "2023-03-20T04:31:47.983Z"
   },
   {
    "duration": 65,
    "start_time": "2023-03-20T04:32:12.542Z"
   },
   {
    "duration": 37,
    "start_time": "2023-03-20T04:32:39.809Z"
   },
   {
    "duration": 24,
    "start_time": "2023-03-20T04:33:08.088Z"
   },
   {
    "duration": 518,
    "start_time": "2023-03-20T05:04:08.139Z"
   },
   {
    "duration": 525,
    "start_time": "2023-03-20T05:04:44.370Z"
   },
   {
    "duration": 517,
    "start_time": "2023-03-20T05:05:47.739Z"
   },
   {
    "duration": 99,
    "start_time": "2023-03-20T05:05:54.954Z"
   },
   {
    "duration": 7,
    "start_time": "2023-03-20T05:06:00.242Z"
   },
   {
    "duration": 10,
    "start_time": "2023-03-20T05:06:09.012Z"
   },
   {
    "duration": 45,
    "start_time": "2023-03-20T05:06:14.363Z"
   },
   {
    "duration": 6,
    "start_time": "2023-03-20T05:08:05.455Z"
   },
   {
    "duration": 33,
    "start_time": "2023-03-20T05:08:14.380Z"
   },
   {
    "duration": 217,
    "start_time": "2023-03-20T05:08:22.651Z"
   },
   {
    "duration": 10,
    "start_time": "2023-03-20T05:08:37.198Z"
   },
   {
    "duration": 33,
    "start_time": "2023-03-20T05:09:03.029Z"
   },
   {
    "duration": 7,
    "start_time": "2023-03-20T05:09:08.019Z"
   },
   {
    "duration": 6,
    "start_time": "2023-03-20T05:09:15.381Z"
   },
   {
    "duration": 13,
    "start_time": "2023-03-20T05:09:25.024Z"
   },
   {
    "duration": 37,
    "start_time": "2023-03-20T05:09:34.173Z"
   },
   {
    "duration": 8,
    "start_time": "2023-03-20T05:09:44.988Z"
   },
   {
    "duration": 16,
    "start_time": "2023-03-20T05:13:22.278Z"
   },
   {
    "duration": 16,
    "start_time": "2023-03-20T05:13:28.022Z"
   },
   {
    "duration": 16,
    "start_time": "2023-03-20T05:13:51.104Z"
   },
   {
    "duration": 18,
    "start_time": "2023-03-20T05:14:01.558Z"
   },
   {
    "duration": 23,
    "start_time": "2023-03-20T05:14:30.416Z"
   },
   {
    "duration": 9,
    "start_time": "2023-03-20T05:14:48.383Z"
   },
   {
    "duration": 3,
    "start_time": "2023-03-20T05:14:57.459Z"
   },
   {
    "duration": 26,
    "start_time": "2023-03-20T05:15:01.559Z"
   },
   {
    "duration": 3,
    "start_time": "2023-03-20T05:15:51.472Z"
   },
   {
    "duration": 24,
    "start_time": "2023-03-20T05:15:55.016Z"
   },
   {
    "duration": 9,
    "start_time": "2023-03-20T05:16:01.321Z"
   },
   {
    "duration": 23,
    "start_time": "2023-03-20T05:16:50.897Z"
   },
   {
    "duration": 71,
    "start_time": "2023-03-20T05:17:25.234Z"
   },
   {
    "duration": 28,
    "start_time": "2023-03-20T05:17:33.809Z"
   },
   {
    "duration": 25,
    "start_time": "2023-03-20T05:18:13.266Z"
   },
   {
    "duration": 24,
    "start_time": "2023-03-20T05:18:24.642Z"
   },
   {
    "duration": 25,
    "start_time": "2023-03-20T05:18:48.507Z"
   },
   {
    "duration": 108,
    "start_time": "2023-03-20T05:19:24.346Z"
   },
   {
    "duration": 282,
    "start_time": "2023-03-20T05:20:04.763Z"
   },
   {
    "duration": 42,
    "start_time": "2023-03-20T05:20:33.563Z"
   },
   {
    "duration": 74,
    "start_time": "2023-03-20T06:44:31.696Z"
   },
   {
    "duration": 60,
    "start_time": "2023-03-20T06:50:24.243Z"
   },
   {
    "duration": 48,
    "start_time": "2023-03-20T06:53:13.671Z"
   },
   {
    "duration": 9,
    "start_time": "2023-03-20T06:56:14.909Z"
   },
   {
    "duration": 37,
    "start_time": "2023-03-20T06:57:03.895Z"
   },
   {
    "duration": 19,
    "start_time": "2023-03-20T07:05:35.178Z"
   },
   {
    "duration": 8,
    "start_time": "2023-03-20T07:09:39.975Z"
   },
   {
    "duration": 18,
    "start_time": "2023-03-20T07:10:03.470Z"
   },
   {
    "duration": 13,
    "start_time": "2023-03-20T07:10:27.311Z"
   },
   {
    "duration": 18,
    "start_time": "2023-03-20T07:10:47.855Z"
   },
   {
    "duration": 14,
    "start_time": "2023-03-20T07:10:54.094Z"
   },
   {
    "duration": 8,
    "start_time": "2023-03-20T07:11:33.111Z"
   },
   {
    "duration": 8,
    "start_time": "2023-03-20T07:11:55.751Z"
   },
   {
    "duration": 9,
    "start_time": "2023-03-20T07:12:14.168Z"
   },
   {
    "duration": 13,
    "start_time": "2023-03-20T07:12:36.177Z"
   },
   {
    "duration": 3,
    "start_time": "2023-03-20T07:31:43.538Z"
   },
   {
    "duration": 648,
    "start_time": "2023-03-20T07:31:43.543Z"
   },
   {
    "duration": 10,
    "start_time": "2023-03-20T07:31:44.193Z"
   },
   {
    "duration": 18,
    "start_time": "2023-03-20T07:31:44.205Z"
   },
   {
    "duration": 16,
    "start_time": "2023-03-20T07:31:44.226Z"
   },
   {
    "duration": 14,
    "start_time": "2023-03-20T07:31:44.244Z"
   },
   {
    "duration": 28,
    "start_time": "2023-03-20T07:31:44.260Z"
   },
   {
    "duration": 36,
    "start_time": "2023-03-20T07:31:44.291Z"
   },
   {
    "duration": 108,
    "start_time": "2023-03-20T07:31:44.330Z"
   },
   {
    "duration": 13,
    "start_time": "2023-03-20T07:31:44.440Z"
   },
   {
    "duration": 48,
    "start_time": "2023-03-20T07:31:44.457Z"
   },
   {
    "duration": 158,
    "start_time": "2023-03-20T07:31:44.506Z"
   },
   {
    "duration": 507,
    "start_time": "2023-03-20T07:31:44.681Z"
   },
   {
    "duration": 58,
    "start_time": "2023-03-20T07:31:45.190Z"
   },
   {
    "duration": 107,
    "start_time": "2023-03-20T07:31:45.281Z"
   },
   {
    "duration": 10,
    "start_time": "2023-03-20T07:31:45.390Z"
   },
   {
    "duration": 12,
    "start_time": "2023-03-20T07:31:45.402Z"
   },
   {
    "duration": 14,
    "start_time": "2023-03-20T07:31:45.417Z"
   },
   {
    "duration": 46,
    "start_time": "2023-03-20T07:31:45.441Z"
   },
   {
    "duration": 12,
    "start_time": "2023-03-20T07:31:45.489Z"
   },
   {
    "duration": 17,
    "start_time": "2023-03-20T07:31:45.503Z"
   },
   {
    "duration": 55,
    "start_time": "2023-03-20T07:31:45.523Z"
   },
   {
    "duration": 11,
    "start_time": "2023-03-20T07:40:06.909Z"
   },
   {
    "duration": 36,
    "start_time": "2023-03-20T07:40:22.381Z"
   },
   {
    "duration": 55,
    "start_time": "2023-03-20T07:40:48.351Z"
   },
   {
    "duration": 22,
    "start_time": "2023-03-20T07:41:31.588Z"
   },
   {
    "duration": 24,
    "start_time": "2023-03-20T07:42:05.797Z"
   },
   {
    "duration": 20,
    "start_time": "2023-03-20T07:42:16.589Z"
   },
   {
    "duration": 11,
    "start_time": "2023-03-20T07:52:09.011Z"
   },
   {
    "duration": 20,
    "start_time": "2023-03-20T07:52:45.740Z"
   },
   {
    "duration": 123,
    "start_time": "2023-03-20T07:53:18.669Z"
   },
   {
    "duration": 19,
    "start_time": "2023-03-20T07:53:28.351Z"
   },
   {
    "duration": 63,
    "start_time": "2023-03-20T07:59:55.968Z"
   },
   {
    "duration": 32,
    "start_time": "2023-03-20T08:24:35.437Z"
   },
   {
    "duration": 21,
    "start_time": "2023-03-20T08:24:46.902Z"
   },
   {
    "duration": 27,
    "start_time": "2023-03-20T08:25:26.229Z"
   },
   {
    "duration": 35,
    "start_time": "2023-03-20T08:25:46.000Z"
   },
   {
    "duration": 89,
    "start_time": "2023-03-20T08:25:57.829Z"
   },
   {
    "duration": 336,
    "start_time": "2023-03-20T08:26:06.392Z"
   },
   {
    "duration": 38,
    "start_time": "2023-03-20T08:26:15.296Z"
   },
   {
    "duration": 50,
    "start_time": "2023-03-20T08:26:21.744Z"
   },
   {
    "duration": 69,
    "start_time": "2023-03-20T08:30:19.825Z"
   },
   {
    "duration": 46,
    "start_time": "2023-03-20T08:31:03.705Z"
   },
   {
    "duration": 67,
    "start_time": "2023-03-20T08:31:29.474Z"
   },
   {
    "duration": 71,
    "start_time": "2023-03-20T08:31:45.049Z"
   },
   {
    "duration": 75,
    "start_time": "2023-03-20T08:31:57.193Z"
   },
   {
    "duration": 73,
    "start_time": "2023-03-20T08:33:13.930Z"
   },
   {
    "duration": 12,
    "start_time": "2023-03-20T08:36:17.362Z"
   },
   {
    "duration": 33,
    "start_time": "2023-03-20T08:36:41.308Z"
   },
   {
    "duration": 8,
    "start_time": "2023-03-20T08:37:12.726Z"
   },
   {
    "duration": 10,
    "start_time": "2023-03-20T08:37:31.315Z"
   },
   {
    "duration": 13,
    "start_time": "2023-03-20T08:37:36.091Z"
   },
   {
    "duration": 18,
    "start_time": "2023-03-20T08:37:41.363Z"
   },
   {
    "duration": 9,
    "start_time": "2023-03-20T08:38:08.044Z"
   },
   {
    "duration": 8,
    "start_time": "2023-03-20T08:39:07.118Z"
   },
   {
    "duration": 8,
    "start_time": "2023-03-20T08:39:52.950Z"
   },
   {
    "duration": 58,
    "start_time": "2023-03-20T08:40:30.295Z"
   },
   {
    "duration": 11,
    "start_time": "2023-03-20T08:40:42.309Z"
   },
   {
    "duration": 15,
    "start_time": "2023-03-20T10:06:17.265Z"
   },
   {
    "duration": 55,
    "start_time": "2023-03-20T10:06:53.129Z"
   },
   {
    "duration": 11,
    "start_time": "2023-03-20T10:07:00.263Z"
   },
   {
    "duration": 9,
    "start_time": "2023-03-20T11:55:29.983Z"
   },
   {
    "duration": 4,
    "start_time": "2023-03-20T11:57:49.730Z"
   },
   {
    "duration": 658,
    "start_time": "2023-03-20T11:57:49.736Z"
   },
   {
    "duration": 10,
    "start_time": "2023-03-20T11:57:50.397Z"
   },
   {
    "duration": 25,
    "start_time": "2023-03-20T11:57:50.409Z"
   },
   {
    "duration": 21,
    "start_time": "2023-03-20T11:57:50.437Z"
   },
   {
    "duration": 28,
    "start_time": "2023-03-20T11:57:50.460Z"
   },
   {
    "duration": 61,
    "start_time": "2023-03-20T11:57:50.491Z"
   },
   {
    "duration": 27,
    "start_time": "2023-03-20T11:57:50.555Z"
   },
   {
    "duration": 19,
    "start_time": "2023-03-20T11:57:50.584Z"
   },
   {
    "duration": 15,
    "start_time": "2023-03-20T11:57:50.605Z"
   },
   {
    "duration": 29,
    "start_time": "2023-03-20T11:57:50.624Z"
   },
   {
    "duration": 175,
    "start_time": "2023-03-20T11:57:50.654Z"
   },
   {
    "duration": 436,
    "start_time": "2023-03-20T11:57:50.831Z"
   },
   {
    "duration": 69,
    "start_time": "2023-03-20T11:57:51.268Z"
   },
   {
    "duration": 149,
    "start_time": "2023-03-20T11:57:51.339Z"
   },
   {
    "duration": 16,
    "start_time": "2023-03-20T11:57:51.490Z"
   },
   {
    "duration": 10,
    "start_time": "2023-03-20T11:57:51.508Z"
   },
   {
    "duration": 21,
    "start_time": "2023-03-20T11:57:51.519Z"
   },
   {
    "duration": 42,
    "start_time": "2023-03-20T11:57:51.542Z"
   },
   {
    "duration": 11,
    "start_time": "2023-03-20T11:57:51.586Z"
   },
   {
    "duration": 26,
    "start_time": "2023-03-20T11:57:51.599Z"
   },
   {
    "duration": 91,
    "start_time": "2023-03-20T11:57:51.627Z"
   },
   {
    "duration": 12,
    "start_time": "2023-03-20T11:57:51.720Z"
   },
   {
    "duration": 30,
    "start_time": "2023-03-20T11:57:51.734Z"
   },
   {
    "duration": 88,
    "start_time": "2023-03-20T11:57:51.782Z"
   },
   {
    "duration": 11,
    "start_time": "2023-03-20T11:57:51.873Z"
   },
   {
    "duration": 10,
    "start_time": "2023-03-20T12:14:19.197Z"
   },
   {
    "duration": 11,
    "start_time": "2023-03-20T12:14:24.744Z"
   },
   {
    "duration": 10,
    "start_time": "2023-03-20T12:14:47.170Z"
   },
   {
    "duration": 14,
    "start_time": "2023-03-20T12:14:50.000Z"
   },
   {
    "duration": 14,
    "start_time": "2023-03-20T12:14:54.544Z"
   },
   {
    "duration": 12,
    "start_time": "2023-03-20T12:15:17.328Z"
   },
   {
    "duration": 22,
    "start_time": "2023-03-20T12:15:29.075Z"
   },
   {
    "duration": 6,
    "start_time": "2023-03-20T12:15:36.058Z"
   },
   {
    "duration": 765,
    "start_time": "2023-03-20T12:15:36.066Z"
   },
   {
    "duration": 12,
    "start_time": "2023-03-20T12:15:36.833Z"
   },
   {
    "duration": 13,
    "start_time": "2023-03-20T12:15:36.848Z"
   },
   {
    "duration": 33,
    "start_time": "2023-03-20T12:15:36.863Z"
   },
   {
    "duration": 25,
    "start_time": "2023-03-20T12:15:36.899Z"
   },
   {
    "duration": 72,
    "start_time": "2023-03-20T12:15:36.926Z"
   },
   {
    "duration": 9,
    "start_time": "2023-03-20T12:15:37.000Z"
   },
   {
    "duration": 33,
    "start_time": "2023-03-20T12:15:37.011Z"
   },
   {
    "duration": 20,
    "start_time": "2023-03-20T12:15:37.047Z"
   },
   {
    "duration": 53,
    "start_time": "2023-03-20T12:15:37.069Z"
   },
   {
    "duration": 162,
    "start_time": "2023-03-20T12:15:37.124Z"
   },
   {
    "duration": 447,
    "start_time": "2023-03-20T12:15:37.293Z"
   },
   {
    "duration": 75,
    "start_time": "2023-03-20T12:15:37.743Z"
   },
   {
    "duration": 122,
    "start_time": "2023-03-20T12:15:37.820Z"
   },
   {
    "duration": 15,
    "start_time": "2023-03-20T12:15:37.944Z"
   },
   {
    "duration": 44,
    "start_time": "2023-03-20T12:15:37.961Z"
   },
   {
    "duration": 11,
    "start_time": "2023-03-20T12:15:38.007Z"
   },
   {
    "duration": 15,
    "start_time": "2023-03-20T12:15:38.020Z"
   },
   {
    "duration": 12,
    "start_time": "2023-03-20T12:15:38.037Z"
   },
   {
    "duration": 58,
    "start_time": "2023-03-20T12:15:38.051Z"
   },
   {
    "duration": 99,
    "start_time": "2023-03-20T12:15:38.111Z"
   },
   {
    "duration": 11,
    "start_time": "2023-03-20T12:15:38.212Z"
   },
   {
    "duration": 18,
    "start_time": "2023-03-20T12:15:38.225Z"
   },
   {
    "duration": 99,
    "start_time": "2023-03-20T12:15:38.246Z"
   },
   {
    "duration": 11,
    "start_time": "2023-03-20T12:15:38.348Z"
   },
   {
    "duration": 23,
    "start_time": "2023-03-20T12:16:05.103Z"
   },
   {
    "duration": 79,
    "start_time": "2023-03-20T12:16:11.545Z"
   },
   {
    "duration": 4,
    "start_time": "2023-03-20T12:17:05.845Z"
   },
   {
    "duration": 794,
    "start_time": "2023-03-20T12:17:05.852Z"
   },
   {
    "duration": 13,
    "start_time": "2023-03-20T12:17:06.648Z"
   },
   {
    "duration": 29,
    "start_time": "2023-03-20T12:17:06.664Z"
   },
   {
    "duration": 56,
    "start_time": "2023-03-20T12:17:06.696Z"
   },
   {
    "duration": 35,
    "start_time": "2023-03-20T12:17:06.754Z"
   },
   {
    "duration": 81,
    "start_time": "2023-03-20T12:17:06.791Z"
   },
   {
    "duration": 21,
    "start_time": "2023-03-20T12:17:06.874Z"
   },
   {
    "duration": 31,
    "start_time": "2023-03-20T12:17:06.897Z"
   },
   {
    "duration": 24,
    "start_time": "2023-03-20T12:17:06.930Z"
   },
   {
    "duration": 47,
    "start_time": "2023-03-20T12:17:06.956Z"
   },
   {
    "duration": 157,
    "start_time": "2023-03-20T12:17:07.006Z"
   },
   {
    "duration": 464,
    "start_time": "2023-03-20T12:17:07.165Z"
   },
   {
    "duration": 76,
    "start_time": "2023-03-20T12:17:07.631Z"
   },
   {
    "duration": 122,
    "start_time": "2023-03-20T12:17:07.709Z"
   },
   {
    "duration": 16,
    "start_time": "2023-03-20T12:17:07.833Z"
   },
   {
    "duration": 33,
    "start_time": "2023-03-20T12:17:07.851Z"
   },
   {
    "duration": 11,
    "start_time": "2023-03-20T12:17:07.887Z"
   },
   {
    "duration": 13,
    "start_time": "2023-03-20T12:17:07.900Z"
   },
   {
    "duration": 11,
    "start_time": "2023-03-20T12:17:07.914Z"
   },
   {
    "duration": 53,
    "start_time": "2023-03-20T12:17:07.927Z"
   },
   {
    "duration": 80,
    "start_time": "2023-03-20T12:17:07.989Z"
   },
   {
    "duration": 29,
    "start_time": "2023-03-20T12:17:08.071Z"
   },
   {
    "duration": 71,
    "start_time": "2023-03-20T12:19:04.138Z"
   },
   {
    "duration": 10,
    "start_time": "2023-03-20T12:19:24.739Z"
   },
   {
    "duration": 80,
    "start_time": "2023-03-20T12:53:01.531Z"
   },
   {
    "duration": 91,
    "start_time": "2023-03-20T12:53:15.937Z"
   },
   {
    "duration": 118,
    "start_time": "2023-03-20T12:55:06.400Z"
   },
   {
    "duration": 681,
    "start_time": "2023-03-20T12:55:12.400Z"
   },
   {
    "duration": 17,
    "start_time": "2023-03-20T12:56:46.710Z"
   },
   {
    "duration": 85,
    "start_time": "2023-03-20T12:58:02.332Z"
   },
   {
    "duration": 19,
    "start_time": "2023-03-20T12:58:09.401Z"
   },
   {
    "duration": 235,
    "start_time": "2023-03-20T12:58:13.415Z"
   },
   {
    "duration": 57,
    "start_time": "2023-03-20T12:58:25.034Z"
   },
   {
    "duration": 65,
    "start_time": "2023-03-20T12:59:59.455Z"
   },
   {
    "duration": 4,
    "start_time": "2023-03-20T13:10:58.459Z"
   },
   {
    "duration": 24,
    "start_time": "2023-03-20T13:11:39.476Z"
   },
   {
    "duration": 8,
    "start_time": "2023-03-20T13:12:51.977Z"
   },
   {
    "duration": 879,
    "start_time": "2023-03-20T13:12:51.990Z"
   },
   {
    "duration": 21,
    "start_time": "2023-03-20T13:12:52.872Z"
   },
   {
    "duration": 35,
    "start_time": "2023-03-20T13:12:52.902Z"
   },
   {
    "duration": 17,
    "start_time": "2023-03-20T13:12:52.939Z"
   },
   {
    "duration": 33,
    "start_time": "2023-03-20T13:12:52.959Z"
   },
   {
    "duration": 118,
    "start_time": "2023-03-20T13:12:52.996Z"
   },
   {
    "duration": 15,
    "start_time": "2023-03-20T13:12:53.117Z"
   },
   {
    "duration": 19,
    "start_time": "2023-03-20T13:12:53.135Z"
   },
   {
    "duration": 36,
    "start_time": "2023-03-20T13:12:53.157Z"
   },
   {
    "duration": 44,
    "start_time": "2023-03-20T13:12:53.197Z"
   },
   {
    "duration": 229,
    "start_time": "2023-03-20T13:12:53.243Z"
   },
   {
    "duration": 529,
    "start_time": "2023-03-20T13:12:53.483Z"
   },
   {
    "duration": 91,
    "start_time": "2023-03-20T13:12:54.015Z"
   },
   {
    "duration": 146,
    "start_time": "2023-03-20T13:12:54.108Z"
   },
   {
    "duration": 30,
    "start_time": "2023-03-20T13:12:54.256Z"
   },
   {
    "duration": 19,
    "start_time": "2023-03-20T13:12:54.289Z"
   },
   {
    "duration": 16,
    "start_time": "2023-03-20T13:12:54.310Z"
   },
   {
    "duration": 24,
    "start_time": "2023-03-20T13:12:54.329Z"
   },
   {
    "duration": 37,
    "start_time": "2023-03-20T13:12:54.355Z"
   },
   {
    "duration": 50,
    "start_time": "2023-03-20T13:12:54.397Z"
   },
   {
    "duration": 85,
    "start_time": "2023-03-20T13:12:54.449Z"
   },
   {
    "duration": 11,
    "start_time": "2023-03-20T13:12:54.536Z"
   },
   {
    "duration": 159,
    "start_time": "2023-03-20T13:12:54.550Z"
   },
   {
    "duration": 31,
    "start_time": "2023-03-20T13:12:54.712Z"
   },
   {
    "duration": 97,
    "start_time": "2023-03-20T13:12:54.748Z"
   },
   {
    "duration": 18,
    "start_time": "2023-03-20T13:12:54.848Z"
   },
   {
    "duration": 8,
    "start_time": "2023-03-20T15:40:24.188Z"
   },
   {
    "duration": 758,
    "start_time": "2023-03-20T15:40:24.200Z"
   },
   {
    "duration": 13,
    "start_time": "2023-03-20T15:40:24.961Z"
   },
   {
    "duration": 27,
    "start_time": "2023-03-20T15:40:24.976Z"
   },
   {
    "duration": 64,
    "start_time": "2023-03-20T15:40:25.006Z"
   },
   {
    "duration": 37,
    "start_time": "2023-03-20T15:40:25.072Z"
   },
   {
    "duration": 74,
    "start_time": "2023-03-20T15:40:25.111Z"
   },
   {
    "duration": 22,
    "start_time": "2023-03-20T15:40:25.187Z"
   },
   {
    "duration": 40,
    "start_time": "2023-03-20T15:40:25.213Z"
   },
   {
    "duration": 24,
    "start_time": "2023-03-20T15:40:25.258Z"
   },
   {
    "duration": 40,
    "start_time": "2023-03-20T15:40:25.285Z"
   },
   {
    "duration": 155,
    "start_time": "2023-03-20T15:40:25.327Z"
   },
   {
    "duration": 505,
    "start_time": "2023-03-20T15:40:25.484Z"
   },
   {
    "duration": 72,
    "start_time": "2023-03-20T15:40:25.991Z"
   },
   {
    "duration": 153,
    "start_time": "2023-03-20T15:40:26.064Z"
   },
   {
    "duration": 15,
    "start_time": "2023-03-20T15:40:26.219Z"
   },
   {
    "duration": 31,
    "start_time": "2023-03-20T15:40:26.236Z"
   },
   {
    "duration": 13,
    "start_time": "2023-03-20T15:40:26.268Z"
   },
   {
    "duration": 23,
    "start_time": "2023-03-20T15:40:26.282Z"
   },
   {
    "duration": 21,
    "start_time": "2023-03-20T15:40:26.308Z"
   },
   {
    "duration": 34,
    "start_time": "2023-03-20T15:40:27.447Z"
   },
   {
    "duration": 10,
    "start_time": "2023-03-20T15:40:49.460Z"
   },
   {
    "duration": 11,
    "start_time": "2023-03-20T15:40:57.373Z"
   },
   {
    "duration": 8,
    "start_time": "2023-03-20T15:41:15.981Z"
   },
   {
    "duration": 1063,
    "start_time": "2023-03-20T15:41:15.991Z"
   },
   {
    "duration": 26,
    "start_time": "2023-03-20T15:41:17.057Z"
   },
   {
    "duration": 24,
    "start_time": "2023-03-20T15:41:17.087Z"
   },
   {
    "duration": 76,
    "start_time": "2023-03-20T15:41:17.113Z"
   },
   {
    "duration": 44,
    "start_time": "2023-03-20T15:41:17.192Z"
   },
   {
    "duration": 88,
    "start_time": "2023-03-20T15:41:17.238Z"
   },
   {
    "duration": 25,
    "start_time": "2023-03-20T15:41:17.329Z"
   },
   {
    "duration": 48,
    "start_time": "2023-03-20T15:41:17.359Z"
   },
   {
    "duration": 22,
    "start_time": "2023-03-20T15:41:17.410Z"
   },
   {
    "duration": 77,
    "start_time": "2023-03-20T15:41:17.435Z"
   },
   {
    "duration": 188,
    "start_time": "2023-03-20T15:41:17.514Z"
   },
   {
    "duration": 552,
    "start_time": "2023-03-20T15:41:17.705Z"
   },
   {
    "duration": 60,
    "start_time": "2023-03-20T15:41:18.264Z"
   },
   {
    "duration": 157,
    "start_time": "2023-03-20T15:41:18.326Z"
   },
   {
    "duration": 23,
    "start_time": "2023-03-20T15:41:18.486Z"
   },
   {
    "duration": 13,
    "start_time": "2023-03-20T15:41:20.303Z"
   },
   {
    "duration": 11,
    "start_time": "2023-03-20T15:41:26.797Z"
   },
   {
    "duration": 14,
    "start_time": "2023-03-20T15:41:30.323Z"
   },
   {
    "duration": 11,
    "start_time": "2023-03-20T15:41:36.412Z"
   },
   {
    "duration": 20,
    "start_time": "2023-03-20T15:47:51.768Z"
   },
   {
    "duration": 10,
    "start_time": "2023-03-20T15:48:35.728Z"
   },
   {
    "duration": 19,
    "start_time": "2023-03-20T15:48:36.376Z"
   },
   {
    "duration": 14,
    "start_time": "2023-03-20T15:48:39.393Z"
   },
   {
    "duration": 10,
    "start_time": "2023-03-20T15:48:44.817Z"
   },
   {
    "duration": 30,
    "start_time": "2023-03-20T15:48:46.405Z"
   },
   {
    "duration": 79,
    "start_time": "2023-03-20T15:49:08.668Z"
   },
   {
    "duration": 12,
    "start_time": "2023-03-20T15:49:10.267Z"
   },
   {
    "duration": 103,
    "start_time": "2023-03-20T15:50:33.135Z"
   },
   {
    "duration": 26,
    "start_time": "2023-03-20T15:51:24.073Z"
   },
   {
    "duration": 21,
    "start_time": "2023-03-20T15:51:54.775Z"
   },
   {
    "duration": 27,
    "start_time": "2023-03-20T15:52:34.373Z"
   },
   {
    "duration": 106,
    "start_time": "2023-03-20T15:54:49.486Z"
   },
   {
    "duration": 16,
    "start_time": "2023-03-20T15:54:53.418Z"
   },
   {
    "duration": 5,
    "start_time": "2023-03-20T15:56:05.241Z"
   },
   {
    "duration": 5,
    "start_time": "2023-03-20T15:56:12.780Z"
   },
   {
    "duration": 13,
    "start_time": "2023-03-20T15:56:46.744Z"
   },
   {
    "duration": 13,
    "start_time": "2023-03-20T15:58:33.401Z"
   },
   {
    "duration": 48,
    "start_time": "2023-03-20T16:29:16.557Z"
   },
   {
    "duration": 50,
    "start_time": "2023-03-20T16:29:25.232Z"
   },
   {
    "duration": 58,
    "start_time": "2023-03-20T16:29:31.037Z"
   },
   {
    "duration": 1059,
    "start_time": "2023-03-20T16:30:24.867Z"
   },
   {
    "duration": 12,
    "start_time": "2023-03-20T16:30:42.221Z"
   },
   {
    "duration": 18,
    "start_time": "2023-03-20T16:31:03.875Z"
   },
   {
    "duration": 22,
    "start_time": "2023-03-20T16:31:38.670Z"
   },
   {
    "duration": 11,
    "start_time": "2023-03-20T16:33:31.328Z"
   },
   {
    "duration": 30,
    "start_time": "2023-03-20T16:33:53.343Z"
   },
   {
    "duration": 24,
    "start_time": "2023-03-20T16:33:54.807Z"
   },
   {
    "duration": 55,
    "start_time": "2023-03-20T16:34:21.026Z"
   },
   {
    "duration": 34,
    "start_time": "2023-03-20T16:34:43.679Z"
   },
   {
    "duration": 20,
    "start_time": "2023-03-20T16:34:45.231Z"
   },
   {
    "duration": 25,
    "start_time": "2023-03-20T16:34:45.861Z"
   },
   {
    "duration": 31,
    "start_time": "2023-03-20T16:36:44.382Z"
   },
   {
    "duration": 32,
    "start_time": "2023-03-20T16:42:29.684Z"
   },
   {
    "duration": 4,
    "start_time": "2023-03-20T16:43:30.883Z"
   },
   {
    "duration": 794,
    "start_time": "2023-03-20T16:43:30.889Z"
   },
   {
    "duration": 12,
    "start_time": "2023-03-20T16:43:31.686Z"
   },
   {
    "duration": 49,
    "start_time": "2023-03-20T16:43:31.700Z"
   },
   {
    "duration": 65,
    "start_time": "2023-03-20T16:43:31.752Z"
   },
   {
    "duration": 75,
    "start_time": "2023-03-20T16:43:31.819Z"
   },
   {
    "duration": 95,
    "start_time": "2023-03-20T16:43:31.896Z"
   },
   {
    "duration": 10,
    "start_time": "2023-03-20T16:43:31.993Z"
   },
   {
    "duration": 43,
    "start_time": "2023-03-20T16:43:32.004Z"
   },
   {
    "duration": 38,
    "start_time": "2023-03-20T16:43:32.061Z"
   },
   {
    "duration": 51,
    "start_time": "2023-03-20T16:43:32.102Z"
   },
   {
    "duration": 167,
    "start_time": "2023-03-20T16:43:32.154Z"
   },
   {
    "duration": 420,
    "start_time": "2023-03-20T16:43:32.323Z"
   },
   {
    "duration": 49,
    "start_time": "2023-03-20T16:43:32.745Z"
   },
   {
    "duration": 140,
    "start_time": "2023-03-20T16:43:32.795Z"
   },
   {
    "duration": 31,
    "start_time": "2023-03-20T16:43:32.937Z"
   },
   {
    "duration": 28,
    "start_time": "2023-03-20T16:43:32.973Z"
   },
   {
    "duration": 14,
    "start_time": "2023-03-20T16:43:33.002Z"
   },
   {
    "duration": 11,
    "start_time": "2023-03-20T16:43:33.018Z"
   },
   {
    "duration": 33,
    "start_time": "2023-03-20T16:43:33.031Z"
   },
   {
    "duration": 51,
    "start_time": "2023-03-20T16:43:33.069Z"
   },
   {
    "duration": 70,
    "start_time": "2023-03-20T16:43:33.121Z"
   },
   {
    "duration": 20,
    "start_time": "2023-03-20T16:43:33.193Z"
   },
   {
    "duration": 150,
    "start_time": "2023-03-20T16:43:33.216Z"
   },
   {
    "duration": 12,
    "start_time": "2023-03-20T16:43:33.368Z"
   },
   {
    "duration": 15,
    "start_time": "2023-03-20T16:43:33.382Z"
   },
   {
    "duration": 7,
    "start_time": "2023-03-20T16:43:33.399Z"
   },
   {
    "duration": 16,
    "start_time": "2023-03-20T16:43:33.408Z"
   },
   {
    "duration": 46,
    "start_time": "2023-03-20T16:43:33.442Z"
   },
   {
    "duration": 22,
    "start_time": "2023-03-20T16:43:33.490Z"
   },
   {
    "duration": 53,
    "start_time": "2023-03-20T16:43:33.514Z"
   },
   {
    "duration": 16,
    "start_time": "2023-03-20T16:43:37.167Z"
   },
   {
    "duration": 13,
    "start_time": "2023-03-20T16:43:56.163Z"
   },
   {
    "duration": 13,
    "start_time": "2023-03-20T17:00:39.767Z"
   },
   {
    "duration": 8,
    "start_time": "2023-03-20T17:13:19.928Z"
   },
   {
    "duration": 6,
    "start_time": "2023-03-20T17:14:45.102Z"
   },
   {
    "duration": 17,
    "start_time": "2023-03-20T17:15:33.145Z"
   },
   {
    "duration": 14,
    "start_time": "2023-03-20T17:15:40.719Z"
   },
   {
    "duration": 12,
    "start_time": "2023-03-20T17:17:09.179Z"
   },
   {
    "duration": 56,
    "start_time": "2023-03-20T17:21:01.110Z"
   },
   {
    "duration": 33,
    "start_time": "2023-03-20T17:22:10.439Z"
   },
   {
    "duration": 40,
    "start_time": "2023-03-20T17:22:16.119Z"
   },
   {
    "duration": 6,
    "start_time": "2023-03-20T17:22:36.087Z"
   },
   {
    "duration": 839,
    "start_time": "2023-03-20T17:22:36.095Z"
   },
   {
    "duration": 31,
    "start_time": "2023-03-20T17:22:36.936Z"
   },
   {
    "duration": 18,
    "start_time": "2023-03-20T17:22:36.974Z"
   },
   {
    "duration": 605,
    "start_time": "2023-03-20T17:22:36.994Z"
   },
   {
    "duration": 23,
    "start_time": "2023-03-20T17:22:37.602Z"
   },
   {
    "duration": 73,
    "start_time": "2023-03-20T17:22:37.627Z"
   },
   {
    "duration": 24,
    "start_time": "2023-03-20T17:22:37.702Z"
   },
   {
    "duration": 26,
    "start_time": "2023-03-20T17:22:37.729Z"
   },
   {
    "duration": 33,
    "start_time": "2023-03-20T17:22:37.758Z"
   },
   {
    "duration": 55,
    "start_time": "2023-03-20T17:22:37.793Z"
   },
   {
    "duration": 180,
    "start_time": "2023-03-20T17:22:37.849Z"
   },
   {
    "duration": 499,
    "start_time": "2023-03-20T17:22:38.032Z"
   },
   {
    "duration": 66,
    "start_time": "2023-03-20T17:22:38.533Z"
   },
   {
    "duration": 155,
    "start_time": "2023-03-20T17:22:38.601Z"
   },
   {
    "duration": 26,
    "start_time": "2023-03-20T17:22:38.760Z"
   },
   {
    "duration": 10,
    "start_time": "2023-03-20T17:22:38.788Z"
   },
   {
    "duration": 14,
    "start_time": "2023-03-20T17:22:38.800Z"
   },
   {
    "duration": 42,
    "start_time": "2023-03-20T17:22:38.816Z"
   },
   {
    "duration": 20,
    "start_time": "2023-03-20T17:22:38.864Z"
   },
   {
    "duration": 30,
    "start_time": "2023-03-20T17:22:38.886Z"
   },
   {
    "duration": 68,
    "start_time": "2023-03-20T17:22:38.918Z"
   },
   {
    "duration": 13,
    "start_time": "2023-03-20T17:22:38.987Z"
   },
   {
    "duration": 121,
    "start_time": "2023-03-20T17:22:39.004Z"
   },
   {
    "duration": 27,
    "start_time": "2023-03-20T17:22:39.127Z"
   },
   {
    "duration": 44,
    "start_time": "2023-03-20T17:22:39.155Z"
   },
   {
    "duration": 7,
    "start_time": "2023-03-20T17:22:39.201Z"
   },
   {
    "duration": 31,
    "start_time": "2023-03-20T17:22:39.210Z"
   },
   {
    "duration": 63,
    "start_time": "2023-03-20T17:22:39.243Z"
   },
   {
    "duration": 21,
    "start_time": "2023-03-20T17:22:39.308Z"
   },
   {
    "duration": 51,
    "start_time": "2023-03-20T17:22:39.331Z"
   },
   {
    "duration": 8,
    "start_time": "2023-03-20T17:22:39.384Z"
   },
   {
    "duration": 19,
    "start_time": "2023-03-20T17:22:39.395Z"
   },
   {
    "duration": 4,
    "start_time": "2023-03-20T17:22:39.416Z"
   },
   {
    "duration": 83,
    "start_time": "2023-03-20T17:22:39.422Z"
   },
   {
    "duration": 30,
    "start_time": "2023-03-20T17:22:41.470Z"
   },
   {
    "duration": 34,
    "start_time": "2023-03-20T17:49:31.576Z"
   },
   {
    "duration": 21,
    "start_time": "2023-03-20T17:49:33.219Z"
   },
   {
    "duration": 4,
    "start_time": "2023-03-20T17:49:45.420Z"
   },
   {
    "duration": 744,
    "start_time": "2023-03-20T17:49:45.426Z"
   },
   {
    "duration": 14,
    "start_time": "2023-03-20T17:49:46.179Z"
   },
   {
    "duration": 15,
    "start_time": "2023-03-20T17:49:46.196Z"
   },
   {
    "duration": 18,
    "start_time": "2023-03-20T17:49:46.214Z"
   },
   {
    "duration": 63,
    "start_time": "2023-03-20T17:49:46.235Z"
   },
   {
    "duration": 88,
    "start_time": "2023-03-20T17:49:46.301Z"
   },
   {
    "duration": 16,
    "start_time": "2023-03-20T17:49:46.392Z"
   },
   {
    "duration": 34,
    "start_time": "2023-03-20T17:49:46.411Z"
   },
   {
    "duration": 50,
    "start_time": "2023-03-20T17:49:46.454Z"
   },
   {
    "duration": 70,
    "start_time": "2023-03-20T17:49:46.508Z"
   },
   {
    "duration": 210,
    "start_time": "2023-03-20T17:49:46.584Z"
   },
   {
    "duration": 419,
    "start_time": "2023-03-20T17:49:46.796Z"
   },
   {
    "duration": 70,
    "start_time": "2023-03-20T17:49:47.217Z"
   },
   {
    "duration": 122,
    "start_time": "2023-03-20T17:49:47.291Z"
   },
   {
    "duration": 15,
    "start_time": "2023-03-20T17:49:47.414Z"
   },
   {
    "duration": 16,
    "start_time": "2023-03-20T17:49:47.444Z"
   },
   {
    "duration": 29,
    "start_time": "2023-03-20T17:49:47.462Z"
   },
   {
    "duration": 19,
    "start_time": "2023-03-20T17:49:47.494Z"
   },
   {
    "duration": 15,
    "start_time": "2023-03-20T17:49:47.516Z"
   },
   {
    "duration": 47,
    "start_time": "2023-03-20T17:49:47.533Z"
   },
   {
    "duration": 102,
    "start_time": "2023-03-20T17:49:47.582Z"
   },
   {
    "duration": 12,
    "start_time": "2023-03-20T17:49:47.686Z"
   },
   {
    "duration": 133,
    "start_time": "2023-03-20T17:49:47.701Z"
   },
   {
    "duration": 12,
    "start_time": "2023-03-20T17:49:47.836Z"
   },
   {
    "duration": 47,
    "start_time": "2023-03-20T17:49:47.849Z"
   },
   {
    "duration": 7,
    "start_time": "2023-03-20T17:49:47.899Z"
   },
   {
    "duration": 14,
    "start_time": "2023-03-20T17:49:47.908Z"
   },
   {
    "duration": 53,
    "start_time": "2023-03-20T17:49:47.926Z"
   },
   {
    "duration": 19,
    "start_time": "2023-03-20T17:49:47.982Z"
   },
   {
    "duration": 49,
    "start_time": "2023-03-20T17:49:48.002Z"
   },
   {
    "duration": 17,
    "start_time": "2023-03-20T17:49:48.052Z"
   },
   {
    "duration": 18,
    "start_time": "2023-03-20T17:49:48.071Z"
   },
   {
    "duration": 3,
    "start_time": "2023-03-20T17:49:48.092Z"
   },
   {
    "duration": 73,
    "start_time": "2023-03-20T17:49:50.534Z"
   },
   {
    "duration": 15,
    "start_time": "2023-03-20T17:49:52.113Z"
   },
   {
    "duration": 3,
    "start_time": "2023-03-20T17:59:58.070Z"
   },
   {
    "duration": 669,
    "start_time": "2023-03-20T17:59:58.076Z"
   },
   {
    "duration": 17,
    "start_time": "2023-03-20T17:59:58.755Z"
   },
   {
    "duration": 39,
    "start_time": "2023-03-20T17:59:58.773Z"
   },
   {
    "duration": 33,
    "start_time": "2023-03-20T17:59:58.814Z"
   },
   {
    "duration": 44,
    "start_time": "2023-03-20T17:59:58.849Z"
   },
   {
    "duration": 67,
    "start_time": "2023-03-20T17:59:58.895Z"
   },
   {
    "duration": 14,
    "start_time": "2023-03-20T17:59:58.964Z"
   },
   {
    "duration": 28,
    "start_time": "2023-03-20T17:59:58.982Z"
   },
   {
    "duration": 10,
    "start_time": "2023-03-20T17:59:59.014Z"
   },
   {
    "duration": 51,
    "start_time": "2023-03-20T17:59:59.027Z"
   },
   {
    "duration": 146,
    "start_time": "2023-03-20T17:59:59.081Z"
   },
   {
    "duration": 440,
    "start_time": "2023-03-20T17:59:59.245Z"
   },
   {
    "duration": 37,
    "start_time": "2023-03-20T17:59:59.686Z"
   },
   {
    "duration": 126,
    "start_time": "2023-03-20T17:59:59.744Z"
   },
   {
    "duration": 18,
    "start_time": "2023-03-20T17:59:59.873Z"
   },
   {
    "duration": 10,
    "start_time": "2023-03-20T17:59:59.894Z"
   },
   {
    "duration": 9,
    "start_time": "2023-03-20T17:59:59.906Z"
   },
   {
    "duration": 34,
    "start_time": "2023-03-20T17:59:59.917Z"
   },
   {
    "duration": 36,
    "start_time": "2023-03-20T17:59:59.953Z"
   },
   {
    "duration": 42,
    "start_time": "2023-03-20T17:59:59.990Z"
   },
   {
    "duration": 104,
    "start_time": "2023-03-20T18:00:00.035Z"
   },
   {
    "duration": 23,
    "start_time": "2023-03-20T18:00:00.143Z"
   },
   {
    "duration": 111,
    "start_time": "2023-03-20T18:00:00.173Z"
   },
   {
    "duration": 12,
    "start_time": "2023-03-20T18:00:00.286Z"
   },
   {
    "duration": 96,
    "start_time": "2023-03-20T18:00:00.300Z"
   },
   {
    "duration": 41,
    "start_time": "2023-03-20T18:00:00.397Z"
   },
   {
    "duration": 104,
    "start_time": "2023-03-20T18:00:00.442Z"
   },
   {
    "duration": 78,
    "start_time": "2023-03-20T18:00:00.550Z"
   },
   {
    "duration": 59,
    "start_time": "2023-03-20T18:00:00.630Z"
   },
   {
    "duration": 69,
    "start_time": "2023-03-20T18:00:00.692Z"
   },
   {
    "duration": 30,
    "start_time": "2023-03-20T18:00:18.730Z"
   },
   {
    "duration": 33,
    "start_time": "2023-03-20T18:00:19.367Z"
   },
   {
    "duration": 7,
    "start_time": "2023-03-20T18:00:20.714Z"
   },
   {
    "duration": 552,
    "start_time": "2023-03-22T04:53:09.716Z"
   },
   {
    "duration": 1062,
    "start_time": "2023-03-22T04:53:10.270Z"
   },
   {
    "duration": 15,
    "start_time": "2023-03-22T04:53:11.333Z"
   },
   {
    "duration": 11,
    "start_time": "2023-03-22T04:53:11.350Z"
   },
   {
    "duration": 15,
    "start_time": "2023-03-22T04:53:11.362Z"
   },
   {
    "duration": 26,
    "start_time": "2023-03-22T04:53:11.379Z"
   },
   {
    "duration": 66,
    "start_time": "2023-03-22T04:53:11.407Z"
   },
   {
    "duration": 9,
    "start_time": "2023-03-22T04:53:11.475Z"
   },
   {
    "duration": 13,
    "start_time": "2023-03-22T04:53:11.498Z"
   },
   {
    "duration": 11,
    "start_time": "2023-03-22T04:53:11.514Z"
   },
   {
    "duration": 28,
    "start_time": "2023-03-22T04:53:11.526Z"
   },
   {
    "duration": 166,
    "start_time": "2023-03-22T04:53:11.556Z"
   },
   {
    "duration": 413,
    "start_time": "2023-03-22T04:53:11.723Z"
   },
   {
    "duration": 73,
    "start_time": "2023-03-22T04:53:12.138Z"
   },
   {
    "duration": 108,
    "start_time": "2023-03-22T04:53:12.214Z"
   },
   {
    "duration": 13,
    "start_time": "2023-03-22T04:53:12.324Z"
   },
   {
    "duration": 9,
    "start_time": "2023-03-22T04:53:12.339Z"
   },
   {
    "duration": 11,
    "start_time": "2023-03-22T04:53:12.349Z"
   },
   {
    "duration": 38,
    "start_time": "2023-03-22T04:53:12.362Z"
   },
   {
    "duration": 14,
    "start_time": "2023-03-22T04:53:12.402Z"
   },
   {
    "duration": 31,
    "start_time": "2023-03-22T04:53:12.419Z"
   },
   {
    "duration": 79,
    "start_time": "2023-03-22T04:53:12.452Z"
   },
   {
    "duration": 9,
    "start_time": "2023-03-22T04:53:12.533Z"
   },
   {
    "duration": 98,
    "start_time": "2023-03-22T04:53:12.545Z"
   },
   {
    "duration": 11,
    "start_time": "2023-03-22T04:53:12.645Z"
   },
   {
    "duration": 18,
    "start_time": "2023-03-22T04:53:12.658Z"
   },
   {
    "duration": 28,
    "start_time": "2023-03-22T04:53:12.678Z"
   },
   {
    "duration": 182,
    "start_time": "2023-03-22T04:53:12.710Z"
   },
   {
    "duration": 36,
    "start_time": "2023-03-22T04:53:12.894Z"
   },
   {
    "duration": 69,
    "start_time": "2023-03-22T04:53:12.931Z"
   },
   {
    "duration": 43,
    "start_time": "2023-03-22T04:53:13.002Z"
   },
   {
    "duration": 8,
    "start_time": "2023-03-22T04:53:13.047Z"
   },
   {
    "duration": 44,
    "start_time": "2023-03-22T04:53:13.057Z"
   },
   {
    "duration": 13,
    "start_time": "2023-03-22T04:53:13.103Z"
   },
   {
    "duration": 44,
    "start_time": "2023-03-22T04:53:13.118Z"
   },
   {
    "duration": 15,
    "start_time": "2023-03-22T04:53:13.164Z"
   },
   {
    "duration": 36,
    "start_time": "2023-03-22T04:53:13.181Z"
   },
   {
    "duration": 22,
    "start_time": "2023-03-22T04:53:13.219Z"
   },
   {
    "duration": 9,
    "start_time": "2023-03-22T05:03:07.826Z"
   },
   {
    "duration": 21,
    "start_time": "2023-03-22T05:03:15.233Z"
   },
   {
    "duration": 100,
    "start_time": "2023-03-22T05:04:21.417Z"
   },
   {
    "duration": 65,
    "start_time": "2023-03-22T05:04:41.295Z"
   },
   {
    "duration": 54,
    "start_time": "2023-03-22T05:05:47.886Z"
   },
   {
    "duration": 10,
    "start_time": "2023-03-22T05:05:54.193Z"
   },
   {
    "duration": 8,
    "start_time": "2023-03-22T05:11:47.925Z"
   },
   {
    "duration": 14,
    "start_time": "2023-03-22T05:12:24.001Z"
   },
   {
    "duration": 66,
    "start_time": "2023-03-22T05:30:52.992Z"
   },
   {
    "duration": 3,
    "start_time": "2023-03-22T05:31:21.260Z"
   },
   {
    "duration": 658,
    "start_time": "2023-03-22T05:31:21.265Z"
   },
   {
    "duration": 9,
    "start_time": "2023-03-22T05:31:21.925Z"
   },
   {
    "duration": 14,
    "start_time": "2023-03-22T05:31:21.936Z"
   },
   {
    "duration": 11,
    "start_time": "2023-03-22T05:31:21.953Z"
   },
   {
    "duration": 32,
    "start_time": "2023-03-22T05:31:21.967Z"
   },
   {
    "duration": 73,
    "start_time": "2023-03-22T05:31:22.001Z"
   },
   {
    "duration": 10,
    "start_time": "2023-03-22T05:31:22.076Z"
   },
   {
    "duration": 13,
    "start_time": "2023-03-22T05:31:22.098Z"
   },
   {
    "duration": 15,
    "start_time": "2023-03-22T05:31:22.114Z"
   },
   {
    "duration": 29,
    "start_time": "2023-03-22T05:31:22.132Z"
   },
   {
    "duration": 161,
    "start_time": "2023-03-22T05:31:22.163Z"
   },
   {
    "duration": 380,
    "start_time": "2023-03-22T05:31:22.327Z"
   },
   {
    "duration": 45,
    "start_time": "2023-03-22T05:31:22.709Z"
   },
   {
    "duration": 127,
    "start_time": "2023-03-22T05:31:22.756Z"
   },
   {
    "duration": 22,
    "start_time": "2023-03-22T05:31:22.885Z"
   },
   {
    "duration": 15,
    "start_time": "2023-03-22T05:31:22.910Z"
   },
   {
    "duration": 27,
    "start_time": "2023-03-22T05:31:22.928Z"
   },
   {
    "duration": 20,
    "start_time": "2023-03-22T05:31:22.957Z"
   },
   {
    "duration": 29,
    "start_time": "2023-03-22T05:31:22.979Z"
   },
   {
    "duration": 36,
    "start_time": "2023-03-22T05:31:23.010Z"
   },
   {
    "duration": 70,
    "start_time": "2023-03-22T05:31:23.048Z"
   },
   {
    "duration": 8,
    "start_time": "2023-03-22T05:31:23.120Z"
   },
   {
    "duration": 76,
    "start_time": "2023-03-22T05:31:23.130Z"
   },
   {
    "duration": 15,
    "start_time": "2023-03-22T05:31:23.207Z"
   },
   {
    "duration": 19,
    "start_time": "2023-03-22T05:31:23.224Z"
   },
   {
    "duration": 7,
    "start_time": "2023-03-22T05:31:23.246Z"
   },
   {
    "duration": 46,
    "start_time": "2023-03-22T05:31:23.256Z"
   },
   {
    "duration": 38,
    "start_time": "2023-03-22T05:31:23.308Z"
   },
   {
    "duration": 20,
    "start_time": "2023-03-22T05:31:23.348Z"
   },
   {
    "duration": 52,
    "start_time": "2023-03-22T05:31:23.371Z"
   },
   {
    "duration": 8,
    "start_time": "2023-03-22T05:31:23.425Z"
   },
   {
    "duration": 13,
    "start_time": "2023-03-22T05:31:23.435Z"
   },
   {
    "duration": 7,
    "start_time": "2023-03-22T05:31:23.450Z"
   },
   {
    "duration": 76,
    "start_time": "2023-03-22T05:31:23.459Z"
   },
   {
    "duration": 16,
    "start_time": "2023-03-22T05:31:23.537Z"
   },
   {
    "duration": 23,
    "start_time": "2023-03-22T05:31:23.555Z"
   },
   {
    "duration": 44,
    "start_time": "2023-03-22T05:31:23.579Z"
   },
   {
    "duration": 84,
    "start_time": "2023-03-22T05:36:20.025Z"
   },
   {
    "duration": 10,
    "start_time": "2023-03-22T05:36:26.442Z"
   },
   {
    "duration": 36,
    "start_time": "2023-03-22T05:40:56.123Z"
   },
   {
    "duration": 17,
    "start_time": "2023-03-22T05:41:33.350Z"
   },
   {
    "duration": 24,
    "start_time": "2023-03-22T05:41:37.165Z"
   },
   {
    "duration": 8,
    "start_time": "2023-03-22T05:41:40.875Z"
   },
   {
    "duration": 14,
    "start_time": "2023-03-22T05:42:01.816Z"
   },
   {
    "duration": 11,
    "start_time": "2023-03-22T05:49:20.786Z"
   },
   {
    "duration": 9,
    "start_time": "2023-03-22T05:51:50.601Z"
   },
   {
    "duration": 35,
    "start_time": "2023-03-22T05:52:08.483Z"
   },
   {
    "duration": 22,
    "start_time": "2023-03-22T05:52:30.443Z"
   },
   {
    "duration": 23,
    "start_time": "2023-03-22T05:52:41.474Z"
   },
   {
    "duration": 32,
    "start_time": "2023-03-22T05:52:41.994Z"
   },
   {
    "duration": 65,
    "start_time": "2023-03-22T05:53:33.048Z"
   },
   {
    "duration": 44,
    "start_time": "2023-03-22T05:53:40.636Z"
   },
   {
    "duration": 40,
    "start_time": "2023-03-22T05:53:50.148Z"
   },
   {
    "duration": 16,
    "start_time": "2023-03-22T05:54:05.475Z"
   },
   {
    "duration": 16,
    "start_time": "2023-03-22T05:54:20.719Z"
   },
   {
    "duration": 28,
    "start_time": "2023-03-22T05:54:33.882Z"
   },
   {
    "duration": 66,
    "start_time": "2023-03-22T05:54:43.634Z"
   },
   {
    "duration": 50,
    "start_time": "2023-03-22T05:54:47.338Z"
   },
   {
    "duration": 8,
    "start_time": "2023-03-22T05:55:28.858Z"
   },
   {
    "duration": 19,
    "start_time": "2023-03-22T05:55:43.757Z"
   },
   {
    "duration": 4,
    "start_time": "2023-03-22T05:56:12.684Z"
   },
   {
    "duration": 4,
    "start_time": "2023-03-22T05:56:18.220Z"
   },
   {
    "duration": 15,
    "start_time": "2023-03-22T05:56:22.260Z"
   },
   {
    "duration": 12,
    "start_time": "2023-03-22T05:56:45.188Z"
   },
   {
    "duration": 11,
    "start_time": "2023-03-22T05:56:51.245Z"
   },
   {
    "duration": 30,
    "start_time": "2023-03-22T06:03:38.717Z"
   },
   {
    "duration": 3,
    "start_time": "2023-03-22T06:03:50.398Z"
   },
   {
    "duration": 14,
    "start_time": "2023-03-22T06:03:58.349Z"
   },
   {
    "duration": 27,
    "start_time": "2023-03-22T06:09:47.274Z"
   },
   {
    "duration": 23,
    "start_time": "2023-03-22T06:09:53.193Z"
   },
   {
    "duration": 21,
    "start_time": "2023-03-22T06:10:38.576Z"
   },
   {
    "duration": 24,
    "start_time": "2023-03-22T06:10:42.353Z"
   },
   {
    "duration": 29,
    "start_time": "2023-03-22T06:12:10.053Z"
   },
   {
    "duration": 26,
    "start_time": "2023-03-22T06:12:25.140Z"
   },
   {
    "duration": 31,
    "start_time": "2023-03-22T06:12:47.286Z"
   },
   {
    "duration": 776,
    "start_time": "2023-03-22T06:13:50.382Z"
   },
   {
    "duration": 1638,
    "start_time": "2023-03-22T06:14:31.910Z"
   },
   {
    "duration": 27,
    "start_time": "2023-03-22T06:14:46.775Z"
   },
   {
    "duration": 1446,
    "start_time": "2023-03-22T06:16:03.681Z"
   },
   {
    "duration": 1026,
    "start_time": "2023-03-22T06:16:33.018Z"
   },
   {
    "duration": 1567,
    "start_time": "2023-03-22T06:16:37.753Z"
   },
   {
    "duration": 35,
    "start_time": "2023-03-22T06:16:48.624Z"
   },
   {
    "duration": 1074,
    "start_time": "2023-03-22T06:19:32.336Z"
   },
   {
    "duration": 1059,
    "start_time": "2023-03-22T06:19:41.513Z"
   },
   {
    "duration": 26,
    "start_time": "2023-03-22T06:19:52.105Z"
   },
   {
    "duration": 25,
    "start_time": "2023-03-22T06:20:55.079Z"
   },
   {
    "duration": 15,
    "start_time": "2023-03-22T06:22:17.209Z"
   },
   {
    "duration": 11,
    "start_time": "2023-03-22T06:22:24.433Z"
   },
   {
    "duration": 59,
    "start_time": "2023-03-22T06:22:43.856Z"
   },
   {
    "duration": 19,
    "start_time": "2023-03-22T06:22:48.082Z"
   },
   {
    "duration": 45,
    "start_time": "2023-03-22T06:24:56.449Z"
   },
   {
    "duration": 11,
    "start_time": "2023-03-22T06:25:07.908Z"
   },
   {
    "duration": 12,
    "start_time": "2023-03-22T06:28:11.389Z"
   },
   {
    "duration": 11,
    "start_time": "2023-03-22T06:28:47.247Z"
   },
   {
    "duration": 12,
    "start_time": "2023-03-22T06:30:20.317Z"
   },
   {
    "duration": 17,
    "start_time": "2023-03-22T06:30:30.710Z"
   },
   {
    "duration": 23,
    "start_time": "2023-03-22T06:30:43.796Z"
   },
   {
    "duration": 1955,
    "start_time": "2023-03-22T08:06:58.222Z"
   },
   {
    "duration": 5,
    "start_time": "2023-03-22T08:07:06.417Z"
   },
   {
    "duration": 745,
    "start_time": "2023-03-22T08:07:06.424Z"
   },
   {
    "duration": 9,
    "start_time": "2023-03-22T08:07:07.171Z"
   },
   {
    "duration": 45,
    "start_time": "2023-03-22T08:07:07.181Z"
   },
   {
    "duration": 15,
    "start_time": "2023-03-22T08:07:07.229Z"
   },
   {
    "duration": 23,
    "start_time": "2023-03-22T08:07:07.246Z"
   },
   {
    "duration": 82,
    "start_time": "2023-03-22T08:07:07.271Z"
   },
   {
    "duration": 10,
    "start_time": "2023-03-22T08:07:07.354Z"
   },
   {
    "duration": 21,
    "start_time": "2023-03-22T08:07:07.366Z"
   },
   {
    "duration": 14,
    "start_time": "2023-03-22T08:07:07.407Z"
   },
   {
    "duration": 44,
    "start_time": "2023-03-22T08:07:07.423Z"
   },
   {
    "duration": 193,
    "start_time": "2023-03-22T08:07:07.469Z"
   },
   {
    "duration": 418,
    "start_time": "2023-03-22T08:07:07.664Z"
   },
   {
    "duration": 59,
    "start_time": "2023-03-22T08:07:08.087Z"
   },
   {
    "duration": 125,
    "start_time": "2023-03-22T08:07:08.148Z"
   },
   {
    "duration": 26,
    "start_time": "2023-03-22T08:07:08.275Z"
   },
   {
    "duration": 14,
    "start_time": "2023-03-22T08:07:08.306Z"
   },
   {
    "duration": 9,
    "start_time": "2023-03-22T08:07:08.322Z"
   },
   {
    "duration": 26,
    "start_time": "2023-03-22T08:07:08.333Z"
   },
   {
    "duration": 10,
    "start_time": "2023-03-22T08:07:08.360Z"
   },
   {
    "duration": 42,
    "start_time": "2023-03-22T08:07:08.372Z"
   },
   {
    "duration": 59,
    "start_time": "2023-03-22T08:07:08.416Z"
   },
   {
    "duration": 31,
    "start_time": "2023-03-22T08:07:08.477Z"
   },
   {
    "duration": 4,
    "start_time": "2023-03-22T08:07:08.509Z"
   },
   {
    "duration": 72,
    "start_time": "2023-03-22T08:07:08.515Z"
   },
   {
    "duration": 11,
    "start_time": "2023-03-22T08:07:08.609Z"
   },
   {
    "duration": 15,
    "start_time": "2023-03-22T08:07:08.622Z"
   },
   {
    "duration": 6,
    "start_time": "2023-03-22T08:07:08.638Z"
   },
   {
    "duration": 24,
    "start_time": "2023-03-22T08:07:08.646Z"
   },
   {
    "duration": 42,
    "start_time": "2023-03-22T08:07:08.672Z"
   },
   {
    "duration": 58,
    "start_time": "2023-03-22T08:07:08.717Z"
   },
   {
    "duration": 21,
    "start_time": "2023-03-22T08:07:08.778Z"
   },
   {
    "duration": 39,
    "start_time": "2023-03-22T08:07:08.801Z"
   },
   {
    "duration": 10,
    "start_time": "2023-03-22T08:07:08.841Z"
   },
   {
    "duration": 5,
    "start_time": "2023-03-22T08:07:08.853Z"
   },
   {
    "duration": 17,
    "start_time": "2023-03-22T08:07:08.860Z"
   },
   {
    "duration": 97,
    "start_time": "2023-03-22T08:07:08.879Z"
   },
   {
    "duration": 23,
    "start_time": "2023-03-22T08:07:08.978Z"
   },
   {
    "duration": 40,
    "start_time": "2023-03-22T08:07:09.003Z"
   },
   {
    "duration": 25,
    "start_time": "2023-03-22T08:07:09.046Z"
   },
   {
    "duration": 25,
    "start_time": "2023-03-22T08:07:09.076Z"
   },
   {
    "duration": 20,
    "start_time": "2023-03-22T08:07:09.103Z"
   },
   {
    "duration": 51,
    "start_time": "2023-03-22T08:07:09.125Z"
   },
   {
    "duration": 0,
    "start_time": "2023-03-22T08:07:09.178Z"
   },
   {
    "duration": 0,
    "start_time": "2023-03-22T08:07:09.179Z"
   },
   {
    "duration": 34,
    "start_time": "2023-03-22T08:07:21.202Z"
   },
   {
    "duration": 13,
    "start_time": "2023-03-22T08:07:22.489Z"
   },
   {
    "duration": 1158,
    "start_time": "2023-03-22T08:07:25.049Z"
   },
   {
    "duration": 6,
    "start_time": "2023-03-22T08:07:50.178Z"
   },
   {
    "duration": 1189,
    "start_time": "2023-03-22T08:08:47.151Z"
   },
   {
    "duration": 3171,
    "start_time": "2023-03-22T08:09:38.002Z"
   },
   {
    "duration": 6,
    "start_time": "2023-03-22T08:11:19.082Z"
   },
   {
    "duration": 5,
    "start_time": "2023-03-22T08:11:32.521Z"
   },
   {
    "duration": 5,
    "start_time": "2023-03-22T08:11:56.168Z"
   },
   {
    "duration": 5,
    "start_time": "2023-03-22T08:12:41.861Z"
   },
   {
    "duration": 5,
    "start_time": "2023-03-22T08:13:07.145Z"
   },
   {
    "duration": 17,
    "start_time": "2023-03-22T08:22:15.256Z"
   },
   {
    "duration": 36,
    "start_time": "2023-03-22T08:22:20.118Z"
   },
   {
    "duration": 13,
    "start_time": "2023-03-22T08:23:52.017Z"
   },
   {
    "duration": 8,
    "start_time": "2023-03-22T08:24:36.193Z"
   },
   {
    "duration": 8,
    "start_time": "2023-03-22T08:24:59.521Z"
   },
   {
    "duration": 9,
    "start_time": "2023-03-22T08:25:41.267Z"
   },
   {
    "duration": 11,
    "start_time": "2023-03-22T08:25:56.792Z"
   },
   {
    "duration": 173,
    "start_time": "2023-03-22T08:33:20.036Z"
   },
   {
    "duration": 9,
    "start_time": "2023-03-22T08:33:33.781Z"
   },
   {
    "duration": 12,
    "start_time": "2023-03-22T08:33:39.835Z"
   },
   {
    "duration": 601,
    "start_time": "2023-03-22T08:35:16.563Z"
   },
   {
    "duration": 206,
    "start_time": "2023-03-22T08:37:52.900Z"
   },
   {
    "duration": 528,
    "start_time": "2023-03-22T08:38:12.863Z"
   },
   {
    "duration": 241,
    "start_time": "2023-03-22T08:38:17.042Z"
   },
   {
    "duration": 11,
    "start_time": "2023-03-22T08:38:57.423Z"
   },
   {
    "duration": 4,
    "start_time": "2023-03-22T08:39:14.218Z"
   },
   {
    "duration": 383,
    "start_time": "2023-03-22T08:39:19.489Z"
   },
   {
    "duration": 312,
    "start_time": "2023-03-22T08:44:35.109Z"
   },
   {
    "duration": 4,
    "start_time": "2023-03-22T08:45:11.677Z"
   },
   {
    "duration": 281,
    "start_time": "2023-03-22T08:45:15.108Z"
   },
   {
    "duration": 298,
    "start_time": "2023-03-22T08:45:25.134Z"
   },
   {
    "duration": 4,
    "start_time": "2023-03-22T08:46:16.042Z"
   },
   {
    "duration": 293,
    "start_time": "2023-03-22T08:46:26.599Z"
   },
   {
    "duration": 274,
    "start_time": "2023-03-22T08:46:37.253Z"
   },
   {
    "duration": 4,
    "start_time": "2023-03-22T08:47:05.718Z"
   },
   {
    "duration": 3,
    "start_time": "2023-03-22T08:47:17.925Z"
   },
   {
    "duration": 468,
    "start_time": "2023-03-22T08:47:20.893Z"
   },
   {
    "duration": 32,
    "start_time": "2023-03-22T08:52:40.314Z"
   },
   {
    "duration": 27,
    "start_time": "2023-03-22T08:52:50.097Z"
   },
   {
    "duration": 18,
    "start_time": "2023-03-22T08:54:35.203Z"
   },
   {
    "duration": 20,
    "start_time": "2023-03-22T08:55:38.377Z"
   },
   {
    "duration": 21,
    "start_time": "2023-03-22T09:00:01.166Z"
   },
   {
    "duration": 15,
    "start_time": "2023-03-22T09:00:29.093Z"
   },
   {
    "duration": 20,
    "start_time": "2023-03-22T09:00:58.454Z"
   },
   {
    "duration": 13,
    "start_time": "2023-03-22T09:01:24.461Z"
   },
   {
    "duration": 892,
    "start_time": "2023-03-22T09:13:15.645Z"
   },
   {
    "duration": 14,
    "start_time": "2023-03-22T09:14:34.284Z"
   },
   {
    "duration": 707,
    "start_time": "2023-03-22T09:14:35.317Z"
   },
   {
    "duration": 17,
    "start_time": "2023-03-22T09:14:49.670Z"
   },
   {
    "duration": 637,
    "start_time": "2023-03-22T09:15:06.436Z"
   },
   {
    "duration": 4,
    "start_time": "2023-03-22T09:15:20.693Z"
   },
   {
    "duration": 769,
    "start_time": "2023-03-22T09:15:20.700Z"
   },
   {
    "duration": 8,
    "start_time": "2023-03-22T09:15:21.471Z"
   },
   {
    "duration": 12,
    "start_time": "2023-03-22T09:15:21.481Z"
   },
   {
    "duration": 16,
    "start_time": "2023-03-22T09:15:21.494Z"
   },
   {
    "duration": 23,
    "start_time": "2023-03-22T09:15:21.512Z"
   },
   {
    "duration": 70,
    "start_time": "2023-03-22T09:15:21.538Z"
   },
   {
    "duration": 10,
    "start_time": "2023-03-22T09:15:21.611Z"
   },
   {
    "duration": 14,
    "start_time": "2023-03-22T09:15:21.623Z"
   },
   {
    "duration": 12,
    "start_time": "2023-03-22T09:15:21.641Z"
   },
   {
    "duration": 58,
    "start_time": "2023-03-22T09:15:21.654Z"
   },
   {
    "duration": 137,
    "start_time": "2023-03-22T09:15:21.714Z"
   },
   {
    "duration": 411,
    "start_time": "2023-03-22T09:15:21.853Z"
   },
   {
    "duration": 65,
    "start_time": "2023-03-22T09:15:22.266Z"
   },
   {
    "duration": 206,
    "start_time": "2023-03-22T09:15:22.333Z"
   },
   {
    "duration": 108,
    "start_time": "2023-03-22T09:15:22.541Z"
   },
   {
    "duration": 166,
    "start_time": "2023-03-22T09:15:22.651Z"
   },
   {
    "duration": 148,
    "start_time": "2023-03-22T09:15:22.819Z"
   },
   {
    "duration": 151,
    "start_time": "2023-03-22T09:15:22.969Z"
   },
   {
    "duration": 191,
    "start_time": "2023-03-22T09:15:23.121Z"
   },
   {
    "duration": 26,
    "start_time": "2023-03-22T09:15:23.313Z"
   },
   {
    "duration": 103,
    "start_time": "2023-03-22T09:15:23.341Z"
   },
   {
    "duration": 102,
    "start_time": "2023-03-22T09:15:23.446Z"
   },
   {
    "duration": 129,
    "start_time": "2023-03-22T09:15:23.550Z"
   },
   {
    "duration": 208,
    "start_time": "2023-03-22T09:15:23.681Z"
   },
   {
    "duration": 52,
    "start_time": "2023-03-22T09:15:23.891Z"
   },
   {
    "duration": 56,
    "start_time": "2023-03-22T09:15:23.944Z"
   },
   {
    "duration": 142,
    "start_time": "2023-03-22T09:15:24.004Z"
   },
   {
    "duration": 158,
    "start_time": "2023-03-22T09:15:24.148Z"
   },
   {
    "duration": 52,
    "start_time": "2023-03-22T09:15:24.308Z"
   },
   {
    "duration": 184,
    "start_time": "2023-03-22T09:15:24.362Z"
   },
   {
    "duration": 150,
    "start_time": "2023-03-22T09:15:24.548Z"
   },
   {
    "duration": 150,
    "start_time": "2023-03-22T09:15:24.700Z"
   },
   {
    "duration": 140,
    "start_time": "2023-03-22T09:15:24.852Z"
   },
   {
    "duration": 134,
    "start_time": "2023-03-22T09:15:24.994Z"
   },
   {
    "duration": 152,
    "start_time": "2023-03-22T09:15:25.130Z"
   },
   {
    "duration": 194,
    "start_time": "2023-03-22T09:15:25.285Z"
   },
   {
    "duration": 100,
    "start_time": "2023-03-22T09:15:25.481Z"
   },
   {
    "duration": 170,
    "start_time": "2023-03-22T09:15:25.584Z"
   },
   {
    "duration": 136,
    "start_time": "2023-03-22T09:15:25.756Z"
   },
   {
    "duration": 123,
    "start_time": "2023-03-22T09:15:25.894Z"
   },
   {
    "duration": 50,
    "start_time": "2023-03-22T09:15:26.019Z"
   },
   {
    "duration": 148,
    "start_time": "2023-03-22T09:15:26.071Z"
   },
   {
    "duration": 131,
    "start_time": "2023-03-22T09:15:26.221Z"
   },
   {
    "duration": 196,
    "start_time": "2023-03-22T09:15:26.354Z"
   },
   {
    "duration": 158,
    "start_time": "2023-03-22T09:15:26.553Z"
   },
   {
    "duration": 97,
    "start_time": "2023-03-22T09:15:26.713Z"
   },
   {
    "duration": 150,
    "start_time": "2023-03-22T09:15:26.813Z"
   },
   {
    "duration": 141,
    "start_time": "2023-03-22T09:15:26.965Z"
   },
   {
    "duration": 151,
    "start_time": "2023-03-22T09:15:27.109Z"
   },
   {
    "duration": 155,
    "start_time": "2023-03-22T09:15:27.262Z"
   },
   {
    "duration": 175,
    "start_time": "2023-03-22T09:15:27.419Z"
   },
   {
    "duration": 347,
    "start_time": "2023-03-22T09:15:27.596Z"
   },
   {
    "duration": 540,
    "start_time": "2023-03-22T09:15:27.945Z"
   },
   {
    "duration": 745,
    "start_time": "2023-03-22T09:15:28.489Z"
   },
   {
    "duration": 620,
    "start_time": "2023-03-22T09:16:16.348Z"
   },
   {
    "duration": 759,
    "start_time": "2023-03-22T09:16:34.981Z"
   },
   {
    "duration": 18,
    "start_time": "2023-03-22T09:18:23.842Z"
   },
   {
    "duration": 29,
    "start_time": "2023-03-22T09:18:28.719Z"
   },
   {
    "duration": 741,
    "start_time": "2023-03-22T09:19:43.108Z"
   },
   {
    "duration": 336,
    "start_time": "2023-03-22T09:20:47.815Z"
   },
   {
    "duration": 342,
    "start_time": "2023-03-22T09:21:16.088Z"
   },
   {
    "duration": 307,
    "start_time": "2023-03-22T09:21:24.095Z"
   },
   {
    "duration": 314,
    "start_time": "2023-03-22T09:21:36.771Z"
   },
   {
    "duration": 448,
    "start_time": "2023-03-22T09:21:48.817Z"
   },
   {
    "duration": 346,
    "start_time": "2023-03-22T09:21:59.952Z"
   },
   {
    "duration": 4,
    "start_time": "2023-03-22T09:30:59.381Z"
   },
   {
    "duration": 318,
    "start_time": "2023-03-22T09:31:04.467Z"
   },
   {
    "duration": 556,
    "start_time": "2023-03-22T09:31:32.087Z"
   },
   {
    "duration": 562,
    "start_time": "2023-03-22T09:31:51.523Z"
   },
   {
    "duration": 460,
    "start_time": "2023-03-22T09:33:02.092Z"
   },
   {
    "duration": 457,
    "start_time": "2023-03-22T09:33:07.221Z"
   },
   {
    "duration": 330,
    "start_time": "2023-03-22T09:39:09.900Z"
   },
   {
    "duration": 255,
    "start_time": "2023-03-22T09:39:44.942Z"
   },
   {
    "duration": 280,
    "start_time": "2023-03-22T09:39:56.389Z"
   },
   {
    "duration": 266,
    "start_time": "2023-03-22T09:42:46.612Z"
   },
   {
    "duration": 411,
    "start_time": "2023-03-22T09:42:59.921Z"
   },
   {
    "duration": 324,
    "start_time": "2023-03-22T09:43:38.182Z"
   },
   {
    "duration": 252,
    "start_time": "2023-03-22T09:43:44.452Z"
   },
   {
    "duration": 260,
    "start_time": "2023-03-22T09:43:56.388Z"
   },
   {
    "duration": 259,
    "start_time": "2023-03-22T09:44:16.857Z"
   },
   {
    "duration": 81,
    "start_time": "2023-03-22T09:46:36.680Z"
   },
   {
    "duration": 260,
    "start_time": "2023-03-22T09:46:45.081Z"
   },
   {
    "duration": 240,
    "start_time": "2023-03-22T09:50:12.525Z"
   },
   {
    "duration": 21,
    "start_time": "2023-03-22T09:50:19.229Z"
   },
   {
    "duration": 312,
    "start_time": "2023-03-22T09:51:35.385Z"
   },
   {
    "duration": 309,
    "start_time": "2023-03-22T09:51:41.033Z"
   },
   {
    "duration": 311,
    "start_time": "2023-03-22T09:53:13.705Z"
   },
   {
    "duration": 66,
    "start_time": "2023-03-22T09:57:51.189Z"
   },
   {
    "duration": 309,
    "start_time": "2023-03-22T09:57:55.842Z"
   },
   {
    "duration": 310,
    "start_time": "2023-03-22T09:58:40.730Z"
   },
   {
    "duration": 6,
    "start_time": "2023-03-22T09:59:05.286Z"
   },
   {
    "duration": 307,
    "start_time": "2023-03-22T09:59:13.122Z"
   },
   {
    "duration": 6,
    "start_time": "2023-03-22T10:00:32.689Z"
   },
   {
    "duration": 5,
    "start_time": "2023-03-22T10:00:36.677Z"
   },
   {
    "duration": 678,
    "start_time": "2023-03-22T10:00:36.684Z"
   },
   {
    "duration": 10,
    "start_time": "2023-03-22T10:00:37.364Z"
   },
   {
    "duration": 25,
    "start_time": "2023-03-22T10:00:37.376Z"
   },
   {
    "duration": 20,
    "start_time": "2023-03-22T10:00:37.403Z"
   },
   {
    "duration": 52,
    "start_time": "2023-03-22T10:00:37.425Z"
   },
   {
    "duration": 68,
    "start_time": "2023-03-22T10:00:37.479Z"
   },
   {
    "duration": 12,
    "start_time": "2023-03-22T10:00:37.549Z"
   },
   {
    "duration": 40,
    "start_time": "2023-03-22T10:00:37.563Z"
   },
   {
    "duration": 14,
    "start_time": "2023-03-22T10:00:37.605Z"
   },
   {
    "duration": 42,
    "start_time": "2023-03-22T10:00:37.622Z"
   },
   {
    "duration": 151,
    "start_time": "2023-03-22T10:00:37.667Z"
   },
   {
    "duration": 407,
    "start_time": "2023-03-22T10:00:37.821Z"
   },
   {
    "duration": 69,
    "start_time": "2023-03-22T10:00:38.230Z"
   },
   {
    "duration": 172,
    "start_time": "2023-03-22T10:00:38.302Z"
   },
   {
    "duration": 23,
    "start_time": "2023-03-22T10:00:38.476Z"
   },
   {
    "duration": 18,
    "start_time": "2023-03-22T10:00:38.501Z"
   },
   {
    "duration": 35,
    "start_time": "2023-03-22T10:00:38.521Z"
   },
   {
    "duration": 54,
    "start_time": "2023-03-22T10:00:38.559Z"
   },
   {
    "duration": 37,
    "start_time": "2023-03-22T10:00:38.615Z"
   },
   {
    "duration": 43,
    "start_time": "2023-03-22T10:00:38.654Z"
   },
   {
    "duration": 61,
    "start_time": "2023-03-22T10:00:38.700Z"
   },
   {
    "duration": 9,
    "start_time": "2023-03-22T10:00:38.764Z"
   },
   {
    "duration": 26,
    "start_time": "2023-03-22T10:00:38.775Z"
   },
   {
    "duration": 104,
    "start_time": "2023-03-22T10:00:38.802Z"
   },
   {
    "duration": 12,
    "start_time": "2023-03-22T10:00:38.908Z"
   },
   {
    "duration": 38,
    "start_time": "2023-03-22T10:00:38.922Z"
   },
   {
    "duration": 15,
    "start_time": "2023-03-22T10:00:38.963Z"
   },
   {
    "duration": 53,
    "start_time": "2023-03-22T10:00:38.980Z"
   },
   {
    "duration": 51,
    "start_time": "2023-03-22T10:00:39.035Z"
   },
   {
    "duration": 61,
    "start_time": "2023-03-22T10:00:39.088Z"
   },
   {
    "duration": 20,
    "start_time": "2023-03-22T10:00:39.151Z"
   },
   {
    "duration": 61,
    "start_time": "2023-03-22T10:00:39.173Z"
   },
   {
    "duration": 10,
    "start_time": "2023-03-22T10:00:39.236Z"
   },
   {
    "duration": 24,
    "start_time": "2023-03-22T10:00:39.248Z"
   },
   {
    "duration": 53,
    "start_time": "2023-03-22T10:00:39.274Z"
   },
   {
    "duration": 44,
    "start_time": "2023-03-22T10:00:39.331Z"
   },
   {
    "duration": 37,
    "start_time": "2023-03-22T10:00:39.377Z"
   },
   {
    "duration": 32,
    "start_time": "2023-03-22T10:00:39.417Z"
   },
   {
    "duration": 41,
    "start_time": "2023-03-22T10:00:39.452Z"
   },
   {
    "duration": 25,
    "start_time": "2023-03-22T10:00:39.496Z"
   },
   {
    "duration": 46,
    "start_time": "2023-03-22T10:00:39.523Z"
   },
   {
    "duration": 41,
    "start_time": "2023-03-22T10:00:39.571Z"
   },
   {
    "duration": 20,
    "start_time": "2023-03-22T10:00:39.614Z"
   },
   {
    "duration": 48,
    "start_time": "2023-03-22T10:00:39.636Z"
   },
   {
    "duration": 13,
    "start_time": "2023-03-22T10:00:39.686Z"
   },
   {
    "duration": 27,
    "start_time": "2023-03-22T10:00:39.701Z"
   },
   {
    "duration": 50,
    "start_time": "2023-03-22T10:00:39.730Z"
   },
   {
    "duration": 11,
    "start_time": "2023-03-22T10:00:39.782Z"
   },
   {
    "duration": 28,
    "start_time": "2023-03-22T10:00:39.795Z"
   },
   {
    "duration": 38,
    "start_time": "2023-03-22T10:00:39.825Z"
   },
   {
    "duration": 38,
    "start_time": "2023-03-22T10:00:39.865Z"
   },
   {
    "duration": 39,
    "start_time": "2023-03-22T10:00:39.906Z"
   },
   {
    "duration": 483,
    "start_time": "2023-03-22T10:00:43.946Z"
   },
   {
    "duration": 161,
    "start_time": "2023-03-22T10:02:36.715Z"
   },
   {
    "duration": 615,
    "start_time": "2023-03-22T10:02:44.342Z"
   },
   {
    "duration": 682,
    "start_time": "2023-03-22T10:05:49.600Z"
   },
   {
    "duration": 14,
    "start_time": "2023-03-22T10:08:26.310Z"
   },
   {
    "duration": 608,
    "start_time": "2023-03-22T10:08:43.883Z"
   },
   {
    "duration": 748,
    "start_time": "2023-03-22T10:10:59.028Z"
   },
   {
    "duration": 621,
    "start_time": "2023-03-22T10:11:15.028Z"
   },
   {
    "duration": 607,
    "start_time": "2023-03-22T10:11:25.382Z"
   },
   {
    "duration": 14,
    "start_time": "2023-03-22T10:11:49.980Z"
   },
   {
    "duration": 632,
    "start_time": "2023-03-22T10:11:55.574Z"
   },
   {
    "duration": 21,
    "start_time": "2023-03-22T10:13:59.612Z"
   },
   {
    "duration": 809,
    "start_time": "2023-03-22T10:14:10.306Z"
   },
   {
    "duration": 790,
    "start_time": "2023-03-22T10:14:31.410Z"
   },
   {
    "duration": 694,
    "start_time": "2023-03-22T10:14:41.001Z"
   },
   {
    "duration": 846,
    "start_time": "2023-03-22T10:16:07.680Z"
   },
   {
    "duration": 693,
    "start_time": "2023-03-22T10:19:31.695Z"
   },
   {
    "duration": 594,
    "start_time": "2023-03-22T10:21:15.671Z"
   },
   {
    "duration": 17,
    "start_time": "2023-03-22T10:22:37.150Z"
   },
   {
    "duration": 726,
    "start_time": "2023-03-22T10:22:46.175Z"
   },
   {
    "duration": 14,
    "start_time": "2023-03-22T10:23:08.950Z"
   },
   {
    "duration": 873,
    "start_time": "2023-03-22T10:23:14.607Z"
   },
   {
    "duration": 745,
    "start_time": "2023-03-22T10:26:19.446Z"
   },
   {
    "duration": 13,
    "start_time": "2023-03-22T11:02:35.393Z"
   },
   {
    "duration": 344,
    "start_time": "2023-03-22T11:04:02.214Z"
   },
   {
    "duration": 31,
    "start_time": "2023-03-22T11:04:21.588Z"
   },
   {
    "duration": 459,
    "start_time": "2023-03-22T11:04:25.801Z"
   },
   {
    "duration": 2006,
    "start_time": "2023-03-22T11:05:05.072Z"
   },
   {
    "duration": 360,
    "start_time": "2023-03-22T11:05:22.276Z"
   },
   {
    "duration": 766,
    "start_time": "2023-03-22T11:11:39.076Z"
   },
   {
    "duration": 7,
    "start_time": "2023-03-22T11:12:08.050Z"
   },
   {
    "duration": 10,
    "start_time": "2023-03-22T11:12:50.203Z"
   },
   {
    "duration": 15,
    "start_time": "2023-03-22T11:13:36.709Z"
   },
   {
    "duration": 9,
    "start_time": "2023-03-22T11:13:41.229Z"
   },
   {
    "duration": 23,
    "start_time": "2023-03-22T11:13:51.083Z"
   },
   {
    "duration": 3,
    "start_time": "2023-03-22T11:17:06.972Z"
   },
   {
    "duration": 19,
    "start_time": "2023-03-22T11:17:12.948Z"
   },
   {
    "duration": 5,
    "start_time": "2023-03-22T11:17:37.212Z"
   },
   {
    "duration": 10,
    "start_time": "2023-03-22T11:17:40.907Z"
   },
   {
    "duration": 7,
    "start_time": "2023-03-22T11:17:43.449Z"
   },
   {
    "duration": 11,
    "start_time": "2023-03-22T11:17:46.539Z"
   },
   {
    "duration": 15,
    "start_time": "2023-03-22T11:20:31.047Z"
   },
   {
    "duration": 14,
    "start_time": "2023-03-22T11:22:04.781Z"
   },
   {
    "duration": 737,
    "start_time": "2023-03-22T11:33:01.290Z"
   },
   {
    "duration": 22,
    "start_time": "2023-03-22T11:36:40.484Z"
   },
   {
    "duration": 32,
    "start_time": "2023-03-22T11:36:49.989Z"
   },
   {
    "duration": 4,
    "start_time": "2023-03-22T11:37:16.519Z"
   },
   {
    "duration": 16,
    "start_time": "2023-03-22T11:37:23.944Z"
   },
   {
    "duration": 4,
    "start_time": "2023-03-22T11:37:49.188Z"
   },
   {
    "duration": 691,
    "start_time": "2023-03-22T11:37:49.195Z"
   },
   {
    "duration": 15,
    "start_time": "2023-03-22T11:37:49.888Z"
   },
   {
    "duration": 22,
    "start_time": "2023-03-22T11:37:49.908Z"
   },
   {
    "duration": 28,
    "start_time": "2023-03-22T11:37:49.933Z"
   },
   {
    "duration": 43,
    "start_time": "2023-03-22T11:37:49.965Z"
   },
   {
    "duration": 77,
    "start_time": "2023-03-22T11:37:50.014Z"
   },
   {
    "duration": 18,
    "start_time": "2023-03-22T11:37:50.093Z"
   },
   {
    "duration": 20,
    "start_time": "2023-03-22T11:37:50.116Z"
   },
   {
    "duration": 13,
    "start_time": "2023-03-22T11:37:50.138Z"
   },
   {
    "duration": 45,
    "start_time": "2023-03-22T11:37:50.154Z"
   },
   {
    "duration": 148,
    "start_time": "2023-03-22T11:37:50.202Z"
   },
   {
    "duration": 483,
    "start_time": "2023-03-22T11:37:50.352Z"
   },
   {
    "duration": 73,
    "start_time": "2023-03-22T11:37:50.839Z"
   },
   {
    "duration": 130,
    "start_time": "2023-03-22T11:37:50.913Z"
   },
   {
    "duration": 14,
    "start_time": "2023-03-22T11:37:51.046Z"
   },
   {
    "duration": 16,
    "start_time": "2023-03-22T11:37:51.062Z"
   },
   {
    "duration": 15,
    "start_time": "2023-03-22T11:37:51.100Z"
   },
   {
    "duration": 17,
    "start_time": "2023-03-22T11:37:51.117Z"
   },
   {
    "duration": 11,
    "start_time": "2023-03-22T11:37:51.137Z"
   },
   {
    "duration": 61,
    "start_time": "2023-03-22T11:37:51.150Z"
   },
   {
    "duration": 71,
    "start_time": "2023-03-22T11:37:51.212Z"
   },
   {
    "duration": 27,
    "start_time": "2023-03-22T11:37:51.285Z"
   },
   {
    "duration": 5,
    "start_time": "2023-03-22T11:37:51.314Z"
   },
   {
    "duration": 82,
    "start_time": "2023-03-22T11:37:51.321Z"
   },
   {
    "duration": 12,
    "start_time": "2023-03-22T11:37:51.405Z"
   },
   {
    "duration": 19,
    "start_time": "2023-03-22T11:37:51.419Z"
   },
   {
    "duration": 6,
    "start_time": "2023-03-22T11:37:51.440Z"
   },
   {
    "duration": 13,
    "start_time": "2023-03-22T11:37:51.448Z"
   },
   {
    "duration": 5,
    "start_time": "2023-03-22T11:37:51.463Z"
   },
   {
    "duration": 42,
    "start_time": "2023-03-22T11:37:51.498Z"
   },
   {
    "duration": 17,
    "start_time": "2023-03-22T11:37:51.542Z"
   },
   {
    "duration": 67,
    "start_time": "2023-03-22T11:37:51.561Z"
   },
   {
    "duration": 29,
    "start_time": "2023-03-22T11:37:51.630Z"
   },
   {
    "duration": 5,
    "start_time": "2023-03-22T11:37:51.661Z"
   },
   {
    "duration": 16,
    "start_time": "2023-03-22T11:37:51.668Z"
   },
   {
    "duration": 52,
    "start_time": "2023-03-22T11:37:51.686Z"
   },
   {
    "duration": 17,
    "start_time": "2023-03-22T11:37:51.740Z"
   },
   {
    "duration": 16,
    "start_time": "2023-03-22T11:37:51.759Z"
   },
   {
    "duration": 48,
    "start_time": "2023-03-22T11:37:51.777Z"
   },
   {
    "duration": 9,
    "start_time": "2023-03-22T11:37:51.830Z"
   },
   {
    "duration": 22,
    "start_time": "2023-03-22T11:37:51.841Z"
   },
   {
    "duration": 57,
    "start_time": "2023-03-22T11:37:51.866Z"
   },
   {
    "duration": 14,
    "start_time": "2023-03-22T11:37:51.925Z"
   },
   {
    "duration": 5,
    "start_time": "2023-03-22T11:37:51.941Z"
   },
   {
    "duration": 16,
    "start_time": "2023-03-22T11:37:51.948Z"
   },
   {
    "duration": 6,
    "start_time": "2023-03-22T11:37:51.966Z"
   },
   {
    "duration": 33,
    "start_time": "2023-03-22T11:37:52.005Z"
   },
   {
    "duration": 11,
    "start_time": "2023-03-22T11:37:52.040Z"
   },
   {
    "duration": 15,
    "start_time": "2023-03-22T11:37:52.053Z"
   },
   {
    "duration": 35,
    "start_time": "2023-03-22T11:37:52.070Z"
   },
   {
    "duration": 27,
    "start_time": "2023-03-22T11:37:52.108Z"
   },
   {
    "duration": 912,
    "start_time": "2023-03-22T11:37:52.137Z"
   },
   {
    "duration": 7,
    "start_time": "2023-03-22T11:37:53.052Z"
   },
   {
    "duration": 51,
    "start_time": "2023-03-22T11:37:53.060Z"
   },
   {
    "duration": 16,
    "start_time": "2023-03-22T11:37:53.114Z"
   },
   {
    "duration": 11,
    "start_time": "2023-03-22T11:37:53.132Z"
   },
   {
    "duration": 17,
    "start_time": "2023-03-22T11:38:03.017Z"
   },
   {
    "duration": 13,
    "start_time": "2023-03-22T11:40:38.226Z"
   },
   {
    "duration": 8,
    "start_time": "2023-03-22T11:42:52.033Z"
   },
   {
    "duration": 18,
    "start_time": "2023-03-22T11:43:34.341Z"
   },
   {
    "duration": 4,
    "start_time": "2023-03-22T11:43:45.928Z"
   },
   {
    "duration": 629,
    "start_time": "2023-03-22T11:43:45.934Z"
   },
   {
    "duration": 9,
    "start_time": "2023-03-22T11:43:46.565Z"
   },
   {
    "duration": 14,
    "start_time": "2023-03-22T11:43:46.577Z"
   },
   {
    "duration": 16,
    "start_time": "2023-03-22T11:43:46.593Z"
   },
   {
    "duration": 36,
    "start_time": "2023-03-22T11:43:46.611Z"
   },
   {
    "duration": 88,
    "start_time": "2023-03-22T11:43:46.649Z"
   },
   {
    "duration": 12,
    "start_time": "2023-03-22T11:43:46.739Z"
   },
   {
    "duration": 15,
    "start_time": "2023-03-22T11:43:46.755Z"
   },
   {
    "duration": 29,
    "start_time": "2023-03-22T11:43:46.772Z"
   },
   {
    "duration": 32,
    "start_time": "2023-03-22T11:43:46.803Z"
   },
   {
    "duration": 189,
    "start_time": "2023-03-22T11:43:46.838Z"
   },
   {
    "duration": 371,
    "start_time": "2023-03-22T11:43:47.029Z"
   },
   {
    "duration": 46,
    "start_time": "2023-03-22T11:43:47.402Z"
   },
   {
    "duration": 120,
    "start_time": "2023-03-22T11:43:47.450Z"
   },
   {
    "duration": 14,
    "start_time": "2023-03-22T11:43:47.572Z"
   },
   {
    "duration": 11,
    "start_time": "2023-03-22T11:43:47.601Z"
   },
   {
    "duration": 11,
    "start_time": "2023-03-22T11:43:47.614Z"
   },
   {
    "duration": 12,
    "start_time": "2023-03-22T11:43:47.627Z"
   },
   {
    "duration": 10,
    "start_time": "2023-03-22T11:43:47.642Z"
   },
   {
    "duration": 60,
    "start_time": "2023-03-22T11:43:47.653Z"
   },
   {
    "duration": 56,
    "start_time": "2023-03-22T11:43:47.715Z"
   },
   {
    "duration": 26,
    "start_time": "2023-03-22T11:43:47.773Z"
   },
   {
    "duration": 4,
    "start_time": "2023-03-22T11:43:47.803Z"
   },
   {
    "duration": 89,
    "start_time": "2023-03-22T11:43:47.809Z"
   },
   {
    "duration": 10,
    "start_time": "2023-03-22T11:43:47.900Z"
   },
   {
    "duration": 13,
    "start_time": "2023-03-22T11:43:47.912Z"
   },
   {
    "duration": 5,
    "start_time": "2023-03-22T11:43:47.927Z"
   },
   {
    "duration": 26,
    "start_time": "2023-03-22T11:43:47.934Z"
   },
   {
    "duration": 36,
    "start_time": "2023-03-22T11:43:47.962Z"
   },
   {
    "duration": 48,
    "start_time": "2023-03-22T11:43:48.000Z"
   },
   {
    "duration": 19,
    "start_time": "2023-03-22T11:43:48.050Z"
   },
   {
    "duration": 53,
    "start_time": "2023-03-22T11:43:48.071Z"
   },
   {
    "duration": 12,
    "start_time": "2023-03-22T11:43:48.126Z"
   },
   {
    "duration": 14,
    "start_time": "2023-03-22T11:43:48.140Z"
   },
   {
    "duration": 15,
    "start_time": "2023-03-22T11:43:48.156Z"
   },
   {
    "duration": 57,
    "start_time": "2023-03-22T11:43:48.173Z"
   },
   {
    "duration": 15,
    "start_time": "2023-03-22T11:43:48.232Z"
   },
   {
    "duration": 22,
    "start_time": "2023-03-22T11:43:48.249Z"
   },
   {
    "duration": 45,
    "start_time": "2023-03-22T11:43:48.273Z"
   },
   {
    "duration": 11,
    "start_time": "2023-03-22T11:43:48.320Z"
   },
   {
    "duration": 12,
    "start_time": "2023-03-22T11:43:48.333Z"
   },
   {
    "duration": 55,
    "start_time": "2023-03-22T11:43:48.347Z"
   },
   {
    "duration": 14,
    "start_time": "2023-03-22T11:43:48.404Z"
   },
   {
    "duration": 6,
    "start_time": "2023-03-22T11:43:48.420Z"
   },
   {
    "duration": 8,
    "start_time": "2023-03-22T11:43:48.427Z"
   },
   {
    "duration": 13,
    "start_time": "2023-03-22T11:43:48.437Z"
   },
   {
    "duration": 47,
    "start_time": "2023-03-22T11:43:48.452Z"
   },
   {
    "duration": 10,
    "start_time": "2023-03-22T11:43:48.500Z"
   },
   {
    "duration": 11,
    "start_time": "2023-03-22T11:43:48.512Z"
   },
   {
    "duration": 12,
    "start_time": "2023-03-22T11:43:48.525Z"
   },
   {
    "duration": 14,
    "start_time": "2023-03-22T11:43:48.539Z"
   },
   {
    "duration": 733,
    "start_time": "2023-03-22T11:43:48.555Z"
   },
   {
    "duration": 9,
    "start_time": "2023-03-22T11:43:49.290Z"
   },
   {
    "duration": 16,
    "start_time": "2023-03-22T11:43:49.301Z"
   },
   {
    "duration": 14,
    "start_time": "2023-03-22T11:43:49.319Z"
   },
   {
    "duration": 71,
    "start_time": "2023-03-22T11:43:49.336Z"
   },
   {
    "duration": 16,
    "start_time": "2023-03-22T11:44:07.816Z"
   },
   {
    "duration": 17,
    "start_time": "2023-03-22T11:46:09.904Z"
   },
   {
    "duration": 17,
    "start_time": "2023-03-22T11:46:25.106Z"
   },
   {
    "duration": 17,
    "start_time": "2023-03-22T11:46:38.696Z"
   },
   {
    "duration": 4,
    "start_time": "2023-03-22T11:47:14.514Z"
   },
   {
    "duration": 10,
    "start_time": "2023-03-22T11:47:20.731Z"
   },
   {
    "duration": 4,
    "start_time": "2023-03-22T11:47:53.200Z"
   },
   {
    "duration": 16,
    "start_time": "2023-03-22T11:58:02.051Z"
   },
   {
    "duration": 16,
    "start_time": "2023-03-22T11:58:11.909Z"
   },
   {
    "duration": 10,
    "start_time": "2023-03-22T11:58:24.196Z"
   },
   {
    "duration": 9,
    "start_time": "2023-03-22T12:01:48.219Z"
   },
   {
    "duration": 16,
    "start_time": "2023-03-22T12:02:05.861Z"
   },
   {
    "duration": 16,
    "start_time": "2023-03-22T12:04:42.724Z"
   },
   {
    "duration": 9,
    "start_time": "2023-03-22T12:04:56.998Z"
   },
   {
    "duration": 22,
    "start_time": "2023-03-22T12:05:10.527Z"
   },
   {
    "duration": 12,
    "start_time": "2023-03-22T12:06:28.793Z"
   },
   {
    "duration": 10,
    "start_time": "2023-03-22T12:06:48.528Z"
   },
   {
    "duration": 11,
    "start_time": "2023-03-22T12:07:08.094Z"
   },
   {
    "duration": 10,
    "start_time": "2023-03-22T12:07:24.179Z"
   },
   {
    "duration": 13,
    "start_time": "2023-03-22T12:22:01.044Z"
   },
   {
    "duration": 32,
    "start_time": "2023-03-22T12:22:22.494Z"
   },
   {
    "duration": 1081,
    "start_time": "2023-03-22T12:23:17.210Z"
   },
   {
    "duration": 18,
    "start_time": "2023-03-22T12:25:35.349Z"
   },
   {
    "duration": 15,
    "start_time": "2023-03-22T12:25:53.127Z"
   },
   {
    "duration": 13,
    "start_time": "2023-03-22T12:26:01.950Z"
   },
   {
    "duration": 7,
    "start_time": "2023-03-22T12:27:14.464Z"
   },
   {
    "duration": 8,
    "start_time": "2023-03-22T12:28:33.302Z"
   },
   {
    "duration": 18,
    "start_time": "2023-03-22T12:29:31.423Z"
   },
   {
    "duration": 12,
    "start_time": "2023-03-22T12:29:43.205Z"
   },
   {
    "duration": 979,
    "start_time": "2023-03-22T12:29:55.128Z"
   },
   {
    "duration": 12,
    "start_time": "2023-03-22T12:30:00.329Z"
   },
   {
    "duration": 3078,
    "start_time": "2023-03-22T12:35:21.392Z"
   },
   {
    "duration": 1117,
    "start_time": "2023-03-22T12:35:54.749Z"
   },
   {
    "duration": 4,
    "start_time": "2023-03-22T12:36:00.736Z"
   },
   {
    "duration": 677,
    "start_time": "2023-03-22T12:36:00.742Z"
   },
   {
    "duration": 10,
    "start_time": "2023-03-22T12:36:01.421Z"
   },
   {
    "duration": 48,
    "start_time": "2023-03-22T12:36:01.435Z"
   },
   {
    "duration": 84,
    "start_time": "2023-03-22T12:36:01.485Z"
   },
   {
    "duration": 39,
    "start_time": "2023-03-22T12:36:01.570Z"
   },
   {
    "duration": 84,
    "start_time": "2023-03-22T12:36:01.611Z"
   },
   {
    "duration": 10,
    "start_time": "2023-03-22T12:36:01.698Z"
   },
   {
    "duration": 29,
    "start_time": "2023-03-22T12:36:01.711Z"
   },
   {
    "duration": 64,
    "start_time": "2023-03-22T12:36:01.742Z"
   },
   {
    "duration": 62,
    "start_time": "2023-03-22T12:36:01.808Z"
   },
   {
    "duration": 157,
    "start_time": "2023-03-22T12:36:01.871Z"
   },
   {
    "duration": 408,
    "start_time": "2023-03-22T12:36:02.031Z"
   },
   {
    "duration": 61,
    "start_time": "2023-03-22T12:36:02.441Z"
   },
   {
    "duration": 106,
    "start_time": "2023-03-22T12:36:02.504Z"
   },
   {
    "duration": 13,
    "start_time": "2023-03-22T12:36:02.612Z"
   },
   {
    "duration": 38,
    "start_time": "2023-03-22T12:36:02.626Z"
   },
   {
    "duration": 34,
    "start_time": "2023-03-22T12:36:02.666Z"
   },
   {
    "duration": 15,
    "start_time": "2023-03-22T12:36:02.702Z"
   },
   {
    "duration": 25,
    "start_time": "2023-03-22T12:36:02.719Z"
   },
   {
    "duration": 51,
    "start_time": "2023-03-22T12:36:02.746Z"
   },
   {
    "duration": 57,
    "start_time": "2023-03-22T12:36:02.799Z"
   },
   {
    "duration": 9,
    "start_time": "2023-03-22T12:36:02.858Z"
   },
   {
    "duration": 11,
    "start_time": "2023-03-22T12:36:02.872Z"
   },
   {
    "duration": 78,
    "start_time": "2023-03-22T12:36:02.884Z"
   },
   {
    "duration": 11,
    "start_time": "2023-03-22T12:36:02.964Z"
   },
   {
    "duration": 17,
    "start_time": "2023-03-22T12:36:02.998Z"
   },
   {
    "duration": 7,
    "start_time": "2023-03-22T12:36:03.017Z"
   },
   {
    "duration": 13,
    "start_time": "2023-03-22T12:36:03.026Z"
   },
   {
    "duration": 6,
    "start_time": "2023-03-22T12:36:03.041Z"
   },
   {
    "duration": 66,
    "start_time": "2023-03-22T12:36:03.049Z"
   },
   {
    "duration": 16,
    "start_time": "2023-03-22T12:36:03.116Z"
   },
   {
    "duration": 48,
    "start_time": "2023-03-22T12:36:03.134Z"
   },
   {
    "duration": 8,
    "start_time": "2023-03-22T12:36:03.184Z"
   },
   {
    "duration": 8,
    "start_time": "2023-03-22T12:36:03.194Z"
   },
   {
    "duration": 15,
    "start_time": "2023-03-22T12:36:03.204Z"
   },
   {
    "duration": 44,
    "start_time": "2023-03-22T12:36:03.221Z"
   },
   {
    "duration": 35,
    "start_time": "2023-03-22T12:36:03.267Z"
   },
   {
    "duration": 20,
    "start_time": "2023-03-22T12:36:03.304Z"
   },
   {
    "duration": 23,
    "start_time": "2023-03-22T12:36:03.326Z"
   },
   {
    "duration": 10,
    "start_time": "2023-03-22T12:36:03.351Z"
   },
   {
    "duration": 34,
    "start_time": "2023-03-22T12:36:03.363Z"
   },
   {
    "duration": 31,
    "start_time": "2023-03-22T12:36:03.399Z"
   },
   {
    "duration": 13,
    "start_time": "2023-03-22T12:36:03.432Z"
   },
   {
    "duration": 7,
    "start_time": "2023-03-22T12:36:03.447Z"
   },
   {
    "duration": 7,
    "start_time": "2023-03-22T12:36:03.456Z"
   },
   {
    "duration": 36,
    "start_time": "2023-03-22T12:36:03.465Z"
   },
   {
    "duration": 33,
    "start_time": "2023-03-22T12:36:03.503Z"
   },
   {
    "duration": 10,
    "start_time": "2023-03-22T12:36:03.538Z"
   },
   {
    "duration": 10,
    "start_time": "2023-03-22T12:36:03.550Z"
   },
   {
    "duration": 39,
    "start_time": "2023-03-22T12:36:03.561Z"
   },
   {
    "duration": 17,
    "start_time": "2023-03-22T12:36:03.603Z"
   },
   {
    "duration": 705,
    "start_time": "2023-03-22T12:36:03.621Z"
   },
   {
    "duration": 7,
    "start_time": "2023-03-22T12:36:04.328Z"
   },
   {
    "duration": 23,
    "start_time": "2023-03-22T12:36:04.337Z"
   },
   {
    "duration": 37,
    "start_time": "2023-03-22T12:36:04.362Z"
   },
   {
    "duration": 29,
    "start_time": "2023-03-22T12:36:04.401Z"
   },
   {
    "duration": 9,
    "start_time": "2023-03-22T12:36:08.175Z"
   },
   {
    "duration": 4,
    "start_time": "2023-03-22T12:38:52.306Z"
   },
   {
    "duration": 648,
    "start_time": "2023-03-22T12:38:52.313Z"
   },
   {
    "duration": 10,
    "start_time": "2023-03-22T12:38:52.963Z"
   },
   {
    "duration": 20,
    "start_time": "2023-03-22T12:38:52.975Z"
   },
   {
    "duration": 26,
    "start_time": "2023-03-22T12:38:52.999Z"
   },
   {
    "duration": 37,
    "start_time": "2023-03-22T12:38:53.028Z"
   },
   {
    "duration": 78,
    "start_time": "2023-03-22T12:38:53.068Z"
   },
   {
    "duration": 9,
    "start_time": "2023-03-22T12:38:53.148Z"
   },
   {
    "duration": 16,
    "start_time": "2023-03-22T12:38:53.159Z"
   },
   {
    "duration": 29,
    "start_time": "2023-03-22T12:38:53.178Z"
   },
   {
    "duration": 27,
    "start_time": "2023-03-22T12:38:53.213Z"
   },
   {
    "duration": 163,
    "start_time": "2023-03-22T12:38:53.242Z"
   },
   {
    "duration": 470,
    "start_time": "2023-03-22T12:38:53.407Z"
   },
   {
    "duration": 74,
    "start_time": "2023-03-22T12:38:53.880Z"
   },
   {
    "duration": 130,
    "start_time": "2023-03-22T12:38:53.956Z"
   },
   {
    "duration": 21,
    "start_time": "2023-03-22T12:38:54.088Z"
   },
   {
    "duration": 11,
    "start_time": "2023-03-22T12:38:54.110Z"
   },
   {
    "duration": 10,
    "start_time": "2023-03-22T12:38:54.123Z"
   },
   {
    "duration": 11,
    "start_time": "2023-03-22T12:38:54.136Z"
   },
   {
    "duration": 54,
    "start_time": "2023-03-22T12:38:54.149Z"
   },
   {
    "duration": 40,
    "start_time": "2023-03-22T12:38:54.206Z"
   },
   {
    "duration": 92,
    "start_time": "2023-03-22T12:38:54.249Z"
   },
   {
    "duration": 13,
    "start_time": "2023-03-22T12:38:54.343Z"
   },
   {
    "duration": 8,
    "start_time": "2023-03-22T12:38:54.358Z"
   },
   {
    "duration": 114,
    "start_time": "2023-03-22T12:38:54.367Z"
   },
   {
    "duration": 23,
    "start_time": "2023-03-22T12:38:54.483Z"
   },
   {
    "duration": 14,
    "start_time": "2023-03-22T12:38:54.508Z"
   },
   {
    "duration": 8,
    "start_time": "2023-03-22T12:38:54.524Z"
   },
   {
    "duration": 33,
    "start_time": "2023-03-22T12:38:54.538Z"
   },
   {
    "duration": 27,
    "start_time": "2023-03-22T12:38:54.574Z"
   },
   {
    "duration": 52,
    "start_time": "2023-03-22T12:38:54.603Z"
   },
   {
    "duration": 42,
    "start_time": "2023-03-22T12:38:54.657Z"
   },
   {
    "duration": 28,
    "start_time": "2023-03-22T12:38:54.701Z"
   },
   {
    "duration": 9,
    "start_time": "2023-03-22T12:38:54.731Z"
   },
   {
    "duration": 15,
    "start_time": "2023-03-22T12:38:54.742Z"
   },
   {
    "duration": 39,
    "start_time": "2023-03-22T12:38:54.759Z"
   },
   {
    "duration": 61,
    "start_time": "2023-03-22T12:38:54.801Z"
   },
   {
    "duration": 34,
    "start_time": "2023-03-22T12:38:54.865Z"
   },
   {
    "duration": 19,
    "start_time": "2023-03-22T12:38:54.900Z"
   },
   {
    "duration": 23,
    "start_time": "2023-03-22T12:38:54.921Z"
   },
   {
    "duration": 8,
    "start_time": "2023-03-22T12:38:54.946Z"
   },
   {
    "duration": 45,
    "start_time": "2023-03-22T12:38:54.956Z"
   },
   {
    "duration": 30,
    "start_time": "2023-03-22T12:38:55.003Z"
   },
   {
    "duration": 14,
    "start_time": "2023-03-22T12:38:55.036Z"
   },
   {
    "duration": 16,
    "start_time": "2023-03-22T12:38:55.053Z"
   },
   {
    "duration": 31,
    "start_time": "2023-03-22T12:38:55.071Z"
   },
   {
    "duration": 16,
    "start_time": "2023-03-22T12:38:55.104Z"
   },
   {
    "duration": 41,
    "start_time": "2023-03-22T12:38:55.123Z"
   },
   {
    "duration": 10,
    "start_time": "2023-03-22T12:38:55.166Z"
   },
   {
    "duration": 25,
    "start_time": "2023-03-22T12:38:55.178Z"
   },
   {
    "duration": 17,
    "start_time": "2023-03-22T12:38:55.205Z"
   },
   {
    "duration": 20,
    "start_time": "2023-03-22T12:38:55.224Z"
   },
   {
    "duration": 877,
    "start_time": "2023-03-22T12:38:55.247Z"
   },
   {
    "duration": 9,
    "start_time": "2023-03-22T12:38:56.127Z"
   },
   {
    "duration": 6,
    "start_time": "2023-03-22T12:38:58.681Z"
   },
   {
    "duration": 663,
    "start_time": "2023-03-22T12:38:58.689Z"
   },
   {
    "duration": 9,
    "start_time": "2023-03-22T12:38:59.354Z"
   },
   {
    "duration": 19,
    "start_time": "2023-03-22T12:38:59.365Z"
   },
   {
    "duration": 15,
    "start_time": "2023-03-22T12:38:59.386Z"
   },
   {
    "duration": 29,
    "start_time": "2023-03-22T12:38:59.403Z"
   },
   {
    "duration": 90,
    "start_time": "2023-03-22T12:38:59.436Z"
   },
   {
    "duration": 10,
    "start_time": "2023-03-22T12:38:59.528Z"
   },
   {
    "duration": 20,
    "start_time": "2023-03-22T12:38:59.540Z"
   },
   {
    "duration": 11,
    "start_time": "2023-03-22T12:38:59.562Z"
   },
   {
    "duration": 51,
    "start_time": "2023-03-22T12:38:59.576Z"
   },
   {
    "duration": 176,
    "start_time": "2023-03-22T12:38:59.629Z"
   },
   {
    "duration": 436,
    "start_time": "2023-03-22T12:38:59.807Z"
   },
   {
    "duration": 79,
    "start_time": "2023-03-22T12:39:00.248Z"
   },
   {
    "duration": 140,
    "start_time": "2023-03-22T12:39:00.329Z"
   },
   {
    "duration": 27,
    "start_time": "2023-03-22T12:39:00.472Z"
   },
   {
    "duration": 18,
    "start_time": "2023-03-22T12:39:00.501Z"
   },
   {
    "duration": 55,
    "start_time": "2023-03-22T12:39:00.521Z"
   },
   {
    "duration": 58,
    "start_time": "2023-03-22T12:39:00.579Z"
   },
   {
    "duration": 60,
    "start_time": "2023-03-22T12:39:00.639Z"
   },
   {
    "duration": 47,
    "start_time": "2023-03-22T12:39:00.701Z"
   },
   {
    "duration": 65,
    "start_time": "2023-03-22T12:39:00.750Z"
   },
   {
    "duration": 11,
    "start_time": "2023-03-22T12:39:00.817Z"
   },
   {
    "duration": 38,
    "start_time": "2023-03-22T12:39:00.831Z"
   },
   {
    "duration": 115,
    "start_time": "2023-03-22T12:39:00.871Z"
   },
   {
    "duration": 18,
    "start_time": "2023-03-22T12:39:00.988Z"
   },
   {
    "duration": 44,
    "start_time": "2023-03-22T12:39:01.009Z"
   },
   {
    "duration": 41,
    "start_time": "2023-03-22T12:39:01.055Z"
   },
   {
    "duration": 33,
    "start_time": "2023-03-22T12:39:01.097Z"
   },
   {
    "duration": 82,
    "start_time": "2023-03-22T12:39:01.132Z"
   },
   {
    "duration": 106,
    "start_time": "2023-03-22T12:39:01.216Z"
   },
   {
    "duration": 233,
    "start_time": "2023-03-22T12:39:01.324Z"
   },
   {
    "duration": 58,
    "start_time": "2023-03-22T12:39:01.560Z"
   },
   {
    "duration": 67,
    "start_time": "2023-03-22T12:39:01.620Z"
   },
   {
    "duration": 45,
    "start_time": "2023-03-22T12:39:01.689Z"
   },
   {
    "duration": 43,
    "start_time": "2023-03-22T12:39:01.737Z"
   },
   {
    "duration": 114,
    "start_time": "2023-03-22T12:39:01.782Z"
   },
   {
    "duration": 61,
    "start_time": "2023-03-22T12:39:01.898Z"
   },
   {
    "duration": 65,
    "start_time": "2023-03-22T12:39:01.961Z"
   },
   {
    "duration": 54,
    "start_time": "2023-03-22T12:39:02.028Z"
   },
   {
    "duration": 21,
    "start_time": "2023-03-22T12:39:02.086Z"
   },
   {
    "duration": 46,
    "start_time": "2023-03-22T12:39:02.109Z"
   },
   {
    "duration": 72,
    "start_time": "2023-03-22T12:39:02.157Z"
   },
   {
    "duration": 16,
    "start_time": "2023-03-22T12:39:02.231Z"
   },
   {
    "duration": 14,
    "start_time": "2023-03-22T12:39:02.250Z"
   },
   {
    "duration": 8,
    "start_time": "2023-03-22T12:39:02.266Z"
   },
   {
    "duration": 25,
    "start_time": "2023-03-22T12:39:02.276Z"
   },
   {
    "duration": 46,
    "start_time": "2023-03-22T12:39:02.304Z"
   },
   {
    "duration": 10,
    "start_time": "2023-03-22T12:39:02.352Z"
   },
   {
    "duration": 24,
    "start_time": "2023-03-22T12:39:02.364Z"
   },
   {
    "duration": 40,
    "start_time": "2023-03-22T12:39:02.390Z"
   },
   {
    "duration": 30,
    "start_time": "2023-03-22T12:39:02.433Z"
   },
   {
    "duration": 718,
    "start_time": "2023-03-22T12:39:02.465Z"
   },
   {
    "duration": 14,
    "start_time": "2023-03-22T12:39:03.185Z"
   },
   {
    "duration": 17,
    "start_time": "2023-03-22T12:39:03.202Z"
   },
   {
    "duration": 12,
    "start_time": "2023-03-22T12:39:03.221Z"
   },
   {
    "duration": 86,
    "start_time": "2023-03-22T12:39:03.236Z"
   },
   {
    "duration": 19,
    "start_time": "2023-03-22T12:39:03.324Z"
   },
   {
    "duration": 9,
    "start_time": "2023-03-22T12:39:03.345Z"
   },
   {
    "duration": 24,
    "start_time": "2023-03-22T12:39:03.356Z"
   },
   {
    "duration": 16,
    "start_time": "2023-03-22T12:39:03.383Z"
   },
   {
    "duration": 19,
    "start_time": "2023-03-22T12:39:07.236Z"
   },
   {
    "duration": 0,
    "start_time": "2023-03-22T12:40:12.232Z"
   },
   {
    "duration": 2490,
    "start_time": "2023-03-22T12:41:09.118Z"
   },
   {
    "duration": 4,
    "start_time": "2023-03-22T12:41:23.943Z"
   },
   {
    "duration": 648,
    "start_time": "2023-03-22T12:41:23.950Z"
   },
   {
    "duration": 10,
    "start_time": "2023-03-22T12:41:24.600Z"
   },
   {
    "duration": 13,
    "start_time": "2023-03-22T12:41:24.612Z"
   },
   {
    "duration": 9,
    "start_time": "2023-03-22T12:41:24.629Z"
   },
   {
    "duration": 22,
    "start_time": "2023-03-22T12:41:24.641Z"
   },
   {
    "duration": 94,
    "start_time": "2023-03-22T12:41:24.665Z"
   },
   {
    "duration": 10,
    "start_time": "2023-03-22T12:41:24.761Z"
   },
   {
    "duration": 32,
    "start_time": "2023-03-22T12:41:24.772Z"
   },
   {
    "duration": 17,
    "start_time": "2023-03-22T12:41:24.807Z"
   },
   {
    "duration": 37,
    "start_time": "2023-03-22T12:41:24.827Z"
   },
   {
    "duration": 154,
    "start_time": "2023-03-22T12:41:24.866Z"
   },
   {
    "duration": 410,
    "start_time": "2023-03-22T12:41:25.022Z"
   },
   {
    "duration": 66,
    "start_time": "2023-03-22T12:41:25.436Z"
   },
   {
    "duration": 122,
    "start_time": "2023-03-22T12:41:25.504Z"
   },
   {
    "duration": 17,
    "start_time": "2023-03-22T12:41:25.628Z"
   },
   {
    "duration": 10,
    "start_time": "2023-03-22T12:41:25.647Z"
   },
   {
    "duration": 42,
    "start_time": "2023-03-22T12:41:25.659Z"
   },
   {
    "duration": 11,
    "start_time": "2023-03-22T12:41:25.703Z"
   },
   {
    "duration": 12,
    "start_time": "2023-03-22T12:41:25.716Z"
   },
   {
    "duration": 29,
    "start_time": "2023-03-22T12:41:25.730Z"
   },
   {
    "duration": 82,
    "start_time": "2023-03-22T12:41:25.760Z"
   },
   {
    "duration": 9,
    "start_time": "2023-03-22T12:41:25.844Z"
   },
   {
    "duration": 6,
    "start_time": "2023-03-22T12:41:25.855Z"
   },
   {
    "duration": 92,
    "start_time": "2023-03-22T12:41:25.863Z"
   },
   {
    "duration": 12,
    "start_time": "2023-03-22T12:41:25.957Z"
   },
   {
    "duration": 30,
    "start_time": "2023-03-22T12:41:25.970Z"
   },
   {
    "duration": 6,
    "start_time": "2023-03-22T12:41:26.001Z"
   },
   {
    "duration": 11,
    "start_time": "2023-03-22T12:41:26.010Z"
   },
   {
    "duration": 5,
    "start_time": "2023-03-22T12:41:26.023Z"
   },
   {
    "duration": 39,
    "start_time": "2023-03-22T12:41:26.030Z"
   },
   {
    "duration": 21,
    "start_time": "2023-03-22T12:41:26.098Z"
   },
   {
    "duration": 26,
    "start_time": "2023-03-22T12:41:26.121Z"
   },
   {
    "duration": 8,
    "start_time": "2023-03-22T12:41:26.149Z"
   },
   {
    "duration": 8,
    "start_time": "2023-03-22T12:41:26.158Z"
   },
   {
    "duration": 12,
    "start_time": "2023-03-22T12:41:26.198Z"
   },
   {
    "duration": 39,
    "start_time": "2023-03-22T12:41:26.211Z"
   },
   {
    "duration": 14,
    "start_time": "2023-03-22T12:41:26.252Z"
   },
   {
    "duration": 51,
    "start_time": "2023-03-22T12:41:26.268Z"
   },
   {
    "duration": 22,
    "start_time": "2023-03-22T12:41:26.321Z"
   },
   {
    "duration": 8,
    "start_time": "2023-03-22T12:41:26.348Z"
   },
   {
    "duration": 12,
    "start_time": "2023-03-22T12:41:26.359Z"
   },
   {
    "duration": 48,
    "start_time": "2023-03-22T12:41:26.373Z"
   },
   {
    "duration": 16,
    "start_time": "2023-03-22T12:41:26.423Z"
   },
   {
    "duration": 19,
    "start_time": "2023-03-22T12:41:26.442Z"
   },
   {
    "duration": 8,
    "start_time": "2023-03-22T12:41:26.463Z"
   },
   {
    "duration": 26,
    "start_time": "2023-03-22T12:41:26.473Z"
   },
   {
    "duration": 27,
    "start_time": "2023-03-22T12:41:26.501Z"
   },
   {
    "duration": 11,
    "start_time": "2023-03-22T12:41:26.530Z"
   },
   {
    "duration": 11,
    "start_time": "2023-03-22T12:41:26.542Z"
   },
   {
    "duration": 15,
    "start_time": "2023-03-22T12:41:26.555Z"
   },
   {
    "duration": 14,
    "start_time": "2023-03-22T12:41:26.598Z"
   },
   {
    "duration": 729,
    "start_time": "2023-03-22T12:41:26.614Z"
   },
   {
    "duration": 8,
    "start_time": "2023-03-22T12:41:27.346Z"
   },
   {
    "duration": 41,
    "start_time": "2023-03-22T12:41:27.356Z"
   },
   {
    "duration": 19,
    "start_time": "2023-03-22T12:41:27.400Z"
   },
   {
    "duration": 13,
    "start_time": "2023-03-22T12:41:27.422Z"
   },
   {
    "duration": 13,
    "start_time": "2023-03-22T12:41:31.806Z"
   },
   {
    "duration": 15,
    "start_time": "2023-03-22T12:41:58.709Z"
   },
   {
    "duration": 9,
    "start_time": "2023-03-22T12:42:10.052Z"
   },
   {
    "duration": 4,
    "start_time": "2023-03-22T13:03:10.866Z"
   },
   {
    "duration": 644,
    "start_time": "2023-03-22T13:03:10.872Z"
   },
   {
    "duration": 9,
    "start_time": "2023-03-22T13:03:11.518Z"
   },
   {
    "duration": 21,
    "start_time": "2023-03-22T13:03:11.528Z"
   },
   {
    "duration": 25,
    "start_time": "2023-03-22T13:03:11.551Z"
   },
   {
    "duration": 40,
    "start_time": "2023-03-22T13:03:11.578Z"
   },
   {
    "duration": 74,
    "start_time": "2023-03-22T13:03:11.620Z"
   },
   {
    "duration": 12,
    "start_time": "2023-03-22T13:03:11.699Z"
   },
   {
    "duration": 21,
    "start_time": "2023-03-22T13:03:11.713Z"
   },
   {
    "duration": 12,
    "start_time": "2023-03-22T13:03:11.737Z"
   },
   {
    "duration": 62,
    "start_time": "2023-03-22T13:03:11.753Z"
   },
   {
    "duration": 191,
    "start_time": "2023-03-22T13:03:11.817Z"
   },
   {
    "duration": 412,
    "start_time": "2023-03-22T13:03:12.009Z"
   },
   {
    "duration": 79,
    "start_time": "2023-03-22T13:03:12.423Z"
   },
   {
    "duration": 125,
    "start_time": "2023-03-22T13:03:12.504Z"
   },
   {
    "duration": 17,
    "start_time": "2023-03-22T13:03:12.631Z"
   },
   {
    "duration": 41,
    "start_time": "2023-03-22T13:03:12.651Z"
   },
   {
    "duration": 27,
    "start_time": "2023-03-22T13:03:12.694Z"
   },
   {
    "duration": 34,
    "start_time": "2023-03-22T13:03:12.723Z"
   },
   {
    "duration": 10,
    "start_time": "2023-03-22T13:03:12.759Z"
   },
   {
    "duration": 40,
    "start_time": "2023-03-22T13:03:12.773Z"
   },
   {
    "duration": 62,
    "start_time": "2023-03-22T13:03:12.815Z"
   },
   {
    "duration": 23,
    "start_time": "2023-03-22T13:03:12.880Z"
   },
   {
    "duration": 65,
    "start_time": "2023-03-22T13:03:12.905Z"
   },
   {
    "duration": 29,
    "start_time": "2023-03-22T13:03:12.972Z"
   },
   {
    "duration": 15,
    "start_time": "2023-03-22T13:03:13.003Z"
   },
   {
    "duration": 14,
    "start_time": "2023-03-22T13:03:13.020Z"
   },
   {
    "duration": 12,
    "start_time": "2023-03-22T13:03:13.036Z"
   },
   {
    "duration": 65,
    "start_time": "2023-03-22T13:03:13.052Z"
   },
   {
    "duration": 18,
    "start_time": "2023-03-22T13:03:13.119Z"
   },
   {
    "duration": 28,
    "start_time": "2023-03-22T13:03:13.139Z"
   },
   {
    "duration": 35,
    "start_time": "2023-03-22T13:03:13.169Z"
   },
   {
    "duration": 17,
    "start_time": "2023-03-22T13:03:13.207Z"
   },
   {
    "duration": 77,
    "start_time": "2023-03-22T13:03:13.226Z"
   },
   {
    "duration": 19,
    "start_time": "2023-03-22T13:03:13.306Z"
   },
   {
    "duration": 24,
    "start_time": "2023-03-22T13:03:13.327Z"
   },
   {
    "duration": 53,
    "start_time": "2023-03-22T13:03:13.354Z"
   },
   {
    "duration": 10,
    "start_time": "2023-03-22T13:03:13.410Z"
   },
   {
    "duration": 19,
    "start_time": "2023-03-22T13:03:13.422Z"
   },
   {
    "duration": 55,
    "start_time": "2023-03-22T13:03:13.443Z"
   },
   {
    "duration": 13,
    "start_time": "2023-03-22T13:03:13.500Z"
   },
   {
    "duration": 9,
    "start_time": "2023-03-22T13:03:13.515Z"
   },
   {
    "duration": 8,
    "start_time": "2023-03-22T13:03:13.526Z"
   },
   {
    "duration": 9,
    "start_time": "2023-03-22T13:03:13.535Z"
   },
   {
    "duration": 54,
    "start_time": "2023-03-22T13:03:13.546Z"
   },
   {
    "duration": 12,
    "start_time": "2023-03-22T13:03:13.603Z"
   },
   {
    "duration": 23,
    "start_time": "2023-03-22T13:03:13.617Z"
   },
   {
    "duration": 16,
    "start_time": "2023-03-22T13:03:13.642Z"
   },
   {
    "duration": 37,
    "start_time": "2023-03-22T13:03:13.660Z"
   },
   {
    "duration": 810,
    "start_time": "2023-03-22T13:03:13.700Z"
   },
   {
    "duration": 7,
    "start_time": "2023-03-22T13:03:14.512Z"
   },
   {
    "duration": 12,
    "start_time": "2023-03-22T13:03:14.521Z"
   },
   {
    "duration": 12,
    "start_time": "2023-03-22T13:03:14.534Z"
   },
   {
    "duration": 55,
    "start_time": "2023-03-22T13:03:14.548Z"
   },
   {
    "duration": 13,
    "start_time": "2023-03-22T13:03:14.605Z"
   },
   {
    "duration": 5,
    "start_time": "2023-03-22T13:03:14.620Z"
   },
   {
    "duration": 72,
    "start_time": "2023-03-22T13:03:14.628Z"
   },
   {
    "duration": 17,
    "start_time": "2023-03-22T13:03:14.702Z"
   },
   {
    "duration": 24,
    "start_time": "2023-03-22T13:03:14.721Z"
   },
   {
    "duration": 300,
    "start_time": "2023-03-22T13:10:00.945Z"
   },
   {
    "duration": 64,
    "start_time": "2023-03-22T13:20:38.194Z"
   },
   {
    "duration": 16,
    "start_time": "2023-03-22T13:20:39.929Z"
   },
   {
    "duration": 6,
    "start_time": "2023-03-22T13:21:41.685Z"
   },
   {
    "duration": 45,
    "start_time": "2023-03-22T13:26:15.946Z"
   },
   {
    "duration": 33,
    "start_time": "2023-03-22T13:26:19.810Z"
   },
   {
    "duration": 34,
    "start_time": "2023-03-22T13:26:44.757Z"
   },
   {
    "duration": 35,
    "start_time": "2023-03-22T13:26:55.058Z"
   },
   {
    "duration": 8,
    "start_time": "2023-03-22T13:30:33.225Z"
   },
   {
    "duration": 10,
    "start_time": "2023-03-22T13:30:34.410Z"
   },
   {
    "duration": 8,
    "start_time": "2023-03-22T13:31:58.053Z"
   },
   {
    "duration": 8,
    "start_time": "2023-03-22T13:32:02.216Z"
   },
   {
    "duration": 5,
    "start_time": "2023-03-22T13:32:29.410Z"
   },
   {
    "duration": 12,
    "start_time": "2023-03-22T13:33:18.554Z"
   },
   {
    "duration": 13,
    "start_time": "2023-03-22T14:06:54.783Z"
   },
   {
    "duration": 13,
    "start_time": "2023-03-22T14:07:07.423Z"
   },
   {
    "duration": 12,
    "start_time": "2023-03-22T14:07:11.418Z"
   },
   {
    "duration": 67,
    "start_time": "2023-03-22T14:08:38.422Z"
   },
   {
    "duration": 4,
    "start_time": "2023-03-22T14:22:49.160Z"
   },
   {
    "duration": 697,
    "start_time": "2023-03-22T14:22:49.166Z"
   },
   {
    "duration": 9,
    "start_time": "2023-03-22T14:22:49.865Z"
   },
   {
    "duration": 15,
    "start_time": "2023-03-22T14:22:49.875Z"
   },
   {
    "duration": 12,
    "start_time": "2023-03-22T14:22:49.893Z"
   },
   {
    "duration": 34,
    "start_time": "2023-03-22T14:22:49.907Z"
   },
   {
    "duration": 90,
    "start_time": "2023-03-22T14:22:49.944Z"
   },
   {
    "duration": 10,
    "start_time": "2023-03-22T14:22:50.036Z"
   },
   {
    "duration": 15,
    "start_time": "2023-03-22T14:22:50.048Z"
   },
   {
    "duration": 15,
    "start_time": "2023-03-22T14:22:50.065Z"
   },
   {
    "duration": 56,
    "start_time": "2023-03-22T14:22:50.083Z"
   },
   {
    "duration": 131,
    "start_time": "2023-03-22T14:22:50.141Z"
   },
   {
    "duration": 501,
    "start_time": "2023-03-22T14:22:50.274Z"
   },
   {
    "duration": 67,
    "start_time": "2023-03-22T14:22:50.777Z"
   },
   {
    "duration": 127,
    "start_time": "2023-03-22T14:22:50.846Z"
   },
   {
    "duration": 29,
    "start_time": "2023-03-22T14:22:50.974Z"
   },
   {
    "duration": 9,
    "start_time": "2023-03-22T14:22:51.007Z"
   },
   {
    "duration": 11,
    "start_time": "2023-03-22T14:22:51.018Z"
   },
   {
    "duration": 15,
    "start_time": "2023-03-22T14:22:51.031Z"
   },
   {
    "duration": 11,
    "start_time": "2023-03-22T14:22:51.048Z"
   },
   {
    "duration": 77,
    "start_time": "2023-03-22T14:22:51.060Z"
   },
   {
    "duration": 58,
    "start_time": "2023-03-22T14:22:51.139Z"
   },
   {
    "duration": 17,
    "start_time": "2023-03-22T14:22:51.198Z"
   },
   {
    "duration": 69,
    "start_time": "2023-03-22T14:22:51.217Z"
   },
   {
    "duration": 21,
    "start_time": "2023-03-22T14:22:51.288Z"
   },
   {
    "duration": 7,
    "start_time": "2023-03-22T14:22:51.312Z"
   },
   {
    "duration": 15,
    "start_time": "2023-03-22T14:22:51.321Z"
   },
   {
    "duration": 37,
    "start_time": "2023-03-22T14:22:51.338Z"
   },
   {
    "duration": 25,
    "start_time": "2023-03-22T14:22:51.402Z"
   },
   {
    "duration": 33,
    "start_time": "2023-03-22T14:22:51.429Z"
   },
   {
    "duration": 8,
    "start_time": "2023-03-22T14:22:51.464Z"
   },
   {
    "duration": 34,
    "start_time": "2023-03-22T14:22:51.475Z"
   },
   {
    "duration": 12,
    "start_time": "2023-03-22T14:22:51.511Z"
   },
   {
    "duration": 48,
    "start_time": "2023-03-22T14:22:51.525Z"
   },
   {
    "duration": 46,
    "start_time": "2023-03-22T14:22:51.574Z"
   },
   {
    "duration": 28,
    "start_time": "2023-03-22T14:22:51.629Z"
   },
   {
    "duration": 30,
    "start_time": "2023-03-22T14:22:51.659Z"
   },
   {
    "duration": 36,
    "start_time": "2023-03-22T14:22:51.690Z"
   },
   {
    "duration": 32,
    "start_time": "2023-03-22T14:22:51.729Z"
   },
   {
    "duration": 11,
    "start_time": "2023-03-22T14:22:51.763Z"
   },
   {
    "duration": 15,
    "start_time": "2023-03-22T14:22:51.776Z"
   },
   {
    "duration": 30,
    "start_time": "2023-03-22T14:22:51.793Z"
   },
   {
    "duration": 9,
    "start_time": "2023-03-22T14:22:51.825Z"
   },
   {
    "duration": 31,
    "start_time": "2023-03-22T14:22:51.836Z"
   },
   {
    "duration": 9,
    "start_time": "2023-03-22T14:22:51.869Z"
   },
   {
    "duration": 15,
    "start_time": "2023-03-22T14:22:51.880Z"
   },
   {
    "duration": 33,
    "start_time": "2023-03-22T14:22:51.897Z"
   },
   {
    "duration": 20,
    "start_time": "2023-03-22T14:22:51.932Z"
   },
   {
    "duration": 895,
    "start_time": "2023-03-22T14:22:51.955Z"
   },
   {
    "duration": 8,
    "start_time": "2023-03-22T14:22:52.852Z"
   },
   {
    "duration": 57,
    "start_time": "2023-03-22T14:22:52.862Z"
   },
   {
    "duration": 13,
    "start_time": "2023-03-22T14:22:52.922Z"
   },
   {
    "duration": 62,
    "start_time": "2023-03-22T14:22:52.938Z"
   },
   {
    "duration": 26,
    "start_time": "2023-03-22T14:22:53.003Z"
   },
   {
    "duration": 11,
    "start_time": "2023-03-22T14:22:53.031Z"
   },
   {
    "duration": 29,
    "start_time": "2023-03-22T14:22:53.044Z"
   },
   {
    "duration": 8,
    "start_time": "2023-03-22T14:22:53.075Z"
   },
   {
    "duration": 22,
    "start_time": "2023-03-22T14:22:53.085Z"
   },
   {
    "duration": 1118,
    "start_time": "2023-03-22T15:06:03.695Z"
   },
   {
    "duration": 845,
    "start_time": "2023-03-22T15:06:04.814Z"
   },
   {
    "duration": 10,
    "start_time": "2023-03-22T15:06:05.661Z"
   },
   {
    "duration": 20,
    "start_time": "2023-03-22T15:06:05.673Z"
   },
   {
    "duration": 9,
    "start_time": "2023-03-22T15:06:05.694Z"
   },
   {
    "duration": 32,
    "start_time": "2023-03-22T15:06:05.704Z"
   },
   {
    "duration": 52,
    "start_time": "2023-03-22T15:06:05.738Z"
   },
   {
    "duration": 8,
    "start_time": "2023-03-22T15:06:05.792Z"
   },
   {
    "duration": 19,
    "start_time": "2023-03-22T15:06:05.802Z"
   },
   {
    "duration": 16,
    "start_time": "2023-03-22T15:06:05.828Z"
   },
   {
    "duration": 25,
    "start_time": "2023-03-22T15:06:05.846Z"
   },
   {
    "duration": 118,
    "start_time": "2023-03-22T15:06:05.872Z"
   },
   {
    "duration": 394,
    "start_time": "2023-03-22T15:06:05.992Z"
   },
   {
    "duration": 58,
    "start_time": "2023-03-22T15:06:06.390Z"
   },
   {
    "duration": 97,
    "start_time": "2023-03-22T15:06:06.449Z"
   },
   {
    "duration": 12,
    "start_time": "2023-03-22T15:06:06.548Z"
   },
   {
    "duration": 8,
    "start_time": "2023-03-22T15:06:06.561Z"
   },
   {
    "duration": 15,
    "start_time": "2023-03-22T15:06:06.571Z"
   },
   {
    "duration": 47,
    "start_time": "2023-03-22T15:06:06.588Z"
   },
   {
    "duration": 9,
    "start_time": "2023-03-22T15:06:06.637Z"
   },
   {
    "duration": 28,
    "start_time": "2023-03-22T15:06:06.647Z"
   },
   {
    "duration": 59,
    "start_time": "2023-03-22T15:06:06.677Z"
   },
   {
    "duration": 6,
    "start_time": "2023-03-22T15:06:06.738Z"
   },
   {
    "duration": 60,
    "start_time": "2023-03-22T15:06:06.745Z"
   },
   {
    "duration": 11,
    "start_time": "2023-03-22T15:06:06.808Z"
   },
   {
    "duration": 26,
    "start_time": "2023-03-22T15:06:06.820Z"
   },
   {
    "duration": 156,
    "start_time": "2023-03-22T15:06:06.847Z"
   },
   {
    "duration": 35,
    "start_time": "2023-03-22T15:06:07.004Z"
   },
   {
    "duration": 20,
    "start_time": "2023-03-22T15:06:07.041Z"
   },
   {
    "duration": 89,
    "start_time": "2023-03-22T15:06:07.062Z"
   },
   {
    "duration": 7,
    "start_time": "2023-03-22T15:06:07.153Z"
   },
   {
    "duration": 5,
    "start_time": "2023-03-22T15:06:07.161Z"
   },
   {
    "duration": 12,
    "start_time": "2023-03-22T15:06:07.167Z"
   },
   {
    "duration": 35,
    "start_time": "2023-03-22T15:06:07.222Z"
   },
   {
    "duration": 11,
    "start_time": "2023-03-22T15:06:07.258Z"
   },
   {
    "duration": 17,
    "start_time": "2023-03-22T15:06:07.271Z"
   },
   {
    "duration": 44,
    "start_time": "2023-03-22T15:06:07.290Z"
   },
   {
    "duration": 6,
    "start_time": "2023-03-22T15:06:07.336Z"
   },
   {
    "duration": 22,
    "start_time": "2023-03-22T15:06:07.343Z"
   },
   {
    "duration": 10,
    "start_time": "2023-03-22T15:06:07.367Z"
   },
   {
    "duration": 117,
    "start_time": "2023-03-22T15:06:07.380Z"
   },
   {
    "duration": 0,
    "start_time": "2023-03-22T15:06:07.498Z"
   },
   {
    "duration": 0,
    "start_time": "2023-03-22T15:06:07.499Z"
   },
   {
    "duration": 0,
    "start_time": "2023-03-22T15:06:07.500Z"
   },
   {
    "duration": 0,
    "start_time": "2023-03-22T15:06:07.501Z"
   },
   {
    "duration": 0,
    "start_time": "2023-03-22T15:06:07.502Z"
   },
   {
    "duration": 0,
    "start_time": "2023-03-22T15:06:07.503Z"
   },
   {
    "duration": 0,
    "start_time": "2023-03-22T15:06:07.504Z"
   },
   {
    "duration": 0,
    "start_time": "2023-03-22T15:06:07.505Z"
   },
   {
    "duration": 0,
    "start_time": "2023-03-22T15:06:07.537Z"
   },
   {
    "duration": 0,
    "start_time": "2023-03-22T15:06:07.538Z"
   },
   {
    "duration": 0,
    "start_time": "2023-03-22T15:06:07.539Z"
   },
   {
    "duration": 0,
    "start_time": "2023-03-22T15:06:07.540Z"
   },
   {
    "duration": 0,
    "start_time": "2023-03-22T15:06:07.541Z"
   },
   {
    "duration": 0,
    "start_time": "2023-03-22T15:06:07.542Z"
   },
   {
    "duration": 0,
    "start_time": "2023-03-22T15:06:07.543Z"
   },
   {
    "duration": 0,
    "start_time": "2023-03-22T15:06:07.545Z"
   },
   {
    "duration": 0,
    "start_time": "2023-03-22T15:06:07.545Z"
   },
   {
    "duration": 70,
    "start_time": "2023-03-22T21:32:24.197Z"
   },
   {
    "duration": 1440,
    "start_time": "2023-03-22T21:32:30.352Z"
   },
   {
    "duration": 1166,
    "start_time": "2023-03-22T21:32:31.793Z"
   },
   {
    "duration": 11,
    "start_time": "2023-03-22T21:32:32.973Z"
   },
   {
    "duration": 8,
    "start_time": "2023-03-22T21:32:32.985Z"
   },
   {
    "duration": 11,
    "start_time": "2023-03-22T21:32:32.994Z"
   },
   {
    "duration": 13,
    "start_time": "2023-03-22T21:32:33.007Z"
   },
   {
    "duration": 74,
    "start_time": "2023-03-22T21:32:33.036Z"
   },
   {
    "duration": 9,
    "start_time": "2023-03-22T21:32:33.112Z"
   },
   {
    "duration": 56,
    "start_time": "2023-03-22T21:32:33.129Z"
   },
   {
    "duration": 6,
    "start_time": "2023-03-22T21:32:33.187Z"
   },
   {
    "duration": 61,
    "start_time": "2023-03-22T21:32:33.194Z"
   },
   {
    "duration": 125,
    "start_time": "2023-03-22T21:32:33.262Z"
   },
   {
    "duration": 377,
    "start_time": "2023-03-22T21:32:33.388Z"
   },
   {
    "duration": 45,
    "start_time": "2023-03-22T21:32:33.772Z"
   },
   {
    "duration": 172,
    "start_time": "2023-03-22T21:32:33.818Z"
   },
   {
    "duration": 11,
    "start_time": "2023-03-22T21:32:33.992Z"
   },
   {
    "duration": 7,
    "start_time": "2023-03-22T21:32:34.005Z"
   },
   {
    "duration": 32,
    "start_time": "2023-03-22T21:32:34.013Z"
   },
   {
    "duration": 38,
    "start_time": "2023-03-22T21:32:34.056Z"
   },
   {
    "duration": 8,
    "start_time": "2023-03-22T21:32:34.096Z"
   },
   {
    "duration": 45,
    "start_time": "2023-03-22T21:32:34.106Z"
   },
   {
    "duration": 101,
    "start_time": "2023-03-22T21:32:34.152Z"
   },
   {
    "duration": 20,
    "start_time": "2023-03-22T21:32:34.265Z"
   },
   {
    "duration": 112,
    "start_time": "2023-03-22T21:32:34.287Z"
   },
   {
    "duration": 15,
    "start_time": "2023-03-22T21:32:34.400Z"
   },
   {
    "duration": 5,
    "start_time": "2023-03-22T21:32:34.416Z"
   },
   {
    "duration": 263,
    "start_time": "2023-03-22T21:32:34.428Z"
   },
   {
    "duration": 89,
    "start_time": "2023-03-22T21:32:34.696Z"
   },
   {
    "duration": 25,
    "start_time": "2023-03-22T21:32:34.787Z"
   },
   {
    "duration": 69,
    "start_time": "2023-03-22T21:32:34.814Z"
   },
   {
    "duration": 33,
    "start_time": "2023-03-22T21:32:34.886Z"
   },
   {
    "duration": 47,
    "start_time": "2023-03-22T21:32:34.920Z"
   },
   {
    "duration": 21,
    "start_time": "2023-03-22T21:32:34.969Z"
   },
   {
    "duration": 48,
    "start_time": "2023-03-22T21:32:34.992Z"
   },
   {
    "duration": 60,
    "start_time": "2023-03-22T21:32:35.041Z"
   },
   {
    "duration": 14,
    "start_time": "2023-03-22T21:32:35.103Z"
   },
   {
    "duration": 53,
    "start_time": "2023-03-22T21:32:35.118Z"
   },
   {
    "duration": 13,
    "start_time": "2023-03-22T21:32:35.184Z"
   },
   {
    "duration": 39,
    "start_time": "2023-03-22T21:32:35.198Z"
   },
   {
    "duration": 19,
    "start_time": "2023-03-22T21:32:35.242Z"
   },
   {
    "duration": 4,
    "start_time": "2023-03-22T21:32:45.283Z"
   },
   {
    "duration": 9,
    "start_time": "2023-03-22T21:32:51.242Z"
   },
   {
    "duration": 4,
    "start_time": "2023-03-22T21:33:08.074Z"
   },
   {
    "duration": 9,
    "start_time": "2023-03-22T21:33:13.043Z"
   },
   {
    "duration": 661,
    "start_time": "2023-03-22T21:33:13.054Z"
   },
   {
    "duration": 28,
    "start_time": "2023-03-22T21:33:13.716Z"
   },
   {
    "duration": 32,
    "start_time": "2023-03-22T21:33:13.750Z"
   },
   {
    "duration": 9,
    "start_time": "2023-03-22T21:33:13.784Z"
   },
   {
    "duration": 18,
    "start_time": "2023-03-22T21:33:13.795Z"
   },
   {
    "duration": 85,
    "start_time": "2023-03-22T21:33:13.814Z"
   },
   {
    "duration": 7,
    "start_time": "2023-03-22T21:33:13.901Z"
   },
   {
    "duration": 38,
    "start_time": "2023-03-22T21:33:13.909Z"
   },
   {
    "duration": 27,
    "start_time": "2023-03-22T21:33:13.960Z"
   },
   {
    "duration": 27,
    "start_time": "2023-03-22T21:33:13.989Z"
   },
   {
    "duration": 149,
    "start_time": "2023-03-22T21:33:14.018Z"
   },
   {
    "duration": 347,
    "start_time": "2023-03-22T21:33:14.169Z"
   },
   {
    "duration": 65,
    "start_time": "2023-03-22T21:33:14.520Z"
   },
   {
    "duration": 115,
    "start_time": "2023-03-22T21:33:14.586Z"
   },
   {
    "duration": 24,
    "start_time": "2023-03-22T21:33:14.703Z"
   },
   {
    "duration": 55,
    "start_time": "2023-03-22T21:33:14.729Z"
   },
   {
    "duration": 12,
    "start_time": "2023-03-22T21:33:14.785Z"
   },
   {
    "duration": 10,
    "start_time": "2023-03-22T21:33:14.799Z"
   },
   {
    "duration": 22,
    "start_time": "2023-03-22T21:33:14.810Z"
   },
   {
    "duration": 51,
    "start_time": "2023-03-22T21:33:14.847Z"
   },
   {
    "duration": 76,
    "start_time": "2023-03-22T21:33:14.900Z"
   },
   {
    "duration": 9,
    "start_time": "2023-03-22T21:33:14.977Z"
   },
   {
    "duration": 61,
    "start_time": "2023-03-22T21:33:14.988Z"
   },
   {
    "duration": 28,
    "start_time": "2023-03-22T21:33:15.051Z"
   },
   {
    "duration": 28,
    "start_time": "2023-03-22T21:33:15.081Z"
   },
   {
    "duration": 60,
    "start_time": "2023-03-22T21:33:15.110Z"
   },
   {
    "duration": 81,
    "start_time": "2023-03-22T21:33:15.173Z"
   },
   {
    "duration": 16,
    "start_time": "2023-03-22T21:33:15.263Z"
   },
   {
    "duration": 74,
    "start_time": "2023-03-22T21:33:15.281Z"
   },
   {
    "duration": 15,
    "start_time": "2023-03-22T21:33:15.368Z"
   },
   {
    "duration": 15,
    "start_time": "2023-03-22T21:33:15.385Z"
   },
   {
    "duration": 37,
    "start_time": "2023-03-22T21:33:15.402Z"
   },
   {
    "duration": 72,
    "start_time": "2023-03-22T21:33:15.441Z"
   },
   {
    "duration": 33,
    "start_time": "2023-03-22T21:33:15.514Z"
   },
   {
    "duration": 49,
    "start_time": "2023-03-22T21:33:15.549Z"
   },
   {
    "duration": 19,
    "start_time": "2023-03-22T21:33:15.599Z"
   },
   {
    "duration": 36,
    "start_time": "2023-03-22T21:33:15.619Z"
   },
   {
    "duration": 86,
    "start_time": "2023-03-22T21:33:15.657Z"
   },
   {
    "duration": 43,
    "start_time": "2023-03-22T21:33:15.745Z"
   },
   {
    "duration": 8,
    "start_time": "2023-03-22T21:33:15.792Z"
   },
   {
    "duration": 8,
    "start_time": "2023-03-22T21:33:15.802Z"
   },
   {
    "duration": 7,
    "start_time": "2023-03-22T21:33:15.811Z"
   },
   {
    "duration": 77,
    "start_time": "2023-03-22T21:33:15.819Z"
   },
   {
    "duration": 7,
    "start_time": "2023-03-22T21:33:15.897Z"
   },
   {
    "duration": 7,
    "start_time": "2023-03-22T21:33:15.905Z"
   },
   {
    "duration": 49,
    "start_time": "2023-03-22T21:33:15.914Z"
   },
   {
    "duration": 36,
    "start_time": "2023-03-22T21:33:15.972Z"
   },
   {
    "duration": 1244,
    "start_time": "2023-03-22T21:33:16.009Z"
   },
   {
    "duration": 16,
    "start_time": "2023-03-22T21:33:17.263Z"
   },
   {
    "duration": 13,
    "start_time": "2023-03-22T21:33:17.281Z"
   },
   {
    "duration": 60,
    "start_time": "2023-03-22T21:33:17.296Z"
   },
   {
    "duration": 33,
    "start_time": "2023-03-22T21:33:17.358Z"
   },
   {
    "duration": 11,
    "start_time": "2023-03-22T21:33:17.393Z"
   },
   {
    "duration": 75,
    "start_time": "2023-03-22T21:33:17.405Z"
   },
   {
    "duration": 12,
    "start_time": "2023-03-22T21:33:17.482Z"
   },
   {
    "duration": 47,
    "start_time": "2023-03-22T21:33:17.496Z"
   },
   {
    "duration": 30,
    "start_time": "2023-03-22T21:33:17.552Z"
   },
   {
    "duration": 10,
    "start_time": "2023-03-22T21:34:40.941Z"
   },
   {
    "duration": 658,
    "start_time": "2023-03-22T21:34:40.952Z"
   },
   {
    "duration": 8,
    "start_time": "2023-03-22T21:34:41.611Z"
   },
   {
    "duration": 57,
    "start_time": "2023-03-22T21:34:41.620Z"
   },
   {
    "duration": 9,
    "start_time": "2023-03-22T21:34:41.680Z"
   },
   {
    "duration": 17,
    "start_time": "2023-03-22T21:34:41.690Z"
   },
   {
    "duration": 100,
    "start_time": "2023-03-22T21:34:41.709Z"
   },
   {
    "duration": 7,
    "start_time": "2023-03-22T21:34:41.810Z"
   },
   {
    "duration": 80,
    "start_time": "2023-03-22T21:34:41.819Z"
   },
   {
    "duration": 6,
    "start_time": "2023-03-22T21:34:41.900Z"
   },
   {
    "duration": 75,
    "start_time": "2023-03-22T21:34:41.908Z"
   },
   {
    "duration": 124,
    "start_time": "2023-03-22T21:34:41.985Z"
   },
   {
    "duration": 372,
    "start_time": "2023-03-22T21:34:42.110Z"
   },
   {
    "duration": 35,
    "start_time": "2023-03-22T21:34:42.486Z"
   },
   {
    "duration": 131,
    "start_time": "2023-03-22T21:34:42.522Z"
   },
   {
    "duration": 39,
    "start_time": "2023-03-22T21:34:42.658Z"
   },
   {
    "duration": 10,
    "start_time": "2023-03-22T21:34:42.698Z"
   },
   {
    "duration": 11,
    "start_time": "2023-03-22T21:34:42.709Z"
   },
   {
    "duration": 77,
    "start_time": "2023-03-22T21:34:42.721Z"
   },
   {
    "duration": 11,
    "start_time": "2023-03-22T21:34:42.799Z"
   },
   {
    "duration": 30,
    "start_time": "2023-03-22T21:34:42.811Z"
   },
   {
    "duration": 103,
    "start_time": "2023-03-22T21:34:42.843Z"
   },
   {
    "duration": 22,
    "start_time": "2023-03-22T21:34:42.948Z"
   },
   {
    "duration": 69,
    "start_time": "2023-03-22T21:34:42.975Z"
   },
   {
    "duration": 23,
    "start_time": "2023-03-22T21:34:43.055Z"
   },
   {
    "duration": 14,
    "start_time": "2023-03-22T21:34:43.081Z"
   },
   {
    "duration": 16,
    "start_time": "2023-03-22T21:34:43.096Z"
   },
   {
    "duration": 74,
    "start_time": "2023-03-22T21:34:43.113Z"
   },
   {
    "duration": 14,
    "start_time": "2023-03-22T21:34:43.188Z"
   },
   {
    "duration": 50,
    "start_time": "2023-03-22T21:34:43.204Z"
   },
   {
    "duration": 9,
    "start_time": "2023-03-22T21:34:43.256Z"
   },
   {
    "duration": 14,
    "start_time": "2023-03-22T21:34:43.267Z"
   },
   {
    "duration": 13,
    "start_time": "2023-03-22T21:34:43.283Z"
   },
   {
    "duration": 60,
    "start_time": "2023-03-22T21:34:43.298Z"
   },
   {
    "duration": 21,
    "start_time": "2023-03-22T21:34:43.368Z"
   },
   {
    "duration": 16,
    "start_time": "2023-03-22T21:34:43.390Z"
   },
   {
    "duration": 48,
    "start_time": "2023-03-22T21:34:43.407Z"
   },
   {
    "duration": 25,
    "start_time": "2023-03-22T21:34:43.464Z"
   },
   {
    "duration": 22,
    "start_time": "2023-03-22T21:34:43.490Z"
   },
   {
    "duration": 37,
    "start_time": "2023-03-22T21:34:43.514Z"
   },
   {
    "duration": 24,
    "start_time": "2023-03-22T21:34:43.555Z"
   },
   {
    "duration": 8,
    "start_time": "2023-03-22T21:34:43.580Z"
   },
   {
    "duration": 6,
    "start_time": "2023-03-22T21:34:43.589Z"
   },
   {
    "duration": 23,
    "start_time": "2023-03-22T21:34:43.596Z"
   },
   {
    "duration": 27,
    "start_time": "2023-03-22T21:34:43.620Z"
   },
   {
    "duration": 41,
    "start_time": "2023-03-22T21:34:43.649Z"
   },
   {
    "duration": 10,
    "start_time": "2023-03-22T21:34:43.692Z"
   },
   {
    "duration": 11,
    "start_time": "2023-03-22T21:34:43.703Z"
   },
   {
    "duration": 888,
    "start_time": "2023-03-22T21:34:43.715Z"
   },
   {
    "duration": 7,
    "start_time": "2023-03-22T21:34:44.604Z"
   },
   {
    "duration": 63,
    "start_time": "2023-03-22T21:34:44.612Z"
   },
   {
    "duration": 34,
    "start_time": "2023-03-22T21:34:44.680Z"
   },
   {
    "duration": 56,
    "start_time": "2023-03-22T21:34:44.716Z"
   },
   {
    "duration": 13,
    "start_time": "2023-03-22T21:34:44.775Z"
   },
   {
    "duration": 11,
    "start_time": "2023-03-22T21:34:44.790Z"
   },
   {
    "duration": 17,
    "start_time": "2023-03-22T21:34:44.803Z"
   },
   {
    "duration": 51,
    "start_time": "2023-03-22T21:34:44.822Z"
   },
   {
    "duration": 13,
    "start_time": "2023-03-22T21:34:44.875Z"
   },
   {
    "duration": 1305,
    "start_time": "2023-03-23T09:48:02.398Z"
   },
   {
    "duration": 1081,
    "start_time": "2023-03-23T09:48:03.705Z"
   },
   {
    "duration": 13,
    "start_time": "2023-03-23T09:48:04.788Z"
   },
   {
    "duration": 20,
    "start_time": "2023-03-23T09:48:04.803Z"
   },
   {
    "duration": 25,
    "start_time": "2023-03-23T09:48:04.825Z"
   },
   {
    "duration": 44,
    "start_time": "2023-03-23T09:48:04.852Z"
   },
   {
    "duration": 63,
    "start_time": "2023-03-23T09:48:04.898Z"
   },
   {
    "duration": 10,
    "start_time": "2023-03-23T09:48:04.963Z"
   },
   {
    "duration": 36,
    "start_time": "2023-03-23T09:48:04.975Z"
   },
   {
    "duration": 30,
    "start_time": "2023-03-23T09:48:05.015Z"
   },
   {
    "duration": 69,
    "start_time": "2023-03-23T09:48:05.047Z"
   },
   {
    "duration": 171,
    "start_time": "2023-03-23T09:48:05.118Z"
   },
   {
    "duration": 481,
    "start_time": "2023-03-23T09:48:05.291Z"
   },
   {
    "duration": 84,
    "start_time": "2023-03-23T09:48:05.774Z"
   },
   {
    "duration": 145,
    "start_time": "2023-03-23T09:48:05.862Z"
   },
   {
    "duration": 19,
    "start_time": "2023-03-23T09:48:06.009Z"
   },
   {
    "duration": 14,
    "start_time": "2023-03-23T09:48:06.041Z"
   },
   {
    "duration": 33,
    "start_time": "2023-03-23T09:48:06.057Z"
   },
   {
    "duration": 23,
    "start_time": "2023-03-23T09:48:06.094Z"
   },
   {
    "duration": 41,
    "start_time": "2023-03-23T09:48:06.141Z"
   },
   {
    "duration": 54,
    "start_time": "2023-03-23T09:48:06.185Z"
   },
   {
    "duration": 81,
    "start_time": "2023-03-23T09:48:06.242Z"
   },
   {
    "duration": 10,
    "start_time": "2023-03-23T09:48:06.325Z"
   },
   {
    "duration": 76,
    "start_time": "2023-03-23T09:48:06.336Z"
   },
   {
    "duration": 16,
    "start_time": "2023-03-23T09:48:06.413Z"
   },
   {
    "duration": 8,
    "start_time": "2023-03-23T09:48:06.440Z"
   },
   {
    "duration": 235,
    "start_time": "2023-03-23T09:48:06.450Z"
   },
   {
    "duration": 66,
    "start_time": "2023-03-23T09:48:06.711Z"
   },
   {
    "duration": 64,
    "start_time": "2023-03-23T09:48:06.779Z"
   },
   {
    "duration": 28,
    "start_time": "2023-03-23T09:48:06.846Z"
   },
   {
    "duration": 11,
    "start_time": "2023-03-23T09:48:06.876Z"
   },
   {
    "duration": 8,
    "start_time": "2023-03-23T09:48:06.889Z"
   },
   {
    "duration": 48,
    "start_time": "2023-03-23T09:48:06.899Z"
   },
   {
    "duration": 59,
    "start_time": "2023-03-23T09:48:06.949Z"
   },
   {
    "duration": 31,
    "start_time": "2023-03-23T09:48:07.011Z"
   },
   {
    "duration": 25,
    "start_time": "2023-03-23T09:48:07.045Z"
   },
   {
    "duration": 31,
    "start_time": "2023-03-23T09:48:07.072Z"
   },
   {
    "duration": 9,
    "start_time": "2023-03-23T09:48:07.106Z"
   },
   {
    "duration": 58,
    "start_time": "2023-03-23T09:48:07.117Z"
   },
   {
    "duration": 20,
    "start_time": "2023-03-23T09:48:07.177Z"
   },
   {
    "duration": 22,
    "start_time": "2023-03-23T09:48:07.199Z"
   },
   {
    "duration": 22,
    "start_time": "2023-03-23T09:48:07.223Z"
   },
   {
    "duration": 31,
    "start_time": "2023-03-23T09:48:07.248Z"
   },
   {
    "duration": 53,
    "start_time": "2023-03-23T09:48:07.282Z"
   },
   {
    "duration": 11,
    "start_time": "2023-03-23T09:48:07.337Z"
   },
   {
    "duration": 13,
    "start_time": "2023-03-23T09:48:07.350Z"
   },
   {
    "duration": 31,
    "start_time": "2023-03-23T09:48:07.366Z"
   },
   {
    "duration": 22,
    "start_time": "2023-03-23T09:48:07.400Z"
   },
   {
    "duration": 1071,
    "start_time": "2023-03-23T09:48:07.425Z"
   },
   {
    "duration": 11,
    "start_time": "2023-03-23T09:48:08.499Z"
   },
   {
    "duration": 41,
    "start_time": "2023-03-23T09:48:08.513Z"
   },
   {
    "duration": 14,
    "start_time": "2023-03-23T09:48:08.556Z"
   },
   {
    "duration": 15,
    "start_time": "2023-03-23T09:48:08.573Z"
   },
   {
    "duration": 18,
    "start_time": "2023-03-23T09:48:08.642Z"
   },
   {
    "duration": 17,
    "start_time": "2023-03-23T09:48:08.662Z"
   },
   {
    "duration": 29,
    "start_time": "2023-03-23T09:48:08.681Z"
   },
   {
    "duration": 9,
    "start_time": "2023-03-23T09:48:08.712Z"
   },
   {
    "duration": 39,
    "start_time": "2023-03-23T09:48:08.723Z"
   },
   {
    "duration": 1368,
    "start_time": "2023-03-23T09:53:29.462Z"
   },
   {
    "duration": 724,
    "start_time": "2023-03-23T09:53:30.832Z"
   },
   {
    "duration": 14,
    "start_time": "2023-03-23T09:53:31.558Z"
   },
   {
    "duration": 37,
    "start_time": "2023-03-23T09:53:31.575Z"
   },
   {
    "duration": 27,
    "start_time": "2023-03-23T09:53:31.614Z"
   },
   {
    "duration": 28,
    "start_time": "2023-03-23T09:53:31.643Z"
   },
   {
    "duration": 87,
    "start_time": "2023-03-23T09:53:31.673Z"
   },
   {
    "duration": 10,
    "start_time": "2023-03-23T09:53:31.762Z"
   },
   {
    "duration": 44,
    "start_time": "2023-03-23T09:53:31.774Z"
   },
   {
    "duration": 53,
    "start_time": "2023-03-23T09:53:31.821Z"
   },
   {
    "duration": 89,
    "start_time": "2023-03-23T09:53:31.876Z"
   },
   {
    "duration": 146,
    "start_time": "2023-03-23T09:53:31.967Z"
   },
   {
    "duration": 464,
    "start_time": "2023-03-23T09:53:32.114Z"
   },
   {
    "duration": 38,
    "start_time": "2023-03-23T09:53:32.580Z"
   },
   {
    "duration": 105,
    "start_time": "2023-03-23T09:53:32.642Z"
   },
   {
    "duration": 13,
    "start_time": "2023-03-23T09:53:32.749Z"
   },
   {
    "duration": 23,
    "start_time": "2023-03-23T09:53:32.764Z"
   },
   {
    "duration": 17,
    "start_time": "2023-03-23T09:53:32.788Z"
   },
   {
    "duration": 12,
    "start_time": "2023-03-23T09:53:32.807Z"
   },
   {
    "duration": 37,
    "start_time": "2023-03-23T09:53:32.820Z"
   },
   {
    "duration": 92,
    "start_time": "2023-03-23T09:53:32.859Z"
   },
   {
    "duration": 54,
    "start_time": "2023-03-23T09:53:32.953Z"
   },
   {
    "duration": 9,
    "start_time": "2023-03-23T09:53:33.009Z"
   },
   {
    "duration": 90,
    "start_time": "2023-03-23T09:53:33.019Z"
   },
   {
    "duration": 14,
    "start_time": "2023-03-23T09:53:33.111Z"
   },
   {
    "duration": 8,
    "start_time": "2023-03-23T09:53:33.140Z"
   },
   {
    "duration": 226,
    "start_time": "2023-03-23T09:53:33.149Z"
   },
   {
    "duration": 71,
    "start_time": "2023-03-23T09:53:33.379Z"
   },
   {
    "duration": 19,
    "start_time": "2023-03-23T09:53:33.451Z"
   },
   {
    "duration": 74,
    "start_time": "2023-03-23T09:53:33.472Z"
   },
   {
    "duration": 9,
    "start_time": "2023-03-23T09:53:33.548Z"
   },
   {
    "duration": 10,
    "start_time": "2023-03-23T09:53:33.559Z"
   },
   {
    "duration": 14,
    "start_time": "2023-03-23T09:53:33.571Z"
   },
   {
    "duration": 67,
    "start_time": "2023-03-23T09:53:33.587Z"
   },
   {
    "duration": 19,
    "start_time": "2023-03-23T09:53:33.656Z"
   },
   {
    "duration": 26,
    "start_time": "2023-03-23T09:53:33.677Z"
   },
   {
    "duration": 38,
    "start_time": "2023-03-23T09:53:33.705Z"
   },
   {
    "duration": 9,
    "start_time": "2023-03-23T09:53:33.745Z"
   },
   {
    "duration": 59,
    "start_time": "2023-03-23T09:53:33.756Z"
   },
   {
    "duration": 13,
    "start_time": "2023-03-23T09:53:33.816Z"
   },
   {
    "duration": 12,
    "start_time": "2023-03-23T09:53:33.831Z"
   },
   {
    "duration": 31,
    "start_time": "2023-03-23T09:53:33.844Z"
   },
   {
    "duration": 21,
    "start_time": "2023-03-23T09:53:33.876Z"
   },
   {
    "duration": 57,
    "start_time": "2023-03-23T09:53:33.899Z"
   },
   {
    "duration": 9,
    "start_time": "2023-03-23T09:53:33.957Z"
   },
   {
    "duration": 16,
    "start_time": "2023-03-23T09:53:33.968Z"
   },
   {
    "duration": 17,
    "start_time": "2023-03-23T09:53:33.986Z"
   },
   {
    "duration": 18,
    "start_time": "2023-03-23T09:53:34.005Z"
   },
   {
    "duration": 1038,
    "start_time": "2023-03-23T09:53:34.025Z"
   },
   {
    "duration": 9,
    "start_time": "2023-03-23T09:53:35.066Z"
   },
   {
    "duration": 68,
    "start_time": "2023-03-23T09:53:35.078Z"
   },
   {
    "duration": 41,
    "start_time": "2023-03-23T09:53:35.148Z"
   },
   {
    "duration": 52,
    "start_time": "2023-03-23T09:53:35.191Z"
   },
   {
    "duration": 37,
    "start_time": "2023-03-23T09:53:35.246Z"
   },
   {
    "duration": 30,
    "start_time": "2023-03-23T09:53:35.285Z"
   },
   {
    "duration": 27,
    "start_time": "2023-03-23T09:53:35.318Z"
   },
   {
    "duration": 8,
    "start_time": "2023-03-23T09:53:35.347Z"
   },
   {
    "duration": 21,
    "start_time": "2023-03-23T09:53:35.358Z"
   },
   {
    "duration": 42,
    "start_time": "2023-03-23T10:34:42.779Z"
   },
   {
    "duration": 1218,
    "start_time": "2023-03-23T10:34:46.990Z"
   },
   {
    "duration": 2556,
    "start_time": "2023-03-23T10:34:48.210Z"
   },
   {
    "duration": 10,
    "start_time": "2023-03-23T10:34:50.767Z"
   },
   {
    "duration": 8,
    "start_time": "2023-03-23T10:34:50.779Z"
   },
   {
    "duration": 9,
    "start_time": "2023-03-23T10:34:50.788Z"
   },
   {
    "duration": 14,
    "start_time": "2023-03-23T10:34:50.798Z"
   },
   {
    "duration": 65,
    "start_time": "2023-03-23T10:34:50.814Z"
   },
   {
    "duration": 8,
    "start_time": "2023-03-23T10:34:50.880Z"
   },
   {
    "duration": 18,
    "start_time": "2023-03-23T10:34:50.889Z"
   },
   {
    "duration": 6,
    "start_time": "2023-03-23T10:34:50.910Z"
   },
   {
    "duration": 20,
    "start_time": "2023-03-23T10:34:50.918Z"
   },
   {
    "duration": 102,
    "start_time": "2023-03-23T10:34:50.939Z"
   },
   {
    "duration": 309,
    "start_time": "2023-03-23T10:34:51.042Z"
   },
   {
    "duration": 40,
    "start_time": "2023-03-23T10:34:51.352Z"
   },
   {
    "duration": 97,
    "start_time": "2023-03-23T10:34:51.394Z"
   },
   {
    "duration": 12,
    "start_time": "2023-03-23T10:34:51.492Z"
   },
   {
    "duration": 8,
    "start_time": "2023-03-23T10:34:51.505Z"
   },
   {
    "duration": 19,
    "start_time": "2023-03-23T10:34:51.515Z"
   },
   {
    "duration": 18,
    "start_time": "2023-03-23T10:34:51.535Z"
   },
   {
    "duration": 23,
    "start_time": "2023-03-23T10:34:51.555Z"
   },
   {
    "duration": 20,
    "start_time": "2023-03-23T10:34:51.579Z"
   },
   {
    "duration": 43,
    "start_time": "2023-03-23T10:34:51.601Z"
   },
   {
    "duration": 25,
    "start_time": "2023-03-23T10:34:51.646Z"
   },
   {
    "duration": 42,
    "start_time": "2023-03-23T10:34:51.672Z"
   },
   {
    "duration": 11,
    "start_time": "2023-03-23T10:34:51.716Z"
   },
   {
    "duration": 6,
    "start_time": "2023-03-23T10:34:51.728Z"
   },
   {
    "duration": 185,
    "start_time": "2023-03-23T10:34:51.736Z"
   },
   {
    "duration": 44,
    "start_time": "2023-03-23T10:34:51.924Z"
   },
   {
    "duration": 15,
    "start_time": "2023-03-23T10:34:51.970Z"
   },
   {
    "duration": 27,
    "start_time": "2023-03-23T10:34:51.986Z"
   },
   {
    "duration": 6,
    "start_time": "2023-03-23T10:34:52.015Z"
   },
   {
    "duration": 7,
    "start_time": "2023-03-23T10:34:52.022Z"
   },
   {
    "duration": 8,
    "start_time": "2023-03-23T10:34:52.068Z"
   },
   {
    "duration": 38,
    "start_time": "2023-03-23T10:34:52.077Z"
   },
   {
    "duration": 11,
    "start_time": "2023-03-23T10:34:52.116Z"
   },
   {
    "duration": 16,
    "start_time": "2023-03-23T10:34:52.128Z"
   },
   {
    "duration": 32,
    "start_time": "2023-03-23T10:34:52.146Z"
   },
   {
    "duration": 5,
    "start_time": "2023-03-23T10:34:52.180Z"
   },
   {
    "duration": 19,
    "start_time": "2023-03-23T10:34:52.186Z"
   },
   {
    "duration": 5,
    "start_time": "2023-03-23T10:34:52.206Z"
   },
   {
    "duration": 12,
    "start_time": "2023-03-23T10:34:52.212Z"
   },
   {
    "duration": 3,
    "start_time": "2023-03-23T10:34:52.225Z"
   },
   {
    "duration": 4,
    "start_time": "2023-03-23T10:34:52.229Z"
   },
   {
    "duration": 10,
    "start_time": "2023-03-23T10:34:52.234Z"
   },
   {
    "duration": 39,
    "start_time": "2023-03-23T10:34:52.245Z"
   },
   {
    "duration": 5,
    "start_time": "2023-03-23T10:34:52.286Z"
   },
   {
    "duration": 6,
    "start_time": "2023-03-23T10:34:52.293Z"
   },
   {
    "duration": 10,
    "start_time": "2023-03-23T10:34:52.300Z"
   },
   {
    "duration": 21,
    "start_time": "2023-03-23T10:34:52.311Z"
   },
   {
    "duration": 829,
    "start_time": "2023-03-23T10:34:52.333Z"
   },
   {
    "duration": 6,
    "start_time": "2023-03-23T10:34:53.167Z"
   },
   {
    "duration": 18,
    "start_time": "2023-03-23T10:34:53.175Z"
   },
   {
    "duration": 12,
    "start_time": "2023-03-23T10:34:53.194Z"
   },
   {
    "duration": 27,
    "start_time": "2023-03-23T10:34:53.208Z"
   },
   {
    "duration": 35,
    "start_time": "2023-03-23T10:34:53.236Z"
   },
   {
    "duration": 6,
    "start_time": "2023-03-23T10:34:53.272Z"
   },
   {
    "duration": 12,
    "start_time": "2023-03-23T10:34:53.279Z"
   },
   {
    "duration": 6,
    "start_time": "2023-03-23T10:34:53.292Z"
   },
   {
    "duration": 16,
    "start_time": "2023-03-23T10:34:53.299Z"
   },
   {
    "duration": 17,
    "start_time": "2023-03-23T10:42:46.164Z"
   },
   {
    "duration": 4,
    "start_time": "2023-03-23T10:43:42.640Z"
   },
   {
    "duration": 18,
    "start_time": "2023-03-23T10:43:50.376Z"
   },
   {
    "duration": 102,
    "start_time": "2023-03-23T10:47:16.332Z"
   },
   {
    "duration": 10,
    "start_time": "2023-03-23T10:47:25.635Z"
   },
   {
    "duration": 11,
    "start_time": "2023-03-23T10:47:34.826Z"
   },
   {
    "duration": 11,
    "start_time": "2023-03-23T10:48:02.707Z"
   },
   {
    "duration": 11,
    "start_time": "2023-03-23T10:48:11.180Z"
   },
   {
    "duration": 10,
    "start_time": "2023-03-23T10:50:08.680Z"
   },
   {
    "duration": 12,
    "start_time": "2023-03-23T10:51:14.581Z"
   },
   {
    "duration": 4,
    "start_time": "2023-03-23T10:53:42.739Z"
   },
   {
    "duration": 11,
    "start_time": "2023-03-23T10:53:55.988Z"
   },
   {
    "duration": 11,
    "start_time": "2023-03-23T10:54:13.783Z"
   },
   {
    "duration": 19,
    "start_time": "2023-03-23T10:55:03.933Z"
   },
   {
    "duration": 12,
    "start_time": "2023-03-23T10:55:15.177Z"
   },
   {
    "duration": 11,
    "start_time": "2023-03-23T10:55:24.782Z"
   },
   {
    "duration": 3,
    "start_time": "2023-03-23T10:56:11.695Z"
   },
   {
    "duration": 11,
    "start_time": "2023-03-23T10:56:18.086Z"
   },
   {
    "duration": 11,
    "start_time": "2023-03-23T10:59:16.371Z"
   },
   {
    "duration": 14,
    "start_time": "2023-03-23T11:00:52.473Z"
   },
   {
    "duration": 11,
    "start_time": "2023-03-23T11:01:02.769Z"
   },
   {
    "duration": 11,
    "start_time": "2023-03-23T11:01:15.485Z"
   },
   {
    "duration": 10,
    "start_time": "2023-03-23T11:03:04.763Z"
   },
   {
    "duration": 9,
    "start_time": "2023-03-23T11:03:16.669Z"
   },
   {
    "duration": 89,
    "start_time": "2023-03-23T11:03:31.806Z"
   },
   {
    "duration": 79,
    "start_time": "2023-03-23T11:03:35.433Z"
   },
   {
    "duration": 10,
    "start_time": "2023-03-23T11:03:39.489Z"
   },
   {
    "duration": 9,
    "start_time": "2023-03-23T11:04:41.292Z"
   },
   {
    "duration": 12,
    "start_time": "2023-03-23T11:06:30.876Z"
   },
   {
    "duration": 12,
    "start_time": "2023-03-23T11:07:01.086Z"
   },
   {
    "duration": 11,
    "start_time": "2023-03-23T11:07:25.436Z"
   },
   {
    "duration": 19,
    "start_time": "2023-03-23T11:08:12.298Z"
   },
   {
    "duration": 20,
    "start_time": "2023-03-23T11:08:47.104Z"
   },
   {
    "duration": 25,
    "start_time": "2023-03-23T11:11:16.035Z"
   },
   {
    "duration": 11,
    "start_time": "2023-03-23T11:11:27.089Z"
   },
   {
    "duration": 10,
    "start_time": "2023-03-23T11:11:31.772Z"
   },
   {
    "duration": 10,
    "start_time": "2023-03-23T11:11:35.528Z"
   },
   {
    "duration": 10,
    "start_time": "2023-03-23T11:11:45.968Z"
   },
   {
    "duration": 2,
    "start_time": "2023-03-23T11:11:49.505Z"
   },
   {
    "duration": 3,
    "start_time": "2023-03-23T11:11:49.511Z"
   },
   {
    "duration": 483,
    "start_time": "2023-03-23T11:11:49.516Z"
   },
   {
    "duration": 8,
    "start_time": "2023-03-23T11:11:50.000Z"
   },
   {
    "duration": 10,
    "start_time": "2023-03-23T11:11:50.009Z"
   },
   {
    "duration": 8,
    "start_time": "2023-03-23T11:11:50.021Z"
   },
   {
    "duration": 17,
    "start_time": "2023-03-23T11:11:50.031Z"
   },
   {
    "duration": 52,
    "start_time": "2023-03-23T11:11:50.049Z"
   },
   {
    "duration": 7,
    "start_time": "2023-03-23T11:11:50.103Z"
   },
   {
    "duration": 10,
    "start_time": "2023-03-23T11:11:50.112Z"
   },
   {
    "duration": 8,
    "start_time": "2023-03-23T11:11:50.123Z"
   },
   {
    "duration": 41,
    "start_time": "2023-03-23T11:11:50.132Z"
   },
   {
    "duration": 105,
    "start_time": "2023-03-23T11:11:50.174Z"
   },
   {
    "duration": 294,
    "start_time": "2023-03-23T11:11:50.280Z"
   },
   {
    "duration": 33,
    "start_time": "2023-03-23T11:11:50.576Z"
   },
   {
    "duration": 103,
    "start_time": "2023-03-23T11:11:50.610Z"
   },
   {
    "duration": 10,
    "start_time": "2023-03-23T11:11:50.715Z"
   },
   {
    "duration": 7,
    "start_time": "2023-03-23T11:11:50.727Z"
   },
   {
    "duration": 32,
    "start_time": "2023-03-23T11:11:50.736Z"
   },
   {
    "duration": 9,
    "start_time": "2023-03-23T11:11:50.770Z"
   },
   {
    "duration": 8,
    "start_time": "2023-03-23T11:11:50.780Z"
   },
   {
    "duration": 19,
    "start_time": "2023-03-23T11:11:50.789Z"
   },
   {
    "duration": 66,
    "start_time": "2023-03-23T11:11:50.810Z"
   },
   {
    "duration": 7,
    "start_time": "2023-03-23T11:11:50.878Z"
   },
   {
    "duration": 50,
    "start_time": "2023-03-23T11:11:50.887Z"
   },
   {
    "duration": 30,
    "start_time": "2023-03-23T11:11:50.939Z"
   },
   {
    "duration": 5,
    "start_time": "2023-03-23T11:11:50.970Z"
   },
   {
    "duration": 13,
    "start_time": "2023-03-23T11:11:50.976Z"
   },
   {
    "duration": 28,
    "start_time": "2023-03-23T11:11:50.991Z"
   },
   {
    "duration": 13,
    "start_time": "2023-03-23T11:11:51.020Z"
   },
   {
    "duration": 42,
    "start_time": "2023-03-23T11:11:51.034Z"
   },
   {
    "duration": 7,
    "start_time": "2023-03-23T11:11:51.077Z"
   },
   {
    "duration": 3,
    "start_time": "2023-03-23T11:11:51.085Z"
   },
   {
    "duration": 8,
    "start_time": "2023-03-23T11:11:51.090Z"
   },
   {
    "duration": 32,
    "start_time": "2023-03-23T11:11:51.099Z"
   },
   {
    "duration": 38,
    "start_time": "2023-03-23T11:11:51.133Z"
   },
   {
    "duration": 18,
    "start_time": "2023-03-23T11:11:51.173Z"
   },
   {
    "duration": 17,
    "start_time": "2023-03-23T11:11:51.192Z"
   },
   {
    "duration": 6,
    "start_time": "2023-03-23T11:11:51.211Z"
   },
   {
    "duration": 22,
    "start_time": "2023-03-23T11:11:51.218Z"
   },
   {
    "duration": 28,
    "start_time": "2023-03-23T11:12:44.201Z"
   },
   {
    "duration": 27,
    "start_time": "2023-03-23T11:18:43.030Z"
   },
   {
    "duration": 3,
    "start_time": "2023-03-23T11:18:49.834Z"
   },
   {
    "duration": 18,
    "start_time": "2023-03-23T11:18:49.841Z"
   },
   {
    "duration": 494,
    "start_time": "2023-03-23T11:18:49.861Z"
   },
   {
    "duration": 8,
    "start_time": "2023-03-23T11:18:50.356Z"
   },
   {
    "duration": 40,
    "start_time": "2023-03-23T11:18:50.366Z"
   },
   {
    "duration": 12,
    "start_time": "2023-03-23T11:18:50.408Z"
   },
   {
    "duration": 28,
    "start_time": "2023-03-23T11:18:50.422Z"
   },
   {
    "duration": 47,
    "start_time": "2023-03-23T11:18:50.451Z"
   },
   {
    "duration": 21,
    "start_time": "2023-03-23T11:18:50.499Z"
   },
   {
    "duration": 16,
    "start_time": "2023-03-23T11:18:50.522Z"
   },
   {
    "duration": 19,
    "start_time": "2023-03-23T11:18:50.540Z"
   },
   {
    "duration": 28,
    "start_time": "2023-03-23T11:18:50.560Z"
   },
   {
    "duration": 116,
    "start_time": "2023-03-23T11:18:50.589Z"
   },
   {
    "duration": 297,
    "start_time": "2023-03-23T11:18:50.707Z"
   },
   {
    "duration": 32,
    "start_time": "2023-03-23T11:18:51.005Z"
   },
   {
    "duration": 105,
    "start_time": "2023-03-23T11:18:51.039Z"
   },
   {
    "duration": 11,
    "start_time": "2023-03-23T11:18:51.145Z"
   },
   {
    "duration": 18,
    "start_time": "2023-03-23T11:18:51.157Z"
   },
   {
    "duration": 7,
    "start_time": "2023-03-23T11:18:51.176Z"
   },
   {
    "duration": 8,
    "start_time": "2023-03-23T11:18:51.185Z"
   },
   {
    "duration": 8,
    "start_time": "2023-03-23T11:18:51.195Z"
   },
   {
    "duration": 16,
    "start_time": "2023-03-23T11:18:51.205Z"
   },
   {
    "duration": 81,
    "start_time": "2023-03-23T11:18:51.223Z"
   },
   {
    "duration": 6,
    "start_time": "2023-03-23T11:18:51.306Z"
   },
   {
    "duration": 60,
    "start_time": "2023-03-23T11:18:51.314Z"
   },
   {
    "duration": 12,
    "start_time": "2023-03-23T11:18:51.376Z"
   },
   {
    "duration": 4,
    "start_time": "2023-03-23T11:18:51.390Z"
   },
   {
    "duration": 9,
    "start_time": "2023-03-23T11:18:51.395Z"
   },
   {
    "duration": 26,
    "start_time": "2023-03-23T11:18:51.407Z"
   },
   {
    "duration": 42,
    "start_time": "2023-03-23T11:18:51.434Z"
   },
   {
    "duration": 21,
    "start_time": "2023-03-23T11:18:51.477Z"
   },
   {
    "duration": 16,
    "start_time": "2023-03-23T11:18:51.499Z"
   },
   {
    "duration": 9,
    "start_time": "2023-03-23T11:18:51.517Z"
   },
   {
    "duration": 19,
    "start_time": "2023-03-23T11:18:51.528Z"
   },
   {
    "duration": 34,
    "start_time": "2023-03-23T11:18:51.549Z"
   },
   {
    "duration": 11,
    "start_time": "2023-03-23T11:18:51.585Z"
   },
   {
    "duration": 12,
    "start_time": "2023-03-23T11:18:51.597Z"
   },
   {
    "duration": 16,
    "start_time": "2023-03-23T11:18:51.611Z"
   },
   {
    "duration": 17,
    "start_time": "2023-03-23T11:18:51.628Z"
   },
   {
    "duration": 24,
    "start_time": "2023-03-23T11:18:54.642Z"
   },
   {
    "duration": 22,
    "start_time": "2023-03-23T11:19:28.571Z"
   },
   {
    "duration": 10,
    "start_time": "2023-03-23T11:19:29.637Z"
   },
   {
    "duration": 10,
    "start_time": "2023-03-23T11:19:58.614Z"
   },
   {
    "duration": 4,
    "start_time": "2023-03-23T11:20:01.235Z"
   },
   {
    "duration": 6,
    "start_time": "2023-03-23T11:20:02.540Z"
   },
   {
    "duration": 4,
    "start_time": "2023-03-23T11:20:03.580Z"
   },
   {
    "duration": 21,
    "start_time": "2023-03-23T11:20:07.487Z"
   },
   {
    "duration": 8,
    "start_time": "2023-03-23T11:20:08.443Z"
   },
   {
    "duration": 9,
    "start_time": "2023-03-23T11:20:09.874Z"
   },
   {
    "duration": 9,
    "start_time": "2023-03-23T11:20:16.011Z"
   },
   {
    "duration": 11,
    "start_time": "2023-03-23T11:20:16.973Z"
   },
   {
    "duration": 649,
    "start_time": "2023-03-23T11:20:19.190Z"
   },
   {
    "duration": 6,
    "start_time": "2023-03-23T11:20:23.500Z"
   },
   {
    "duration": 8,
    "start_time": "2023-03-23T11:20:26.901Z"
   },
   {
    "duration": 7,
    "start_time": "2023-03-23T11:20:31.655Z"
   },
   {
    "duration": 8,
    "start_time": "2023-03-23T11:20:34.005Z"
   },
   {
    "duration": 9,
    "start_time": "2023-03-23T11:20:37.768Z"
   },
   {
    "duration": 3,
    "start_time": "2023-03-23T11:20:40.330Z"
   },
   {
    "duration": 9,
    "start_time": "2023-03-23T11:20:40.875Z"
   },
   {
    "duration": 11,
    "start_time": "2023-03-23T11:20:42.479Z"
   },
   {
    "duration": 11,
    "start_time": "2023-03-23T11:20:43.986Z"
   },
   {
    "duration": 9,
    "start_time": "2023-03-23T11:24:22.449Z"
   },
   {
    "duration": 18,
    "start_time": "2023-03-23T11:24:24.836Z"
   },
   {
    "duration": 13,
    "start_time": "2023-03-23T11:24:25.494Z"
   },
   {
    "duration": 2,
    "start_time": "2023-03-23T11:24:39.894Z"
   },
   {
    "duration": 4,
    "start_time": "2023-03-23T11:24:39.899Z"
   },
   {
    "duration": 484,
    "start_time": "2023-03-23T11:24:39.905Z"
   },
   {
    "duration": 7,
    "start_time": "2023-03-23T11:24:40.390Z"
   },
   {
    "duration": 13,
    "start_time": "2023-03-23T11:24:40.399Z"
   },
   {
    "duration": 9,
    "start_time": "2023-03-23T11:24:40.413Z"
   },
   {
    "duration": 15,
    "start_time": "2023-03-23T11:24:40.423Z"
   },
   {
    "duration": 51,
    "start_time": "2023-03-23T11:24:40.439Z"
   },
   {
    "duration": 7,
    "start_time": "2023-03-23T11:24:40.492Z"
   },
   {
    "duration": 9,
    "start_time": "2023-03-23T11:24:40.500Z"
   },
   {
    "duration": 6,
    "start_time": "2023-03-23T11:24:40.510Z"
   },
   {
    "duration": 19,
    "start_time": "2023-03-23T11:24:40.517Z"
   },
   {
    "duration": 115,
    "start_time": "2023-03-23T11:24:40.537Z"
   },
   {
    "duration": 291,
    "start_time": "2023-03-23T11:24:40.653Z"
   },
   {
    "duration": 43,
    "start_time": "2023-03-23T11:24:40.945Z"
   },
   {
    "duration": 88,
    "start_time": "2023-03-23T11:24:40.989Z"
   },
   {
    "duration": 10,
    "start_time": "2023-03-23T11:24:41.079Z"
   },
   {
    "duration": 6,
    "start_time": "2023-03-23T11:24:41.090Z"
   },
   {
    "duration": 7,
    "start_time": "2023-03-23T11:24:41.098Z"
   },
   {
    "duration": 8,
    "start_time": "2023-03-23T11:24:41.106Z"
   },
   {
    "duration": 7,
    "start_time": "2023-03-23T11:24:41.116Z"
   },
   {
    "duration": 51,
    "start_time": "2023-03-23T11:24:41.124Z"
   },
   {
    "duration": 43,
    "start_time": "2023-03-23T11:24:41.177Z"
   },
   {
    "duration": 6,
    "start_time": "2023-03-23T11:24:41.222Z"
   },
   {
    "duration": 60,
    "start_time": "2023-03-23T11:24:41.231Z"
   },
   {
    "duration": 11,
    "start_time": "2023-03-23T11:24:41.293Z"
   },
   {
    "duration": 4,
    "start_time": "2023-03-23T11:24:41.305Z"
   },
   {
    "duration": 9,
    "start_time": "2023-03-23T11:24:41.310Z"
   },
   {
    "duration": 49,
    "start_time": "2023-03-23T11:24:41.320Z"
   },
   {
    "duration": 14,
    "start_time": "2023-03-23T11:24:41.371Z"
   },
   {
    "duration": 19,
    "start_time": "2023-03-23T11:24:41.386Z"
   },
   {
    "duration": 6,
    "start_time": "2023-03-23T11:24:41.407Z"
   },
   {
    "duration": 4,
    "start_time": "2023-03-23T11:24:41.414Z"
   },
   {
    "duration": 14,
    "start_time": "2023-03-23T11:24:41.419Z"
   },
   {
    "duration": 54,
    "start_time": "2023-03-23T11:24:41.434Z"
   },
   {
    "duration": 11,
    "start_time": "2023-03-23T11:24:41.490Z"
   },
   {
    "duration": 12,
    "start_time": "2023-03-23T11:24:41.502Z"
   },
   {
    "duration": 16,
    "start_time": "2023-03-23T11:24:41.515Z"
   },
   {
    "duration": 5,
    "start_time": "2023-03-23T11:24:41.532Z"
   },
   {
    "duration": 67,
    "start_time": "2023-03-23T11:24:41.538Z"
   },
   {
    "duration": 0,
    "start_time": "2023-03-23T11:24:41.607Z"
   },
   {
    "duration": 0,
    "start_time": "2023-03-23T11:24:41.607Z"
   },
   {
    "duration": 0,
    "start_time": "2023-03-23T11:24:41.608Z"
   },
   {
    "duration": 0,
    "start_time": "2023-03-23T11:24:41.609Z"
   },
   {
    "duration": 0,
    "start_time": "2023-03-23T11:24:41.610Z"
   },
   {
    "duration": 0,
    "start_time": "2023-03-23T11:24:41.610Z"
   },
   {
    "duration": 0,
    "start_time": "2023-03-23T11:24:41.611Z"
   },
   {
    "duration": 0,
    "start_time": "2023-03-23T11:24:41.612Z"
   },
   {
    "duration": 0,
    "start_time": "2023-03-23T11:24:41.613Z"
   },
   {
    "duration": 0,
    "start_time": "2023-03-23T11:24:41.614Z"
   },
   {
    "duration": 0,
    "start_time": "2023-03-23T11:24:41.615Z"
   },
   {
    "duration": 0,
    "start_time": "2023-03-23T11:24:41.616Z"
   },
   {
    "duration": 0,
    "start_time": "2023-03-23T11:24:41.617Z"
   },
   {
    "duration": 0,
    "start_time": "2023-03-23T11:24:41.618Z"
   },
   {
    "duration": 0,
    "start_time": "2023-03-23T11:24:41.619Z"
   },
   {
    "duration": 0,
    "start_time": "2023-03-23T11:24:41.619Z"
   },
   {
    "duration": 0,
    "start_time": "2023-03-23T11:24:41.620Z"
   },
   {
    "duration": 0,
    "start_time": "2023-03-23T11:24:41.621Z"
   },
   {
    "duration": 0,
    "start_time": "2023-03-23T11:24:41.622Z"
   },
   {
    "duration": 0,
    "start_time": "2023-03-23T11:24:41.623Z"
   },
   {
    "duration": 0,
    "start_time": "2023-03-23T11:24:41.623Z"
   },
   {
    "duration": 3,
    "start_time": "2023-03-23T11:26:11.527Z"
   },
   {
    "duration": 4,
    "start_time": "2023-03-23T11:26:11.532Z"
   },
   {
    "duration": 501,
    "start_time": "2023-03-23T11:26:11.538Z"
   },
   {
    "duration": 7,
    "start_time": "2023-03-23T11:26:12.041Z"
   },
   {
    "duration": 10,
    "start_time": "2023-03-23T11:26:12.049Z"
   },
   {
    "duration": 10,
    "start_time": "2023-03-23T11:26:12.061Z"
   },
   {
    "duration": 15,
    "start_time": "2023-03-23T11:26:12.072Z"
   },
   {
    "duration": 46,
    "start_time": "2023-03-23T11:26:12.089Z"
   },
   {
    "duration": 7,
    "start_time": "2023-03-23T11:26:12.137Z"
   },
   {
    "duration": 28,
    "start_time": "2023-03-23T11:26:12.145Z"
   },
   {
    "duration": 7,
    "start_time": "2023-03-23T11:26:12.175Z"
   },
   {
    "duration": 20,
    "start_time": "2023-03-23T11:26:12.183Z"
   },
   {
    "duration": 109,
    "start_time": "2023-03-23T11:26:12.204Z"
   },
   {
    "duration": 314,
    "start_time": "2023-03-23T11:26:12.315Z"
   },
   {
    "duration": 49,
    "start_time": "2023-03-23T11:26:12.631Z"
   },
   {
    "duration": 96,
    "start_time": "2023-03-23T11:26:12.681Z"
   },
   {
    "duration": 11,
    "start_time": "2023-03-23T11:26:12.778Z"
   },
   {
    "duration": 6,
    "start_time": "2023-03-23T11:26:12.791Z"
   },
   {
    "duration": 7,
    "start_time": "2023-03-23T11:26:12.798Z"
   },
   {
    "duration": 8,
    "start_time": "2023-03-23T11:26:12.806Z"
   },
   {
    "duration": 7,
    "start_time": "2023-03-23T11:26:12.815Z"
   },
   {
    "duration": 50,
    "start_time": "2023-03-23T11:26:12.824Z"
   },
   {
    "duration": 43,
    "start_time": "2023-03-23T11:26:12.876Z"
   },
   {
    "duration": 8,
    "start_time": "2023-03-23T11:26:12.920Z"
   },
   {
    "duration": 66,
    "start_time": "2023-03-23T11:26:12.929Z"
   },
   {
    "duration": 12,
    "start_time": "2023-03-23T11:26:12.997Z"
   },
   {
    "duration": 5,
    "start_time": "2023-03-23T11:26:13.010Z"
   },
   {
    "duration": 10,
    "start_time": "2023-03-23T11:26:13.017Z"
   },
   {
    "duration": 58,
    "start_time": "2023-03-23T11:26:13.030Z"
   },
   {
    "duration": 14,
    "start_time": "2023-03-23T11:26:13.089Z"
   },
   {
    "duration": 20,
    "start_time": "2023-03-23T11:26:13.104Z"
   },
   {
    "duration": 6,
    "start_time": "2023-03-23T11:26:13.125Z"
   },
   {
    "duration": 4,
    "start_time": "2023-03-23T11:26:13.132Z"
   },
   {
    "duration": 34,
    "start_time": "2023-03-23T11:26:13.137Z"
   },
   {
    "duration": 32,
    "start_time": "2023-03-23T11:26:13.172Z"
   },
   {
    "duration": 11,
    "start_time": "2023-03-23T11:26:13.205Z"
   },
   {
    "duration": 13,
    "start_time": "2023-03-23T11:26:13.218Z"
   },
   {
    "duration": 38,
    "start_time": "2023-03-23T11:26:13.232Z"
   },
   {
    "duration": 7,
    "start_time": "2023-03-23T11:26:13.272Z"
   },
   {
    "duration": 99,
    "start_time": "2023-03-23T11:26:13.280Z"
   },
   {
    "duration": 0,
    "start_time": "2023-03-23T11:26:13.380Z"
   },
   {
    "duration": 0,
    "start_time": "2023-03-23T11:26:13.381Z"
   },
   {
    "duration": 0,
    "start_time": "2023-03-23T11:26:13.383Z"
   },
   {
    "duration": 0,
    "start_time": "2023-03-23T11:26:13.383Z"
   },
   {
    "duration": 0,
    "start_time": "2023-03-23T11:26:13.384Z"
   },
   {
    "duration": 0,
    "start_time": "2023-03-23T11:26:13.385Z"
   },
   {
    "duration": 0,
    "start_time": "2023-03-23T11:26:13.386Z"
   },
   {
    "duration": 0,
    "start_time": "2023-03-23T11:26:13.387Z"
   },
   {
    "duration": 0,
    "start_time": "2023-03-23T11:26:13.388Z"
   },
   {
    "duration": 0,
    "start_time": "2023-03-23T11:26:13.389Z"
   },
   {
    "duration": 0,
    "start_time": "2023-03-23T11:26:13.390Z"
   },
   {
    "duration": 0,
    "start_time": "2023-03-23T11:26:13.391Z"
   },
   {
    "duration": 0,
    "start_time": "2023-03-23T11:26:13.392Z"
   },
   {
    "duration": 0,
    "start_time": "2023-03-23T11:26:13.393Z"
   },
   {
    "duration": 0,
    "start_time": "2023-03-23T11:26:13.394Z"
   },
   {
    "duration": 0,
    "start_time": "2023-03-23T11:26:13.395Z"
   },
   {
    "duration": 0,
    "start_time": "2023-03-23T11:26:13.396Z"
   },
   {
    "duration": 0,
    "start_time": "2023-03-23T11:26:13.397Z"
   },
   {
    "duration": 0,
    "start_time": "2023-03-23T11:26:13.398Z"
   },
   {
    "duration": 0,
    "start_time": "2023-03-23T11:26:13.399Z"
   },
   {
    "duration": 0,
    "start_time": "2023-03-23T11:26:13.400Z"
   },
   {
    "duration": 3,
    "start_time": "2023-03-23T11:26:27.887Z"
   },
   {
    "duration": 4,
    "start_time": "2023-03-23T11:26:27.891Z"
   },
   {
    "duration": 500,
    "start_time": "2023-03-23T11:26:27.897Z"
   },
   {
    "duration": 7,
    "start_time": "2023-03-23T11:26:28.399Z"
   },
   {
    "duration": 9,
    "start_time": "2023-03-23T11:26:28.408Z"
   },
   {
    "duration": 7,
    "start_time": "2023-03-23T11:26:28.418Z"
   },
   {
    "duration": 16,
    "start_time": "2023-03-23T11:26:28.426Z"
   },
   {
    "duration": 81,
    "start_time": "2023-03-23T11:26:28.443Z"
   },
   {
    "duration": 7,
    "start_time": "2023-03-23T11:26:28.525Z"
   },
   {
    "duration": 9,
    "start_time": "2023-03-23T11:26:28.534Z"
   },
   {
    "duration": 25,
    "start_time": "2023-03-23T11:26:28.544Z"
   },
   {
    "duration": 19,
    "start_time": "2023-03-23T11:26:28.570Z"
   },
   {
    "duration": 107,
    "start_time": "2023-03-23T11:26:28.591Z"
   },
   {
    "duration": 282,
    "start_time": "2023-03-23T11:26:28.699Z"
   },
   {
    "duration": 36,
    "start_time": "2023-03-23T11:26:28.982Z"
   },
   {
    "duration": 150,
    "start_time": "2023-03-23T11:26:29.020Z"
   },
   {
    "duration": 14,
    "start_time": "2023-03-23T11:26:29.171Z"
   },
   {
    "duration": 7,
    "start_time": "2023-03-23T11:26:29.187Z"
   },
   {
    "duration": 9,
    "start_time": "2023-03-23T11:26:29.195Z"
   },
   {
    "duration": 10,
    "start_time": "2023-03-23T11:26:29.206Z"
   },
   {
    "duration": 8,
    "start_time": "2023-03-23T11:26:29.218Z"
   },
   {
    "duration": 54,
    "start_time": "2023-03-23T11:26:29.227Z"
   },
   {
    "duration": 42,
    "start_time": "2023-03-23T11:26:29.282Z"
   },
   {
    "duration": 7,
    "start_time": "2023-03-23T11:26:29.326Z"
   },
   {
    "duration": 86,
    "start_time": "2023-03-23T11:26:29.338Z"
   },
   {
    "duration": 18,
    "start_time": "2023-03-23T11:26:29.426Z"
   },
   {
    "duration": 6,
    "start_time": "2023-03-23T11:26:29.446Z"
   },
   {
    "duration": 11,
    "start_time": "2023-03-23T11:26:29.467Z"
   },
   {
    "duration": 26,
    "start_time": "2023-03-23T11:26:29.479Z"
   },
   {
    "duration": 12,
    "start_time": "2023-03-23T11:26:29.507Z"
   },
   {
    "duration": 48,
    "start_time": "2023-03-23T11:26:29.521Z"
   },
   {
    "duration": 9,
    "start_time": "2023-03-23T11:26:29.571Z"
   },
   {
    "duration": 4,
    "start_time": "2023-03-23T11:26:29.581Z"
   },
   {
    "duration": 20,
    "start_time": "2023-03-23T11:26:29.587Z"
   },
   {
    "duration": 32,
    "start_time": "2023-03-23T11:26:29.608Z"
   },
   {
    "duration": 35,
    "start_time": "2023-03-23T11:26:29.642Z"
   },
   {
    "duration": 20,
    "start_time": "2023-03-23T11:26:29.679Z"
   },
   {
    "duration": 17,
    "start_time": "2023-03-23T11:26:29.700Z"
   },
   {
    "duration": 6,
    "start_time": "2023-03-23T11:26:29.718Z"
   },
   {
    "duration": 9,
    "start_time": "2023-03-23T11:26:29.725Z"
   },
   {
    "duration": 46,
    "start_time": "2023-03-23T11:26:29.735Z"
   },
   {
    "duration": 9,
    "start_time": "2023-03-23T11:26:29.783Z"
   },
   {
    "duration": 32,
    "start_time": "2023-03-23T11:26:29.793Z"
   },
   {
    "duration": 6,
    "start_time": "2023-03-23T11:26:29.826Z"
   },
   {
    "duration": 6,
    "start_time": "2023-03-23T11:26:29.834Z"
   },
   {
    "duration": 27,
    "start_time": "2023-03-23T11:26:29.841Z"
   },
   {
    "duration": 7,
    "start_time": "2023-03-23T11:26:29.869Z"
   },
   {
    "duration": 6,
    "start_time": "2023-03-23T11:26:29.877Z"
   },
   {
    "duration": 8,
    "start_time": "2023-03-23T11:26:29.884Z"
   },
   {
    "duration": 10,
    "start_time": "2023-03-23T11:26:29.894Z"
   },
   {
    "duration": 654,
    "start_time": "2023-03-23T11:26:29.905Z"
   },
   {
    "duration": 10,
    "start_time": "2023-03-23T11:26:30.561Z"
   },
   {
    "duration": 24,
    "start_time": "2023-03-23T11:26:30.572Z"
   },
   {
    "duration": 55,
    "start_time": "2023-03-23T11:26:30.598Z"
   },
   {
    "duration": 42,
    "start_time": "2023-03-23T11:26:30.654Z"
   },
   {
    "duration": 31,
    "start_time": "2023-03-23T11:26:30.698Z"
   },
   {
    "duration": 50,
    "start_time": "2023-03-23T11:26:30.731Z"
   },
   {
    "duration": 36,
    "start_time": "2023-03-23T11:26:30.783Z"
   },
   {
    "duration": 24,
    "start_time": "2023-03-23T11:26:30.820Z"
   },
   {
    "duration": 40,
    "start_time": "2023-03-23T11:26:30.846Z"
   },
   {
    "duration": 35,
    "start_time": "2023-03-23T11:28:05.407Z"
   },
   {
    "duration": 31,
    "start_time": "2023-03-23T11:28:24.472Z"
   },
   {
    "duration": 28,
    "start_time": "2023-03-23T11:28:57.675Z"
   },
   {
    "duration": 11,
    "start_time": "2023-03-23T11:31:26.082Z"
   },
   {
    "duration": 28,
    "start_time": "2023-03-23T11:31:31.226Z"
   },
   {
    "duration": 11,
    "start_time": "2023-03-23T11:44:56.002Z"
   },
   {
    "duration": 6,
    "start_time": "2023-03-23T11:45:15.468Z"
   },
   {
    "duration": 5,
    "start_time": "2023-03-23T11:49:42.695Z"
   },
   {
    "duration": 1104,
    "start_time": "2023-03-23T11:51:26.470Z"
   },
   {
    "duration": 10,
    "start_time": "2023-03-23T11:52:14.523Z"
   },
   {
    "duration": 8,
    "start_time": "2023-03-23T11:52:19.321Z"
   },
   {
    "duration": 8,
    "start_time": "2023-03-23T11:53:47.571Z"
   },
   {
    "duration": 91,
    "start_time": "2023-03-23T12:00:45.379Z"
   },
   {
    "duration": 3,
    "start_time": "2023-03-23T12:01:00.538Z"
   },
   {
    "duration": 36,
    "start_time": "2023-03-23T12:01:00.543Z"
   },
   {
    "duration": 536,
    "start_time": "2023-03-23T12:01:00.581Z"
   },
   {
    "duration": 6,
    "start_time": "2023-03-23T12:01:01.119Z"
   },
   {
    "duration": 13,
    "start_time": "2023-03-23T12:01:01.127Z"
   },
   {
    "duration": 12,
    "start_time": "2023-03-23T12:01:01.141Z"
   },
   {
    "duration": 31,
    "start_time": "2023-03-23T12:01:01.154Z"
   },
   {
    "duration": 55,
    "start_time": "2023-03-23T12:01:01.186Z"
   },
   {
    "duration": 7,
    "start_time": "2023-03-23T12:01:01.242Z"
   },
   {
    "duration": 15,
    "start_time": "2023-03-23T12:01:01.250Z"
   },
   {
    "duration": 51,
    "start_time": "2023-03-23T12:01:01.267Z"
   },
   {
    "duration": 50,
    "start_time": "2023-03-23T12:01:01.319Z"
   },
   {
    "duration": 94,
    "start_time": "2023-03-23T12:01:01.370Z"
   },
   {
    "duration": 263,
    "start_time": "2023-03-23T12:01:01.465Z"
   },
   {
    "duration": 38,
    "start_time": "2023-03-23T12:01:01.730Z"
   },
   {
    "duration": 32,
    "start_time": "2023-03-23T12:01:01.770Z"
   },
   {
    "duration": 102,
    "start_time": "2023-03-23T12:01:01.804Z"
   },
   {
    "duration": 10,
    "start_time": "2023-03-23T12:01:01.908Z"
   },
   {
    "duration": 42,
    "start_time": "2023-03-23T12:01:01.920Z"
   },
   {
    "duration": 24,
    "start_time": "2023-03-23T12:01:01.964Z"
   },
   {
    "duration": 11,
    "start_time": "2023-03-23T12:01:01.989Z"
   },
   {
    "duration": 22,
    "start_time": "2023-03-23T12:01:02.002Z"
   },
   {
    "duration": 42,
    "start_time": "2023-03-23T12:01:02.025Z"
   },
   {
    "duration": 54,
    "start_time": "2023-03-23T12:01:02.068Z"
   },
   {
    "duration": 6,
    "start_time": "2023-03-23T12:01:02.124Z"
   },
   {
    "duration": 56,
    "start_time": "2023-03-23T12:01:02.131Z"
   },
   {
    "duration": 11,
    "start_time": "2023-03-23T12:01:02.188Z"
   },
   {
    "duration": 35,
    "start_time": "2023-03-23T12:01:02.200Z"
   },
   {
    "duration": 19,
    "start_time": "2023-03-23T12:01:02.238Z"
   },
   {
    "duration": 32,
    "start_time": "2023-03-23T12:01:02.258Z"
   },
   {
    "duration": 13,
    "start_time": "2023-03-23T12:01:02.291Z"
   },
   {
    "duration": 30,
    "start_time": "2023-03-23T12:01:02.306Z"
   },
   {
    "duration": 6,
    "start_time": "2023-03-23T12:01:02.337Z"
   },
   {
    "duration": 14,
    "start_time": "2023-03-23T12:01:02.344Z"
   },
   {
    "duration": 12,
    "start_time": "2023-03-23T12:01:02.359Z"
   },
   {
    "duration": 32,
    "start_time": "2023-03-23T12:01:02.372Z"
   },
   {
    "duration": 11,
    "start_time": "2023-03-23T12:01:02.405Z"
   },
   {
    "duration": 12,
    "start_time": "2023-03-23T12:01:02.418Z"
   },
   {
    "duration": 40,
    "start_time": "2023-03-23T12:01:02.432Z"
   },
   {
    "duration": 10,
    "start_time": "2023-03-23T12:01:02.473Z"
   },
   {
    "duration": 11,
    "start_time": "2023-03-23T12:01:02.485Z"
   },
   {
    "duration": 21,
    "start_time": "2023-03-23T12:01:02.498Z"
   },
   {
    "duration": 11,
    "start_time": "2023-03-23T12:01:02.521Z"
   },
   {
    "duration": 37,
    "start_time": "2023-03-23T12:01:02.534Z"
   },
   {
    "duration": 6,
    "start_time": "2023-03-23T12:01:02.573Z"
   },
   {
    "duration": 7,
    "start_time": "2023-03-23T12:01:02.581Z"
   },
   {
    "duration": 24,
    "start_time": "2023-03-23T12:01:02.590Z"
   },
   {
    "duration": 8,
    "start_time": "2023-03-23T12:01:02.616Z"
   },
   {
    "duration": 12,
    "start_time": "2023-03-23T12:01:02.626Z"
   },
   {
    "duration": 37,
    "start_time": "2023-03-23T12:01:02.640Z"
   },
   {
    "duration": 11,
    "start_time": "2023-03-23T12:01:02.679Z"
   },
   {
    "duration": 629,
    "start_time": "2023-03-23T12:01:02.691Z"
   },
   {
    "duration": 7,
    "start_time": "2023-03-23T12:01:03.322Z"
   },
   {
    "duration": 19,
    "start_time": "2023-03-23T12:01:03.331Z"
   },
   {
    "duration": 8,
    "start_time": "2023-03-23T12:01:03.369Z"
   },
   {
    "duration": 7,
    "start_time": "2023-03-23T12:01:03.379Z"
   },
   {
    "duration": 10,
    "start_time": "2023-03-23T12:01:03.387Z"
   },
   {
    "duration": 12,
    "start_time": "2023-03-23T12:01:03.398Z"
   },
   {
    "duration": 14,
    "start_time": "2023-03-23T12:01:03.411Z"
   },
   {
    "duration": 42,
    "start_time": "2023-03-23T12:01:03.427Z"
   },
   {
    "duration": 10,
    "start_time": "2023-03-23T12:01:03.471Z"
   },
   {
    "duration": 10,
    "start_time": "2023-03-23T12:01:03.483Z"
   },
   {
    "duration": 8,
    "start_time": "2023-03-23T12:01:03.495Z"
   },
   {
    "duration": 8,
    "start_time": "2023-03-23T14:30:00.557Z"
   },
   {
    "duration": 1478,
    "start_time": "2023-03-23T14:30:00.568Z"
   },
   {
    "duration": 2017,
    "start_time": "2023-03-23T14:30:02.048Z"
   },
   {
    "duration": 21,
    "start_time": "2023-03-23T14:30:04.067Z"
   },
   {
    "duration": 22,
    "start_time": "2023-03-23T14:30:04.090Z"
   },
   {
    "duration": 11,
    "start_time": "2023-03-23T14:30:04.115Z"
   },
   {
    "duration": 23,
    "start_time": "2023-03-23T14:30:04.128Z"
   },
   {
    "duration": 92,
    "start_time": "2023-03-23T14:30:04.153Z"
   },
   {
    "duration": 12,
    "start_time": "2023-03-23T14:30:04.247Z"
   },
   {
    "duration": 35,
    "start_time": "2023-03-23T14:30:04.261Z"
   },
   {
    "duration": 10,
    "start_time": "2023-03-23T14:30:04.298Z"
   },
   {
    "duration": 35,
    "start_time": "2023-03-23T14:30:04.310Z"
   },
   {
    "duration": 162,
    "start_time": "2023-03-23T14:30:04.348Z"
   },
   {
    "duration": 407,
    "start_time": "2023-03-23T14:30:04.512Z"
   },
   {
    "duration": 62,
    "start_time": "2023-03-23T14:30:04.923Z"
   },
   {
    "duration": 43,
    "start_time": "2023-03-23T14:30:04.989Z"
   },
   {
    "duration": 135,
    "start_time": "2023-03-23T14:30:05.034Z"
   },
   {
    "duration": 18,
    "start_time": "2023-03-23T14:30:05.171Z"
   },
   {
    "duration": 11,
    "start_time": "2023-03-23T14:30:05.190Z"
   },
   {
    "duration": 18,
    "start_time": "2023-03-23T14:30:05.203Z"
   },
   {
    "duration": 16,
    "start_time": "2023-03-23T14:30:05.222Z"
   },
   {
    "duration": 40,
    "start_time": "2023-03-23T14:30:05.240Z"
   },
   {
    "duration": 22,
    "start_time": "2023-03-23T14:30:05.282Z"
   },
   {
    "duration": 71,
    "start_time": "2023-03-23T14:30:05.306Z"
   },
   {
    "duration": 16,
    "start_time": "2023-03-23T14:30:05.381Z"
   },
   {
    "duration": 62,
    "start_time": "2023-03-23T14:30:05.399Z"
   },
   {
    "duration": 29,
    "start_time": "2023-03-23T14:30:05.463Z"
   },
   {
    "duration": 13,
    "start_time": "2023-03-23T14:30:05.493Z"
   },
   {
    "duration": 197,
    "start_time": "2023-03-23T14:30:05.508Z"
   },
   {
    "duration": 79,
    "start_time": "2023-03-23T14:30:05.707Z"
   },
   {
    "duration": 19,
    "start_time": "2023-03-23T14:30:05.791Z"
   },
   {
    "duration": 78,
    "start_time": "2023-03-23T14:30:05.811Z"
   },
   {
    "duration": 8,
    "start_time": "2023-03-23T14:30:05.891Z"
   },
   {
    "duration": 16,
    "start_time": "2023-03-23T14:30:05.901Z"
   },
   {
    "duration": 16,
    "start_time": "2023-03-23T14:30:05.918Z"
   },
   {
    "duration": 55,
    "start_time": "2023-03-23T14:30:05.937Z"
   },
   {
    "duration": 15,
    "start_time": "2023-03-23T14:30:05.994Z"
   },
   {
    "duration": 25,
    "start_time": "2023-03-23T14:30:06.011Z"
   },
   {
    "duration": 21,
    "start_time": "2023-03-23T14:30:06.037Z"
   },
   {
    "duration": 29,
    "start_time": "2023-03-23T14:30:06.059Z"
   },
   {
    "duration": 13,
    "start_time": "2023-03-23T14:30:06.093Z"
   },
   {
    "duration": 22,
    "start_time": "2023-03-23T14:30:06.110Z"
   },
   {
    "duration": 16,
    "start_time": "2023-03-23T14:30:06.135Z"
   },
   {
    "duration": 33,
    "start_time": "2023-03-23T14:30:06.153Z"
   },
   {
    "duration": 6,
    "start_time": "2023-03-23T14:30:06.192Z"
   },
   {
    "duration": 20,
    "start_time": "2023-03-23T14:30:06.200Z"
   },
   {
    "duration": 24,
    "start_time": "2023-03-23T14:30:06.222Z"
   },
   {
    "duration": 9,
    "start_time": "2023-03-23T14:30:06.247Z"
   },
   {
    "duration": 32,
    "start_time": "2023-03-23T14:30:06.258Z"
   },
   {
    "duration": 13,
    "start_time": "2023-03-23T14:30:06.291Z"
   },
   {
    "duration": 17,
    "start_time": "2023-03-23T14:30:06.306Z"
   },
   {
    "duration": 945,
    "start_time": "2023-03-23T14:30:06.325Z"
   },
   {
    "duration": 19,
    "start_time": "2023-03-23T14:30:07.276Z"
   },
   {
    "duration": 28,
    "start_time": "2023-03-23T14:30:07.297Z"
   },
   {
    "duration": 54,
    "start_time": "2023-03-23T14:30:07.327Z"
   },
   {
    "duration": 11,
    "start_time": "2023-03-23T14:30:07.383Z"
   },
   {
    "duration": 13,
    "start_time": "2023-03-23T14:30:07.396Z"
   },
   {
    "duration": 7,
    "start_time": "2023-03-23T14:30:07.411Z"
   },
   {
    "duration": 15,
    "start_time": "2023-03-23T14:30:07.420Z"
   },
   {
    "duration": 7,
    "start_time": "2023-03-23T14:30:07.437Z"
   },
   {
    "duration": 43,
    "start_time": "2023-03-23T14:30:07.446Z"
   },
   {
    "duration": 12,
    "start_time": "2023-03-23T14:30:07.490Z"
   },
   {
    "duration": 12,
    "start_time": "2023-03-23T14:30:07.504Z"
   },
   {
    "duration": 1576,
    "start_time": "2023-07-28T10:47:11.370Z"
   },
   {
    "duration": 919,
    "start_time": "2023-07-28T10:47:12.948Z"
   },
   {
    "duration": 13,
    "start_time": "2023-07-28T10:47:13.869Z"
   },
   {
    "duration": 11,
    "start_time": "2023-07-28T10:47:13.884Z"
   },
   {
    "duration": 14,
    "start_time": "2023-07-28T10:47:13.897Z"
   },
   {
    "duration": 53,
    "start_time": "2023-07-28T10:47:13.913Z"
   },
   {
    "duration": 14,
    "start_time": "2023-07-28T10:47:13.969Z"
   },
   {
    "duration": 83,
    "start_time": "2023-07-28T10:47:13.988Z"
   },
   {
    "duration": 20,
    "start_time": "2023-07-28T10:47:14.073Z"
   },
   {
    "duration": 14,
    "start_time": "2023-07-28T10:47:14.097Z"
   },
   {
    "duration": 28,
    "start_time": "2023-07-28T10:47:14.113Z"
   },
   {
    "duration": 177,
    "start_time": "2023-07-28T10:47:14.143Z"
   },
   {
    "duration": 429,
    "start_time": "2023-07-28T10:47:14.322Z"
   },
   {
    "duration": 60,
    "start_time": "2023-07-28T10:47:14.753Z"
   },
   {
    "duration": 78,
    "start_time": "2023-07-28T10:47:14.816Z"
   },
   {
    "duration": 141,
    "start_time": "2023-07-28T10:47:14.896Z"
   },
   {
    "duration": 12,
    "start_time": "2023-07-28T10:47:15.038Z"
   },
   {
    "duration": 143,
    "start_time": "2023-07-28T10:47:15.052Z"
   },
   {
    "duration": 99,
    "start_time": "2023-07-28T10:47:15.196Z"
   },
   {
    "duration": 103,
    "start_time": "2023-07-28T10:47:15.297Z"
   },
   {
    "duration": 72,
    "start_time": "2023-07-28T10:47:15.402Z"
   },
   {
    "duration": 33,
    "start_time": "2023-07-28T10:47:15.475Z"
   },
   {
    "duration": 111,
    "start_time": "2023-07-28T10:47:15.509Z"
   },
   {
    "duration": 7,
    "start_time": "2023-07-28T10:47:15.622Z"
   },
   {
    "duration": 84,
    "start_time": "2023-07-28T10:47:15.630Z"
   },
   {
    "duration": 13,
    "start_time": "2023-07-28T10:47:15.715Z"
   },
   {
    "duration": 6,
    "start_time": "2023-07-28T10:47:15.730Z"
   },
   {
    "duration": 480,
    "start_time": "2023-07-28T10:47:15.740Z"
   },
   {
    "duration": 36,
    "start_time": "2023-07-28T10:47:16.221Z"
   },
   {
    "duration": 41,
    "start_time": "2023-07-28T10:47:16.258Z"
   },
   {
    "duration": 115,
    "start_time": "2023-07-28T10:47:16.301Z"
   },
   {
    "duration": 24,
    "start_time": "2023-07-28T10:47:16.418Z"
   },
   {
    "duration": 27,
    "start_time": "2023-07-28T10:47:16.444Z"
   },
   {
    "duration": 58,
    "start_time": "2023-07-28T10:47:16.472Z"
   },
   {
    "duration": 163,
    "start_time": "2023-07-28T10:47:16.532Z"
   },
   {
    "duration": 42,
    "start_time": "2023-07-28T10:47:16.697Z"
   },
   {
    "duration": 33,
    "start_time": "2023-07-28T10:47:16.741Z"
   },
   {
    "duration": 44,
    "start_time": "2023-07-28T10:47:16.776Z"
   },
   {
    "duration": 44,
    "start_time": "2023-07-28T10:47:16.822Z"
   },
   {
    "duration": 71,
    "start_time": "2023-07-28T10:47:16.868Z"
   },
   {
    "duration": 33,
    "start_time": "2023-07-28T10:47:16.941Z"
   },
   {
    "duration": 86,
    "start_time": "2023-07-28T10:47:16.976Z"
   },
   {
    "duration": 235,
    "start_time": "2023-07-28T10:47:17.064Z"
   },
   {
    "duration": 30,
    "start_time": "2023-07-28T10:47:17.301Z"
   },
   {
    "duration": 16,
    "start_time": "2023-07-28T10:47:17.333Z"
   },
   {
    "duration": 30,
    "start_time": "2023-07-28T10:47:17.350Z"
   },
   {
    "duration": 21,
    "start_time": "2023-07-28T10:47:17.381Z"
   },
   {
    "duration": 24,
    "start_time": "2023-07-28T10:47:17.403Z"
   },
   {
    "duration": 39,
    "start_time": "2023-07-28T10:47:17.429Z"
   },
   {
    "duration": 123,
    "start_time": "2023-07-28T10:47:17.470Z"
   },
   {
    "duration": 928,
    "start_time": "2023-07-28T10:55:32.459Z"
   },
   {
    "duration": 5,
    "start_time": "2023-07-28T12:28:08.267Z"
   },
   {
    "duration": 12,
    "start_time": "2023-07-28T12:28:44.399Z"
   },
   {
    "duration": 4,
    "start_time": "2023-07-28T12:28:57.557Z"
   },
   {
    "duration": 297,
    "start_time": "2023-07-28T12:29:31.662Z"
   },
   {
    "duration": 3,
    "start_time": "2023-07-28T12:29:39.973Z"
   },
   {
    "duration": 611,
    "start_time": "2023-07-28T12:29:39.978Z"
   },
   {
    "duration": 9,
    "start_time": "2023-07-28T12:29:40.591Z"
   },
   {
    "duration": 50,
    "start_time": "2023-07-28T12:29:40.601Z"
   },
   {
    "duration": 37,
    "start_time": "2023-07-28T12:29:40.653Z"
   },
   {
    "duration": 49,
    "start_time": "2023-07-28T12:29:40.692Z"
   },
   {
    "duration": 35,
    "start_time": "2023-07-28T12:29:40.743Z"
   },
   {
    "duration": 91,
    "start_time": "2023-07-28T12:29:40.780Z"
   },
   {
    "duration": 8,
    "start_time": "2023-07-28T12:29:40.873Z"
   },
   {
    "duration": 33,
    "start_time": "2023-07-28T12:29:40.883Z"
   },
   {
    "duration": 54,
    "start_time": "2023-07-28T12:29:40.918Z"
   },
   {
    "duration": 126,
    "start_time": "2023-07-28T12:29:40.974Z"
   },
   {
    "duration": 363,
    "start_time": "2023-07-28T12:29:41.102Z"
   },
   {
    "duration": 43,
    "start_time": "2023-07-28T12:29:41.469Z"
   },
   {
    "duration": 45,
    "start_time": "2023-07-28T12:29:41.515Z"
   },
   {
    "duration": 110,
    "start_time": "2023-07-28T12:29:41.562Z"
   },
   {
    "duration": 25,
    "start_time": "2023-07-28T12:29:41.673Z"
   },
   {
    "duration": 27,
    "start_time": "2023-07-28T12:29:41.699Z"
   },
   {
    "duration": 31,
    "start_time": "2023-07-28T12:29:41.727Z"
   },
   {
    "duration": 42,
    "start_time": "2023-07-28T12:29:41.759Z"
   },
   {
    "duration": 42,
    "start_time": "2023-07-28T12:29:41.802Z"
   },
   {
    "duration": 56,
    "start_time": "2023-07-28T12:29:41.846Z"
   },
   {
    "duration": 61,
    "start_time": "2023-07-28T12:29:41.904Z"
   },
   {
    "duration": 22,
    "start_time": "2023-07-28T12:29:41.967Z"
   },
   {
    "duration": 65,
    "start_time": "2023-07-28T12:29:41.991Z"
   },
   {
    "duration": 13,
    "start_time": "2023-07-28T12:29:42.058Z"
   },
   {
    "duration": 32,
    "start_time": "2023-07-28T12:29:42.073Z"
   },
   {
    "duration": 17,
    "start_time": "2023-07-28T12:29:42.107Z"
   },
   {
    "duration": 75,
    "start_time": "2023-07-28T12:29:42.125Z"
   },
   {
    "duration": 16,
    "start_time": "2023-07-28T12:29:42.203Z"
   },
   {
    "duration": 49,
    "start_time": "2023-07-28T12:29:42.221Z"
   },
   {
    "duration": 19,
    "start_time": "2023-07-28T12:29:42.272Z"
   },
   {
    "duration": 30,
    "start_time": "2023-07-28T12:29:42.293Z"
   },
   {
    "duration": 52,
    "start_time": "2023-07-28T12:29:42.325Z"
   },
   {
    "duration": 79,
    "start_time": "2023-07-28T12:29:42.379Z"
   },
   {
    "duration": 53,
    "start_time": "2023-07-28T12:29:42.459Z"
   },
   {
    "duration": 45,
    "start_time": "2023-07-28T12:29:42.513Z"
   },
   {
    "duration": 32,
    "start_time": "2023-07-28T12:29:42.560Z"
   },
   {
    "duration": 29,
    "start_time": "2023-07-28T12:29:42.593Z"
   },
   {
    "duration": 23,
    "start_time": "2023-07-28T12:29:42.624Z"
   },
   {
    "duration": 34,
    "start_time": "2023-07-28T12:29:42.652Z"
   },
   {
    "duration": 26,
    "start_time": "2023-07-28T12:29:42.688Z"
   },
   {
    "duration": 29,
    "start_time": "2023-07-28T12:29:42.716Z"
   },
   {
    "duration": 34,
    "start_time": "2023-07-28T12:29:42.747Z"
   },
   {
    "duration": 32,
    "start_time": "2023-07-28T12:29:42.783Z"
   },
   {
    "duration": 58,
    "start_time": "2023-07-28T12:29:42.816Z"
   },
   {
    "duration": 12,
    "start_time": "2023-07-28T12:29:42.876Z"
   },
   {
    "duration": 15,
    "start_time": "2023-07-28T12:29:42.890Z"
   },
   {
    "duration": 38,
    "start_time": "2023-07-28T12:29:42.906Z"
   },
   {
    "duration": 43,
    "start_time": "2023-07-28T12:29:42.946Z"
   },
   {
    "duration": 393,
    "start_time": "2023-07-28T12:29:42.991Z"
   },
   {
    "duration": 96,
    "start_time": "2023-07-28T12:29:43.386Z"
   },
   {
    "duration": 0,
    "start_time": "2023-07-28T12:29:43.483Z"
   },
   {
    "duration": 0,
    "start_time": "2023-07-28T12:29:43.485Z"
   },
   {
    "duration": 0,
    "start_time": "2023-07-28T12:29:43.487Z"
   },
   {
    "duration": 0,
    "start_time": "2023-07-28T12:29:43.488Z"
   },
   {
    "duration": 0,
    "start_time": "2023-07-28T12:29:43.490Z"
   },
   {
    "duration": 0,
    "start_time": "2023-07-28T12:29:43.491Z"
   },
   {
    "duration": 0,
    "start_time": "2023-07-28T12:29:43.493Z"
   },
   {
    "duration": 0,
    "start_time": "2023-07-28T12:29:43.494Z"
   },
   {
    "duration": 0,
    "start_time": "2023-07-28T12:29:43.496Z"
   },
   {
    "duration": 0,
    "start_time": "2023-07-28T12:29:43.497Z"
   },
   {
    "duration": 0,
    "start_time": "2023-07-28T12:29:43.498Z"
   },
   {
    "duration": 7,
    "start_time": "2023-07-28T12:29:59.636Z"
   },
   {
    "duration": 8,
    "start_time": "2023-07-28T12:30:00.300Z"
   },
   {
    "duration": 158,
    "start_time": "2023-07-28T12:30:01.548Z"
   },
   {
    "duration": 14,
    "start_time": "2023-07-28T12:30:01.853Z"
   },
   {
    "duration": 14,
    "start_time": "2023-07-28T12:30:02.245Z"
   },
   {
    "duration": 3,
    "start_time": "2023-07-28T12:30:34.490Z"
   },
   {
    "duration": 14,
    "start_time": "2023-07-28T12:30:38.652Z"
   },
   {
    "duration": 4,
    "start_time": "2023-07-28T12:30:40.792Z"
   },
   {
    "duration": 12,
    "start_time": "2023-07-28T12:30:41.549Z"
   },
   {
    "duration": 7,
    "start_time": "2023-07-28T12:30:42.204Z"
   },
   {
    "duration": 31,
    "start_time": "2023-07-28T12:30:42.852Z"
   },
   {
    "duration": 278,
    "start_time": "2023-07-28T12:31:59.068Z"
   },
   {
    "duration": 5,
    "start_time": "2023-07-28T12:32:09.751Z"
   },
   {
    "duration": 5315,
    "start_time": "2023-07-28T12:32:16.743Z"
   },
   {
    "duration": 4,
    "start_time": "2023-07-28T12:32:31.188Z"
   },
   {
    "duration": 635,
    "start_time": "2023-07-28T12:32:31.199Z"
   },
   {
    "duration": 8,
    "start_time": "2023-07-28T12:32:31.835Z"
   },
   {
    "duration": 24,
    "start_time": "2023-07-28T12:32:31.845Z"
   },
   {
    "duration": 23,
    "start_time": "2023-07-28T12:32:31.871Z"
   },
   {
    "duration": 35,
    "start_time": "2023-07-28T12:32:31.895Z"
   },
   {
    "duration": 25,
    "start_time": "2023-07-28T12:32:31.931Z"
   },
   {
    "duration": 91,
    "start_time": "2023-07-28T12:32:31.958Z"
   },
   {
    "duration": 8,
    "start_time": "2023-07-28T12:32:32.050Z"
   },
   {
    "duration": 32,
    "start_time": "2023-07-28T12:32:32.061Z"
   },
   {
    "duration": 30,
    "start_time": "2023-07-28T12:32:32.099Z"
   },
   {
    "duration": 173,
    "start_time": "2023-07-28T12:32:32.131Z"
   },
   {
    "duration": 433,
    "start_time": "2023-07-28T12:32:32.307Z"
   },
   {
    "duration": 58,
    "start_time": "2023-07-28T12:32:32.741Z"
   },
   {
    "duration": 44,
    "start_time": "2023-07-28T12:32:32.801Z"
   },
   {
    "duration": 121,
    "start_time": "2023-07-28T12:32:32.847Z"
   },
   {
    "duration": 19,
    "start_time": "2023-07-28T12:32:32.970Z"
   },
   {
    "duration": 9,
    "start_time": "2023-07-28T12:32:32.991Z"
   },
   {
    "duration": 9,
    "start_time": "2023-07-28T12:32:33.002Z"
   },
   {
    "duration": 12,
    "start_time": "2023-07-28T12:32:33.014Z"
   },
   {
    "duration": 67,
    "start_time": "2023-07-28T12:32:33.027Z"
   },
   {
    "duration": 24,
    "start_time": "2023-07-28T12:32:33.096Z"
   },
   {
    "duration": 78,
    "start_time": "2023-07-28T12:32:33.121Z"
   },
   {
    "duration": 8,
    "start_time": "2023-07-28T12:32:33.201Z"
   },
   {
    "duration": 64,
    "start_time": "2023-07-28T12:32:33.211Z"
   },
   {
    "duration": 23,
    "start_time": "2023-07-28T12:32:33.277Z"
   },
   {
    "duration": 6,
    "start_time": "2023-07-28T12:32:33.302Z"
   },
   {
    "duration": 10,
    "start_time": "2023-07-28T12:32:33.309Z"
   },
   {
    "duration": 69,
    "start_time": "2023-07-28T12:32:33.323Z"
   },
   {
    "duration": 16,
    "start_time": "2023-07-28T12:32:33.394Z"
   },
   {
    "duration": 24,
    "start_time": "2023-07-28T12:32:33.411Z"
   },
   {
    "duration": 7,
    "start_time": "2023-07-28T12:32:33.437Z"
   },
   {
    "duration": 43,
    "start_time": "2023-07-28T12:32:33.445Z"
   },
   {
    "duration": 13,
    "start_time": "2023-07-28T12:32:33.490Z"
   },
   {
    "duration": 39,
    "start_time": "2023-07-28T12:32:33.504Z"
   },
   {
    "duration": 50,
    "start_time": "2023-07-28T12:32:33.544Z"
   },
   {
    "duration": 24,
    "start_time": "2023-07-28T12:32:33.596Z"
   },
   {
    "duration": 25,
    "start_time": "2023-07-28T12:32:33.622Z"
   },
   {
    "duration": 18,
    "start_time": "2023-07-28T12:32:33.649Z"
   },
   {
    "duration": 27,
    "start_time": "2023-07-28T12:32:33.669Z"
   },
   {
    "duration": 20,
    "start_time": "2023-07-28T12:32:33.698Z"
   },
   {
    "duration": 6,
    "start_time": "2023-07-28T12:32:33.720Z"
   },
   {
    "duration": 20,
    "start_time": "2023-07-28T12:32:33.727Z"
   },
   {
    "duration": 35,
    "start_time": "2023-07-28T12:32:33.748Z"
   },
   {
    "duration": 26,
    "start_time": "2023-07-28T12:32:33.784Z"
   },
   {
    "duration": 43,
    "start_time": "2023-07-28T12:32:33.812Z"
   },
   {
    "duration": 14,
    "start_time": "2023-07-28T12:32:33.856Z"
   },
   {
    "duration": 12,
    "start_time": "2023-07-28T12:32:33.872Z"
   },
   {
    "duration": 17,
    "start_time": "2023-07-28T12:32:33.887Z"
   },
   {
    "duration": 19,
    "start_time": "2023-07-28T12:32:33.906Z"
   },
   {
    "duration": 348,
    "start_time": "2023-07-28T12:32:33.927Z"
   },
   {
    "duration": 10,
    "start_time": "2023-07-28T12:32:34.277Z"
   },
   {
    "duration": 8,
    "start_time": "2023-07-28T12:32:34.289Z"
   },
   {
    "duration": 9,
    "start_time": "2023-07-28T12:32:34.299Z"
   },
   {
    "duration": 14,
    "start_time": "2023-07-28T12:32:34.310Z"
   },
   {
    "duration": 12,
    "start_time": "2023-07-28T12:32:34.326Z"
   },
   {
    "duration": 10,
    "start_time": "2023-07-28T12:32:34.339Z"
   },
   {
    "duration": 45,
    "start_time": "2023-07-28T12:32:34.351Z"
   },
   {
    "duration": 7,
    "start_time": "2023-07-28T12:32:34.398Z"
   },
   {
    "duration": 21,
    "start_time": "2023-07-28T12:32:34.406Z"
   },
   {
    "duration": 18,
    "start_time": "2023-07-28T12:32:34.428Z"
   },
   {
    "duration": 40,
    "start_time": "2023-07-28T12:32:34.447Z"
   },
   {
    "duration": 4,
    "start_time": "2023-07-28T12:38:19.451Z"
   },
   {
    "duration": 667,
    "start_time": "2023-07-28T12:38:19.458Z"
   },
   {
    "duration": 9,
    "start_time": "2023-07-28T12:38:20.126Z"
   },
   {
    "duration": 26,
    "start_time": "2023-07-28T12:38:20.138Z"
   },
   {
    "duration": 23,
    "start_time": "2023-07-28T12:38:20.165Z"
   },
   {
    "duration": 29,
    "start_time": "2023-07-28T12:38:20.190Z"
   },
   {
    "duration": 16,
    "start_time": "2023-07-28T12:38:20.221Z"
   },
   {
    "duration": 105,
    "start_time": "2023-07-28T12:38:20.239Z"
   },
   {
    "duration": 9,
    "start_time": "2023-07-28T12:38:20.347Z"
   },
   {
    "duration": 29,
    "start_time": "2023-07-28T12:38:20.358Z"
   },
   {
    "duration": 35,
    "start_time": "2023-07-28T12:38:20.389Z"
   },
   {
    "duration": 177,
    "start_time": "2023-07-28T12:38:20.426Z"
   },
   {
    "duration": 404,
    "start_time": "2023-07-28T12:38:20.604Z"
   },
   {
    "duration": 34,
    "start_time": "2023-07-28T12:38:21.010Z"
   },
   {
    "duration": 72,
    "start_time": "2023-07-28T12:38:21.045Z"
   },
   {
    "duration": 113,
    "start_time": "2023-07-28T12:38:21.119Z"
   },
   {
    "duration": 14,
    "start_time": "2023-07-28T12:38:21.234Z"
   },
   {
    "duration": 16,
    "start_time": "2023-07-28T12:38:21.249Z"
   },
   {
    "duration": 9,
    "start_time": "2023-07-28T12:38:21.291Z"
   },
   {
    "duration": 31,
    "start_time": "2023-07-28T12:38:21.302Z"
   },
   {
    "duration": 32,
    "start_time": "2023-07-28T12:38:21.334Z"
   },
   {
    "duration": 40,
    "start_time": "2023-07-28T12:38:21.368Z"
   },
   {
    "duration": 54,
    "start_time": "2023-07-28T12:38:21.410Z"
   },
   {
    "duration": 25,
    "start_time": "2023-07-28T12:38:21.470Z"
   },
   {
    "duration": 153,
    "start_time": "2023-07-28T12:38:21.497Z"
   },
   {
    "duration": 13,
    "start_time": "2023-07-28T12:38:21.652Z"
   },
   {
    "duration": 22,
    "start_time": "2023-07-28T12:38:21.666Z"
   },
   {
    "duration": 13,
    "start_time": "2023-07-28T12:38:21.690Z"
   },
   {
    "duration": 51,
    "start_time": "2023-07-28T12:38:21.705Z"
   },
   {
    "duration": 18,
    "start_time": "2023-07-28T12:38:21.758Z"
   },
   {
    "duration": 36,
    "start_time": "2023-07-28T12:38:21.778Z"
   },
   {
    "duration": 12,
    "start_time": "2023-07-28T12:38:21.817Z"
   },
   {
    "duration": 10,
    "start_time": "2023-07-28T12:38:21.831Z"
   },
   {
    "duration": 27,
    "start_time": "2023-07-28T12:38:21.843Z"
   },
   {
    "duration": 52,
    "start_time": "2023-07-28T12:38:21.872Z"
   },
   {
    "duration": 36,
    "start_time": "2023-07-28T12:38:21.926Z"
   },
   {
    "duration": 26,
    "start_time": "2023-07-28T12:38:21.964Z"
   },
   {
    "duration": 20,
    "start_time": "2023-07-28T12:38:21.991Z"
   },
   {
    "duration": 21,
    "start_time": "2023-07-28T12:38:22.013Z"
   },
   {
    "duration": 25,
    "start_time": "2023-07-28T12:38:22.035Z"
   },
   {
    "duration": 36,
    "start_time": "2023-07-28T12:38:22.062Z"
   },
   {
    "duration": 4,
    "start_time": "2023-07-28T12:38:22.100Z"
   },
   {
    "duration": 7,
    "start_time": "2023-07-28T12:38:22.106Z"
   },
   {
    "duration": 17,
    "start_time": "2023-07-28T12:38:22.114Z"
   },
   {
    "duration": 35,
    "start_time": "2023-07-28T12:38:22.133Z"
   },
   {
    "duration": 36,
    "start_time": "2023-07-28T12:38:22.170Z"
   },
   {
    "duration": 10,
    "start_time": "2023-07-28T12:38:22.208Z"
   },
   {
    "duration": 23,
    "start_time": "2023-07-28T12:38:22.220Z"
   },
   {
    "duration": 18,
    "start_time": "2023-07-28T12:38:22.245Z"
   },
   {
    "duration": 29,
    "start_time": "2023-07-28T12:38:22.265Z"
   },
   {
    "duration": 319,
    "start_time": "2023-07-28T12:38:22.296Z"
   },
   {
    "duration": 8,
    "start_time": "2023-07-28T12:38:22.617Z"
   },
   {
    "duration": 10,
    "start_time": "2023-07-28T12:38:22.627Z"
   },
   {
    "duration": 12,
    "start_time": "2023-07-28T12:38:22.639Z"
   },
   {
    "duration": 44,
    "start_time": "2023-07-28T12:38:22.652Z"
   },
   {
    "duration": 19,
    "start_time": "2023-07-28T12:38:22.697Z"
   },
   {
    "duration": 27,
    "start_time": "2023-07-28T12:38:22.717Z"
   },
   {
    "duration": 21,
    "start_time": "2023-07-28T12:38:22.746Z"
   },
   {
    "duration": 7,
    "start_time": "2023-07-28T12:38:22.769Z"
   },
   {
    "duration": 20,
    "start_time": "2023-07-28T12:38:22.778Z"
   },
   {
    "duration": 20,
    "start_time": "2023-07-28T12:38:22.800Z"
   },
   {
    "duration": 14,
    "start_time": "2023-07-28T12:38:22.821Z"
   },
   {
    "duration": 1320,
    "start_time": "2023-07-28T12:43:49.653Z"
   },
   {
    "duration": 642,
    "start_time": "2023-07-28T12:43:50.975Z"
   },
   {
    "duration": 14,
    "start_time": "2023-07-28T12:43:51.619Z"
   },
   {
    "duration": 42,
    "start_time": "2023-07-28T12:43:51.636Z"
   },
   {
    "duration": 71,
    "start_time": "2023-07-28T12:43:51.681Z"
   },
   {
    "duration": 90,
    "start_time": "2023-07-28T12:43:51.754Z"
   },
   {
    "duration": 12,
    "start_time": "2023-07-28T12:43:51.847Z"
   },
   {
    "duration": 92,
    "start_time": "2023-07-28T12:43:51.861Z"
   },
   {
    "duration": 9,
    "start_time": "2023-07-28T12:43:51.955Z"
   },
   {
    "duration": 38,
    "start_time": "2023-07-28T12:43:51.967Z"
   },
   {
    "duration": 37,
    "start_time": "2023-07-28T12:43:52.008Z"
   },
   {
    "duration": 149,
    "start_time": "2023-07-28T12:43:52.047Z"
   },
   {
    "duration": 432,
    "start_time": "2023-07-28T12:43:52.198Z"
   },
   {
    "duration": 60,
    "start_time": "2023-07-28T12:43:52.633Z"
   },
   {
    "duration": 44,
    "start_time": "2023-07-28T12:43:52.695Z"
   },
   {
    "duration": 147,
    "start_time": "2023-07-28T12:43:52.740Z"
   },
   {
    "duration": 12,
    "start_time": "2023-07-28T12:43:52.889Z"
   },
   {
    "duration": 36,
    "start_time": "2023-07-28T12:43:52.903Z"
   },
   {
    "duration": 45,
    "start_time": "2023-07-28T12:43:52.941Z"
   },
   {
    "duration": 41,
    "start_time": "2023-07-28T12:43:52.988Z"
   },
   {
    "duration": 32,
    "start_time": "2023-07-28T12:43:53.031Z"
   },
   {
    "duration": 53,
    "start_time": "2023-07-28T12:43:53.065Z"
   },
   {
    "duration": 63,
    "start_time": "2023-07-28T12:43:53.119Z"
   },
   {
    "duration": 9,
    "start_time": "2023-07-28T12:43:53.184Z"
   },
   {
    "duration": 96,
    "start_time": "2023-07-28T12:43:53.194Z"
   },
   {
    "duration": 13,
    "start_time": "2023-07-28T12:43:53.292Z"
   },
   {
    "duration": 11,
    "start_time": "2023-07-28T12:43:53.307Z"
   },
   {
    "duration": 38,
    "start_time": "2023-07-28T12:43:53.321Z"
   },
   {
    "duration": 53,
    "start_time": "2023-07-28T12:43:53.361Z"
   },
   {
    "duration": 18,
    "start_time": "2023-07-28T12:43:53.417Z"
   },
   {
    "duration": 37,
    "start_time": "2023-07-28T12:43:53.437Z"
   },
   {
    "duration": 17,
    "start_time": "2023-07-28T12:43:53.476Z"
   },
   {
    "duration": 20,
    "start_time": "2023-07-28T12:43:53.494Z"
   },
   {
    "duration": 42,
    "start_time": "2023-07-28T12:43:53.516Z"
   },
   {
    "duration": 58,
    "start_time": "2023-07-28T12:43:53.559Z"
   },
   {
    "duration": 29,
    "start_time": "2023-07-28T12:43:53.619Z"
   },
   {
    "duration": 30,
    "start_time": "2023-07-28T12:43:53.650Z"
   },
   {
    "duration": 20,
    "start_time": "2023-07-28T12:43:53.682Z"
   },
   {
    "duration": 29,
    "start_time": "2023-07-28T12:43:53.704Z"
   },
   {
    "duration": 29,
    "start_time": "2023-07-28T12:43:53.735Z"
   },
   {
    "duration": 21,
    "start_time": "2023-07-28T12:43:53.766Z"
   },
   {
    "duration": 7,
    "start_time": "2023-07-28T12:43:53.789Z"
   },
   {
    "duration": 23,
    "start_time": "2023-07-28T12:43:53.798Z"
   },
   {
    "duration": 17,
    "start_time": "2023-07-28T12:43:53.823Z"
   },
   {
    "duration": 33,
    "start_time": "2023-07-28T12:43:53.842Z"
   },
   {
    "duration": 50,
    "start_time": "2023-07-28T12:43:53.877Z"
   },
   {
    "duration": 18,
    "start_time": "2023-07-28T12:43:53.929Z"
   },
   {
    "duration": 25,
    "start_time": "2023-07-28T12:43:53.949Z"
   },
   {
    "duration": 30,
    "start_time": "2023-07-28T12:43:53.976Z"
   },
   {
    "duration": 32,
    "start_time": "2023-07-28T12:43:54.007Z"
   },
   {
    "duration": 550,
    "start_time": "2023-07-28T12:43:54.041Z"
   },
   {
    "duration": 7,
    "start_time": "2023-07-28T12:43:54.593Z"
   },
   {
    "duration": 35,
    "start_time": "2023-07-28T12:43:54.602Z"
   },
   {
    "duration": 31,
    "start_time": "2023-07-28T12:43:54.639Z"
   },
   {
    "duration": 36,
    "start_time": "2023-07-28T12:43:54.671Z"
   },
   {
    "duration": 25,
    "start_time": "2023-07-28T12:43:54.709Z"
   },
   {
    "duration": 32,
    "start_time": "2023-07-28T12:43:54.736Z"
   },
   {
    "duration": 29,
    "start_time": "2023-07-28T12:43:54.770Z"
   },
   {
    "duration": 14,
    "start_time": "2023-07-28T12:43:54.801Z"
   },
   {
    "duration": 26,
    "start_time": "2023-07-28T12:43:54.817Z"
   },
   {
    "duration": 22,
    "start_time": "2023-07-28T12:43:54.844Z"
   },
   {
    "duration": 35,
    "start_time": "2023-07-28T12:43:54.868Z"
   }
  ],
  "kernelspec": {
   "display_name": "Python 3 (ipykernel)",
   "language": "python",
   "name": "python3"
  },
  "language_info": {
   "codemirror_mode": {
    "name": "ipython",
    "version": 3
   },
   "file_extension": ".py",
   "mimetype": "text/x-python",
   "name": "python",
   "nbconvert_exporter": "python",
   "pygments_lexer": "ipython3",
   "version": "3.9.13"
  },
  "toc": {
   "base_numbering": 1,
   "nav_menu": {},
   "number_sections": true,
   "sideBar": true,
   "skip_h1_title": true,
   "title_cell": "Table of Contents",
   "title_sidebar": "Contents",
   "toc_cell": false,
   "toc_position": {},
   "toc_section_display": true,
   "toc_window_display": false
  }
 },
 "nbformat": 4,
 "nbformat_minor": 2
}
