{
 "cells": [
  {
   "cell_type": "markdown",
   "metadata": {},
   "source": [
    "# Video games data analysis"
   ]
  },
  {
   "cell_type": "markdown",
   "metadata": {},
   "source": [
    "### Описание проекта\n",
    "\n",
    "**Цель проекта** - выявить определяющие успешность игры закономерности для интернет-магазина «Стримчик» для выявления потенциально популярного продукта и планирования рекламной кампании.\n",
    "\n",
    "Из открытых источников доступны исторические данные о продажах игр, оценки пользователей и экспертов, жанры и платформы (например, Xbox или PlayStation) до 2016 года. \n",
    "\n",
    "Основная **задача проекта** - составить портрет пользователя каждого региона.\n",
    "\n",
    "Для решения задачи необходимо выполнить **следующие шаги**:\n",
    "- открыть файл с данными и изучить общую информацию;\n",
    "- выполнить предобработку данных;\n",
    "- провести исследовательский анализ данных;\n",
    "- составить портрет пользователя каждого региона;\n",
    "- проверить гипотезы;\n",
    "- написать общий вывод.\n",
    "\n",
    "**1. Загрузка данных и изучение общей информации**\n",
    "\n",
    "**2. Предобработка данных**\n",
    "- Заменить названия столбцов (привести к нижнему регистру);\n",
    "- Преобразовать данные в нужные типы;\n",
    "- Обработать пропуски при необходимости;\n",
    "- Посчитать суммарные продажи во всех регионах и записать их в отдельный столбец.\n",
    "\n",
    "**3. Исследовательский анализ данных**\n",
    "- Посмотреть, сколько игр выпускалось в разные годы;\n",
    "- Посмотреть, как менялись продажи по платформам;\n",
    "- Взять данные за соответствующий актуальный период. Эти данные помогут построить прогноз на 2017 год;\n",
    "- Определить, какие платформы лидируют по продажам, растут или падают. Выбрать несколько потенциально прибыльных платформ;\n",
    "- Построить график «ящик с усами» по глобальным продажам игр в разбивке по платформам;\n",
    "- Посмотреть, как влияют на продажи внутри одной популярной платформы отзывы пользователей и критиков. Построить диаграмму рассеяния и посчитать корреляцию между отзывами и продажами;\n",
    "- Соотнести выводы с продажами игр на других платформах;\n",
    "- Посмотреть на общее распределение игр по жанрам.\n",
    "\n",
    "**4. Составить портрет пользователя каждого региона**\n",
    "- Определить для пользователя каждого региона (NA, EU, JP):\n",
    "  - Самые популярные платформы (топ-5)\n",
    "  - Самые популярные жанры (топ-5)\n",
    "  - Влияет ли рейтинг ESRB на продажи в отдельном регионе?\n",
    "  \n",
    "**5. Проверка гипотез**\n",
    "- Средние пользовательские рейтинги платформ Xbox One и PC одинаковые;\n",
    "- Средние пользовательские рейтинги жанров Action (англ. «действие», экшен-игры) и Sports (англ. «спортивные соревнования») разные.\n",
    "\n",
    "*В наборе данных попадается аббревиатура ESRB (Entertainment Software Rating Board) — это ассоциация, определяющая возрастной рейтинг компьютерных игр. ESRB оценивает игровой контент и присваивает ему подходящую возрастную категорию, например, «Для взрослых», «Для детей младшего возраста» или «Для подростков».*"
   ]
  },
  {
   "cell_type": "markdown",
   "metadata": {},
   "source": [
    "## Загрузка данных и изучение общей информации"
   ]
  },
  {
   "cell_type": "code",
   "execution_count": 1,
   "metadata": {},
   "outputs": [],
   "source": [
    "# импорт библиотек\n",
    "import pandas as pd \n",
    "import matplotlib.pyplot as plt\n",
    "import numpy as np\n",
    "from scipy import stats as st"
   ]
  },
  {
   "cell_type": "code",
   "execution_count": 2,
   "metadata": {},
   "outputs": [],
   "source": [
    "# сохранение датасета в переменную \n",
    "data = pd.read_csv('/datasets/games.csv') "
   ]
  },
  {
   "cell_type": "code",
   "execution_count": 3,
   "metadata": {},
   "outputs": [
    {
     "data": {
      "text/html": [
       "<div>\n",
       "<style scoped>\n",
       "    .dataframe tbody tr th:only-of-type {\n",
       "        vertical-align: middle;\n",
       "    }\n",
       "\n",
       "    .dataframe tbody tr th {\n",
       "        vertical-align: top;\n",
       "    }\n",
       "\n",
       "    .dataframe thead th {\n",
       "        text-align: right;\n",
       "    }\n",
       "</style>\n",
       "<table border=\"1\" class=\"dataframe\">\n",
       "  <thead>\n",
       "    <tr style=\"text-align: right;\">\n",
       "      <th></th>\n",
       "      <th>Name</th>\n",
       "      <th>Platform</th>\n",
       "      <th>Year_of_Release</th>\n",
       "      <th>Genre</th>\n",
       "      <th>NA_sales</th>\n",
       "      <th>EU_sales</th>\n",
       "      <th>JP_sales</th>\n",
       "      <th>Other_sales</th>\n",
       "      <th>Critic_Score</th>\n",
       "      <th>User_Score</th>\n",
       "      <th>Rating</th>\n",
       "    </tr>\n",
       "  </thead>\n",
       "  <tbody>\n",
       "    <tr>\n",
       "      <th>0</th>\n",
       "      <td>Wii Sports</td>\n",
       "      <td>Wii</td>\n",
       "      <td>2006.0</td>\n",
       "      <td>Sports</td>\n",
       "      <td>41.36</td>\n",
       "      <td>28.96</td>\n",
       "      <td>3.77</td>\n",
       "      <td>8.45</td>\n",
       "      <td>76.0</td>\n",
       "      <td>8</td>\n",
       "      <td>E</td>\n",
       "    </tr>\n",
       "    <tr>\n",
       "      <th>1</th>\n",
       "      <td>Super Mario Bros.</td>\n",
       "      <td>NES</td>\n",
       "      <td>1985.0</td>\n",
       "      <td>Platform</td>\n",
       "      <td>29.08</td>\n",
       "      <td>3.58</td>\n",
       "      <td>6.81</td>\n",
       "      <td>0.77</td>\n",
       "      <td>NaN</td>\n",
       "      <td>NaN</td>\n",
       "      <td>NaN</td>\n",
       "    </tr>\n",
       "    <tr>\n",
       "      <th>2</th>\n",
       "      <td>Mario Kart Wii</td>\n",
       "      <td>Wii</td>\n",
       "      <td>2008.0</td>\n",
       "      <td>Racing</td>\n",
       "      <td>15.68</td>\n",
       "      <td>12.76</td>\n",
       "      <td>3.79</td>\n",
       "      <td>3.29</td>\n",
       "      <td>82.0</td>\n",
       "      <td>8.3</td>\n",
       "      <td>E</td>\n",
       "    </tr>\n",
       "    <tr>\n",
       "      <th>3</th>\n",
       "      <td>Wii Sports Resort</td>\n",
       "      <td>Wii</td>\n",
       "      <td>2009.0</td>\n",
       "      <td>Sports</td>\n",
       "      <td>15.61</td>\n",
       "      <td>10.93</td>\n",
       "      <td>3.28</td>\n",
       "      <td>2.95</td>\n",
       "      <td>80.0</td>\n",
       "      <td>8</td>\n",
       "      <td>E</td>\n",
       "    </tr>\n",
       "    <tr>\n",
       "      <th>4</th>\n",
       "      <td>Pokemon Red/Pokemon Blue</td>\n",
       "      <td>GB</td>\n",
       "      <td>1996.0</td>\n",
       "      <td>Role-Playing</td>\n",
       "      <td>11.27</td>\n",
       "      <td>8.89</td>\n",
       "      <td>10.22</td>\n",
       "      <td>1.00</td>\n",
       "      <td>NaN</td>\n",
       "      <td>NaN</td>\n",
       "      <td>NaN</td>\n",
       "    </tr>\n",
       "    <tr>\n",
       "      <th>5</th>\n",
       "      <td>Tetris</td>\n",
       "      <td>GB</td>\n",
       "      <td>1989.0</td>\n",
       "      <td>Puzzle</td>\n",
       "      <td>23.20</td>\n",
       "      <td>2.26</td>\n",
       "      <td>4.22</td>\n",
       "      <td>0.58</td>\n",
       "      <td>NaN</td>\n",
       "      <td>NaN</td>\n",
       "      <td>NaN</td>\n",
       "    </tr>\n",
       "    <tr>\n",
       "      <th>6</th>\n",
       "      <td>New Super Mario Bros.</td>\n",
       "      <td>DS</td>\n",
       "      <td>2006.0</td>\n",
       "      <td>Platform</td>\n",
       "      <td>11.28</td>\n",
       "      <td>9.14</td>\n",
       "      <td>6.50</td>\n",
       "      <td>2.88</td>\n",
       "      <td>89.0</td>\n",
       "      <td>8.5</td>\n",
       "      <td>E</td>\n",
       "    </tr>\n",
       "    <tr>\n",
       "      <th>7</th>\n",
       "      <td>Wii Play</td>\n",
       "      <td>Wii</td>\n",
       "      <td>2006.0</td>\n",
       "      <td>Misc</td>\n",
       "      <td>13.96</td>\n",
       "      <td>9.18</td>\n",
       "      <td>2.93</td>\n",
       "      <td>2.84</td>\n",
       "      <td>58.0</td>\n",
       "      <td>6.6</td>\n",
       "      <td>E</td>\n",
       "    </tr>\n",
       "    <tr>\n",
       "      <th>8</th>\n",
       "      <td>New Super Mario Bros. Wii</td>\n",
       "      <td>Wii</td>\n",
       "      <td>2009.0</td>\n",
       "      <td>Platform</td>\n",
       "      <td>14.44</td>\n",
       "      <td>6.94</td>\n",
       "      <td>4.70</td>\n",
       "      <td>2.24</td>\n",
       "      <td>87.0</td>\n",
       "      <td>8.4</td>\n",
       "      <td>E</td>\n",
       "    </tr>\n",
       "    <tr>\n",
       "      <th>9</th>\n",
       "      <td>Duck Hunt</td>\n",
       "      <td>NES</td>\n",
       "      <td>1984.0</td>\n",
       "      <td>Shooter</td>\n",
       "      <td>26.93</td>\n",
       "      <td>0.63</td>\n",
       "      <td>0.28</td>\n",
       "      <td>0.47</td>\n",
       "      <td>NaN</td>\n",
       "      <td>NaN</td>\n",
       "      <td>NaN</td>\n",
       "    </tr>\n",
       "  </tbody>\n",
       "</table>\n",
       "</div>"
      ],
      "text/plain": [
       "                        Name Platform  Year_of_Release         Genre  \\\n",
       "0                 Wii Sports      Wii           2006.0        Sports   \n",
       "1          Super Mario Bros.      NES           1985.0      Platform   \n",
       "2             Mario Kart Wii      Wii           2008.0        Racing   \n",
       "3          Wii Sports Resort      Wii           2009.0        Sports   \n",
       "4   Pokemon Red/Pokemon Blue       GB           1996.0  Role-Playing   \n",
       "5                     Tetris       GB           1989.0        Puzzle   \n",
       "6      New Super Mario Bros.       DS           2006.0      Platform   \n",
       "7                   Wii Play      Wii           2006.0          Misc   \n",
       "8  New Super Mario Bros. Wii      Wii           2009.0      Platform   \n",
       "9                  Duck Hunt      NES           1984.0       Shooter   \n",
       "\n",
       "   NA_sales  EU_sales  JP_sales  Other_sales  Critic_Score User_Score Rating  \n",
       "0     41.36     28.96      3.77         8.45          76.0          8      E  \n",
       "1     29.08      3.58      6.81         0.77           NaN        NaN    NaN  \n",
       "2     15.68     12.76      3.79         3.29          82.0        8.3      E  \n",
       "3     15.61     10.93      3.28         2.95          80.0          8      E  \n",
       "4     11.27      8.89     10.22         1.00           NaN        NaN    NaN  \n",
       "5     23.20      2.26      4.22         0.58           NaN        NaN    NaN  \n",
       "6     11.28      9.14      6.50         2.88          89.0        8.5      E  \n",
       "7     13.96      9.18      2.93         2.84          58.0        6.6      E  \n",
       "8     14.44      6.94      4.70         2.24          87.0        8.4      E  \n",
       "9     26.93      0.63      0.28         0.47           NaN        NaN    NaN  "
      ]
     },
     "execution_count": 3,
     "metadata": {},
     "output_type": "execute_result"
    }
   ],
   "source": [
    "# вывод первых 10 строк\n",
    "data.head(10) "
   ]
  },
  {
   "cell_type": "code",
   "execution_count": 4,
   "metadata": {},
   "outputs": [
    {
     "name": "stdout",
     "output_type": "stream",
     "text": [
      "<class 'pandas.core.frame.DataFrame'>\n",
      "RangeIndex: 16715 entries, 0 to 16714\n",
      "Data columns (total 11 columns):\n",
      " #   Column           Non-Null Count  Dtype  \n",
      "---  ------           --------------  -----  \n",
      " 0   Name             16713 non-null  object \n",
      " 1   Platform         16715 non-null  object \n",
      " 2   Year_of_Release  16446 non-null  float64\n",
      " 3   Genre            16713 non-null  object \n",
      " 4   NA_sales         16715 non-null  float64\n",
      " 5   EU_sales         16715 non-null  float64\n",
      " 6   JP_sales         16715 non-null  float64\n",
      " 7   Other_sales      16715 non-null  float64\n",
      " 8   Critic_Score     8137 non-null   float64\n",
      " 9   User_Score       10014 non-null  object \n",
      " 10  Rating           9949 non-null   object \n",
      "dtypes: float64(6), object(5)\n",
      "memory usage: 1.4+ MB\n"
     ]
    }
   ],
   "source": [
    "# вывод информации по датасету\n",
    "data.info() "
   ]
  },
  {
   "cell_type": "code",
   "execution_count": 5,
   "metadata": {},
   "outputs": [
    {
     "data": {
      "text/plain": [
       "(16715, 11)"
      ]
     },
     "execution_count": 5,
     "metadata": {},
     "output_type": "execute_result"
    }
   ],
   "source": [
    "# посмотрим размер датастета\n",
    "data.shape"
   ]
  },
  {
   "cell_type": "code",
   "execution_count": 6,
   "metadata": {},
   "outputs": [
    {
     "data": {
      "text/html": [
       "<div>\n",
       "<style scoped>\n",
       "    .dataframe tbody tr th:only-of-type {\n",
       "        vertical-align: middle;\n",
       "    }\n",
       "\n",
       "    .dataframe tbody tr th {\n",
       "        vertical-align: top;\n",
       "    }\n",
       "\n",
       "    .dataframe thead th {\n",
       "        text-align: right;\n",
       "    }\n",
       "</style>\n",
       "<table border=\"1\" class=\"dataframe\">\n",
       "  <thead>\n",
       "    <tr style=\"text-align: right;\">\n",
       "      <th></th>\n",
       "      <th>Year_of_Release</th>\n",
       "      <th>NA_sales</th>\n",
       "      <th>EU_sales</th>\n",
       "      <th>JP_sales</th>\n",
       "      <th>Other_sales</th>\n",
       "      <th>Critic_Score</th>\n",
       "    </tr>\n",
       "  </thead>\n",
       "  <tbody>\n",
       "    <tr>\n",
       "      <th>count</th>\n",
       "      <td>16446.000000</td>\n",
       "      <td>16715.000000</td>\n",
       "      <td>16715.000000</td>\n",
       "      <td>16715.000000</td>\n",
       "      <td>16715.000000</td>\n",
       "      <td>8137.000000</td>\n",
       "    </tr>\n",
       "    <tr>\n",
       "      <th>mean</th>\n",
       "      <td>2006.484616</td>\n",
       "      <td>0.263377</td>\n",
       "      <td>0.145060</td>\n",
       "      <td>0.077617</td>\n",
       "      <td>0.047342</td>\n",
       "      <td>68.967679</td>\n",
       "    </tr>\n",
       "    <tr>\n",
       "      <th>std</th>\n",
       "      <td>5.877050</td>\n",
       "      <td>0.813604</td>\n",
       "      <td>0.503339</td>\n",
       "      <td>0.308853</td>\n",
       "      <td>0.186731</td>\n",
       "      <td>13.938165</td>\n",
       "    </tr>\n",
       "    <tr>\n",
       "      <th>min</th>\n",
       "      <td>1980.000000</td>\n",
       "      <td>0.000000</td>\n",
       "      <td>0.000000</td>\n",
       "      <td>0.000000</td>\n",
       "      <td>0.000000</td>\n",
       "      <td>13.000000</td>\n",
       "    </tr>\n",
       "    <tr>\n",
       "      <th>25%</th>\n",
       "      <td>2003.000000</td>\n",
       "      <td>0.000000</td>\n",
       "      <td>0.000000</td>\n",
       "      <td>0.000000</td>\n",
       "      <td>0.000000</td>\n",
       "      <td>60.000000</td>\n",
       "    </tr>\n",
       "    <tr>\n",
       "      <th>50%</th>\n",
       "      <td>2007.000000</td>\n",
       "      <td>0.080000</td>\n",
       "      <td>0.020000</td>\n",
       "      <td>0.000000</td>\n",
       "      <td>0.010000</td>\n",
       "      <td>71.000000</td>\n",
       "    </tr>\n",
       "    <tr>\n",
       "      <th>75%</th>\n",
       "      <td>2010.000000</td>\n",
       "      <td>0.240000</td>\n",
       "      <td>0.110000</td>\n",
       "      <td>0.040000</td>\n",
       "      <td>0.030000</td>\n",
       "      <td>79.000000</td>\n",
       "    </tr>\n",
       "    <tr>\n",
       "      <th>max</th>\n",
       "      <td>2016.000000</td>\n",
       "      <td>41.360000</td>\n",
       "      <td>28.960000</td>\n",
       "      <td>10.220000</td>\n",
       "      <td>10.570000</td>\n",
       "      <td>98.000000</td>\n",
       "    </tr>\n",
       "  </tbody>\n",
       "</table>\n",
       "</div>"
      ],
      "text/plain": [
       "       Year_of_Release      NA_sales      EU_sales      JP_sales  \\\n",
       "count     16446.000000  16715.000000  16715.000000  16715.000000   \n",
       "mean       2006.484616      0.263377      0.145060      0.077617   \n",
       "std           5.877050      0.813604      0.503339      0.308853   \n",
       "min        1980.000000      0.000000      0.000000      0.000000   \n",
       "25%        2003.000000      0.000000      0.000000      0.000000   \n",
       "50%        2007.000000      0.080000      0.020000      0.000000   \n",
       "75%        2010.000000      0.240000      0.110000      0.040000   \n",
       "max        2016.000000     41.360000     28.960000     10.220000   \n",
       "\n",
       "        Other_sales  Critic_Score  \n",
       "count  16715.000000   8137.000000  \n",
       "mean       0.047342     68.967679  \n",
       "std        0.186731     13.938165  \n",
       "min        0.000000     13.000000  \n",
       "25%        0.000000     60.000000  \n",
       "50%        0.010000     71.000000  \n",
       "75%        0.030000     79.000000  \n",
       "max       10.570000     98.000000  "
      ]
     },
     "execution_count": 6,
     "metadata": {},
     "output_type": "execute_result"
    }
   ],
   "source": [
    "# вывод стат. информации\n",
    "data.describe() "
   ]
  },
  {
   "cell_type": "code",
   "execution_count": 7,
   "metadata": {},
   "outputs": [
    {
     "data": {
      "text/plain": [
       "Name                  2\n",
       "Platform              0\n",
       "Year_of_Release     269\n",
       "Genre                 2\n",
       "NA_sales              0\n",
       "EU_sales              0\n",
       "JP_sales              0\n",
       "Other_sales           0\n",
       "Critic_Score       8578\n",
       "User_Score         6701\n",
       "Rating             6766\n",
       "dtype: int64"
      ]
     },
     "execution_count": 7,
     "metadata": {},
     "output_type": "execute_result"
    }
   ],
   "source": [
    "# подсчет пропусков\n",
    "data.isna().sum() "
   ]
  },
  {
   "cell_type": "code",
   "execution_count": 8,
   "metadata": {},
   "outputs": [
    {
     "data": {
      "text/plain": [
       "0"
      ]
     },
     "execution_count": 8,
     "metadata": {},
     "output_type": "execute_result"
    }
   ],
   "source": [
    "# подсчет дубликатов\n",
    "data.duplicated().sum() "
   ]
  },
  {
   "cell_type": "markdown",
   "metadata": {},
   "source": [
    "<div class=\"alert alert-info\">\n",
    "\n",
    "**📝 Комментарий Маши**\n",
    "    \n",
    "Изучив данные, можно выделить основные аспекты:\n",
    "- в датафрейме 11 столбцов и 16715 строк\n",
    "- столбец с годом выпуска игры нуждается в конвертации из вещественного типа в целочисленный; столбцы с оценкой пользователей - с текстового в вещественный.\n",
    "- датасет содержит пропуски в нескольких столбцах (ими займемся в предобработке);\n",
    "- дубликатов нет.\n",
    "    \n",
    "</div>"
   ]
  },
  {
   "cell_type": "markdown",
   "metadata": {},
   "source": [
    "## Предобработка данных"
   ]
  },
  {
   "cell_type": "markdown",
   "metadata": {},
   "source": [
    "- Заменить названия столбцов (привести к нижнему регистру);"
   ]
  },
  {
   "cell_type": "code",
   "execution_count": 9,
   "metadata": {},
   "outputs": [],
   "source": [
    "# перевод названий столбцов в нижний регистр\n",
    "data.columns = data.columns.str.lower() "
   ]
  },
  {
   "cell_type": "markdown",
   "metadata": {},
   "source": [
    "- Обработать пропуски при необходимости;"
   ]
  },
  {
   "cell_type": "code",
   "execution_count": 10,
   "metadata": {},
   "outputs": [],
   "source": [
    "# заполнение пропусков \n",
    "data['critic_score'] = data['critic_score'].fillna('unknown') \n",
    "data['user_score'] = data['user_score'].fillna('unknown')\n",
    "data['rating'] = data['rating'].fillna('no_rating')"
   ]
  },
  {
   "cell_type": "markdown",
   "metadata": {},
   "source": [
    "- Преобразовать данные в нужные типы;"
   ]
  },
  {
   "cell_type": "code",
   "execution_count": 11,
   "metadata": {},
   "outputs": [],
   "source": [
    "# замена типа данных на другой \n",
    "data['year_of_release'] = np.floor(pd.to_numeric(data['year_of_release'], errors='coerce')).astype('Int64') \n",
    "data['user_score'] = pd.to_numeric(data['user_score'], errors='coerce').astype('float64')\n",
    "data['critic_score'] = pd.to_numeric(data['critic_score'], errors='coerce').astype('float64')"
   ]
  },
  {
   "cell_type": "markdown",
   "metadata": {},
   "source": [
    "- Посчитать суммарные продажи во всех регионах и записать их в отдельный столбец."
   ]
  },
  {
   "cell_type": "code",
   "execution_count": 12,
   "metadata": {},
   "outputs": [],
   "source": [
    "# создание столбца с суммарными продажами\n",
    "data['total_sales'] = data[['na_sales','eu_sales','jp_sales', 'other_sales']].sum(axis=1) "
   ]
  },
  {
   "cell_type": "markdown",
   "metadata": {},
   "source": [
    "<div class=\"alert alert-info\">\n",
    "\n",
    "**📝 Комментарий Маши**    \n",
    "  \n",
    "На данном этапе заполнила пропуски в столбцах \"оценка пользователей\" и \"оценка критиков\" на текстовые значения. В дальнейшем при условии определения выборки изменю на 0. Также заменила пропуски в столбце \"рейтинг\" на \"нет рейтинга\". \n",
    "    \n",
    "Остальные столбцы оставила, т.к. они в целом не нуждаются в заполнении. Аббревиатуру 'tbd' в столбце с оценкой пользователей заменять не стала, в этом нет необходимости.\n",
    "    \n",
    "Произвела замену типа данных в стобцах \"год выпуска\" - с вещественного на целочисленный (для более привычного вида), \"оценка пользователей\", \"оценка критиков\" - с тектового в вещественное число (для корректности вычислений по этим данным).\n",
    "    \n",
    "</div>"
   ]
  },
  {
   "cell_type": "markdown",
   "metadata": {},
   "source": [
    "## Исследовательский анализ данных"
   ]
  },
  {
   "cell_type": "markdown",
   "metadata": {},
   "source": [
    "- Посмотреть, сколько игр выпускалось в разные годы;"
   ]
  },
  {
   "cell_type": "code",
   "execution_count": 13,
   "metadata": {},
   "outputs": [
    {
     "data": {
      "image/png": "[encoded data removed]",
      "text/plain": [
       "<Figure size 432x288 with 1 Axes>"
      ]
     },
     "metadata": {
      "needs_background": "light"
     },
     "output_type": "display_data"
    }
   ],
   "source": [
    "# построение гистограммы зависимости\n",
    "data['year_of_release'].hist(bins=100) \n",
    "plt.title('Количество игр по годам') \n",
    "plt.xlabel(\"год\")\n",
    "plt.ylabel(\"число игр\")\n",
    "plt.show()"
   ]
  },
  {
   "cell_type": "markdown",
   "metadata": {},
   "source": [
    "<div class=\"alert alert-info\">\n",
    "\n",
    "**📝 Комментарий Маши**   \n",
    "  \n",
    "Большее количество игр выпускалось наряду с развитием индустрии и компьютерной техники. С конца 1990-х резкими скачками увеличился выпуск игр. Пиковые года конец 2000-х - начало 2010-х. С 2012 г. индустрия испытывает резкий спад выпуска игр.\n",
    "\n",
    "</div>"
   ]
  },
  {
   "cell_type": "markdown",
   "metadata": {},
   "source": [
    "Посмотреть, как менялись продажи по платформам;"
   ]
  },
  {
   "cell_type": "code",
   "execution_count": 14,
   "metadata": {},
   "outputs": [],
   "source": [
    "# создание сводной таблицы\n",
    "top_platforms = data.pivot_table(index = 'platform', values = 'total_sales', aggfunc='sum') \n",
    "\n",
    "# сортировка по убыванию по столбцу с общими продажами\n",
    "top_platforms = top_platforms.sort_values(by='total_sales', ascending = False).head(10)\n",
    "\n",
    "# сбросить индексы\n",
    "top_platforms = top_platforms.reset_index()"
   ]
  },
  {
   "cell_type": "code",
   "execution_count": 15,
   "metadata": {},
   "outputs": [
    {
     "data": {
      "image/png": "[encoded data removed]",
      "text/plain": [
       "<Figure size 720x216 with 1 Axes>"
      ]
     },
     "metadata": {
      "needs_background": "light"
     },
     "output_type": "display_data"
    },
    {
     "data": {
      "image/png": "[encoded data removed]",
      "text/plain": [
       "<Figure size 720x216 with 1 Axes>"
      ]
     },
     "metadata": {
      "needs_background": "light"
     },
     "output_type": "display_data"
    },
    {
     "data": {
      "image/png": "[encoded data removed]",
      "text/plain": [
       "<Figure size 720x216 with 1 Axes>"
      ]
     },
     "metadata": {
      "needs_background": "light"
     },
     "output_type": "display_data"
    },
    {
     "data": {
      "image/png": "[encoded data removed]",
      "text/plain": [
       "<Figure size 720x216 with 1 Axes>"
      ]
     },
     "metadata": {
      "needs_background": "light"
     },
     "output_type": "display_data"
    },
    {
     "data": {
      "image/png": "[encoded data removed]",
      "text/plain": [
       "<Figure size 720x216 with 1 Axes>"
      ]
     },
     "metadata": {
      "needs_background": "light"
     },
     "output_type": "display_data"
    },
    {
     "data": {
      "image/png": "[encoded data removed]",
      "text/plain": [
       "<Figure size 720x216 with 1 Axes>"
      ]
     },
     "metadata": {
      "needs_background": "light"
     },
     "output_type": "display_data"
    },
    {
     "data": {
      "image/png": "[encoded data removed]",
      "text/plain": [
       "<Figure size 720x216 with 1 Axes>"
      ]
     },
     "metadata": {
      "needs_background": "light"
     },
     "output_type": "display_data"
    },
    {
     "data": {
      "image/png": "[encoded data removed]",
      "text/plain": [
       "<Figure size 720x216 with 1 Axes>"
      ]
     },
     "metadata": {
      "needs_background": "light"
     },
     "output_type": "display_data"
    },
    {
     "data": {
      "image/png": "[encoded data removed]",
      "text/plain": [
       "<Figure size 720x216 with 1 Axes>"
      ]
     },
     "metadata": {
      "needs_background": "light"
     },
     "output_type": "display_data"
    },
    {
     "data": {
      "image/png": "[encoded data removed]",
      "text/plain": [
       "<Figure size 720x216 with 1 Axes>"
      ]
     },
     "metadata": {
      "needs_background": "light"
     },
     "output_type": "display_data"
    }
   ],
   "source": [
    "# построение гистограмм зависимости\n",
    "for i in top_platforms['platform']:\n",
    "    data.query('platform ==@i').pivot_table(index='year_of_release', values='total_sales', \\\n",
    "                                            aggfunc='sum').plot(kind='bar', grid=True, figsize=(10, 3))\n",
    "    plt.title(i) "
   ]
  },
  {
   "cell_type": "markdown",
   "metadata": {},
   "source": [
    "<div class=\"alert alert-info\">\n",
    "\n",
    "**📝 Комментарий Маши** \n",
    "   \n",
    "Продажи по платформам начинались с момента популярности/актуальности самой платформы и сходили на нет по причине забвения ее же.\n",
    "    \n",
    "Средний срок жизни платформ - 10 лет, а вот пик популярности -длится примерно 5. \n",
    "</div>"
   ]
  },
  {
   "cell_type": "markdown",
   "metadata": {},
   "source": [
    "- Взять данные за соответствующий актуальный период. Эти данные помогут построить прогноз на 2017 год;"
   ]
  },
  {
   "cell_type": "code",
   "execution_count": 16,
   "metadata": {},
   "outputs": [],
   "source": [
    "# создание новой таблицы с актуальными данными\n",
    "actual_data = data.query('year_of_release >= 2015') "
   ]
  },
  {
   "cell_type": "code",
   "execution_count": 17,
   "metadata": {},
   "outputs": [
    {
     "data": {
      "text/html": [
       "<div>\n",
       "<style scoped>\n",
       "    .dataframe tbody tr th:only-of-type {\n",
       "        vertical-align: middle;\n",
       "    }\n",
       "\n",
       "    .dataframe tbody tr th {\n",
       "        vertical-align: top;\n",
       "    }\n",
       "\n",
       "    .dataframe thead th {\n",
       "        text-align: right;\n",
       "    }\n",
       "</style>\n",
       "<table border=\"1\" class=\"dataframe\">\n",
       "  <thead>\n",
       "    <tr style=\"text-align: right;\">\n",
       "      <th></th>\n",
       "      <th>name</th>\n",
       "      <th>platform</th>\n",
       "      <th>year_of_release</th>\n",
       "      <th>genre</th>\n",
       "      <th>na_sales</th>\n",
       "      <th>eu_sales</th>\n",
       "      <th>jp_sales</th>\n",
       "      <th>other_sales</th>\n",
       "      <th>critic_score</th>\n",
       "      <th>user_score</th>\n",
       "      <th>rating</th>\n",
       "      <th>total_sales</th>\n",
       "    </tr>\n",
       "  </thead>\n",
       "  <tbody>\n",
       "    <tr>\n",
       "      <th>31</th>\n",
       "      <td>Call of Duty: Black Ops 3</td>\n",
       "      <td>PS4</td>\n",
       "      <td>2015</td>\n",
       "      <td>Shooter</td>\n",
       "      <td>6.03</td>\n",
       "      <td>5.86</td>\n",
       "      <td>0.36</td>\n",
       "      <td>2.38</td>\n",
       "      <td>NaN</td>\n",
       "      <td>NaN</td>\n",
       "      <td>no_rating</td>\n",
       "      <td>14.63</td>\n",
       "    </tr>\n",
       "    <tr>\n",
       "      <th>77</th>\n",
       "      <td>FIFA 16</td>\n",
       "      <td>PS4</td>\n",
       "      <td>2015</td>\n",
       "      <td>Sports</td>\n",
       "      <td>1.12</td>\n",
       "      <td>6.12</td>\n",
       "      <td>0.06</td>\n",
       "      <td>1.28</td>\n",
       "      <td>82.0</td>\n",
       "      <td>4.3</td>\n",
       "      <td>E</td>\n",
       "      <td>8.58</td>\n",
       "    </tr>\n",
       "    <tr>\n",
       "      <th>87</th>\n",
       "      <td>Star Wars Battlefront (2015)</td>\n",
       "      <td>PS4</td>\n",
       "      <td>2015</td>\n",
       "      <td>Shooter</td>\n",
       "      <td>2.99</td>\n",
       "      <td>3.49</td>\n",
       "      <td>0.22</td>\n",
       "      <td>1.28</td>\n",
       "      <td>NaN</td>\n",
       "      <td>NaN</td>\n",
       "      <td>no_rating</td>\n",
       "      <td>7.98</td>\n",
       "    </tr>\n",
       "    <tr>\n",
       "      <th>94</th>\n",
       "      <td>FIFA 17</td>\n",
       "      <td>PS4</td>\n",
       "      <td>2016</td>\n",
       "      <td>Sports</td>\n",
       "      <td>0.66</td>\n",
       "      <td>5.75</td>\n",
       "      <td>0.08</td>\n",
       "      <td>1.11</td>\n",
       "      <td>85.0</td>\n",
       "      <td>5.0</td>\n",
       "      <td>E</td>\n",
       "      <td>7.60</td>\n",
       "    </tr>\n",
       "    <tr>\n",
       "      <th>99</th>\n",
       "      <td>Call of Duty: Black Ops 3</td>\n",
       "      <td>XOne</td>\n",
       "      <td>2015</td>\n",
       "      <td>Shooter</td>\n",
       "      <td>4.59</td>\n",
       "      <td>2.11</td>\n",
       "      <td>0.01</td>\n",
       "      <td>0.68</td>\n",
       "      <td>NaN</td>\n",
       "      <td>NaN</td>\n",
       "      <td>no_rating</td>\n",
       "      <td>7.39</td>\n",
       "    </tr>\n",
       "  </tbody>\n",
       "</table>\n",
       "</div>"
      ],
      "text/plain": [
       "                            name platform  year_of_release    genre  na_sales  \\\n",
       "31     Call of Duty: Black Ops 3      PS4             2015  Shooter      6.03   \n",
       "77                       FIFA 16      PS4             2015   Sports      1.12   \n",
       "87  Star Wars Battlefront (2015)      PS4             2015  Shooter      2.99   \n",
       "94                       FIFA 17      PS4             2016   Sports      0.66   \n",
       "99     Call of Duty: Black Ops 3     XOne             2015  Shooter      4.59   \n",
       "\n",
       "    eu_sales  jp_sales  other_sales  critic_score  user_score     rating  \\\n",
       "31      5.86      0.36         2.38           NaN         NaN  no_rating   \n",
       "77      6.12      0.06         1.28          82.0         4.3          E   \n",
       "87      3.49      0.22         1.28           NaN         NaN  no_rating   \n",
       "94      5.75      0.08         1.11          85.0         5.0          E   \n",
       "99      2.11      0.01         0.68           NaN         NaN  no_rating   \n",
       "\n",
       "    total_sales  \n",
       "31        14.63  \n",
       "77         8.58  \n",
       "87         7.98  \n",
       "94         7.60  \n",
       "99         7.39  "
      ]
     },
     "execution_count": 17,
     "metadata": {},
     "output_type": "execute_result"
    }
   ],
   "source": [
    "# вывод первых 5 строк новой таблицы\n",
    "actual_data.head(5) "
   ]
  },
  {
   "cell_type": "markdown",
   "metadata": {},
   "source": [
    "<div class=\"alert alert-info\">\n",
    "\n",
    "**📝 Комментарий Маши** \n",
    "   \n",
    "Наиболее актуальный период в результате исследования предыдущих вопросов, данные которых помогут построить прогноз на 2017 год - это с 2015-2016 гг. (более старые данные могут исказить прогнозные результаты). \n",
    "    \n",
    "Для целей прогнозирования продаж на следующий год даже в традиционных бизнесах редко берут данные более чем за 2-3 года. А в такой динамично меняющейся индустрии, как компьютерные игры и вовсе не стоит брать слишком большой временной интервал - иначе обязательно захватишь уже отжившие тренды. Но и слишком короткий период тоже брать не стоит.\n",
    "    \n",
    "</div>"
   ]
  },
  {
   "cell_type": "markdown",
   "metadata": {},
   "source": [
    "- Определить, какие платформы лидируют по продажам, растут или падают. Выбрать несколько потенциально прибыльных платформ;"
   ]
  },
  {
   "cell_type": "code",
   "execution_count": 18,
   "metadata": {},
   "outputs": [],
   "source": [
    "# создание сводной таблицы\n",
    "top_platforms_actual = actual_data.pivot_table(index = 'platform', values = 'total_sales', aggfunc='sum') "
   ]
  },
  {
   "cell_type": "code",
   "execution_count": 19,
   "metadata": {},
   "outputs": [],
   "source": [
    "# сортировка значений по убыванию\n",
    "top_platforms_actual = top_platforms_actual.sort_values(by='total_sales', ascending=False).head(3) "
   ]
  },
  {
   "cell_type": "code",
   "execution_count": 20,
   "metadata": {},
   "outputs": [
    {
     "data": {
      "text/html": [
       "<div>\n",
       "<style scoped>\n",
       "    .dataframe tbody tr th:only-of-type {\n",
       "        vertical-align: middle;\n",
       "    }\n",
       "\n",
       "    .dataframe tbody tr th {\n",
       "        vertical-align: top;\n",
       "    }\n",
       "\n",
       "    .dataframe thead th {\n",
       "        text-align: right;\n",
       "    }\n",
       "</style>\n",
       "<table border=\"1\" class=\"dataframe\">\n",
       "  <thead>\n",
       "    <tr style=\"text-align: right;\">\n",
       "      <th></th>\n",
       "      <th>total_sales</th>\n",
       "    </tr>\n",
       "    <tr>\n",
       "      <th>platform</th>\n",
       "      <th></th>\n",
       "    </tr>\n",
       "  </thead>\n",
       "  <tbody>\n",
       "    <tr>\n",
       "      <th>PS4</th>\n",
       "      <td>188.15</td>\n",
       "    </tr>\n",
       "    <tr>\n",
       "      <th>XOne</th>\n",
       "      <td>86.29</td>\n",
       "    </tr>\n",
       "    <tr>\n",
       "      <th>3DS</th>\n",
       "      <td>42.92</td>\n",
       "    </tr>\n",
       "  </tbody>\n",
       "</table>\n",
       "</div>"
      ],
      "text/plain": [
       "          total_sales\n",
       "platform             \n",
       "PS4            188.15\n",
       "XOne            86.29\n",
       "3DS             42.92"
      ]
     },
     "execution_count": 20,
     "metadata": {},
     "output_type": "execute_result"
    }
   ],
   "source": [
    "# вывод таблицы\n",
    "top_platforms_actual"
   ]
  },
  {
   "cell_type": "markdown",
   "metadata": {},
   "source": [
    "<div class=\"alert alert-info\">\n",
    "\n",
    "**📝 Комментарий Маши** \n",
    "   \n",
    "Актуальные лидирующие по продажам платформы - PS4, Xone, 3DS, WiiU, PS3.\n",
    "\n",
    "</div>"
   ]
  },
  {
   "cell_type": "markdown",
   "metadata": {},
   "source": [
    "- Построить график «ящик с усами» по глобальным продажам игр в разбивке по платформам;"
   ]
  },
  {
   "cell_type": "code",
   "execution_count": 21,
   "metadata": {},
   "outputs": [
    {
     "data": {
      "image/png": "[encoded data removed]",
      "text/plain": [
       "<Figure size 864x864 with 1 Axes>"
      ]
     },
     "metadata": {
      "needs_background": "light"
     },
     "output_type": "display_data"
    }
   ],
   "source": [
    "# построение графика \"ящик с усами\" \n",
    "actual_data.boxplot(by='platform', column='total_sales', figsize=(12, 12)) \n",
    "plt.show()"
   ]
  },
  {
   "cell_type": "code",
   "execution_count": 22,
   "metadata": {},
   "outputs": [
    {
     "data": {
      "image/png": "[encoded data removed]",
      "text/plain": [
       "<Figure size 864x864 with 1 Axes>"
      ]
     },
     "metadata": {
      "needs_background": "light"
     },
     "output_type": "display_data"
    }
   ],
   "source": [
    "# построение графика \"ящик с усами\" \n",
    "actual_data.boxplot(by='platform', column='total_sales', figsize=(12, 12)) \n",
    "plt.ylim(0, 1.4)\n",
    "plt.show()"
   ]
  },
  {
   "cell_type": "code",
   "execution_count": 23,
   "metadata": {},
   "outputs": [
    {
     "data": {
      "text/plain": [
       "count    1108.000000\n",
       "mean        0.359134\n",
       "std         0.943111\n",
       "min         0.010000\n",
       "25%         0.030000\n",
       "50%         0.080000\n",
       "75%         0.260000\n",
       "max        14.630000\n",
       "Name: total_sales, dtype: float64"
      ]
     },
     "execution_count": 23,
     "metadata": {},
     "output_type": "execute_result"
    }
   ],
   "source": [
    "# вывод стат. параметров\n",
    "actual_data['total_sales'].describe()"
   ]
  },
  {
   "cell_type": "markdown",
   "metadata": {},
   "source": [
    "<div class=\"alert alert-info\">\n",
    "\n",
    "**📝 Комментарий Маши** \n",
    "   \n",
    "Выбросов не так много. Медиана в большинстве случаев намного ниже среднего арифметического. Удивительные результаты с платформой Wii - медиана больше среднего, расположена ближе к верхнему \"усу\". \n",
    "    \n",
    "Стандартное отклонение, которое характеризует разброс величин и показывает, насколько значения в выборке отличаются от среднего арифметического - 0.94 по всей выборке, что в целом не велико и похоже на правду.\n",
    "\n",
    "</div>"
   ]
  },
  {
   "cell_type": "markdown",
   "metadata": {},
   "source": [
    "- Посмотреть, как влияют на продажи внутри одной популярной платформы отзывы пользователей и критиков. Построить диаграмму рассеяния и посчитать корреляцию между отзывами и продажами;"
   ]
  },
  {
   "cell_type": "code",
   "execution_count": 24,
   "metadata": {},
   "outputs": [
    {
     "data": {
      "image/png": "[encoded data removed]",
      "text/plain": [
       "<Figure size 432x288 with 1 Axes>"
      ]
     },
     "metadata": {
      "needs_background": "light"
     },
     "output_type": "display_data"
    },
    {
     "data": {
      "image/png": "[encoded data removed]",
      "text/plain": [
       "<Figure size 432x288 with 1 Axes>"
      ]
     },
     "metadata": {
      "needs_background": "light"
     },
     "output_type": "display_data"
    }
   ],
   "source": [
    "# построение диаграммы рассеяния\n",
    "actual_data.loc[actual_data['platform'] == 'PS4'].plot(kind='scatter'\n",
    "                                                       , x='critic_score'\n",
    "                                                       , y='total_sales')\n",
    "plt.title('Зависимость продаж игр на PS4 от оценки критиков')\n",
    "plt.xlabel(\"оценка критиков\")\n",
    "plt.ylabel(\"общие продажи\")\n",
    "plt.show()\n",
    "\n",
    "# построение диаграммы рассеяния\n",
    "actual_data.loc[actual_data['platform'] == 'PS4'].plot(kind='scatter'\n",
    "                                                       , x='user_score'\n",
    "                                                       , y='total_sales')\n",
    "plt.title('Зависимость продаж игр на PS4 от оценки пользователей')\n",
    "plt.xlabel(\"оценка пользователей\")\n",
    "plt.ylabel(\"общие продажи\")\n",
    "plt.show() "
   ]
  },
  {
   "cell_type": "code",
   "execution_count": 25,
   "metadata": {},
   "outputs": [
    {
     "data": {
      "text/plain": [
       "0.3928485555130601"
      ]
     },
     "execution_count": 25,
     "metadata": {},
     "output_type": "execute_result"
    }
   ],
   "source": [
    "# вычисление коэффициента корреляции\n",
    "actual_data.loc[actual_data['platform'] == 'PS4', 'critic_score'].\\\n",
    "corr(actual_data.loc[actual_data['platform'] == 'PS4', 'total_sales'])"
   ]
  },
  {
   "cell_type": "code",
   "execution_count": 26,
   "metadata": {},
   "outputs": [
    {
     "data": {
      "text/plain": [
       "-0.05973845712638215"
      ]
     },
     "execution_count": 26,
     "metadata": {},
     "output_type": "execute_result"
    }
   ],
   "source": [
    "# вычисление коэффициента корреляции\n",
    "actual_data.loc[actual_data['platform'] == 'PS4', 'user_score'].\\\n",
    "corr(actual_data.loc[actual_data['platform'] == 'PS4', 'total_sales'])"
   ]
  },
  {
   "cell_type": "markdown",
   "metadata": {},
   "source": [
    "<div class=\"alert alert-info\">\n",
    "\n",
    "**📝 Комментарий Маши** \n",
    "   \n",
    "По диаграмме рассеяния и коэффициенту корреляции можно сделать вывод, что:\n",
    "- продажи игр на PS4 имеют слабую зависимость от оценки критиков с коэффициентом корреляции 0,32 (чем выше оценка, тем выше продажи);\n",
    "- продажи игр на PS4 от оценки пользователей не зависят.\n",
    "\n",
    "</div>"
   ]
  },
  {
   "cell_type": "markdown",
   "metadata": {},
   "source": [
    "- Соотнести выводы с продажами игр на других платформах;"
   ]
  },
  {
   "cell_type": "code",
   "execution_count": 27,
   "metadata": {},
   "outputs": [
    {
     "data": {
      "image/png": "[encoded data removed]",
      "text/plain": [
       "<Figure size 432x288 with 1 Axes>"
      ]
     },
     "metadata": {
      "needs_background": "light"
     },
     "output_type": "display_data"
    },
    {
     "data": {
      "image/png": "[encoded data removed]",
      "text/plain": [
       "<Figure size 432x288 with 1 Axes>"
      ]
     },
     "metadata": {
      "needs_background": "light"
     },
     "output_type": "display_data"
    }
   ],
   "source": [
    "# построение диаграммы рассеяния\n",
    "actual_data.loc[actual_data['platform'] == 'XOne'].plot(kind='scatter'\n",
    "                                                       , x='critic_score'\n",
    "                                                       , y='total_sales')\n",
    "plt.title('Зависимость продаж игр на XOne от оценки критиков')\n",
    "plt.xlabel(\"оценка критиков\")\n",
    "plt.ylabel(\"общие продажи\")\n",
    "plt.show()\n",
    "\n",
    "# построение диаграммы рассеяния\n",
    "actual_data.loc[actual_data['platform'] == 'XOne'].plot(kind='scatter'\n",
    "                                                       , x='user_score'\n",
    "                                                       , y='total_sales')\n",
    "plt.title('Зависимость продаж игр на XOne от оценки пользователей')\n",
    "plt.xlabel(\"оценка пользователей\")\n",
    "plt.ylabel(\"общие продажи\")\n",
    "plt.show() "
   ]
  },
  {
   "cell_type": "code",
   "execution_count": 28,
   "metadata": {},
   "outputs": [
    {
     "data": {
      "text/plain": [
       "0.43088874582136805"
      ]
     },
     "execution_count": 28,
     "metadata": {},
     "output_type": "execute_result"
    }
   ],
   "source": [
    "# вычисление коэффициента корреляции\n",
    "actual_data.loc[actual_data['platform'] == 'XOne', 'critic_score'].\\\n",
    "corr(actual_data.loc[actual_data['platform'] == 'XOne', 'total_sales']) "
   ]
  },
  {
   "cell_type": "code",
   "execution_count": 29,
   "metadata": {},
   "outputs": [
    {
     "data": {
      "text/plain": [
       "-0.04146733387366271"
      ]
     },
     "execution_count": 29,
     "metadata": {},
     "output_type": "execute_result"
    }
   ],
   "source": [
    "# вычисление коэффициента корреляции\n",
    "actual_data.loc[actual_data['platform'] == 'XOne', 'user_score'].\\\n",
    "corr(actual_data.loc[actual_data['platform'] == 'XOne', 'total_sales'])"
   ]
  },
  {
   "cell_type": "markdown",
   "metadata": {},
   "source": [
    "<div class=\"alert alert-info\">\n",
    "\n",
    "**📝 Комментарий Маши** \n",
    "   \n",
    "У платформы XOne прослеживается схожая зависимость продаж от отзывов критиков, как у PS4. \n",
    "\n",
    "</div>"
   ]
  },
  {
   "cell_type": "code",
   "execution_count": 30,
   "metadata": {},
   "outputs": [
    {
     "data": {
      "image/png": "[encoded data removed]",
      "text/plain": [
       "<Figure size 432x288 with 1 Axes>"
      ]
     },
     "metadata": {
      "needs_background": "light"
     },
     "output_type": "display_data"
    },
    {
     "data": {
      "image/png": "[encoded data removed]",
      "text/plain": [
       "<Figure size 432x288 with 1 Axes>"
      ]
     },
     "metadata": {
      "needs_background": "light"
     },
     "output_type": "display_data"
    }
   ],
   "source": [
    "# построение диаграммы рассеяния\n",
    "actual_data.loc[actual_data['platform'] == '3DS'].plot(kind='scatter'\n",
    "                                                       , x='critic_score'\n",
    "                                                       , y='total_sales')\n",
    "plt.title('Зависимость продаж игр на 3DS от оценки критиков')\n",
    "plt.xlabel(\"оценка критиков\")\n",
    "plt.ylabel(\"общие продажи\")\n",
    "plt.show()\n",
    "\n",
    "# построение диаграммы рассеяния\n",
    "actual_data.loc[actual_data['platform'] == '3DS'].plot(kind='scatter'\n",
    "                                                       , x='user_score'\n",
    "                                                       , y='total_sales')\n",
    "plt.title('Зависимость продаж игр на 3DS от оценки пользователей')\n",
    "plt.xlabel(\"оценка пользователей\")\n",
    "plt.ylabel(\"общие продажи\")\n",
    "plt.show()"
   ]
  },
  {
   "cell_type": "code",
   "execution_count": 31,
   "metadata": {},
   "outputs": [
    {
     "data": {
      "text/plain": [
       "0.17757455046092874"
      ]
     },
     "execution_count": 31,
     "metadata": {},
     "output_type": "execute_result"
    }
   ],
   "source": [
    "# вычисление коэффициента корреляции\n",
    "actual_data.loc[actual_data['platform'] == '3DS', 'critic_score'].\\\n",
    "corr(actual_data.loc[actual_data['platform'] == '3DS', 'total_sales']) "
   ]
  },
  {
   "cell_type": "code",
   "execution_count": 32,
   "metadata": {},
   "outputs": [
    {
     "data": {
      "text/plain": [
       "0.19879627008102982"
      ]
     },
     "execution_count": 32,
     "metadata": {},
     "output_type": "execute_result"
    }
   ],
   "source": [
    "# вычисление коэффициента корреляции\n",
    "actual_data.loc[actual_data['platform'] == '3DS', 'user_score'].\\\n",
    "corr(actual_data.loc[actual_data['platform'] == '3DS', 'total_sales'])"
   ]
  },
  {
   "cell_type": "markdown",
   "metadata": {},
   "source": [
    "<div class=\"alert alert-info\">\n",
    "\n",
    "**📝 Комментарий Маши**\n",
    "    \n",
    "Продажи платформы 3DS абсолютно не зависят ни от отзывов пользователей, ни от критиков. \n",
    "</div>"
   ]
  },
  {
   "cell_type": "markdown",
   "metadata": {},
   "source": [
    "- Посмотреть на общее распределение игр по жанрам."
   ]
  },
  {
   "cell_type": "code",
   "execution_count": 33,
   "metadata": {},
   "outputs": [
    {
     "data": {
      "image/png": "[encoded data removed]",
      "text/plain": [
       "<Figure size 432x288 with 1 Axes>"
      ]
     },
     "metadata": {
      "needs_background": "light"
     },
     "output_type": "display_data"
    }
   ],
   "source": [
    "# построение столбчатой диаграммы зависимости\n",
    "data.groupby('genre')['total_sales'].sum().plot(kind='bar', grid=True)\n",
    "plt.title('Зависимость продаж от жанра игры')\n",
    "plt.xlabel(\"жанр игры\")\n",
    "plt.ylabel(\"общие продажи\")\n",
    "plt.show() "
   ]
  },
  {
   "cell_type": "code",
   "execution_count": 34,
   "metadata": {},
   "outputs": [
    {
     "data": {
      "image/png": "[encoded data removed]",
      "text/plain": [
       "<Figure size 432x288 with 1 Axes>"
      ]
     },
     "metadata": {
      "needs_background": "light"
     },
     "output_type": "display_data"
    }
   ],
   "source": [
    "# построение столбчатой диаграммы зависимости\n",
    "data.groupby('genre')['total_sales'].median().plot(kind='bar', grid=True)\n",
    "plt.title('Зависимость продаж от жанра игры')\n",
    "plt.xlabel(\"жанр игры\")\n",
    "plt.ylabel(\"общие продажи\")\n",
    "plt.show() "
   ]
  },
  {
   "cell_type": "markdown",
   "metadata": {},
   "source": [
    "<div class=\"alert alert-info\">\n",
    "\n",
    "**📝 Комментарий Маши**\n",
    "   \n",
    "Однозначно существует градация по прибыльным жанрам игр. По общей сумме продаж наиболее прибыльными считаются жанры - экшн, спортивные игры и шутеры. Лидер - экшн-игры. Но, обратившись к медианному значению продаж, видим, что большим успехом пользуются жанры Platform, Shooter, Sports. Action же лишь на 5 месте.\n",
    "\n",
    "</div>"
   ]
  },
  {
   "cell_type": "markdown",
   "metadata": {},
   "source": [
    "## Составить портрет пользователя каждого региона"
   ]
  },
  {
   "cell_type": "markdown",
   "metadata": {},
   "source": [
    "### Определить для пользователя каждого региона (NA, EU, JP):"
   ]
  },
  {
   "cell_type": "markdown",
   "metadata": {},
   "source": [
    "- Самые популярные платформы (топ-5)"
   ]
  },
  {
   "cell_type": "code",
   "execution_count": 35,
   "metadata": {},
   "outputs": [
    {
     "name": "stderr",
     "output_type": "stream",
     "text": [
      "/tmp/ipykernel_64/3817308860.py:2: FutureWarning: Indexing with multiple keys (implicitly converted to a tuple of keys) will be deprecated, use a list instead.\n",
      "  data_platform = actual_data.groupby('platform')['na_sales', 'eu_sales', 'jp_sales'].sum()\n"
     ]
    },
    {
     "data": {
      "image/png": "[encoded data removed]",
      "text/plain": [
       "<Figure size 1080x720 with 1 Axes>"
      ]
     },
     "metadata": {
      "needs_background": "light"
     },
     "output_type": "display_data"
    }
   ],
   "source": [
    "# создание таблицы с группировкой продаж по регионам по платформам\n",
    "data_platform = actual_data.groupby('platform')['na_sales', 'eu_sales', 'jp_sales'].sum()\n",
    "\n",
    "# построение столбчатой диаграммы зависимости\n",
    "data_platform.plot.bar(figsize=(15, 10))\n",
    "plt.title('Самые популярные платформы')\n",
    "plt.xlabel(\"платформы\")\n",
    "plt.ylabel(\"продажи\")\n",
    "plt.show() "
   ]
  },
  {
   "cell_type": "markdown",
   "metadata": {},
   "source": [
    "<div class=\"alert alert-info\">\n",
    "\n",
    "**📝 Комментарий Маши**\n",
    "   \n",
    "Топ-5 популярных платформ в Северной Америке (в порядке убывания): PS4, XOne, 3DS, WiiU, X360; в Европе - PS4, XOne, PC, 3DS, PS3; В Японии - 3DS, PS4, PSV, PS3, WiiU.\n",
    "    \n",
    "\n",
    "</div>"
   ]
  },
  {
   "cell_type": "markdown",
   "metadata": {},
   "source": [
    "- Самые популярные жанры (топ-5)."
   ]
  },
  {
   "cell_type": "code",
   "execution_count": 36,
   "metadata": {},
   "outputs": [
    {
     "name": "stderr",
     "output_type": "stream",
     "text": [
      "/tmp/ipykernel_64/3968312133.py:2: FutureWarning: Indexing with multiple keys (implicitly converted to a tuple of keys) will be deprecated, use a list instead.\n",
      "  data_genre = actual_data.groupby('genre')['na_sales', 'eu_sales', 'jp_sales'].sum()\n"
     ]
    },
    {
     "data": {
      "image/png": "[encoded data removed]",
      "text/plain": [
       "<Figure size 1080x720 with 1 Axes>"
      ]
     },
     "metadata": {
      "needs_background": "light"
     },
     "output_type": "display_data"
    }
   ],
   "source": [
    "# создание таблицы с группировкой продаж по регионам по жанрам\n",
    "data_genre = actual_data.groupby('genre')['na_sales', 'eu_sales', 'jp_sales'].sum()\n",
    "\n",
    "# построение столбчатой диаграммы зависимости\n",
    "data_genre.plot.bar(figsize=(15, 10))\n",
    "plt.title('Самые популярные жанры')\n",
    "plt.xlabel(\"жанры\")\n",
    "plt.ylabel(\"продажи\")\n",
    "plt.show() "
   ]
  },
  {
   "cell_type": "markdown",
   "metadata": {},
   "source": [
    "<div class=\"alert alert-info\">\n",
    "\n",
    "**📝 Комментарий Маши**\n",
    "   \n",
    "Топ-5 популярных жанров в Северной Америке и Европе одинаковые (в порядке убывания): Shooter, Action, Sports, Role-Playing, Racing; В Японии - Action, Role-Playing, Shooter, Misc, Adventure.\n",
    "    \n",
    "Разница, вероятно, заключается в разности менталитетов пользователей.\n",
    "    \n",
    "\n",
    "</div>"
   ]
  },
  {
   "cell_type": "markdown",
   "metadata": {},
   "source": [
    "- Влияет ли рейтинг ESRB на продажи в отдельном регионе?"
   ]
  },
  {
   "cell_type": "code",
   "execution_count": 37,
   "metadata": {},
   "outputs": [
    {
     "name": "stderr",
     "output_type": "stream",
     "text": [
      "/tmp/ipykernel_64/3751901130.py:2: FutureWarning: Indexing with multiple keys (implicitly converted to a tuple of keys) will be deprecated, use a list instead.\n",
      "  esrb_to_sales = actual_data.groupby('rating')['na_sales', 'eu_sales', 'jp_sales'].sum()\n"
     ]
    },
    {
     "data": {
      "image/png": "[encoded data removed]",
      "text/plain": [
       "<Figure size 1080x720 with 1 Axes>"
      ]
     },
     "metadata": {
      "needs_background": "light"
     },
     "output_type": "display_data"
    }
   ],
   "source": [
    "# создание таблицы с группировкой продаж по регионам по рейтингу\n",
    "esrb_to_sales = actual_data.groupby('rating')['na_sales', 'eu_sales', 'jp_sales'].sum()\n",
    "\n",
    "# построение столбчатой диаграммы зависимости\n",
    "esrb_to_sales.plot.bar(figsize=(15, 10))\n",
    "plt.title('Влияние рейтинга на продажи')\n",
    "plt.xlabel(\"рейтинг\")\n",
    "plt.ylabel(\"продажи\")\n",
    "plt.show() "
   ]
  },
  {
   "cell_type": "markdown",
   "metadata": {},
   "source": [
    "<div class=\"alert alert-info\">\n",
    "    \n",
    "**📝 Комментарий Маши**\n",
    "   \n",
    "Влияние рейтинга ESRB таково: большим успехом пользуются игры, направленные на взрослую аудиторию в Северной Америке и Европе, В Японии же наиболее популярны игры для подростков.\n",
    "    \n",
    "\n",
    "</div>"
   ]
  },
  {
   "cell_type": "markdown",
   "metadata": {},
   "source": [
    "## Проверка гипотез "
   ]
  },
  {
   "cell_type": "markdown",
   "metadata": {},
   "source": [
    "**Нулевая гипотеза:** Средние пользовательские рейтинги платформ Xbox One и PC одинаковые;\n",
    "    \n",
    "**Альтернативная гипотеза:** Отвергаем нулевую гипотезу - средние пользовательские рейтинги платформ Xbox One и PC имеют различия."
   ]
  },
  {
   "cell_type": "code",
   "execution_count": 38,
   "metadata": {},
   "outputs": [
    {
     "name": "stdout",
     "output_type": "stream",
     "text": [
      "Средний пользовательский рейтинг платформы Xbox One: 6.542148760330578\n",
      "Средний пользовательский рейтинг платформы PC 6.29642857142857\n",
      "p-значение: 0.2778542084733835\n",
      "Не получилось отвергнуть нулевую гипотезу\n"
     ]
    }
   ],
   "source": [
    "# формируем данные для платформы\n",
    "xbox_one = actual_data.loc[(actual_data['platform'] == 'XOne') &  (actual_data['user_score'] > 0)]['user_score'] \n",
    "\n",
    "# формируем данные для платформы\n",
    "pc = actual_data.loc[(data['platform'] == 'PC') &  (actual_data['user_score'] > 0)]['user_score'] \n",
    "\n",
    "# вывод средних рейтингов для платформ\n",
    "print('Средний пользовательский рейтинг платформы Xbox One:', xbox_one.mean())\n",
    "print('Средний пользовательский рейтинг платформы PC', pc.mean())\n",
    "\n",
    "# значение уровня значимости\n",
    "alpha = .05\n",
    "\n",
    "# вызов метода для проверки гипотезы  \n",
    "results = st.ttest_ind(xbox_one, pc) \n",
    "\n",
    "# вывод значения p-value на экран\n",
    "print('p-значение:', results.pvalue) \n",
    "\n",
    "# условный оператор с выводом строки с ответом\n",
    "if results.pvalue < alpha:\n",
    "    print(\"Отвергаем нулевую гипотезу\")\n",
    "else:\n",
    "    print(\"Не получилось отвергнуть нулевую гипотезу\")"
   ]
  },
  {
   "cell_type": "markdown",
   "metadata": {},
   "source": [
    "**Нулевая гипотеза:** Средние пользовательские рейтинги жанров Action и Sports одинаковые;\n",
    "    \n",
    "**Альтернативная гипотеза:** Отвергаем нулевую гипотезу - средние пользовательские рейтинги жанров Action и Sports имеют различия."
   ]
  },
  {
   "cell_type": "code",
   "execution_count": 39,
   "metadata": {},
   "outputs": [
    {
     "name": "stdout",
     "output_type": "stream",
     "text": [
      "Средний пользовательский рейтинг жанра action: 6.808290155440415\n",
      "Средний пользовательский рейтинг жанра sports 5.198780487804878\n",
      "p-значение: 5.97163549920592e-10\n",
      "Отвергаем нулевую гипотезу\n"
     ]
    }
   ],
   "source": [
    "# формируем данные для жанра\n",
    "action_genre = actual_data.loc[(actual_data['genre'] == 'Action') & (actual_data['user_score'] > 0)]['user_score']\n",
    "\n",
    "# формируем данные для жанра\n",
    "sports_genre = actual_data.loc[(actual_data['genre'] == 'Sports') & (actual_data['user_score'] > 0)]['user_score']\n",
    "\n",
    "# вывод средних рейтингов для жанров\n",
    "print('Средний пользовательский рейтинг жанра action:', action_genre.mean())\n",
    "print('Средний пользовательский рейтинг жанра sports', sports_genre.mean())\n",
    "\n",
    "# значение уровня значимости\n",
    "alpha = .05 \n",
    "\n",
    "# вызов метода для проверки гипотезы\n",
    "results = st.ttest_ind(action_genre, sports_genre, equal_var = False) \n",
    "\n",
    "# вывод значения p-value на экран\n",
    "print('p-значение:', results.pvalue) \n",
    "\n",
    "# условный оператор с выводом строки с ответом\n",
    "if results.pvalue < alpha:\n",
    "    print(\"Отвергаем нулевую гипотезу\")\n",
    "else:\n",
    "    print(\"Не получилось отвергнуть нулевую гипотезу\")"
   ]
  },
  {
   "cell_type": "markdown",
   "metadata": {},
   "source": [
    "<div class=\"alert alert-info\">\n",
    "    \n",
    "**📝 Комментарий Маши**\n",
    "   \n",
    "Средние пользовательские рейтинги платформ Xbox One и PC одинаковые.\n",
    "Средние пользовательские рейтинги жанров Action и Sports имеют различия.     \n",
    "\n",
    "</div>"
   ]
  },
  {
   "cell_type": "markdown",
   "metadata": {},
   "source": [
    "## Выводы"
   ]
  },
  {
   "cell_type": "markdown",
   "metadata": {},
   "source": [
    "- пиковые время выпуска игр - конец 2000-х-начало 2010-х. С 2012 г. индустрия испытывает резкий спад в производстве игр;\n",
    "- средний срок жизни платформ - 10 лет, пик популярности - 5 лет;\n",
    "- наиболее подходящие период для прогнозныех данных по 2017 г. - это данные за последние два года 2015-2016 гг.;\n",
    "- актуальные лидирующие по продажам платформы - PS4, Xone, 3DS, WiiU, PS3;\n",
    "- продажи игр имеют слабую зависимость или не зависят вовсе от отзывов пользователей и критиков;\n",
    "- по общей сумме продаж наиболее прибыльными считаются жанры - Action, Sports и Shooter; по медианной - Platform, Shooter, Sports;\n",
    "- топ-5 популярных платформ в Северной Америке (в порядке убывания): PS4, XOne, 3DS, WiiU, X360; в Европе - PS4, XOne, PC, 3DS, PS3; В Японии - 3DS, PS4, PSV, PS3, WiiU;\n",
    "- топ-5 популярных жанров в Северной Америке и Европе одинаковый (в порядке убывания): Shooter, Action, Sports, Role-Playing, Racing; В Японии - Action, Role-Playing, Shooter, Misc, Adventure;\n",
    "- в Северной Америке и Европе большим успехом пользуются игры, направленные на взрослую аудиторию , В Японии же наиболее популярны игры для подростков;\n",
    "- при проверке гипотез выявили: средние пользовательские рейтинги платформ Xbox One и PC одинаковые; средние пользовательские рейтинги жанров Action и Sports разные (для проверки правдоподобия статистических гипотез использовался критерий значимости (5% уровень значимости) и метод t-test)."
   ]
  }
 ],
 "metadata": {
  "ExecuteTimeLog": [
   {
    "duration": 384,
    "start_time": "2022-10-10T02:44:26.261Z"
   },
   {
    "duration": 91,
    "start_time": "2022-10-10T02:44:54.134Z"
   },
   {
    "duration": 25,
    "start_time": "2022-10-10T02:45:04.910Z"
   },
   {
    "duration": 15,
    "start_time": "2022-10-10T02:48:08.662Z"
   },
   {
    "duration": 14,
    "start_time": "2022-10-10T02:48:18.863Z"
   },
   {
    "duration": 67,
    "start_time": "2022-10-10T02:52:48.397Z"
   },
   {
    "duration": 8,
    "start_time": "2022-10-10T02:53:10.568Z"
   },
   {
    "duration": 3,
    "start_time": "2022-10-10T02:56:39.284Z"
   },
   {
    "duration": 14,
    "start_time": "2022-10-10T02:56:46.900Z"
   },
   {
    "duration": 15,
    "start_time": "2022-10-10T03:03:32.398Z"
   },
   {
    "duration": 9,
    "start_time": "2022-10-10T03:09:36.525Z"
   },
   {
    "duration": 13,
    "start_time": "2022-10-10T03:31:46.598Z"
   },
   {
    "duration": 224,
    "start_time": "2022-10-10T03:31:55.963Z"
   },
   {
    "duration": 5,
    "start_time": "2022-10-10T03:32:41.494Z"
   },
   {
    "duration": 8,
    "start_time": "2022-10-10T03:32:54.861Z"
   },
   {
    "duration": 14,
    "start_time": "2022-10-10T03:33:02.757Z"
   },
   {
    "duration": 19,
    "start_time": "2022-10-10T03:37:55.167Z"
   },
   {
    "duration": 12,
    "start_time": "2022-10-10T03:38:28.832Z"
   },
   {
    "duration": 8,
    "start_time": "2022-10-10T03:41:59.210Z"
   },
   {
    "duration": 7,
    "start_time": "2022-10-10T03:42:17.555Z"
   },
   {
    "duration": 9,
    "start_time": "2022-10-10T03:42:25.362Z"
   },
   {
    "duration": 16,
    "start_time": "2022-10-10T03:43:07.731Z"
   },
   {
    "duration": 14,
    "start_time": "2022-10-10T03:44:56.099Z"
   },
   {
    "duration": 3,
    "start_time": "2022-10-10T03:45:40.485Z"
   },
   {
    "duration": 13,
    "start_time": "2022-10-10T03:45:49.132Z"
   },
   {
    "duration": 16,
    "start_time": "2022-10-10T04:04:08.769Z"
   },
   {
    "duration": 14,
    "start_time": "2022-10-10T04:04:31.816Z"
   },
   {
    "duration": 10,
    "start_time": "2022-10-10T04:04:34.209Z"
   },
   {
    "duration": 13,
    "start_time": "2022-10-10T04:04:39.257Z"
   },
   {
    "duration": 9,
    "start_time": "2022-10-10T04:07:17.978Z"
   },
   {
    "duration": 6,
    "start_time": "2022-10-10T04:19:13.896Z"
   },
   {
    "duration": 8,
    "start_time": "2022-10-10T04:20:12.087Z"
   },
   {
    "duration": 10,
    "start_time": "2022-10-10T04:20:17.310Z"
   },
   {
    "duration": 10,
    "start_time": "2022-10-10T04:23:13.368Z"
   },
   {
    "duration": 5,
    "start_time": "2022-10-10T04:23:21.601Z"
   },
   {
    "duration": 16,
    "start_time": "2022-10-10T04:23:29.578Z"
   },
   {
    "duration": 5,
    "start_time": "2022-10-10T04:23:38.136Z"
   },
   {
    "duration": 5,
    "start_time": "2022-10-10T04:23:40.441Z"
   },
   {
    "duration": 438,
    "start_time": "2022-10-10T11:55:38.893Z"
   },
   {
    "duration": 466,
    "start_time": "2022-10-10T11:55:39.334Z"
   },
   {
    "duration": 26,
    "start_time": "2022-10-10T11:55:39.802Z"
   },
   {
    "duration": 18,
    "start_time": "2022-10-10T11:55:39.830Z"
   },
   {
    "duration": 3,
    "start_time": "2022-10-10T11:55:40.712Z"
   },
   {
    "duration": 23,
    "start_time": "2022-10-10T11:55:40.944Z"
   },
   {
    "duration": 12,
    "start_time": "2022-10-10T11:55:41.423Z"
   },
   {
    "duration": 10,
    "start_time": "2022-10-10T11:55:42.583Z"
   },
   {
    "duration": 9,
    "start_time": "2022-10-10T11:55:43.952Z"
   },
   {
    "duration": 660,
    "start_time": "2022-10-10T11:58:01.792Z"
   },
   {
    "duration": 215,
    "start_time": "2022-10-10T11:58:14.981Z"
   },
   {
    "duration": 156,
    "start_time": "2022-10-10T11:58:27.211Z"
   },
   {
    "duration": 8,
    "start_time": "2022-10-10T11:58:56.019Z"
   },
   {
    "duration": 4,
    "start_time": "2022-10-10T11:59:21.965Z"
   },
   {
    "duration": 132,
    "start_time": "2022-10-10T11:59:28.808Z"
   },
   {
    "duration": 10,
    "start_time": "2022-10-10T12:10:12.737Z"
   },
   {
    "duration": 355,
    "start_time": "2022-10-10T12:10:24.848Z"
   },
   {
    "duration": 216,
    "start_time": "2022-10-10T12:10:33.395Z"
   },
   {
    "duration": 217,
    "start_time": "2022-10-10T12:11:21.296Z"
   },
   {
    "duration": 172,
    "start_time": "2022-10-10T12:11:32.219Z"
   },
   {
    "duration": 181,
    "start_time": "2022-10-10T12:11:43.112Z"
   },
   {
    "duration": 8,
    "start_time": "2022-10-10T12:14:44.295Z"
   },
   {
    "duration": 21,
    "start_time": "2022-10-10T12:14:59.042Z"
   },
   {
    "duration": 23,
    "start_time": "2022-10-10T12:15:25.179Z"
   },
   {
    "duration": 293,
    "start_time": "2022-10-10T12:15:57.436Z"
   },
   {
    "duration": 293,
    "start_time": "2022-10-10T12:20:45.365Z"
   },
   {
    "duration": 364,
    "start_time": "2022-10-10T12:21:34.581Z"
   },
   {
    "duration": 12,
    "start_time": "2022-10-10T12:21:43.470Z"
   },
   {
    "duration": 379,
    "start_time": "2022-10-10T12:21:55.641Z"
   },
   {
    "duration": 2260,
    "start_time": "2022-10-10T12:23:09.697Z"
   },
   {
    "duration": 172,
    "start_time": "2022-10-10T12:43:24.005Z"
   },
   {
    "duration": 308,
    "start_time": "2022-10-10T12:43:45.113Z"
   },
   {
    "duration": 266,
    "start_time": "2022-10-10T12:46:31.767Z"
   },
   {
    "duration": 146,
    "start_time": "2022-10-10T12:47:26.836Z"
   },
   {
    "duration": 6,
    "start_time": "2022-10-10T12:50:16.152Z"
   },
   {
    "duration": 22,
    "start_time": "2022-10-10T12:50:20.654Z"
   },
   {
    "duration": 20,
    "start_time": "2022-10-10T12:58:49.459Z"
   },
   {
    "duration": 10,
    "start_time": "2022-10-10T12:59:40.039Z"
   },
   {
    "duration": 9,
    "start_time": "2022-10-10T12:59:49.932Z"
   },
   {
    "duration": 153,
    "start_time": "2022-10-10T13:06:38.213Z"
   },
   {
    "duration": 137,
    "start_time": "2022-10-10T13:06:54.202Z"
   },
   {
    "duration": 8,
    "start_time": "2022-10-10T13:07:10.079Z"
   },
   {
    "duration": 8,
    "start_time": "2022-10-10T13:07:32.686Z"
   },
   {
    "duration": 7,
    "start_time": "2022-10-10T13:07:48.074Z"
   },
   {
    "duration": 7,
    "start_time": "2022-10-10T13:07:53.490Z"
   },
   {
    "duration": 9,
    "start_time": "2022-10-10T13:08:18.030Z"
   },
   {
    "duration": 10,
    "start_time": "2022-10-10T13:08:50.174Z"
   },
   {
    "duration": 9,
    "start_time": "2022-10-10T13:08:57.285Z"
   },
   {
    "duration": 7,
    "start_time": "2022-10-10T13:09:33.501Z"
   },
   {
    "duration": 9,
    "start_time": "2022-10-10T13:09:48.960Z"
   },
   {
    "duration": 8,
    "start_time": "2022-10-10T13:10:15.873Z"
   },
   {
    "duration": 6,
    "start_time": "2022-10-10T13:23:25.037Z"
   },
   {
    "duration": 24,
    "start_time": "2022-10-10T13:23:25.779Z"
   },
   {
    "duration": 9,
    "start_time": "2022-10-10T13:23:28.444Z"
   },
   {
    "duration": 8,
    "start_time": "2022-10-10T13:23:33.533Z"
   },
   {
    "duration": 11,
    "start_time": "2022-10-10T13:27:58.688Z"
   },
   {
    "duration": 199,
    "start_time": "2022-10-10T13:29:00.576Z"
   },
   {
    "duration": 103,
    "start_time": "2022-10-10T13:29:26.927Z"
   },
   {
    "duration": 72,
    "start_time": "2022-10-10T13:31:11.870Z"
   },
   {
    "duration": 121,
    "start_time": "2022-10-10T13:31:25.136Z"
   },
   {
    "duration": 120,
    "start_time": "2022-10-10T13:31:50.330Z"
   },
   {
    "duration": 122,
    "start_time": "2022-10-10T13:31:58.573Z"
   },
   {
    "duration": 246,
    "start_time": "2022-10-10T13:33:10.375Z"
   },
   {
    "duration": 211,
    "start_time": "2022-10-10T13:33:27.351Z"
   },
   {
    "duration": 138,
    "start_time": "2022-10-10T13:33:38.193Z"
   },
   {
    "duration": 251,
    "start_time": "2022-10-10T13:34:04.497Z"
   },
   {
    "duration": 260,
    "start_time": "2022-10-10T13:36:49.745Z"
   },
   {
    "duration": 243,
    "start_time": "2022-10-10T13:36:55.829Z"
   },
   {
    "duration": 242,
    "start_time": "2022-10-10T13:37:06.006Z"
   },
   {
    "duration": 401,
    "start_time": "2022-10-10T13:37:14.570Z"
   },
   {
    "duration": 583,
    "start_time": "2022-10-10T13:38:40.341Z"
   },
   {
    "duration": 12,
    "start_time": "2022-10-10T13:38:56.440Z"
   },
   {
    "duration": 178,
    "start_time": "2022-10-10T13:39:29.459Z"
   },
   {
    "duration": 4,
    "start_time": "2022-10-10T13:45:15.576Z"
   },
   {
    "duration": 255,
    "start_time": "2022-10-10T13:45:16.940Z"
   },
   {
    "duration": 10,
    "start_time": "2022-10-10T13:45:59.833Z"
   },
   {
    "duration": 5,
    "start_time": "2022-10-10T13:46:00.538Z"
   },
   {
    "duration": 366,
    "start_time": "2022-10-10T13:46:02.662Z"
   },
   {
    "duration": 256,
    "start_time": "2022-10-10T13:46:21.026Z"
   },
   {
    "duration": 8,
    "start_time": "2022-10-10T13:46:42.355Z"
   },
   {
    "duration": 18,
    "start_time": "2022-10-10T13:47:08.110Z"
   },
   {
    "duration": 8,
    "start_time": "2022-10-10T13:47:19.801Z"
   },
   {
    "duration": 8,
    "start_time": "2022-10-10T13:47:23.923Z"
   },
   {
    "duration": 15,
    "start_time": "2022-10-10T13:47:24.714Z"
   },
   {
    "duration": 237,
    "start_time": "2022-10-10T13:47:54.572Z"
   },
   {
    "duration": 4,
    "start_time": "2022-10-10T13:48:37.211Z"
   },
   {
    "duration": 8,
    "start_time": "2022-10-10T13:48:37.859Z"
   },
   {
    "duration": 171,
    "start_time": "2022-10-10T13:48:49.896Z"
   },
   {
    "duration": 1418,
    "start_time": "2022-10-10T14:17:53.447Z"
   },
   {
    "duration": 1577,
    "start_time": "2022-10-10T14:18:01.054Z"
   },
   {
    "duration": 3,
    "start_time": "2022-10-10T14:18:19.487Z"
   },
   {
    "duration": 1664,
    "start_time": "2022-10-10T14:18:23.167Z"
   },
   {
    "duration": 7,
    "start_time": "2022-10-10T14:18:58.198Z"
   },
   {
    "duration": 7,
    "start_time": "2022-10-10T14:19:09.452Z"
   },
   {
    "duration": 1406,
    "start_time": "2022-10-10T14:19:37.612Z"
   },
   {
    "duration": 102,
    "start_time": "2022-10-10T14:20:16.104Z"
   },
   {
    "duration": 11,
    "start_time": "2022-10-10T14:20:35.008Z"
   },
   {
    "duration": 183,
    "start_time": "2022-10-10T14:40:23.384Z"
   },
   {
    "duration": 195,
    "start_time": "2022-10-10T14:40:30.679Z"
   },
   {
    "duration": 173,
    "start_time": "2022-10-10T14:40:36.063Z"
   },
   {
    "duration": 553,
    "start_time": "2022-10-10T14:56:58.605Z"
   },
   {
    "duration": 359,
    "start_time": "2022-10-10T15:02:26.607Z"
   },
   {
    "duration": 303,
    "start_time": "2022-10-10T15:02:52.126Z"
   },
   {
    "duration": 300,
    "start_time": "2022-10-10T15:04:14.368Z"
   },
   {
    "duration": 299,
    "start_time": "2022-10-10T15:04:27.200Z"
   },
   {
    "duration": 274,
    "start_time": "2022-10-10T15:04:34.601Z"
   },
   {
    "duration": 284,
    "start_time": "2022-10-10T15:04:46.452Z"
   },
   {
    "duration": 303,
    "start_time": "2022-10-10T15:04:53.196Z"
   },
   {
    "duration": 403,
    "start_time": "2022-10-10T15:05:12.847Z"
   },
   {
    "duration": 12,
    "start_time": "2022-10-10T15:13:46.002Z"
   },
   {
    "duration": 180,
    "start_time": "2022-10-10T15:17:00.811Z"
   },
   {
    "duration": 171,
    "start_time": "2022-10-10T15:17:16.277Z"
   },
   {
    "duration": 184,
    "start_time": "2022-10-10T15:17:31.855Z"
   },
   {
    "duration": 144,
    "start_time": "2022-10-10T15:17:43.257Z"
   },
   {
    "duration": 145,
    "start_time": "2022-10-10T15:19:14.683Z"
   },
   {
    "duration": 13,
    "start_time": "2022-10-10T15:19:36.834Z"
   },
   {
    "duration": 3,
    "start_time": "2022-10-10T15:19:49.841Z"
   },
   {
    "duration": 58,
    "start_time": "2022-10-10T15:19:49.846Z"
   },
   {
    "duration": 17,
    "start_time": "2022-10-10T15:19:49.905Z"
   },
   {
    "duration": 17,
    "start_time": "2022-10-10T15:19:49.924Z"
   },
   {
    "duration": 4,
    "start_time": "2022-10-10T15:19:49.942Z"
   },
   {
    "duration": 43,
    "start_time": "2022-10-10T15:19:49.948Z"
   },
   {
    "duration": 13,
    "start_time": "2022-10-10T15:19:49.992Z"
   },
   {
    "duration": 11,
    "start_time": "2022-10-10T15:19:50.006Z"
   },
   {
    "duration": 12,
    "start_time": "2022-10-10T15:19:50.021Z"
   },
   {
    "duration": 199,
    "start_time": "2022-10-10T15:19:50.035Z"
   },
   {
    "duration": 312,
    "start_time": "2022-10-10T15:19:50.236Z"
   },
   {
    "duration": 14,
    "start_time": "2022-10-10T15:19:50.550Z"
   },
   {
    "duration": 0,
    "start_time": "2022-10-10T15:19:50.566Z"
   },
   {
    "duration": 0,
    "start_time": "2022-10-10T15:19:50.567Z"
   },
   {
    "duration": 0,
    "start_time": "2022-10-10T15:19:50.569Z"
   },
   {
    "duration": 0,
    "start_time": "2022-10-10T15:19:50.571Z"
   },
   {
    "duration": 0,
    "start_time": "2022-10-10T15:19:50.590Z"
   },
   {
    "duration": 0,
    "start_time": "2022-10-10T15:19:50.592Z"
   },
   {
    "duration": 0,
    "start_time": "2022-10-10T15:19:50.594Z"
   },
   {
    "duration": 758,
    "start_time": "2022-10-11T03:52:40.798Z"
   },
   {
    "duration": 97,
    "start_time": "2022-10-11T03:52:41.558Z"
   },
   {
    "duration": 18,
    "start_time": "2022-10-11T03:52:41.657Z"
   },
   {
    "duration": 18,
    "start_time": "2022-10-11T03:52:41.677Z"
   },
   {
    "duration": 3,
    "start_time": "2022-10-11T03:52:42.404Z"
   },
   {
    "duration": 18,
    "start_time": "2022-10-11T03:52:42.981Z"
   },
   {
    "duration": 10,
    "start_time": "2022-10-11T03:52:44.141Z"
   },
   {
    "duration": 9,
    "start_time": "2022-10-11T03:52:45.228Z"
   },
   {
    "duration": 8,
    "start_time": "2022-10-11T03:52:46.084Z"
   },
   {
    "duration": 155,
    "start_time": "2022-10-11T03:52:47.219Z"
   },
   {
    "duration": 238,
    "start_time": "2022-10-11T03:52:47.780Z"
   },
   {
    "duration": 93,
    "start_time": "2022-10-11T03:52:48.820Z"
   },
   {
    "duration": 8,
    "start_time": "2022-10-11T03:59:14.808Z"
   },
   {
    "duration": 7,
    "start_time": "2022-10-11T03:59:25.496Z"
   },
   {
    "duration": 1673,
    "start_time": "2022-10-11T03:59:57.896Z"
   },
   {
    "duration": 126,
    "start_time": "2022-10-11T04:00:16.000Z"
   },
   {
    "duration": 6,
    "start_time": "2022-10-11T04:00:19.128Z"
   },
   {
    "duration": 26,
    "start_time": "2022-10-11T04:00:21.023Z"
   },
   {
    "duration": 10,
    "start_time": "2022-10-11T04:00:22.207Z"
   },
   {
    "duration": 8,
    "start_time": "2022-10-11T04:00:22.984Z"
   },
   {
    "duration": 239,
    "start_time": "2022-10-11T04:00:27.544Z"
   },
   {
    "duration": 136,
    "start_time": "2022-10-11T04:00:37.425Z"
   },
   {
    "duration": 129,
    "start_time": "2022-10-11T04:15:41.673Z"
   },
   {
    "duration": 10,
    "start_time": "2022-10-11T04:16:00.729Z"
   },
   {
    "duration": 11,
    "start_time": "2022-10-11T04:16:37.640Z"
   },
   {
    "duration": 2,
    "start_time": "2022-10-11T04:16:42.811Z"
   },
   {
    "duration": 55,
    "start_time": "2022-10-11T04:16:42.815Z"
   },
   {
    "duration": 14,
    "start_time": "2022-10-11T04:16:42.872Z"
   },
   {
    "duration": 13,
    "start_time": "2022-10-11T04:16:42.887Z"
   },
   {
    "duration": 3,
    "start_time": "2022-10-11T04:16:42.902Z"
   },
   {
    "duration": 20,
    "start_time": "2022-10-11T04:16:42.906Z"
   },
   {
    "duration": 9,
    "start_time": "2022-10-11T04:16:45.297Z"
   },
   {
    "duration": 9,
    "start_time": "2022-10-11T04:16:46.265Z"
   },
   {
    "duration": 8,
    "start_time": "2022-10-11T04:16:49.369Z"
   },
   {
    "duration": 229,
    "start_time": "2022-10-11T04:16:50.145Z"
   },
   {
    "duration": 234,
    "start_time": "2022-10-11T04:16:51.241Z"
   },
   {
    "duration": 1570,
    "start_time": "2022-10-11T04:16:55.418Z"
   },
   {
    "duration": 137,
    "start_time": "2022-10-11T04:16:56.989Z"
   },
   {
    "duration": 5,
    "start_time": "2022-10-11T04:16:57.127Z"
   },
   {
    "duration": 18,
    "start_time": "2022-10-11T04:16:57.155Z"
   },
   {
    "duration": 8,
    "start_time": "2022-10-11T04:16:58.776Z"
   },
   {
    "duration": 7,
    "start_time": "2022-10-11T04:16:59.489Z"
   },
   {
    "duration": 326,
    "start_time": "2022-10-11T04:17:01.344Z"
   },
   {
    "duration": 11,
    "start_time": "2022-10-11T04:17:04.746Z"
   },
   {
    "duration": 14,
    "start_time": "2022-10-11T04:17:44.969Z"
   },
   {
    "duration": 8,
    "start_time": "2022-10-11T04:17:57.185Z"
   },
   {
    "duration": 12,
    "start_time": "2022-10-11T04:17:57.905Z"
   },
   {
    "duration": 13,
    "start_time": "2022-10-11T04:17:58.801Z"
   },
   {
    "duration": 5,
    "start_time": "2022-10-11T04:18:08.154Z"
   },
   {
    "duration": 152,
    "start_time": "2022-10-11T04:18:10.003Z"
   },
   {
    "duration": 240,
    "start_time": "2022-10-11T04:18:11.265Z"
   },
   {
    "duration": 1630,
    "start_time": "2022-10-11T04:18:12.899Z"
   },
   {
    "duration": 138,
    "start_time": "2022-10-11T04:18:14.530Z"
   },
   {
    "duration": 5,
    "start_time": "2022-10-11T04:18:14.670Z"
   },
   {
    "duration": 20,
    "start_time": "2022-10-11T04:18:15.250Z"
   },
   {
    "duration": 8,
    "start_time": "2022-10-11T04:18:16.553Z"
   },
   {
    "duration": 7,
    "start_time": "2022-10-11T04:18:17.434Z"
   },
   {
    "duration": 261,
    "start_time": "2022-10-11T04:18:18.929Z"
   },
   {
    "duration": 10,
    "start_time": "2022-10-11T04:18:21.186Z"
   },
   {
    "duration": 125,
    "start_time": "2022-10-11T04:18:25.561Z"
   },
   {
    "duration": 11,
    "start_time": "2022-10-11T04:19:09.322Z"
   },
   {
    "duration": 12,
    "start_time": "2022-10-11T04:19:10.161Z"
   },
   {
    "duration": 6,
    "start_time": "2022-10-11T04:19:15.731Z"
   },
   {
    "duration": 147,
    "start_time": "2022-10-11T04:19:16.802Z"
   },
   {
    "duration": 240,
    "start_time": "2022-10-11T04:19:17.657Z"
   },
   {
    "duration": 1703,
    "start_time": "2022-10-11T04:19:18.538Z"
   },
   {
    "duration": 144,
    "start_time": "2022-10-11T04:19:20.243Z"
   },
   {
    "duration": 5,
    "start_time": "2022-10-11T04:19:20.389Z"
   },
   {
    "duration": 20,
    "start_time": "2022-10-11T04:19:20.436Z"
   },
   {
    "duration": 8,
    "start_time": "2022-10-11T04:19:21.660Z"
   },
   {
    "duration": 7,
    "start_time": "2022-10-11T04:19:22.354Z"
   },
   {
    "duration": 227,
    "start_time": "2022-10-11T04:19:23.706Z"
   },
   {
    "duration": 10,
    "start_time": "2022-10-11T04:19:25.899Z"
   },
   {
    "duration": 114,
    "start_time": "2022-10-11T04:19:28.050Z"
   },
   {
    "duration": 116,
    "start_time": "2022-10-11T04:19:31.914Z"
   },
   {
    "duration": 11,
    "start_time": "2022-10-11T04:24:11.901Z"
   },
   {
    "duration": 9,
    "start_time": "2022-10-11T04:25:46.501Z"
   },
   {
    "duration": 17,
    "start_time": "2022-10-11T04:25:47.199Z"
   },
   {
    "duration": 6,
    "start_time": "2022-10-11T04:25:56.214Z"
   },
   {
    "duration": 163,
    "start_time": "2022-10-11T04:26:02.223Z"
   },
   {
    "duration": 244,
    "start_time": "2022-10-11T04:26:03.846Z"
   },
   {
    "duration": 1779,
    "start_time": "2022-10-11T04:26:05.247Z"
   },
   {
    "duration": 142,
    "start_time": "2022-10-11T04:26:07.028Z"
   },
   {
    "duration": 5,
    "start_time": "2022-10-11T04:26:07.172Z"
   },
   {
    "duration": 24,
    "start_time": "2022-10-11T04:26:07.179Z"
   },
   {
    "duration": 9,
    "start_time": "2022-10-11T04:26:09.534Z"
   },
   {
    "duration": 8,
    "start_time": "2022-10-11T04:26:10.309Z"
   },
   {
    "duration": 228,
    "start_time": "2022-10-11T04:26:29.590Z"
   },
   {
    "duration": 14,
    "start_time": "2022-10-11T04:26:31.607Z"
   },
   {
    "duration": 17,
    "start_time": "2022-10-11T04:34:57.411Z"
   },
   {
    "duration": 7,
    "start_time": "2022-10-11T04:35:19.397Z"
   },
   {
    "duration": 18,
    "start_time": "2022-10-11T04:35:59.428Z"
   },
   {
    "duration": 7,
    "start_time": "2022-10-11T04:38:31.941Z"
   },
   {
    "duration": 10,
    "start_time": "2022-10-11T04:38:45.076Z"
   },
   {
    "duration": 6,
    "start_time": "2022-10-11T04:39:28.542Z"
   },
   {
    "duration": 8,
    "start_time": "2022-10-11T04:39:40.301Z"
   },
   {
    "duration": 21,
    "start_time": "2022-10-11T04:40:08.597Z"
   },
   {
    "duration": 17,
    "start_time": "2022-10-11T04:40:41.069Z"
   },
   {
    "duration": 8,
    "start_time": "2022-10-11T04:42:23.611Z"
   },
   {
    "duration": 955,
    "start_time": "2022-10-11T04:42:43.599Z"
   },
   {
    "duration": 223,
    "start_time": "2022-10-11T04:43:00.151Z"
   },
   {
    "duration": 142,
    "start_time": "2022-10-11T04:43:23.296Z"
   },
   {
    "duration": 138,
    "start_time": "2022-10-11T04:52:37.372Z"
   },
   {
    "duration": 123,
    "start_time": "2022-10-11T04:53:02.101Z"
   },
   {
    "duration": 193,
    "start_time": "2022-10-11T05:00:52.729Z"
   },
   {
    "duration": 13,
    "start_time": "2022-10-11T05:02:11.049Z"
   },
   {
    "duration": 5,
    "start_time": "2022-10-11T05:02:39.610Z"
   },
   {
    "duration": 260,
    "start_time": "2022-10-11T05:05:23.676Z"
   },
   {
    "duration": 6,
    "start_time": "2022-10-11T05:05:50.491Z"
   },
   {
    "duration": 5,
    "start_time": "2022-10-11T05:06:07.764Z"
   },
   {
    "duration": 5,
    "start_time": "2022-10-11T05:06:10.005Z"
   },
   {
    "duration": 279,
    "start_time": "2022-10-11T05:06:48.492Z"
   },
   {
    "duration": 3,
    "start_time": "2022-10-11T06:29:10.295Z"
   },
   {
    "duration": 70,
    "start_time": "2022-10-11T06:29:10.300Z"
   },
   {
    "duration": 14,
    "start_time": "2022-10-11T06:29:10.371Z"
   },
   {
    "duration": 33,
    "start_time": "2022-10-11T06:29:10.387Z"
   },
   {
    "duration": 18,
    "start_time": "2022-10-11T06:29:10.422Z"
   },
   {
    "duration": 31,
    "start_time": "2022-10-11T06:29:10.442Z"
   },
   {
    "duration": 36,
    "start_time": "2022-10-11T06:29:10.475Z"
   },
   {
    "duration": 31,
    "start_time": "2022-10-11T06:29:10.512Z"
   },
   {
    "duration": 9,
    "start_time": "2022-10-11T06:29:10.545Z"
   },
   {
    "duration": 161,
    "start_time": "2022-10-11T06:29:10.556Z"
   },
   {
    "duration": 248,
    "start_time": "2022-10-11T06:29:10.721Z"
   },
   {
    "duration": 1707,
    "start_time": "2022-10-11T06:29:10.970Z"
   },
   {
    "duration": 126,
    "start_time": "2022-10-11T06:29:12.679Z"
   },
   {
    "duration": 15,
    "start_time": "2022-10-11T06:29:12.807Z"
   },
   {
    "duration": 29,
    "start_time": "2022-10-11T06:29:12.823Z"
   },
   {
    "duration": 20,
    "start_time": "2022-10-11T06:29:12.853Z"
   },
   {
    "duration": 21,
    "start_time": "2022-10-11T06:29:12.874Z"
   },
   {
    "duration": 249,
    "start_time": "2022-10-11T06:29:12.896Z"
   },
   {
    "duration": 256,
    "start_time": "2022-10-11T06:29:13.146Z"
   },
   {
    "duration": 5,
    "start_time": "2022-10-11T06:29:13.404Z"
   },
   {
    "duration": 17,
    "start_time": "2022-10-11T06:29:13.410Z"
   },
   {
    "duration": 388,
    "start_time": "2022-10-11T06:43:57.510Z"
   },
   {
    "duration": 260,
    "start_time": "2022-10-11T06:45:21.547Z"
   },
   {
    "duration": 10,
    "start_time": "2022-10-11T06:47:00.116Z"
   },
   {
    "duration": 120,
    "start_time": "2022-10-11T06:47:21.596Z"
   },
   {
    "duration": 9,
    "start_time": "2022-10-11T06:47:30.852Z"
   },
   {
    "duration": 124,
    "start_time": "2022-10-11T06:47:43.164Z"
   },
   {
    "duration": 122,
    "start_time": "2022-10-11T06:48:04.900Z"
   },
   {
    "duration": 172,
    "start_time": "2022-10-11T06:48:57.485Z"
   },
   {
    "duration": 180,
    "start_time": "2022-10-11T06:49:50.357Z"
   },
   {
    "duration": 9,
    "start_time": "2022-10-11T06:51:22.220Z"
   },
   {
    "duration": 3,
    "start_time": "2022-10-11T06:51:31.352Z"
   },
   {
    "duration": 61,
    "start_time": "2022-10-11T06:51:31.356Z"
   },
   {
    "duration": 15,
    "start_time": "2022-10-11T06:51:31.418Z"
   },
   {
    "duration": 17,
    "start_time": "2022-10-11T06:51:31.434Z"
   },
   {
    "duration": 2,
    "start_time": "2022-10-11T06:51:31.453Z"
   },
   {
    "duration": 24,
    "start_time": "2022-10-11T06:51:31.457Z"
   },
   {
    "duration": 12,
    "start_time": "2022-10-11T06:51:31.483Z"
   },
   {
    "duration": 26,
    "start_time": "2022-10-11T06:51:31.497Z"
   },
   {
    "duration": 4,
    "start_time": "2022-10-11T06:51:31.525Z"
   },
   {
    "duration": 154,
    "start_time": "2022-10-11T06:51:31.530Z"
   },
   {
    "duration": 274,
    "start_time": "2022-10-11T06:51:31.686Z"
   },
   {
    "duration": 1716,
    "start_time": "2022-10-11T06:51:31.961Z"
   },
   {
    "duration": 131,
    "start_time": "2022-10-11T06:51:33.678Z"
   },
   {
    "duration": 12,
    "start_time": "2022-10-11T06:51:33.811Z"
   },
   {
    "duration": 30,
    "start_time": "2022-10-11T06:51:33.824Z"
   },
   {
    "duration": 36,
    "start_time": "2022-10-11T06:51:33.855Z"
   },
   {
    "duration": 24,
    "start_time": "2022-10-11T06:51:33.893Z"
   },
   {
    "duration": 269,
    "start_time": "2022-10-11T06:51:33.918Z"
   },
   {
    "duration": 274,
    "start_time": "2022-10-11T06:51:34.188Z"
   },
   {
    "duration": 5,
    "start_time": "2022-10-11T06:51:34.463Z"
   },
   {
    "duration": 28,
    "start_time": "2022-10-11T06:51:34.469Z"
   },
   {
    "duration": 262,
    "start_time": "2022-10-11T06:51:34.499Z"
   },
   {
    "duration": 262,
    "start_time": "2022-10-11T06:51:34.763Z"
   },
   {
    "duration": 174,
    "start_time": "2022-10-11T06:51:35.027Z"
   },
   {
    "duration": 2,
    "start_time": "2022-10-11T06:55:19.424Z"
   },
   {
    "duration": 50,
    "start_time": "2022-10-11T06:55:20.293Z"
   },
   {
    "duration": 21,
    "start_time": "2022-10-11T06:55:20.837Z"
   },
   {
    "duration": 14,
    "start_time": "2022-10-11T06:55:21.205Z"
   },
   {
    "duration": 3,
    "start_time": "2022-10-11T06:55:22.037Z"
   },
   {
    "duration": 18,
    "start_time": "2022-10-11T06:55:22.237Z"
   },
   {
    "duration": 8,
    "start_time": "2022-10-11T06:55:22.797Z"
   },
   {
    "duration": 18,
    "start_time": "2022-10-11T06:55:22.989Z"
   },
   {
    "duration": 6,
    "start_time": "2022-10-11T06:55:23.381Z"
   },
   {
    "duration": 145,
    "start_time": "2022-10-11T06:55:24.397Z"
   },
   {
    "duration": 241,
    "start_time": "2022-10-11T06:55:25.237Z"
   },
   {
    "duration": 1811,
    "start_time": "2022-10-11T06:55:25.941Z"
   },
   {
    "duration": 136,
    "start_time": "2022-10-11T06:55:27.788Z"
   },
   {
    "duration": 6,
    "start_time": "2022-10-11T06:55:29.076Z"
   },
   {
    "duration": 20,
    "start_time": "2022-10-11T06:55:29.749Z"
   },
   {
    "duration": 9,
    "start_time": "2022-10-11T06:55:31.149Z"
   },
   {
    "duration": 11,
    "start_time": "2022-10-11T06:55:31.421Z"
   },
   {
    "duration": 232,
    "start_time": "2022-10-11T06:55:31.997Z"
   },
   {
    "duration": 256,
    "start_time": "2022-10-11T06:55:33.421Z"
   },
   {
    "duration": 5,
    "start_time": "2022-10-11T06:55:33.908Z"
   },
   {
    "duration": 5,
    "start_time": "2022-10-11T06:55:34.590Z"
   },
   {
    "duration": 261,
    "start_time": "2022-10-11T06:55:35.669Z"
   },
   {
    "duration": 283,
    "start_time": "2022-10-11T06:55:36.661Z"
   },
   {
    "duration": 172,
    "start_time": "2022-10-11T06:55:41.997Z"
   },
   {
    "duration": 473,
    "start_time": "2022-10-11T07:08:25.116Z"
   },
   {
    "duration": 10,
    "start_time": "2022-10-11T07:23:15.979Z"
   },
   {
    "duration": 10,
    "start_time": "2022-10-11T07:32:12.049Z"
   },
   {
    "duration": 9,
    "start_time": "2022-10-11T07:32:37.354Z"
   },
   {
    "duration": 3,
    "start_time": "2022-10-11T07:32:45.643Z"
   },
   {
    "duration": 60,
    "start_time": "2022-10-11T07:32:45.649Z"
   },
   {
    "duration": 20,
    "start_time": "2022-10-11T07:32:45.710Z"
   },
   {
    "duration": 15,
    "start_time": "2022-10-11T07:32:45.732Z"
   },
   {
    "duration": 6,
    "start_time": "2022-10-11T07:32:45.749Z"
   },
   {
    "duration": 26,
    "start_time": "2022-10-11T07:32:45.756Z"
   },
   {
    "duration": 26,
    "start_time": "2022-10-11T07:32:45.784Z"
   },
   {
    "duration": 20,
    "start_time": "2022-10-11T07:32:45.812Z"
   },
   {
    "duration": 6,
    "start_time": "2022-10-11T07:32:45.834Z"
   },
   {
    "duration": 166,
    "start_time": "2022-10-11T07:32:45.842Z"
   },
   {
    "duration": 255,
    "start_time": "2022-10-11T07:32:46.009Z"
   },
   {
    "duration": 1760,
    "start_time": "2022-10-11T07:32:46.266Z"
   },
   {
    "duration": 141,
    "start_time": "2022-10-11T07:32:48.028Z"
   },
   {
    "duration": 5,
    "start_time": "2022-10-11T07:32:48.170Z"
   },
   {
    "duration": 42,
    "start_time": "2022-10-11T07:32:48.177Z"
   },
   {
    "duration": 38,
    "start_time": "2022-10-11T07:32:48.220Z"
   },
   {
    "duration": 30,
    "start_time": "2022-10-11T07:32:48.260Z"
   },
   {
    "duration": 263,
    "start_time": "2022-10-11T07:32:48.291Z"
   },
   {
    "duration": 249,
    "start_time": "2022-10-11T07:32:48.556Z"
   },
   {
    "duration": 5,
    "start_time": "2022-10-11T07:32:48.806Z"
   },
   {
    "duration": 27,
    "start_time": "2022-10-11T07:32:48.812Z"
   },
   {
    "duration": 358,
    "start_time": "2022-10-11T07:32:48.841Z"
   },
   {
    "duration": 270,
    "start_time": "2022-10-11T07:32:49.201Z"
   },
   {
    "duration": 168,
    "start_time": "2022-10-11T07:32:49.472Z"
   },
   {
    "duration": 22,
    "start_time": "2022-10-11T07:33:08.906Z"
   },
   {
    "duration": 419,
    "start_time": "2022-10-11T07:33:27.642Z"
   },
   {
    "duration": 431,
    "start_time": "2022-10-11T07:33:59.546Z"
   },
   {
    "duration": 12,
    "start_time": "2022-10-11T07:37:04.828Z"
   },
   {
    "duration": 346,
    "start_time": "2022-10-11T07:37:59.411Z"
   },
   {
    "duration": 16,
    "start_time": "2022-10-11T07:44:38.568Z"
   },
   {
    "duration": 16,
    "start_time": "2022-10-11T07:45:07.527Z"
   },
   {
    "duration": 9,
    "start_time": "2022-10-11T07:46:27.728Z"
   },
   {
    "duration": 17,
    "start_time": "2022-10-11T07:46:34.976Z"
   },
   {
    "duration": 11,
    "start_time": "2022-10-11T07:47:28.906Z"
   },
   {
    "duration": 450,
    "start_time": "2022-10-11T07:48:14.994Z"
   },
   {
    "duration": 389,
    "start_time": "2022-10-11T07:48:29.706Z"
   },
   {
    "duration": 558,
    "start_time": "2022-10-11T07:48:40.265Z"
   },
   {
    "duration": 402,
    "start_time": "2022-10-11T07:49:58.355Z"
   },
   {
    "duration": 416,
    "start_time": "2022-10-11T07:51:00.883Z"
   },
   {
    "duration": 411,
    "start_time": "2022-10-11T07:51:41.203Z"
   },
   {
    "duration": 399,
    "start_time": "2022-10-11T07:52:07.789Z"
   },
   {
    "duration": 255,
    "start_time": "2022-10-11T07:52:27.852Z"
   },
   {
    "duration": 260,
    "start_time": "2022-10-11T08:06:46.232Z"
   },
   {
    "duration": 238,
    "start_time": "2022-10-11T08:07:20.060Z"
   },
   {
    "duration": 11,
    "start_time": "2022-10-11T08:09:48.557Z"
   },
   {
    "duration": 799,
    "start_time": "2022-10-12T02:06:26.614Z"
   },
   {
    "duration": 95,
    "start_time": "2022-10-12T02:06:27.415Z"
   },
   {
    "duration": 22,
    "start_time": "2022-10-12T02:06:27.512Z"
   },
   {
    "duration": 16,
    "start_time": "2022-10-12T02:06:27.536Z"
   },
   {
    "duration": 2,
    "start_time": "2022-10-12T02:06:27.555Z"
   },
   {
    "duration": 19,
    "start_time": "2022-10-12T02:06:27.559Z"
   },
   {
    "duration": 9,
    "start_time": "2022-10-12T02:06:27.580Z"
   },
   {
    "duration": 45,
    "start_time": "2022-10-12T02:06:27.590Z"
   },
   {
    "duration": 7,
    "start_time": "2022-10-12T02:06:27.636Z"
   },
   {
    "duration": 168,
    "start_time": "2022-10-12T02:06:27.644Z"
   },
   {
    "duration": 256,
    "start_time": "2022-10-12T02:06:27.813Z"
   },
   {
    "duration": 1674,
    "start_time": "2022-10-12T02:06:28.071Z"
   },
   {
    "duration": 129,
    "start_time": "2022-10-12T02:06:29.746Z"
   },
   {
    "duration": 5,
    "start_time": "2022-10-12T02:06:29.877Z"
   },
   {
    "duration": 20,
    "start_time": "2022-10-12T02:06:29.884Z"
   },
   {
    "duration": 17,
    "start_time": "2022-10-12T02:06:29.906Z"
   },
   {
    "duration": 9,
    "start_time": "2022-10-12T02:06:29.925Z"
   },
   {
    "duration": 248,
    "start_time": "2022-10-12T02:06:29.936Z"
   },
   {
    "duration": 257,
    "start_time": "2022-10-12T02:06:30.186Z"
   },
   {
    "duration": 5,
    "start_time": "2022-10-12T02:06:30.444Z"
   },
   {
    "duration": 42,
    "start_time": "2022-10-12T02:06:30.451Z"
   },
   {
    "duration": 329,
    "start_time": "2022-10-12T02:06:30.494Z"
   },
   {
    "duration": 268,
    "start_time": "2022-10-12T02:06:30.825Z"
   },
   {
    "duration": 169,
    "start_time": "2022-10-12T02:06:31.095Z"
   },
   {
    "duration": 407,
    "start_time": "2022-10-12T02:06:31.265Z"
   },
   {
    "duration": 244,
    "start_time": "2022-10-12T02:06:31.673Z"
   },
   {
    "duration": 219,
    "start_time": "2022-10-12T02:06:31.921Z"
   },
   {
    "duration": 72,
    "start_time": "2022-10-12T02:33:49.906Z"
   },
   {
    "duration": 432,
    "start_time": "2022-10-12T02:41:27.958Z"
   },
   {
    "duration": 34,
    "start_time": "2022-10-12T02:41:42.062Z"
   },
   {
    "duration": 10,
    "start_time": "2022-10-12T02:42:04.063Z"
   },
   {
    "duration": 10,
    "start_time": "2022-10-12T02:42:15.127Z"
   },
   {
    "duration": 11,
    "start_time": "2022-10-12T03:01:03.431Z"
   },
   {
    "duration": 15,
    "start_time": "2022-10-12T03:04:57.177Z"
   },
   {
    "duration": 5,
    "start_time": "2022-10-12T03:06:21.972Z"
   },
   {
    "duration": 9,
    "start_time": "2022-10-12T03:06:34.292Z"
   },
   {
    "duration": 10,
    "start_time": "2022-10-12T03:06:56.692Z"
   },
   {
    "duration": 11,
    "start_time": "2022-10-12T03:07:10.877Z"
   },
   {
    "duration": 16,
    "start_time": "2022-10-12T03:07:18.484Z"
   },
   {
    "duration": 9,
    "start_time": "2022-10-12T03:07:33.012Z"
   },
   {
    "duration": 6,
    "start_time": "2022-10-12T03:07:35.276Z"
   },
   {
    "duration": 9,
    "start_time": "2022-10-12T03:07:36.597Z"
   },
   {
    "duration": 16,
    "start_time": "2022-10-12T03:07:37.213Z"
   },
   {
    "duration": 9,
    "start_time": "2022-10-12T03:07:37.805Z"
   },
   {
    "duration": 10,
    "start_time": "2022-10-12T03:08:10.292Z"
   },
   {
    "duration": 16,
    "start_time": "2022-10-12T03:08:11.101Z"
   },
   {
    "duration": 9,
    "start_time": "2022-10-12T03:08:12.285Z"
   },
   {
    "duration": 8,
    "start_time": "2022-10-12T03:08:19.076Z"
   },
   {
    "duration": 9,
    "start_time": "2022-10-12T03:08:19.596Z"
   },
   {
    "duration": 10,
    "start_time": "2022-10-12T03:08:20.837Z"
   },
   {
    "duration": 10,
    "start_time": "2022-10-12T03:08:33.869Z"
   },
   {
    "duration": 199,
    "start_time": "2022-10-12T03:08:36.365Z"
   },
   {
    "duration": 3,
    "start_time": "2022-10-12T03:22:20.855Z"
   },
   {
    "duration": 64,
    "start_time": "2022-10-12T03:22:20.860Z"
   },
   {
    "duration": 15,
    "start_time": "2022-10-12T03:22:20.926Z"
   },
   {
    "duration": 42,
    "start_time": "2022-10-12T03:22:20.942Z"
   },
   {
    "duration": 11,
    "start_time": "2022-10-12T03:22:20.986Z"
   },
   {
    "duration": 43,
    "start_time": "2022-10-12T03:22:20.999Z"
   },
   {
    "duration": 35,
    "start_time": "2022-10-12T03:22:21.045Z"
   },
   {
    "duration": 14,
    "start_time": "2022-10-12T03:22:21.082Z"
   },
   {
    "duration": 30,
    "start_time": "2022-10-12T03:22:21.097Z"
   },
   {
    "duration": 18,
    "start_time": "2022-10-12T03:22:21.129Z"
   },
   {
    "duration": 168,
    "start_time": "2022-10-12T03:22:21.149Z"
   },
   {
    "duration": 260,
    "start_time": "2022-10-12T03:22:21.319Z"
   },
   {
    "duration": 1682,
    "start_time": "2022-10-12T03:22:21.581Z"
   },
   {
    "duration": 128,
    "start_time": "2022-10-12T03:22:23.265Z"
   },
   {
    "duration": 6,
    "start_time": "2022-10-12T03:22:23.395Z"
   },
   {
    "duration": 32,
    "start_time": "2022-10-12T03:22:23.402Z"
   },
   {
    "duration": 9,
    "start_time": "2022-10-12T03:22:23.435Z"
   },
   {
    "duration": 7,
    "start_time": "2022-10-12T03:22:23.446Z"
   },
   {
    "duration": 249,
    "start_time": "2022-10-12T03:22:23.454Z"
   },
   {
    "duration": 127,
    "start_time": "2022-10-12T03:22:23.704Z"
   },
   {
    "duration": 0,
    "start_time": "2022-10-12T03:22:23.833Z"
   },
   {
    "duration": 0,
    "start_time": "2022-10-12T03:22:23.834Z"
   },
   {
    "duration": 0,
    "start_time": "2022-10-12T03:22:23.835Z"
   },
   {
    "duration": 0,
    "start_time": "2022-10-12T03:22:23.836Z"
   },
   {
    "duration": 0,
    "start_time": "2022-10-12T03:22:23.837Z"
   },
   {
    "duration": 0,
    "start_time": "2022-10-12T03:22:23.838Z"
   },
   {
    "duration": 0,
    "start_time": "2022-10-12T03:22:23.838Z"
   },
   {
    "duration": 0,
    "start_time": "2022-10-12T03:22:23.840Z"
   },
   {
    "duration": 4,
    "start_time": "2022-10-12T03:23:52.022Z"
   },
   {
    "duration": 52,
    "start_time": "2022-10-12T03:23:52.028Z"
   },
   {
    "duration": 14,
    "start_time": "2022-10-12T03:23:52.081Z"
   },
   {
    "duration": 20,
    "start_time": "2022-10-12T03:23:52.096Z"
   },
   {
    "duration": 3,
    "start_time": "2022-10-12T03:23:52.119Z"
   },
   {
    "duration": 29,
    "start_time": "2022-10-12T03:23:52.124Z"
   },
   {
    "duration": 11,
    "start_time": "2022-10-12T03:23:52.155Z"
   },
   {
    "duration": 17,
    "start_time": "2022-10-12T03:23:52.167Z"
   },
   {
    "duration": 8,
    "start_time": "2022-10-12T03:23:52.185Z"
   },
   {
    "duration": 30,
    "start_time": "2022-10-12T03:23:52.195Z"
   },
   {
    "duration": 153,
    "start_time": "2022-10-12T03:23:52.227Z"
   },
   {
    "duration": 248,
    "start_time": "2022-10-12T03:23:52.381Z"
   },
   {
    "duration": 1663,
    "start_time": "2022-10-12T03:23:52.631Z"
   },
   {
    "duration": 143,
    "start_time": "2022-10-12T03:23:54.297Z"
   },
   {
    "duration": 6,
    "start_time": "2022-10-12T03:23:54.442Z"
   },
   {
    "duration": 23,
    "start_time": "2022-10-12T03:23:54.450Z"
   },
   {
    "duration": 12,
    "start_time": "2022-10-12T03:23:54.474Z"
   },
   {
    "duration": 7,
    "start_time": "2022-10-12T03:23:54.487Z"
   },
   {
    "duration": 259,
    "start_time": "2022-10-12T03:23:54.495Z"
   },
   {
    "duration": 256,
    "start_time": "2022-10-12T03:23:54.755Z"
   },
   {
    "duration": 10,
    "start_time": "2022-10-12T03:23:55.012Z"
   },
   {
    "duration": 5,
    "start_time": "2022-10-12T03:23:55.024Z"
   },
   {
    "duration": 356,
    "start_time": "2022-10-12T03:23:55.031Z"
   },
   {
    "duration": 262,
    "start_time": "2022-10-12T03:23:55.389Z"
   },
   {
    "duration": 180,
    "start_time": "2022-10-12T03:23:55.653Z"
   },
   {
    "duration": 395,
    "start_time": "2022-10-12T03:23:55.835Z"
   },
   {
    "duration": 255,
    "start_time": "2022-10-12T03:23:56.232Z"
   },
   {
    "duration": 228,
    "start_time": "2022-10-12T03:23:56.488Z"
   },
   {
    "duration": 11,
    "start_time": "2022-10-12T03:23:56.721Z"
   },
   {
    "duration": 10,
    "start_time": "2022-10-12T03:23:56.733Z"
   },
   {
    "duration": 8,
    "start_time": "2022-10-12T03:23:56.744Z"
   },
   {
    "duration": 11,
    "start_time": "2022-10-12T03:41:15.342Z"
   },
   {
    "duration": 4,
    "start_time": "2022-10-12T03:42:17.023Z"
   },
   {
    "duration": 10,
    "start_time": "2022-10-12T03:42:22.415Z"
   },
   {
    "duration": 12,
    "start_time": "2022-10-12T03:43:09.847Z"
   },
   {
    "duration": 11,
    "start_time": "2022-10-12T03:43:53.704Z"
   },
   {
    "duration": 6,
    "start_time": "2022-10-12T03:44:36.184Z"
   },
   {
    "duration": 12,
    "start_time": "2022-10-12T03:45:42.832Z"
   },
   {
    "duration": 13,
    "start_time": "2022-10-12T03:45:56.962Z"
   },
   {
    "duration": 4,
    "start_time": "2022-10-12T03:46:43.193Z"
   },
   {
    "duration": 10,
    "start_time": "2022-10-12T03:47:11.217Z"
   },
   {
    "duration": 12,
    "start_time": "2022-10-12T03:47:27.897Z"
   },
   {
    "duration": 10,
    "start_time": "2022-10-12T03:47:47.282Z"
   },
   {
    "duration": 11,
    "start_time": "2022-10-12T03:49:15.626Z"
   },
   {
    "duration": 10,
    "start_time": "2022-10-12T03:49:48.347Z"
   },
   {
    "duration": 2,
    "start_time": "2022-10-12T03:50:12.397Z"
   },
   {
    "duration": 51,
    "start_time": "2022-10-12T03:50:12.401Z"
   },
   {
    "duration": 14,
    "start_time": "2022-10-12T03:50:12.453Z"
   },
   {
    "duration": 15,
    "start_time": "2022-10-12T03:50:12.469Z"
   },
   {
    "duration": 3,
    "start_time": "2022-10-12T03:50:12.486Z"
   },
   {
    "duration": 20,
    "start_time": "2022-10-12T03:50:12.490Z"
   },
   {
    "duration": 7,
    "start_time": "2022-10-12T03:50:12.522Z"
   },
   {
    "duration": 18,
    "start_time": "2022-10-12T03:50:12.530Z"
   },
   {
    "duration": 8,
    "start_time": "2022-10-12T03:50:12.549Z"
   },
   {
    "duration": 5,
    "start_time": "2022-10-12T03:50:12.558Z"
   },
   {
    "duration": 170,
    "start_time": "2022-10-12T03:50:12.564Z"
   },
   {
    "duration": 248,
    "start_time": "2022-10-12T03:50:12.735Z"
   },
   {
    "duration": 1680,
    "start_time": "2022-10-12T03:50:12.985Z"
   },
   {
    "duration": 139,
    "start_time": "2022-10-12T03:50:14.669Z"
   },
   {
    "duration": 14,
    "start_time": "2022-10-12T03:50:14.810Z"
   },
   {
    "duration": 21,
    "start_time": "2022-10-12T03:50:14.825Z"
   },
   {
    "duration": 9,
    "start_time": "2022-10-12T03:50:14.847Z"
   },
   {
    "duration": 9,
    "start_time": "2022-10-12T03:50:14.858Z"
   },
   {
    "duration": 261,
    "start_time": "2022-10-12T03:50:14.869Z"
   },
   {
    "duration": 354,
    "start_time": "2022-10-12T03:50:15.132Z"
   },
   {
    "duration": 5,
    "start_time": "2022-10-12T03:50:15.488Z"
   },
   {
    "duration": 7,
    "start_time": "2022-10-12T03:50:15.495Z"
   },
   {
    "duration": 278,
    "start_time": "2022-10-12T03:50:15.504Z"
   },
   {
    "duration": 265,
    "start_time": "2022-10-12T03:50:15.784Z"
   },
   {
    "duration": 172,
    "start_time": "2022-10-12T03:50:16.050Z"
   },
   {
    "duration": 388,
    "start_time": "2022-10-12T03:50:16.224Z"
   },
   {
    "duration": 252,
    "start_time": "2022-10-12T03:50:16.614Z"
   },
   {
    "duration": 231,
    "start_time": "2022-10-12T03:50:16.868Z"
   },
   {
    "duration": 23,
    "start_time": "2022-10-12T03:50:17.100Z"
   },
   {
    "duration": 10,
    "start_time": "2022-10-12T03:50:17.125Z"
   },
   {
    "duration": 9,
    "start_time": "2022-10-12T03:50:17.137Z"
   },
   {
    "duration": 10,
    "start_time": "2022-10-12T03:51:38.444Z"
   },
   {
    "duration": 12,
    "start_time": "2022-10-12T03:52:23.981Z"
   },
   {
    "duration": 10,
    "start_time": "2022-10-12T03:52:38.612Z"
   },
   {
    "duration": 9,
    "start_time": "2022-10-12T03:53:05.364Z"
   },
   {
    "duration": 5,
    "start_time": "2022-10-12T03:53:36.296Z"
   },
   {
    "duration": 10,
    "start_time": "2022-10-12T03:53:39.044Z"
   },
   {
    "duration": 22,
    "start_time": "2022-10-12T03:54:02.677Z"
   },
   {
    "duration": 10,
    "start_time": "2022-10-12T03:54:09.365Z"
   },
   {
    "duration": 13,
    "start_time": "2022-10-12T03:54:27.060Z"
   },
   {
    "duration": 10,
    "start_time": "2022-10-12T03:54:31.885Z"
   },
   {
    "duration": 9,
    "start_time": "2022-10-12T03:54:37.253Z"
   },
   {
    "duration": 38,
    "start_time": "2022-10-12T03:58:51.594Z"
   },
   {
    "duration": 10,
    "start_time": "2022-10-12T04:01:02.971Z"
   },
   {
    "duration": 39,
    "start_time": "2022-10-12T04:01:06.635Z"
   },
   {
    "duration": 11,
    "start_time": "2022-10-12T04:01:28.740Z"
   },
   {
    "duration": 10,
    "start_time": "2022-10-12T04:01:38.395Z"
   },
   {
    "duration": 39,
    "start_time": "2022-10-12T04:01:43.476Z"
   },
   {
    "duration": 14,
    "start_time": "2022-10-12T04:01:49.195Z"
   },
   {
    "duration": 14,
    "start_time": "2022-10-12T04:02:13.212Z"
   },
   {
    "duration": 12,
    "start_time": "2022-10-12T04:08:56.744Z"
   },
   {
    "duration": 40,
    "start_time": "2022-10-12T04:09:24.240Z"
   },
   {
    "duration": 4,
    "start_time": "2022-10-12T04:09:34.600Z"
   },
   {
    "duration": 15,
    "start_time": "2022-10-12T04:09:41.523Z"
   },
   {
    "duration": 12,
    "start_time": "2022-10-12T04:09:45.048Z"
   },
   {
    "duration": 13,
    "start_time": "2022-10-12T04:09:56.272Z"
   },
   {
    "duration": 11,
    "start_time": "2022-10-12T04:10:20.526Z"
   },
   {
    "duration": 14,
    "start_time": "2022-10-12T04:11:45.336Z"
   },
   {
    "duration": 13,
    "start_time": "2022-10-12T04:12:04.913Z"
   },
   {
    "duration": 13,
    "start_time": "2022-10-12T04:16:02.931Z"
   },
   {
    "duration": 12,
    "start_time": "2022-10-12T04:16:21.700Z"
   },
   {
    "duration": 3,
    "start_time": "2022-10-12T04:18:47.958Z"
   },
   {
    "duration": 56,
    "start_time": "2022-10-12T04:18:47.963Z"
   },
   {
    "duration": 13,
    "start_time": "2022-10-12T04:18:48.021Z"
   },
   {
    "duration": 14,
    "start_time": "2022-10-12T04:18:48.036Z"
   },
   {
    "duration": 5,
    "start_time": "2022-10-12T04:18:48.052Z"
   },
   {
    "duration": 20,
    "start_time": "2022-10-12T04:18:48.058Z"
   },
   {
    "duration": 11,
    "start_time": "2022-10-12T04:18:48.079Z"
   },
   {
    "duration": 30,
    "start_time": "2022-10-12T04:18:48.092Z"
   },
   {
    "duration": 9,
    "start_time": "2022-10-12T04:18:48.124Z"
   },
   {
    "duration": 5,
    "start_time": "2022-10-12T04:18:48.134Z"
   },
   {
    "duration": 166,
    "start_time": "2022-10-12T04:18:48.141Z"
   },
   {
    "duration": 358,
    "start_time": "2022-10-12T04:18:48.309Z"
   },
   {
    "duration": 1748,
    "start_time": "2022-10-12T04:18:48.669Z"
   },
   {
    "duration": 136,
    "start_time": "2022-10-12T04:18:50.423Z"
   },
   {
    "duration": 5,
    "start_time": "2022-10-12T04:18:50.561Z"
   },
   {
    "duration": 21,
    "start_time": "2022-10-12T04:18:50.568Z"
   },
   {
    "duration": 10,
    "start_time": "2022-10-12T04:18:50.591Z"
   },
   {
    "duration": 24,
    "start_time": "2022-10-12T04:18:50.602Z"
   },
   {
    "duration": 249,
    "start_time": "2022-10-12T04:18:50.628Z"
   },
   {
    "duration": 364,
    "start_time": "2022-10-12T04:18:50.878Z"
   },
   {
    "duration": 5,
    "start_time": "2022-10-12T04:18:51.244Z"
   },
   {
    "duration": 6,
    "start_time": "2022-10-12T04:18:51.250Z"
   },
   {
    "duration": 266,
    "start_time": "2022-10-12T04:18:51.258Z"
   },
   {
    "duration": 272,
    "start_time": "2022-10-12T04:18:51.526Z"
   },
   {
    "duration": 179,
    "start_time": "2022-10-12T04:18:51.799Z"
   },
   {
    "duration": 416,
    "start_time": "2022-10-12T04:18:51.979Z"
   },
   {
    "duration": 256,
    "start_time": "2022-10-12T04:18:52.397Z"
   },
   {
    "duration": 227,
    "start_time": "2022-10-12T04:18:52.655Z"
   },
   {
    "duration": 12,
    "start_time": "2022-10-12T04:18:52.883Z"
   },
   {
    "duration": 29,
    "start_time": "2022-10-12T04:18:52.896Z"
   },
   {
    "duration": 7,
    "start_time": "2022-10-12T04:42:37.869Z"
   },
   {
    "duration": 3,
    "start_time": "2022-10-12T04:42:41.580Z"
   },
   {
    "duration": 53,
    "start_time": "2022-10-12T04:42:41.584Z"
   },
   {
    "duration": 15,
    "start_time": "2022-10-12T04:42:41.639Z"
   },
   {
    "duration": 17,
    "start_time": "2022-10-12T04:42:41.656Z"
   },
   {
    "duration": 4,
    "start_time": "2022-10-12T04:42:41.675Z"
   },
   {
    "duration": 24,
    "start_time": "2022-10-12T04:42:41.680Z"
   },
   {
    "duration": 10,
    "start_time": "2022-10-12T04:42:41.722Z"
   },
   {
    "duration": 9,
    "start_time": "2022-10-12T04:42:44.082Z"
   },
   {
    "duration": 12,
    "start_time": "2022-10-12T04:42:45.889Z"
   },
   {
    "duration": 3,
    "start_time": "2022-10-12T04:54:03.050Z"
   },
   {
    "duration": 51,
    "start_time": "2022-10-12T04:54:03.056Z"
   },
   {
    "duration": 15,
    "start_time": "2022-10-12T04:54:03.109Z"
   },
   {
    "duration": 18,
    "start_time": "2022-10-12T04:54:03.126Z"
   },
   {
    "duration": 3,
    "start_time": "2022-10-12T04:54:03.146Z"
   },
   {
    "duration": 22,
    "start_time": "2022-10-12T04:54:03.150Z"
   },
   {
    "duration": 15,
    "start_time": "2022-10-12T04:54:03.173Z"
   },
   {
    "duration": 9,
    "start_time": "2022-10-12T04:54:03.190Z"
   },
   {
    "duration": 30,
    "start_time": "2022-10-12T04:54:03.201Z"
   },
   {
    "duration": 21,
    "start_time": "2022-10-12T04:54:03.232Z"
   },
   {
    "duration": 154,
    "start_time": "2022-10-12T04:54:03.254Z"
   },
   {
    "duration": 261,
    "start_time": "2022-10-12T04:54:03.410Z"
   },
   {
    "duration": 1718,
    "start_time": "2022-10-12T04:54:03.673Z"
   },
   {
    "duration": 136,
    "start_time": "2022-10-12T04:54:05.394Z"
   },
   {
    "duration": 6,
    "start_time": "2022-10-12T04:54:05.531Z"
   },
   {
    "duration": 22,
    "start_time": "2022-10-12T04:54:05.538Z"
   },
   {
    "duration": 8,
    "start_time": "2022-10-12T04:54:05.562Z"
   },
   {
    "duration": 7,
    "start_time": "2022-10-12T04:54:05.572Z"
   },
   {
    "duration": 267,
    "start_time": "2022-10-12T04:54:05.580Z"
   },
   {
    "duration": 124,
    "start_time": "2022-10-12T04:54:05.849Z"
   },
   {
    "duration": 0,
    "start_time": "2022-10-12T04:54:05.974Z"
   },
   {
    "duration": 0,
    "start_time": "2022-10-12T04:54:05.976Z"
   },
   {
    "duration": 0,
    "start_time": "2022-10-12T04:54:05.977Z"
   },
   {
    "duration": 0,
    "start_time": "2022-10-12T04:54:05.978Z"
   },
   {
    "duration": 0,
    "start_time": "2022-10-12T04:54:05.978Z"
   },
   {
    "duration": 0,
    "start_time": "2022-10-12T04:54:05.979Z"
   },
   {
    "duration": 0,
    "start_time": "2022-10-12T04:54:05.980Z"
   },
   {
    "duration": 0,
    "start_time": "2022-10-12T04:54:05.981Z"
   },
   {
    "duration": 0,
    "start_time": "2022-10-12T04:54:05.983Z"
   },
   {
    "duration": 0,
    "start_time": "2022-10-12T04:54:05.984Z"
   },
   {
    "duration": 3,
    "start_time": "2022-10-12T04:54:41.585Z"
   },
   {
    "duration": 59,
    "start_time": "2022-10-12T04:54:41.590Z"
   },
   {
    "duration": 15,
    "start_time": "2022-10-12T04:54:41.651Z"
   },
   {
    "duration": 31,
    "start_time": "2022-10-12T04:54:41.668Z"
   },
   {
    "duration": 11,
    "start_time": "2022-10-12T04:54:41.701Z"
   },
   {
    "duration": 32,
    "start_time": "2022-10-12T04:54:41.713Z"
   },
   {
    "duration": 19,
    "start_time": "2022-10-12T04:54:41.747Z"
   },
   {
    "duration": 32,
    "start_time": "2022-10-12T04:54:41.768Z"
   },
   {
    "duration": 11,
    "start_time": "2022-10-12T04:54:41.802Z"
   },
   {
    "duration": 45,
    "start_time": "2022-10-12T04:54:41.816Z"
   },
   {
    "duration": 150,
    "start_time": "2022-10-12T04:54:41.862Z"
   },
   {
    "duration": 246,
    "start_time": "2022-10-12T04:54:42.014Z"
   },
   {
    "duration": 1746,
    "start_time": "2022-10-12T04:54:42.262Z"
   },
   {
    "duration": 137,
    "start_time": "2022-10-12T04:54:44.009Z"
   },
   {
    "duration": 6,
    "start_time": "2022-10-12T04:54:44.147Z"
   },
   {
    "duration": 32,
    "start_time": "2022-10-12T04:54:44.154Z"
   },
   {
    "duration": 37,
    "start_time": "2022-10-12T04:54:44.187Z"
   },
   {
    "duration": 23,
    "start_time": "2022-10-12T04:54:44.225Z"
   },
   {
    "duration": 263,
    "start_time": "2022-10-12T04:54:44.250Z"
   },
   {
    "duration": 252,
    "start_time": "2022-10-12T04:54:44.515Z"
   },
   {
    "duration": 5,
    "start_time": "2022-10-12T04:54:44.768Z"
   },
   {
    "duration": 20,
    "start_time": "2022-10-12T04:54:44.775Z"
   },
   {
    "duration": 271,
    "start_time": "2022-10-12T04:54:44.797Z"
   },
   {
    "duration": 258,
    "start_time": "2022-10-12T04:54:45.070Z"
   },
   {
    "duration": 161,
    "start_time": "2022-10-12T04:54:45.329Z"
   },
   {
    "duration": 547,
    "start_time": "2022-10-12T04:54:45.492Z"
   },
   {
    "duration": 251,
    "start_time": "2022-10-12T04:54:46.041Z"
   },
   {
    "duration": 228,
    "start_time": "2022-10-12T04:54:46.295Z"
   },
   {
    "duration": 13,
    "start_time": "2022-10-12T04:54:46.525Z"
   },
   {
    "duration": 13,
    "start_time": "2022-10-12T04:54:46.539Z"
   },
   {
    "duration": 9,
    "start_time": "2022-10-12T05:06:56.686Z"
   },
   {
    "duration": 10,
    "start_time": "2022-10-12T05:06:57.823Z"
   },
   {
    "duration": 6,
    "start_time": "2022-10-12T05:07:00.014Z"
   },
   {
    "duration": 2,
    "start_time": "2022-10-12T05:07:02.737Z"
   },
   {
    "duration": 54,
    "start_time": "2022-10-12T05:07:02.741Z"
   },
   {
    "duration": 14,
    "start_time": "2022-10-12T05:07:02.796Z"
   },
   {
    "duration": 20,
    "start_time": "2022-10-12T05:07:02.812Z"
   },
   {
    "duration": 3,
    "start_time": "2022-10-12T05:07:02.834Z"
   },
   {
    "duration": 24,
    "start_time": "2022-10-12T05:07:02.838Z"
   },
   {
    "duration": 10,
    "start_time": "2022-10-12T05:07:02.864Z"
   },
   {
    "duration": 16,
    "start_time": "2022-10-12T05:07:02.876Z"
   },
   {
    "duration": 5,
    "start_time": "2022-10-12T05:07:02.894Z"
   },
   {
    "duration": 158,
    "start_time": "2022-10-12T05:07:02.922Z"
   },
   {
    "duration": 264,
    "start_time": "2022-10-12T05:07:03.082Z"
   },
   {
    "duration": 1813,
    "start_time": "2022-10-12T05:07:03.347Z"
   },
   {
    "duration": 134,
    "start_time": "2022-10-12T05:07:05.161Z"
   },
   {
    "duration": 6,
    "start_time": "2022-10-12T05:07:05.298Z"
   },
   {
    "duration": 35,
    "start_time": "2022-10-12T05:07:05.305Z"
   },
   {
    "duration": 13,
    "start_time": "2022-10-12T05:07:05.341Z"
   },
   {
    "duration": 16,
    "start_time": "2022-10-12T05:07:05.356Z"
   },
   {
    "duration": 235,
    "start_time": "2022-10-12T05:07:05.373Z"
   },
   {
    "duration": 267,
    "start_time": "2022-10-12T05:07:05.610Z"
   },
   {
    "duration": 4,
    "start_time": "2022-10-12T05:07:05.879Z"
   },
   {
    "duration": 9,
    "start_time": "2022-10-12T05:07:05.885Z"
   },
   {
    "duration": 262,
    "start_time": "2022-10-12T05:07:05.895Z"
   },
   {
    "duration": 255,
    "start_time": "2022-10-12T05:07:06.158Z"
   },
   {
    "duration": 166,
    "start_time": "2022-10-12T05:07:06.415Z"
   },
   {
    "duration": 390,
    "start_time": "2022-10-12T05:07:06.583Z"
   },
   {
    "duration": 278,
    "start_time": "2022-10-12T05:07:06.975Z"
   },
   {
    "duration": 226,
    "start_time": "2022-10-12T05:07:07.254Z"
   },
   {
    "duration": 14,
    "start_time": "2022-10-12T05:07:07.481Z"
   },
   {
    "duration": 27,
    "start_time": "2022-10-12T05:07:07.496Z"
   },
   {
    "duration": 6,
    "start_time": "2022-10-12T05:07:43.975Z"
   },
   {
    "duration": 13,
    "start_time": "2022-10-12T05:16:13.956Z"
   },
   {
    "duration": 2,
    "start_time": "2022-10-12T05:17:22.519Z"
   },
   {
    "duration": 74,
    "start_time": "2022-10-12T05:17:22.523Z"
   },
   {
    "duration": 15,
    "start_time": "2022-10-12T05:17:22.598Z"
   },
   {
    "duration": 38,
    "start_time": "2022-10-12T05:17:22.614Z"
   },
   {
    "duration": 20,
    "start_time": "2022-10-12T05:17:22.654Z"
   },
   {
    "duration": 42,
    "start_time": "2022-10-12T05:17:22.675Z"
   },
   {
    "duration": 28,
    "start_time": "2022-10-12T05:17:22.718Z"
   },
   {
    "duration": 14,
    "start_time": "2022-10-12T05:17:28.293Z"
   },
   {
    "duration": 382,
    "start_time": "2022-10-12T05:23:44.433Z"
   },
   {
    "duration": 183,
    "start_time": "2022-10-12T05:23:57.144Z"
   },
   {
    "duration": 142,
    "start_time": "2022-10-12T05:24:06.649Z"
   },
   {
    "duration": 241,
    "start_time": "2022-10-12T05:26:16.442Z"
   },
   {
    "duration": 125,
    "start_time": "2022-10-12T05:45:59.907Z"
   },
   {
    "duration": 9,
    "start_time": "2022-10-12T05:46:47.197Z"
   },
   {
    "duration": 28,
    "start_time": "2022-10-12T05:49:40.639Z"
   },
   {
    "duration": 56,
    "start_time": "2022-10-12T05:51:12.033Z"
   },
   {
    "duration": 14,
    "start_time": "2022-10-12T05:51:21.904Z"
   },
   {
    "duration": 45,
    "start_time": "2022-10-12T05:52:20.408Z"
   },
   {
    "duration": 2,
    "start_time": "2022-10-12T06:08:23.180Z"
   },
   {
    "duration": 55,
    "start_time": "2022-10-12T06:08:23.184Z"
   },
   {
    "duration": 14,
    "start_time": "2022-10-12T06:08:23.241Z"
   },
   {
    "duration": 20,
    "start_time": "2022-10-12T06:08:23.256Z"
   },
   {
    "duration": 3,
    "start_time": "2022-10-12T06:08:23.278Z"
   },
   {
    "duration": 18,
    "start_time": "2022-10-12T06:08:23.283Z"
   },
   {
    "duration": 19,
    "start_time": "2022-10-12T06:08:23.303Z"
   },
   {
    "duration": 16,
    "start_time": "2022-10-12T06:08:23.323Z"
   },
   {
    "duration": 5,
    "start_time": "2022-10-12T06:08:23.340Z"
   },
   {
    "duration": 242,
    "start_time": "2022-10-12T06:08:23.346Z"
   },
   {
    "duration": 1726,
    "start_time": "2022-10-12T06:08:23.590Z"
   },
   {
    "duration": 132,
    "start_time": "2022-10-12T06:08:25.317Z"
   },
   {
    "duration": 5,
    "start_time": "2022-10-12T06:08:25.451Z"
   },
   {
    "duration": 22,
    "start_time": "2022-10-12T06:08:25.458Z"
   },
   {
    "duration": 10,
    "start_time": "2022-10-12T06:08:25.481Z"
   },
   {
    "duration": 16,
    "start_time": "2022-10-12T06:08:25.492Z"
   },
   {
    "duration": 262,
    "start_time": "2022-10-12T06:08:25.510Z"
   },
   {
    "duration": 252,
    "start_time": "2022-10-12T06:08:25.773Z"
   },
   {
    "duration": 5,
    "start_time": "2022-10-12T06:08:26.026Z"
   },
   {
    "duration": 6,
    "start_time": "2022-10-12T06:08:26.032Z"
   },
   {
    "duration": 258,
    "start_time": "2022-10-12T06:08:26.040Z"
   },
   {
    "duration": 402,
    "start_time": "2022-10-12T06:08:26.300Z"
   },
   {
    "duration": 173,
    "start_time": "2022-10-12T06:08:26.704Z"
   },
   {
    "duration": 407,
    "start_time": "2022-10-12T06:08:26.878Z"
   },
   {
    "duration": 260,
    "start_time": "2022-10-12T06:08:27.287Z"
   },
   {
    "duration": 227,
    "start_time": "2022-10-12T06:08:27.549Z"
   },
   {
    "duration": 12,
    "start_time": "2022-10-12T06:08:27.777Z"
   },
   {
    "duration": 11,
    "start_time": "2022-10-12T06:08:27.790Z"
   },
   {
    "duration": 219,
    "start_time": "2022-10-12T06:22:00.481Z"
   },
   {
    "duration": 879,
    "start_time": "2022-10-13T05:46:44.227Z"
   },
   {
    "duration": 70,
    "start_time": "2022-10-13T05:46:45.109Z"
   },
   {
    "duration": 23,
    "start_time": "2022-10-13T05:46:45.181Z"
   },
   {
    "duration": 17,
    "start_time": "2022-10-13T05:46:45.206Z"
   },
   {
    "duration": 4,
    "start_time": "2022-10-13T05:46:45.225Z"
   },
   {
    "duration": 38,
    "start_time": "2022-10-13T05:46:45.231Z"
   },
   {
    "duration": 18,
    "start_time": "2022-10-13T05:46:45.272Z"
   },
   {
    "duration": 22,
    "start_time": "2022-10-13T05:46:45.291Z"
   },
   {
    "duration": 7,
    "start_time": "2022-10-13T05:46:45.315Z"
   },
   {
    "duration": 333,
    "start_time": "2022-10-13T05:46:45.324Z"
   },
   {
    "duration": 2075,
    "start_time": "2022-10-13T05:46:45.659Z"
   },
   {
    "duration": 169,
    "start_time": "2022-10-13T05:46:47.736Z"
   },
   {
    "duration": 7,
    "start_time": "2022-10-13T05:46:47.906Z"
   },
   {
    "duration": 39,
    "start_time": "2022-10-13T05:46:47.916Z"
   },
   {
    "duration": 12,
    "start_time": "2022-10-13T05:46:47.957Z"
   },
   {
    "duration": 12,
    "start_time": "2022-10-13T05:46:47.972Z"
   },
   {
    "duration": 295,
    "start_time": "2022-10-13T05:49:45.177Z"
   },
   {
    "duration": 84,
    "start_time": "2022-10-13T05:50:20.740Z"
   },
   {
    "duration": 4,
    "start_time": "2022-10-13T05:50:29.132Z"
   },
   {
    "duration": 8,
    "start_time": "2022-10-13T05:50:38.427Z"
   },
   {
    "duration": 219,
    "start_time": "2022-10-13T05:50:54.969Z"
   },
   {
    "duration": 167,
    "start_time": "2022-10-13T05:51:09.580Z"
   },
   {
    "duration": 1069,
    "start_time": "2022-10-13T05:51:16.852Z"
   },
   {
    "duration": 365,
    "start_time": "2022-10-13T05:51:33.804Z"
   },
   {
    "duration": 297,
    "start_time": "2022-10-13T05:54:16.894Z"
   },
   {
    "duration": 612,
    "start_time": "2022-10-13T06:00:09.192Z"
   },
   {
    "duration": 194,
    "start_time": "2022-10-13T06:00:30.928Z"
   },
   {
    "duration": 251,
    "start_time": "2022-10-13T06:01:48.587Z"
   },
   {
    "duration": 161,
    "start_time": "2022-10-13T06:01:56.377Z"
   },
   {
    "duration": 185,
    "start_time": "2022-10-13T06:02:18.818Z"
   },
   {
    "duration": 190,
    "start_time": "2022-10-13T06:02:26.444Z"
   },
   {
    "duration": 26,
    "start_time": "2022-10-13T06:06:19.877Z"
   },
   {
    "duration": 199,
    "start_time": "2022-10-13T06:06:46.605Z"
   },
   {
    "duration": 425,
    "start_time": "2022-10-13T06:07:40.207Z"
   },
   {
    "duration": 334,
    "start_time": "2022-10-13T06:07:59.855Z"
   },
   {
    "duration": 4,
    "start_time": "2022-10-13T06:12:42.112Z"
   },
   {
    "duration": 10,
    "start_time": "2022-10-13T06:12:44.806Z"
   },
   {
    "duration": 383,
    "start_time": "2022-10-13T06:14:25.409Z"
   },
   {
    "duration": 395,
    "start_time": "2022-10-13T06:14:33.633Z"
   },
   {
    "duration": 363,
    "start_time": "2022-10-13T06:14:40.745Z"
   },
   {
    "duration": 368,
    "start_time": "2022-10-13T06:14:46.433Z"
   },
   {
    "duration": 381,
    "start_time": "2022-10-13T06:14:53.905Z"
   },
   {
    "duration": 3,
    "start_time": "2022-10-13T06:15:44.822Z"
   },
   {
    "duration": 57,
    "start_time": "2022-10-13T06:15:44.828Z"
   },
   {
    "duration": 21,
    "start_time": "2022-10-13T06:15:44.887Z"
   },
   {
    "duration": 17,
    "start_time": "2022-10-13T06:15:44.910Z"
   },
   {
    "duration": 3,
    "start_time": "2022-10-13T06:15:44.929Z"
   },
   {
    "duration": 43,
    "start_time": "2022-10-13T06:15:44.933Z"
   },
   {
    "duration": 11,
    "start_time": "2022-10-13T06:15:44.978Z"
   },
   {
    "duration": 19,
    "start_time": "2022-10-13T06:15:44.992Z"
   },
   {
    "duration": 7,
    "start_time": "2022-10-13T06:15:45.013Z"
   },
   {
    "duration": 410,
    "start_time": "2022-10-13T06:15:45.022Z"
   },
   {
    "duration": 2034,
    "start_time": "2022-10-13T06:15:45.434Z"
   },
   {
    "duration": 174,
    "start_time": "2022-10-13T06:15:47.470Z"
   },
   {
    "duration": 18,
    "start_time": "2022-10-13T06:15:47.645Z"
   },
   {
    "duration": 25,
    "start_time": "2022-10-13T06:15:47.667Z"
   },
   {
    "duration": 12,
    "start_time": "2022-10-13T06:15:47.693Z"
   },
   {
    "duration": 7,
    "start_time": "2022-10-13T06:15:47.707Z"
   },
   {
    "duration": 9,
    "start_time": "2022-10-13T06:15:47.716Z"
   },
   {
    "duration": 443,
    "start_time": "2022-10-13T06:15:47.727Z"
   },
   {
    "duration": 376,
    "start_time": "2022-10-13T06:15:50.529Z"
   },
   {
    "duration": 375,
    "start_time": "2022-10-13T06:16:45.843Z"
   },
   {
    "duration": 363,
    "start_time": "2022-10-13T06:17:22.883Z"
   },
   {
    "duration": 51,
    "start_time": "2022-10-13T06:18:20.243Z"
   },
   {
    "duration": 53,
    "start_time": "2022-10-13T06:18:29.670Z"
   },
   {
    "duration": 54,
    "start_time": "2022-10-13T06:18:36.771Z"
   },
   {
    "duration": 301,
    "start_time": "2022-10-13T06:18:42.539Z"
   },
   {
    "duration": 812,
    "start_time": "2022-10-13T12:27:55.622Z"
   },
   {
    "duration": 180,
    "start_time": "2022-10-13T12:27:56.436Z"
   },
   {
    "duration": 18,
    "start_time": "2022-10-13T12:27:56.618Z"
   },
   {
    "duration": 16,
    "start_time": "2022-10-13T12:27:56.637Z"
   },
   {
    "duration": 2,
    "start_time": "2022-10-13T12:27:56.655Z"
   },
   {
    "duration": 20,
    "start_time": "2022-10-13T12:27:56.659Z"
   },
   {
    "duration": 9,
    "start_time": "2022-10-13T12:27:56.681Z"
   },
   {
    "duration": 38,
    "start_time": "2022-10-13T12:27:56.692Z"
   },
   {
    "duration": 6,
    "start_time": "2022-10-13T12:27:56.731Z"
   },
   {
    "duration": 254,
    "start_time": "2022-10-13T12:27:56.739Z"
   },
   {
    "duration": 1703,
    "start_time": "2022-10-13T12:27:56.995Z"
   },
   {
    "duration": 134,
    "start_time": "2022-10-13T12:27:58.700Z"
   },
   {
    "duration": 7,
    "start_time": "2022-10-13T12:27:58.836Z"
   },
   {
    "duration": 23,
    "start_time": "2022-10-13T12:27:58.846Z"
   },
   {
    "duration": 11,
    "start_time": "2022-10-13T12:27:58.871Z"
   },
   {
    "duration": 6,
    "start_time": "2022-10-13T12:27:58.884Z"
   },
   {
    "duration": 11,
    "start_time": "2022-10-13T12:27:58.892Z"
   },
   {
    "duration": 227,
    "start_time": "2022-10-13T12:28:07.018Z"
   },
   {
    "duration": 251,
    "start_time": "2022-10-13T12:30:01.809Z"
   },
   {
    "duration": 278,
    "start_time": "2022-10-13T12:30:11.168Z"
   },
   {
    "duration": 276,
    "start_time": "2022-10-13T12:30:30.872Z"
   },
   {
    "duration": 169,
    "start_time": "2022-10-13T12:30:37.897Z"
   },
   {
    "duration": 174,
    "start_time": "2022-10-13T12:30:43.072Z"
   },
   {
    "duration": 182,
    "start_time": "2022-10-13T12:30:52.633Z"
   },
   {
    "duration": 253,
    "start_time": "2022-10-13T12:31:10.601Z"
   },
   {
    "duration": 245,
    "start_time": "2022-10-13T12:31:17.887Z"
   },
   {
    "duration": 275,
    "start_time": "2022-10-13T12:32:08.955Z"
   },
   {
    "duration": 324,
    "start_time": "2022-10-13T12:32:47.592Z"
   },
   {
    "duration": 238,
    "start_time": "2022-10-13T12:33:00.088Z"
   },
   {
    "duration": 257,
    "start_time": "2022-10-13T12:33:29.785Z"
   },
   {
    "duration": 240,
    "start_time": "2022-10-13T12:33:46.617Z"
   },
   {
    "duration": 31,
    "start_time": "2022-10-13T12:39:53.037Z"
   },
   {
    "duration": 39,
    "start_time": "2022-10-13T12:46:54.824Z"
   },
   {
    "duration": 9,
    "start_time": "2022-10-13T12:47:23.568Z"
   },
   {
    "duration": 284,
    "start_time": "2022-10-13T12:51:07.327Z"
   },
   {
    "duration": 242,
    "start_time": "2022-10-13T12:51:28.691Z"
   },
   {
    "duration": 313,
    "start_time": "2022-10-13T12:51:43.259Z"
   },
   {
    "duration": 265,
    "start_time": "2022-10-13T12:51:52.037Z"
   },
   {
    "duration": 3,
    "start_time": "2022-10-13T14:21:35.433Z"
   },
   {
    "duration": 75,
    "start_time": "2022-10-13T14:21:35.437Z"
   },
   {
    "duration": 23,
    "start_time": "2022-10-13T14:21:35.514Z"
   },
   {
    "duration": 28,
    "start_time": "2022-10-13T14:21:35.539Z"
   },
   {
    "duration": 19,
    "start_time": "2022-10-13T14:21:35.570Z"
   },
   {
    "duration": 46,
    "start_time": "2022-10-13T14:21:35.591Z"
   },
   {
    "duration": 25,
    "start_time": "2022-10-13T14:21:35.639Z"
   },
   {
    "duration": 36,
    "start_time": "2022-10-13T14:21:35.665Z"
   },
   {
    "duration": 5,
    "start_time": "2022-10-13T14:21:35.702Z"
   },
   {
    "duration": 281,
    "start_time": "2022-10-13T14:21:35.709Z"
   },
   {
    "duration": 1815,
    "start_time": "2022-10-13T14:21:35.992Z"
   },
   {
    "duration": 162,
    "start_time": "2022-10-13T14:21:37.809Z"
   },
   {
    "duration": 5,
    "start_time": "2022-10-13T14:21:37.972Z"
   },
   {
    "duration": 36,
    "start_time": "2022-10-13T14:21:37.979Z"
   },
   {
    "duration": 23,
    "start_time": "2022-10-13T14:21:38.017Z"
   },
   {
    "duration": 21,
    "start_time": "2022-10-13T14:21:38.042Z"
   },
   {
    "duration": 38,
    "start_time": "2022-10-13T14:21:38.065Z"
   },
   {
    "duration": 252,
    "start_time": "2022-10-13T14:21:38.104Z"
   },
   {
    "duration": 250,
    "start_time": "2022-10-13T14:21:38.358Z"
   },
   {
    "duration": 23,
    "start_time": "2022-10-13T14:21:38.610Z"
   },
   {
    "duration": 244,
    "start_time": "2022-10-13T14:21:38.635Z"
   },
   {
    "duration": 4,
    "start_time": "2022-10-13T14:21:38.881Z"
   },
   {
    "duration": 10,
    "start_time": "2022-10-13T14:21:38.887Z"
   },
   {
    "duration": 267,
    "start_time": "2022-10-13T14:22:35.302Z"
   },
   {
    "duration": 718,
    "start_time": "2022-10-13T14:24:26.036Z"
   },
   {
    "duration": 10,
    "start_time": "2022-10-13T14:24:50.118Z"
   },
   {
    "duration": 8,
    "start_time": "2022-10-13T14:25:02.404Z"
   },
   {
    "duration": 697,
    "start_time": "2022-10-13T14:25:25.653Z"
   },
   {
    "duration": 7,
    "start_time": "2022-10-13T14:25:39.454Z"
   },
   {
    "duration": 10,
    "start_time": "2022-10-13T14:55:27.185Z"
   },
   {
    "duration": 766,
    "start_time": "2022-10-14T00:58:35.302Z"
   },
   {
    "duration": 67,
    "start_time": "2022-10-14T00:58:36.070Z"
   },
   {
    "duration": 19,
    "start_time": "2022-10-14T00:58:36.138Z"
   },
   {
    "duration": 28,
    "start_time": "2022-10-14T00:58:36.159Z"
   },
   {
    "duration": 12,
    "start_time": "2022-10-14T00:58:36.189Z"
   },
   {
    "duration": 39,
    "start_time": "2022-10-14T00:58:36.203Z"
   },
   {
    "duration": 12,
    "start_time": "2022-10-14T00:58:36.244Z"
   },
   {
    "duration": 34,
    "start_time": "2022-10-14T00:58:36.258Z"
   },
   {
    "duration": 17,
    "start_time": "2022-10-14T00:58:36.293Z"
   },
   {
    "duration": 261,
    "start_time": "2022-10-14T00:58:36.312Z"
   },
   {
    "duration": 1684,
    "start_time": "2022-10-14T00:58:36.574Z"
   },
   {
    "duration": 135,
    "start_time": "2022-10-14T00:58:38.259Z"
   },
   {
    "duration": 6,
    "start_time": "2022-10-14T00:58:38.396Z"
   },
   {
    "duration": 33,
    "start_time": "2022-10-14T00:58:38.403Z"
   },
   {
    "duration": 8,
    "start_time": "2022-10-14T00:58:38.438Z"
   },
   {
    "duration": 14,
    "start_time": "2022-10-14T00:58:38.447Z"
   },
   {
    "duration": 22,
    "start_time": "2022-10-14T00:58:38.463Z"
   },
   {
    "duration": 246,
    "start_time": "2022-10-14T00:58:38.487Z"
   },
   {
    "duration": 302,
    "start_time": "2022-10-14T00:58:38.735Z"
   },
   {
    "duration": 10,
    "start_time": "2022-10-14T00:58:39.039Z"
   },
   {
    "duration": 15,
    "start_time": "2022-10-14T01:05:57.096Z"
   },
   {
    "duration": 7,
    "start_time": "2022-10-14T03:05:04.774Z"
   },
   {
    "duration": 5,
    "start_time": "2022-10-14T03:05:17.456Z"
   },
   {
    "duration": 6,
    "start_time": "2022-10-14T03:05:41.893Z"
   },
   {
    "duration": 6,
    "start_time": "2022-10-14T03:45:01.910Z"
   },
   {
    "duration": 6,
    "start_time": "2022-10-14T03:45:58.543Z"
   },
   {
    "duration": 6,
    "start_time": "2022-10-14T03:46:12.008Z"
   },
   {
    "duration": 332,
    "start_time": "2022-10-14T03:48:07.818Z"
   },
   {
    "duration": 6,
    "start_time": "2022-10-14T03:49:06.707Z"
   },
   {
    "duration": 7,
    "start_time": "2022-10-14T03:49:08.308Z"
   },
   {
    "duration": 234,
    "start_time": "2022-10-14T03:49:38.649Z"
   },
   {
    "duration": 6,
    "start_time": "2022-10-14T03:50:23.461Z"
   },
   {
    "duration": 6,
    "start_time": "2022-10-14T03:50:24.260Z"
   },
   {
    "duration": 264,
    "start_time": "2022-10-14T03:51:50.069Z"
   },
   {
    "duration": 8,
    "start_time": "2022-10-14T03:51:53.261Z"
   },
   {
    "duration": 6,
    "start_time": "2022-10-14T03:51:58.756Z"
   },
   {
    "duration": 6,
    "start_time": "2022-10-14T03:52:30.917Z"
   },
   {
    "duration": 5,
    "start_time": "2022-10-14T03:53:16.901Z"
   },
   {
    "duration": 6,
    "start_time": "2022-10-14T03:53:37.252Z"
   },
   {
    "duration": 8,
    "start_time": "2022-10-14T03:53:41.102Z"
   },
   {
    "duration": 7,
    "start_time": "2022-10-14T03:58:31.008Z"
   },
   {
    "duration": 6,
    "start_time": "2022-10-14T03:58:32.799Z"
   },
   {
    "duration": 23,
    "start_time": "2022-10-14T03:59:04.702Z"
   },
   {
    "duration": 7,
    "start_time": "2022-10-14T03:59:18.266Z"
   },
   {
    "duration": 636,
    "start_time": "2022-10-14T03:59:31.375Z"
   },
   {
    "duration": 494,
    "start_time": "2022-10-14T03:59:40.616Z"
   },
   {
    "duration": 671,
    "start_time": "2022-10-14T03:59:54.862Z"
   },
   {
    "duration": 2321,
    "start_time": "2022-10-14T04:00:01.505Z"
   },
   {
    "duration": 674,
    "start_time": "2022-10-14T04:00:12.647Z"
   },
   {
    "duration": 2,
    "start_time": "2022-10-14T04:00:20.697Z"
   },
   {
    "duration": 41,
    "start_time": "2022-10-14T04:00:20.701Z"
   },
   {
    "duration": 14,
    "start_time": "2022-10-14T04:00:20.744Z"
   },
   {
    "duration": 18,
    "start_time": "2022-10-14T04:00:20.760Z"
   },
   {
    "duration": 3,
    "start_time": "2022-10-14T04:00:20.779Z"
   },
   {
    "duration": 41,
    "start_time": "2022-10-14T04:00:20.783Z"
   },
   {
    "duration": 8,
    "start_time": "2022-10-14T04:00:20.826Z"
   },
   {
    "duration": 18,
    "start_time": "2022-10-14T04:00:20.835Z"
   },
   {
    "duration": 6,
    "start_time": "2022-10-14T04:00:20.854Z"
   },
   {
    "duration": 272,
    "start_time": "2022-10-14T04:00:20.861Z"
   },
   {
    "duration": 1666,
    "start_time": "2022-10-14T04:00:21.137Z"
   },
   {
    "duration": 135,
    "start_time": "2022-10-14T04:00:22.804Z"
   },
   {
    "duration": 6,
    "start_time": "2022-10-14T04:00:22.940Z"
   },
   {
    "duration": 21,
    "start_time": "2022-10-14T04:00:22.948Z"
   },
   {
    "duration": 9,
    "start_time": "2022-10-14T04:00:22.971Z"
   },
   {
    "duration": 4,
    "start_time": "2022-10-14T04:00:22.981Z"
   },
   {
    "duration": 9,
    "start_time": "2022-10-14T04:00:22.986Z"
   },
   {
    "duration": 267,
    "start_time": "2022-10-14T04:00:22.996Z"
   },
   {
    "duration": 244,
    "start_time": "2022-10-14T04:00:23.265Z"
   },
   {
    "duration": 17,
    "start_time": "2022-10-14T04:00:23.510Z"
   },
   {
    "duration": 258,
    "start_time": "2022-10-14T04:00:23.529Z"
   },
   {
    "duration": 6,
    "start_time": "2022-10-14T04:00:23.788Z"
   },
   {
    "duration": 8,
    "start_time": "2022-10-14T04:00:23.796Z"
   },
   {
    "duration": 336,
    "start_time": "2022-10-14T04:00:23.806Z"
   },
   {
    "duration": 6,
    "start_time": "2022-10-14T04:00:24.144Z"
   },
   {
    "duration": 10,
    "start_time": "2022-10-14T04:00:24.151Z"
   },
   {
    "duration": 264,
    "start_time": "2022-10-14T04:00:24.162Z"
   },
   {
    "duration": 6,
    "start_time": "2022-10-14T04:00:24.427Z"
   },
   {
    "duration": 7,
    "start_time": "2022-10-14T04:00:24.436Z"
   },
   {
    "duration": 242,
    "start_time": "2022-10-14T04:00:24.444Z"
   },
   {
    "duration": 6,
    "start_time": "2022-10-14T04:00:24.687Z"
   },
   {
    "duration": 10,
    "start_time": "2022-10-14T04:00:24.694Z"
   },
   {
    "duration": 280,
    "start_time": "2022-10-14T04:00:24.706Z"
   },
   {
    "duration": 5,
    "start_time": "2022-10-14T04:00:28.208Z"
   },
   {
    "duration": 6,
    "start_time": "2022-10-14T04:00:36.537Z"
   },
   {
    "duration": 6,
    "start_time": "2022-10-14T04:01:46.916Z"
   },
   {
    "duration": 156,
    "start_time": "2022-10-14T04:02:20.289Z"
   },
   {
    "duration": 231,
    "start_time": "2022-10-14T04:02:46.049Z"
   },
   {
    "duration": 251,
    "start_time": "2022-10-14T04:02:54.089Z"
   },
   {
    "duration": 183,
    "start_time": "2022-10-14T04:03:04.265Z"
   },
   {
    "duration": 4,
    "start_time": "2022-10-14T04:56:48.945Z"
   },
   {
    "duration": 61,
    "start_time": "2022-10-14T04:56:48.952Z"
   },
   {
    "duration": 21,
    "start_time": "2022-10-14T04:56:49.016Z"
   },
   {
    "duration": 33,
    "start_time": "2022-10-14T04:56:49.040Z"
   },
   {
    "duration": 8,
    "start_time": "2022-10-14T04:56:49.075Z"
   },
   {
    "duration": 28,
    "start_time": "2022-10-14T04:56:49.085Z"
   },
   {
    "duration": 16,
    "start_time": "2022-10-14T04:56:49.115Z"
   },
   {
    "duration": 22,
    "start_time": "2022-10-14T04:56:49.134Z"
   },
   {
    "duration": 6,
    "start_time": "2022-10-14T04:56:49.158Z"
   },
   {
    "duration": 325,
    "start_time": "2022-10-14T04:56:49.165Z"
   },
   {
    "duration": 1641,
    "start_time": "2022-10-14T04:56:49.491Z"
   },
   {
    "duration": 141,
    "start_time": "2022-10-14T04:56:51.134Z"
   },
   {
    "duration": 5,
    "start_time": "2022-10-14T04:56:51.277Z"
   },
   {
    "duration": 23,
    "start_time": "2022-10-14T04:56:51.283Z"
   },
   {
    "duration": 20,
    "start_time": "2022-10-14T04:56:51.308Z"
   },
   {
    "duration": 6,
    "start_time": "2022-10-14T04:56:51.329Z"
   },
   {
    "duration": 12,
    "start_time": "2022-10-14T04:56:51.336Z"
   },
   {
    "duration": 345,
    "start_time": "2022-10-14T04:56:51.349Z"
   },
   {
    "duration": 251,
    "start_time": "2022-10-14T04:56:51.696Z"
   },
   {
    "duration": 8,
    "start_time": "2022-10-14T04:56:51.948Z"
   },
   {
    "duration": 270,
    "start_time": "2022-10-14T04:56:51.958Z"
   },
   {
    "duration": 6,
    "start_time": "2022-10-14T04:56:52.229Z"
   },
   {
    "duration": 34,
    "start_time": "2022-10-14T04:56:52.237Z"
   },
   {
    "duration": 255,
    "start_time": "2022-10-14T04:56:52.274Z"
   },
   {
    "duration": 6,
    "start_time": "2022-10-14T04:56:52.531Z"
   },
   {
    "duration": 34,
    "start_time": "2022-10-14T04:56:52.539Z"
   },
   {
    "duration": 270,
    "start_time": "2022-10-14T04:56:52.575Z"
   },
   {
    "duration": 7,
    "start_time": "2022-10-14T04:56:52.847Z"
   },
   {
    "duration": 30,
    "start_time": "2022-10-14T04:56:52.855Z"
   },
   {
    "duration": 178,
    "start_time": "2022-10-14T04:56:52.887Z"
   },
   {
    "duration": 167,
    "start_time": "2022-10-14T04:56:53.067Z"
   },
   {
    "duration": 318,
    "start_time": "2022-10-14T04:56:53.235Z"
   },
   {
    "duration": 288,
    "start_time": "2022-10-14T04:56:53.554Z"
   },
   {
    "duration": 193,
    "start_time": "2022-10-14T04:56:53.844Z"
   },
   {
    "duration": 379,
    "start_time": "2022-10-14T04:56:54.039Z"
   },
   {
    "duration": 12,
    "start_time": "2022-10-14T04:56:54.421Z"
   },
   {
    "duration": 239,
    "start_time": "2022-10-14T05:03:51.939Z"
   },
   {
    "duration": 256,
    "start_time": "2022-10-14T05:03:55.739Z"
   },
   {
    "duration": 333,
    "start_time": "2022-10-14T05:04:31.298Z"
   },
   {
    "duration": 24,
    "start_time": "2022-10-14T05:04:51.706Z"
   },
   {
    "duration": 4,
    "start_time": "2022-10-14T05:05:24.045Z"
   },
   {
    "duration": 2,
    "start_time": "2022-10-14T05:05:50.382Z"
   },
   {
    "duration": 56,
    "start_time": "2022-10-14T05:05:50.386Z"
   },
   {
    "duration": 17,
    "start_time": "2022-10-14T05:05:50.444Z"
   },
   {
    "duration": 16,
    "start_time": "2022-10-14T05:05:50.464Z"
   },
   {
    "duration": 40,
    "start_time": "2022-10-14T05:05:50.482Z"
   },
   {
    "duration": 25,
    "start_time": "2022-10-14T05:05:50.525Z"
   },
   {
    "duration": 11,
    "start_time": "2022-10-14T05:05:50.552Z"
   },
   {
    "duration": 19,
    "start_time": "2022-10-14T05:05:50.565Z"
   },
   {
    "duration": 6,
    "start_time": "2022-10-14T05:05:50.587Z"
   },
   {
    "duration": 301,
    "start_time": "2022-10-14T05:05:50.594Z"
   },
   {
    "duration": 1785,
    "start_time": "2022-10-14T05:05:50.896Z"
   },
   {
    "duration": 157,
    "start_time": "2022-10-14T05:05:52.682Z"
   },
   {
    "duration": 6,
    "start_time": "2022-10-14T05:05:52.841Z"
   },
   {
    "duration": 28,
    "start_time": "2022-10-14T05:05:52.848Z"
   },
   {
    "duration": 30,
    "start_time": "2022-10-14T05:05:52.878Z"
   },
   {
    "duration": 41,
    "start_time": "2022-10-14T05:05:52.910Z"
   },
   {
    "duration": 31,
    "start_time": "2022-10-14T05:05:52.953Z"
   },
   {
    "duration": 405,
    "start_time": "2022-10-14T05:05:52.986Z"
   },
   {
    "duration": 275,
    "start_time": "2022-10-14T05:05:53.393Z"
   },
   {
    "duration": 9,
    "start_time": "2022-10-14T05:05:53.670Z"
   },
   {
    "duration": 296,
    "start_time": "2022-10-14T05:05:53.680Z"
   },
   {
    "duration": 7,
    "start_time": "2022-10-14T05:05:53.978Z"
   },
   {
    "duration": 16,
    "start_time": "2022-10-14T05:05:53.986Z"
   },
   {
    "duration": 298,
    "start_time": "2022-10-14T05:05:54.006Z"
   },
   {
    "duration": 6,
    "start_time": "2022-10-14T05:05:54.305Z"
   },
   {
    "duration": 23,
    "start_time": "2022-10-14T05:05:54.328Z"
   },
   {
    "duration": 288,
    "start_time": "2022-10-14T05:05:54.352Z"
   },
   {
    "duration": 7,
    "start_time": "2022-10-14T05:05:54.642Z"
   },
   {
    "duration": 9,
    "start_time": "2022-10-14T05:05:54.651Z"
   },
   {
    "duration": 197,
    "start_time": "2022-10-14T05:05:54.661Z"
   },
   {
    "duration": 259,
    "start_time": "2022-10-14T05:05:54.860Z"
   },
   {
    "duration": 5,
    "start_time": "2022-10-14T05:05:55.121Z"
   },
   {
    "duration": 271,
    "start_time": "2022-10-14T05:05:55.128Z"
   },
   {
    "duration": 288,
    "start_time": "2022-10-14T05:05:55.401Z"
   },
   {
    "duration": 45,
    "start_time": "2022-10-14T05:23:09.805Z"
   },
   {
    "duration": 7,
    "start_time": "2022-10-14T05:33:30.754Z"
   },
   {
    "duration": 7,
    "start_time": "2022-10-14T05:34:43.555Z"
   },
   {
    "duration": 34,
    "start_time": "2022-10-14T05:34:54.604Z"
   },
   {
    "duration": 7,
    "start_time": "2022-10-14T05:35:01.100Z"
   },
   {
    "duration": 7,
    "start_time": "2022-10-14T05:35:44.492Z"
   },
   {
    "duration": 6,
    "start_time": "2022-10-14T05:36:16.534Z"
   },
   {
    "duration": 9,
    "start_time": "2022-10-14T05:45:29.042Z"
   },
   {
    "duration": 23,
    "start_time": "2022-10-14T06:02:17.812Z"
   },
   {
    "duration": 3,
    "start_time": "2022-10-14T06:04:33.636Z"
   },
   {
    "duration": 14,
    "start_time": "2022-10-14T06:50:34.948Z"
   },
   {
    "duration": 2,
    "start_time": "2022-10-14T06:57:13.479Z"
   },
   {
    "duration": 39,
    "start_time": "2022-10-14T06:57:13.483Z"
   },
   {
    "duration": 14,
    "start_time": "2022-10-14T06:57:13.524Z"
   },
   {
    "duration": 15,
    "start_time": "2022-10-14T06:57:13.540Z"
   },
   {
    "duration": 3,
    "start_time": "2022-10-14T06:57:13.556Z"
   },
   {
    "duration": 20,
    "start_time": "2022-10-14T06:57:13.561Z"
   },
   {
    "duration": 40,
    "start_time": "2022-10-14T06:57:13.582Z"
   },
   {
    "duration": 18,
    "start_time": "2022-10-14T06:57:13.623Z"
   },
   {
    "duration": 5,
    "start_time": "2022-10-14T06:57:13.644Z"
   },
   {
    "duration": 247,
    "start_time": "2022-10-14T06:57:13.650Z"
   },
   {
    "duration": 1759,
    "start_time": "2022-10-14T06:57:13.898Z"
   },
   {
    "duration": 141,
    "start_time": "2022-10-14T06:57:15.659Z"
   },
   {
    "duration": 6,
    "start_time": "2022-10-14T06:57:15.801Z"
   },
   {
    "duration": 29,
    "start_time": "2022-10-14T06:57:15.808Z"
   },
   {
    "duration": 12,
    "start_time": "2022-10-14T06:57:15.838Z"
   },
   {
    "duration": 5,
    "start_time": "2022-10-14T06:57:15.852Z"
   },
   {
    "duration": 11,
    "start_time": "2022-10-14T06:57:15.858Z"
   },
   {
    "duration": 241,
    "start_time": "2022-10-14T06:57:15.870Z"
   },
   {
    "duration": 248,
    "start_time": "2022-10-14T06:57:16.113Z"
   },
   {
    "duration": 8,
    "start_time": "2022-10-14T06:57:16.362Z"
   },
   {
    "duration": 256,
    "start_time": "2022-10-14T06:57:16.371Z"
   },
   {
    "duration": 5,
    "start_time": "2022-10-14T06:57:16.629Z"
   },
   {
    "duration": 9,
    "start_time": "2022-10-14T06:57:16.636Z"
   },
   {
    "duration": 261,
    "start_time": "2022-10-14T06:57:16.648Z"
   },
   {
    "duration": 11,
    "start_time": "2022-10-14T06:57:16.911Z"
   },
   {
    "duration": 6,
    "start_time": "2022-10-14T06:57:16.924Z"
   },
   {
    "duration": 273,
    "start_time": "2022-10-14T06:57:16.931Z"
   },
   {
    "duration": 5,
    "start_time": "2022-10-14T06:57:17.206Z"
   },
   {
    "duration": 6,
    "start_time": "2022-10-14T06:57:17.222Z"
   },
   {
    "duration": 169,
    "start_time": "2022-10-14T06:57:17.229Z"
   },
   {
    "duration": 293,
    "start_time": "2022-10-14T06:57:17.399Z"
   },
   {
    "duration": 241,
    "start_time": "2022-10-14T06:57:17.694Z"
   },
   {
    "duration": 255,
    "start_time": "2022-10-14T06:57:17.936Z"
   },
   {
    "duration": 194,
    "start_time": "2022-10-14T06:57:18.192Z"
   },
   {
    "duration": 2,
    "start_time": "2022-10-14T06:57:18.387Z"
   },
   {
    "duration": 18,
    "start_time": "2022-10-14T06:57:18.391Z"
   },
   {
    "duration": 18,
    "start_time": "2022-10-14T06:57:18.410Z"
   },
   {
    "duration": 754,
    "start_time": "2022-10-15T05:48:36.258Z"
   },
   {
    "duration": 85,
    "start_time": "2022-10-15T05:48:37.014Z"
   },
   {
    "duration": 19,
    "start_time": "2022-10-15T05:48:37.101Z"
   },
   {
    "duration": 20,
    "start_time": "2022-10-15T05:48:37.124Z"
   },
   {
    "duration": 9,
    "start_time": "2022-10-15T05:48:37.145Z"
   },
   {
    "duration": 20,
    "start_time": "2022-10-15T05:48:37.155Z"
   },
   {
    "duration": 9,
    "start_time": "2022-10-15T05:48:37.177Z"
   },
   {
    "duration": 37,
    "start_time": "2022-10-15T05:48:37.188Z"
   },
   {
    "duration": 8,
    "start_time": "2022-10-15T05:48:37.227Z"
   },
   {
    "duration": 302,
    "start_time": "2022-10-15T05:48:37.238Z"
   },
   {
    "duration": 1871,
    "start_time": "2022-10-15T05:48:37.542Z"
   },
   {
    "duration": 176,
    "start_time": "2022-10-15T05:48:39.414Z"
   },
   {
    "duration": 7,
    "start_time": "2022-10-15T05:48:39.591Z"
   },
   {
    "duration": 42,
    "start_time": "2022-10-15T05:48:39.599Z"
   },
   {
    "duration": 10,
    "start_time": "2022-10-15T05:48:39.643Z"
   },
   {
    "duration": 7,
    "start_time": "2022-10-15T05:48:39.655Z"
   },
   {
    "duration": 11,
    "start_time": "2022-10-15T05:48:39.663Z"
   },
   {
    "duration": 319,
    "start_time": "2022-10-15T05:48:39.676Z"
   },
   {
    "duration": 286,
    "start_time": "2022-10-15T05:48:39.996Z"
   },
   {
    "duration": 8,
    "start_time": "2022-10-15T05:48:40.283Z"
   },
   {
    "duration": 360,
    "start_time": "2022-10-15T05:48:40.294Z"
   },
   {
    "duration": 6,
    "start_time": "2022-10-15T05:48:40.656Z"
   },
   {
    "duration": 7,
    "start_time": "2022-10-15T05:48:40.664Z"
   },
   {
    "duration": 285,
    "start_time": "2022-10-15T05:48:40.673Z"
   },
   {
    "duration": 6,
    "start_time": "2022-10-15T05:48:40.960Z"
   },
   {
    "duration": 9,
    "start_time": "2022-10-15T05:48:40.967Z"
   },
   {
    "duration": 301,
    "start_time": "2022-10-15T05:48:40.977Z"
   },
   {
    "duration": 7,
    "start_time": "2022-10-15T05:48:41.281Z"
   },
   {
    "duration": 9,
    "start_time": "2022-10-15T05:48:41.289Z"
   },
   {
    "duration": 202,
    "start_time": "2022-10-15T05:48:41.300Z"
   },
   {
    "duration": 194,
    "start_time": "2022-10-15T05:48:41.504Z"
   },
   {
    "duration": 271,
    "start_time": "2022-10-15T05:48:41.700Z"
   },
   {
    "duration": 288,
    "start_time": "2022-10-15T05:48:41.973Z"
   },
   {
    "duration": 217,
    "start_time": "2022-10-15T05:48:42.262Z"
   },
   {
    "duration": 475,
    "start_time": "2022-10-15T05:48:42.480Z"
   },
   {
    "duration": 15,
    "start_time": "2022-10-15T05:48:42.956Z"
   },
   {
    "duration": 30,
    "start_time": "2022-10-15T05:48:42.972Z"
   },
   {
    "duration": 16,
    "start_time": "2022-10-15T05:49:08.992Z"
   },
   {
    "duration": 48,
    "start_time": "2022-10-15T06:20:15.233Z"
   },
   {
    "duration": 957,
    "start_time": "2022-10-15T06:20:21.430Z"
   },
   {
    "duration": 75,
    "start_time": "2022-10-15T06:20:22.389Z"
   },
   {
    "duration": 20,
    "start_time": "2022-10-15T06:20:22.465Z"
   },
   {
    "duration": 14,
    "start_time": "2022-10-15T06:20:22.487Z"
   },
   {
    "duration": 2,
    "start_time": "2022-10-15T06:20:22.503Z"
   },
   {
    "duration": 25,
    "start_time": "2022-10-15T06:20:22.507Z"
   },
   {
    "duration": 19,
    "start_time": "2022-10-15T06:20:22.534Z"
   },
   {
    "duration": 18,
    "start_time": "2022-10-15T06:20:22.555Z"
   },
   {
    "duration": 5,
    "start_time": "2022-10-15T06:20:22.574Z"
   },
   {
    "duration": 270,
    "start_time": "2022-10-15T06:20:22.581Z"
   },
   {
    "duration": 1823,
    "start_time": "2022-10-15T06:20:22.853Z"
   },
   {
    "duration": 145,
    "start_time": "2022-10-15T06:20:24.677Z"
   },
   {
    "duration": 8,
    "start_time": "2022-10-15T06:20:24.824Z"
   },
   {
    "duration": 39,
    "start_time": "2022-10-15T06:20:24.833Z"
   },
   {
    "duration": 12,
    "start_time": "2022-10-15T06:20:24.873Z"
   },
   {
    "duration": 12,
    "start_time": "2022-10-15T06:20:24.886Z"
   },
   {
    "duration": 21,
    "start_time": "2022-10-15T06:20:24.899Z"
   },
   {
    "duration": 274,
    "start_time": "2022-10-15T06:20:24.921Z"
   },
   {
    "duration": 242,
    "start_time": "2022-10-15T06:20:25.197Z"
   },
   {
    "duration": 8,
    "start_time": "2022-10-15T06:20:25.441Z"
   },
   {
    "duration": 360,
    "start_time": "2022-10-15T06:20:25.451Z"
   },
   {
    "duration": 10,
    "start_time": "2022-10-15T06:20:25.813Z"
   },
   {
    "duration": 17,
    "start_time": "2022-10-15T06:20:25.824Z"
   },
   {
    "duration": 286,
    "start_time": "2022-10-15T06:20:25.843Z"
   },
   {
    "duration": 9,
    "start_time": "2022-10-15T06:20:26.131Z"
   },
   {
    "duration": 16,
    "start_time": "2022-10-15T06:20:26.142Z"
   },
   {
    "duration": 301,
    "start_time": "2022-10-15T06:20:26.160Z"
   },
   {
    "duration": 6,
    "start_time": "2022-10-15T06:20:26.465Z"
   },
   {
    "duration": 7,
    "start_time": "2022-10-15T06:20:26.473Z"
   },
   {
    "duration": 201,
    "start_time": "2022-10-15T06:20:26.482Z"
   },
   {
    "duration": 182,
    "start_time": "2022-10-15T06:20:26.685Z"
   },
   {
    "duration": 265,
    "start_time": "2022-10-15T06:20:26.869Z"
   },
   {
    "duration": 262,
    "start_time": "2022-10-15T06:20:27.136Z"
   },
   {
    "duration": 206,
    "start_time": "2022-10-15T06:20:27.400Z"
   },
   {
    "duration": 479,
    "start_time": "2022-10-15T06:20:27.607Z"
   },
   {
    "duration": 14,
    "start_time": "2022-10-15T06:20:28.088Z"
   },
   {
    "duration": 52,
    "start_time": "2022-10-15T06:20:28.104Z"
   },
   {
    "duration": 19,
    "start_time": "2022-10-15T06:21:36.372Z"
   },
   {
    "duration": 14,
    "start_time": "2022-10-15T06:23:01.677Z"
   },
   {
    "duration": 15,
    "start_time": "2022-10-15T06:33:00.695Z"
   },
   {
    "duration": 15,
    "start_time": "2022-10-15T06:33:09.274Z"
   },
   {
    "duration": 14,
    "start_time": "2022-10-15T06:33:40.773Z"
   },
   {
    "duration": 78,
    "start_time": "2023-07-29T14:39:56.602Z"
   },
   {
    "duration": 941,
    "start_time": "2023-07-29T14:40:00.259Z"
   },
   {
    "duration": 226,
    "start_time": "2023-07-29T14:40:01.203Z"
   },
   {
    "duration": 32,
    "start_time": "2023-07-29T14:40:01.433Z"
   },
   {
    "duration": 105,
    "start_time": "2023-07-29T14:40:01.468Z"
   },
   {
    "duration": 42,
    "start_time": "2023-07-29T14:40:04.851Z"
   },
   {
    "duration": 10,
    "start_time": "2023-07-29T14:41:32.589Z"
   },
   {
    "duration": 15,
    "start_time": "2023-07-29T14:42:10.688Z"
   },
   {
    "duration": 4,
    "start_time": "2023-07-29T14:46:06.300Z"
   },
   {
    "duration": 1561,
    "start_time": "2023-07-30T03:26:46.175Z"
   },
   {
    "duration": 123,
    "start_time": "2023-07-30T03:26:47.738Z"
   },
   {
    "duration": 24,
    "start_time": "2023-07-30T03:26:47.862Z"
   },
   {
    "duration": 22,
    "start_time": "2023-07-30T03:26:47.903Z"
   },
   {
    "duration": 4,
    "start_time": "2023-07-30T03:26:47.927Z"
   },
   {
    "duration": 43,
    "start_time": "2023-07-30T03:26:47.932Z"
   },
   {
    "duration": 9,
    "start_time": "2023-07-30T03:26:47.977Z"
   },
   {
    "duration": 38,
    "start_time": "2023-07-30T03:26:47.989Z"
   },
   {
    "duration": 3,
    "start_time": "2023-07-30T03:26:48.029Z"
   },
   {
    "duration": 15,
    "start_time": "2023-07-30T03:26:48.035Z"
   },
   {
    "duration": 13,
    "start_time": "2023-07-30T03:26:48.051Z"
   },
   {
    "duration": 9,
    "start_time": "2023-07-30T03:26:48.065Z"
   },
   {
    "duration": 336,
    "start_time": "2023-07-30T03:26:48.075Z"
   },
   {
    "duration": 16,
    "start_time": "2023-07-30T03:26:48.416Z"
   },
   {
    "duration": 2116,
    "start_time": "2023-07-30T03:26:48.434Z"
   },
   {
    "duration": 9,
    "start_time": "2023-07-30T03:26:50.552Z"
   },
   {
    "duration": 59,
    "start_time": "2023-07-30T03:26:50.563Z"
   },
   {
    "duration": 10,
    "start_time": "2023-07-30T03:26:50.624Z"
   },
   {
    "duration": 14,
    "start_time": "2023-07-30T03:26:50.636Z"
   },
   {
    "duration": 19,
    "start_time": "2023-07-30T03:26:50.652Z"
   },
   {
    "duration": 304,
    "start_time": "2023-07-30T03:26:50.673Z"
   },
   {
    "duration": 305,
    "start_time": "2023-07-30T03:26:50.978Z"
   },
   {
    "duration": 12,
    "start_time": "2023-07-30T03:26:51.285Z"
   },
   {
    "duration": 255,
    "start_time": "2023-07-30T03:26:51.302Z"
   },
   {
    "duration": 0,
    "start_time": "2023-07-30T03:26:51.560Z"
   },
   {
    "duration": 0,
    "start_time": "2023-07-30T03:26:51.562Z"
   },
   {
    "duration": 0,
    "start_time": "2023-07-30T03:26:51.564Z"
   },
   {
    "duration": 0,
    "start_time": "2023-07-30T03:26:51.566Z"
   },
   {
    "duration": 0,
    "start_time": "2023-07-30T03:26:51.567Z"
   },
   {
    "duration": 0,
    "start_time": "2023-07-30T03:26:51.568Z"
   },
   {
    "duration": 0,
    "start_time": "2023-07-30T03:26:51.570Z"
   },
   {
    "duration": 0,
    "start_time": "2023-07-30T03:26:51.597Z"
   },
   {
    "duration": 0,
    "start_time": "2023-07-30T03:26:51.598Z"
   },
   {
    "duration": 0,
    "start_time": "2023-07-30T03:26:51.601Z"
   },
   {
    "duration": 0,
    "start_time": "2023-07-30T03:26:51.602Z"
   },
   {
    "duration": 0,
    "start_time": "2023-07-30T03:26:51.603Z"
   },
   {
    "duration": 0,
    "start_time": "2023-07-30T03:26:51.604Z"
   },
   {
    "duration": 0,
    "start_time": "2023-07-30T03:26:51.606Z"
   },
   {
    "duration": 0,
    "start_time": "2023-07-30T03:26:51.607Z"
   },
   {
    "duration": 132,
    "start_time": "2023-07-30T03:28:07.510Z"
   },
   {
    "duration": 19,
    "start_time": "2023-07-30T03:28:39.242Z"
   },
   {
    "duration": 152,
    "start_time": "2023-07-30T03:28:43.251Z"
   },
   {
    "duration": 6,
    "start_time": "2023-07-30T03:29:04.035Z"
   },
   {
    "duration": 18,
    "start_time": "2023-07-30T03:35:05.585Z"
   },
   {
    "duration": 10,
    "start_time": "2023-07-30T03:35:37.708Z"
   },
   {
    "duration": 57,
    "start_time": "2023-07-30T03:35:38.998Z"
   },
   {
    "duration": 17,
    "start_time": "2023-07-30T03:35:39.947Z"
   },
   {
    "duration": 14,
    "start_time": "2023-07-30T03:35:40.915Z"
   },
   {
    "duration": 5,
    "start_time": "2023-07-30T03:35:54.729Z"
   },
   {
    "duration": 30,
    "start_time": "2023-07-30T03:35:56.012Z"
   },
   {
    "duration": 11,
    "start_time": "2023-07-30T03:35:58.735Z"
   },
   {
    "duration": 17,
    "start_time": "2023-07-30T03:35:59.863Z"
   },
   {
    "duration": 3,
    "start_time": "2023-07-30T03:36:02.470Z"
   },
   {
    "duration": 15,
    "start_time": "2023-07-30T03:36:04.968Z"
   },
   {
    "duration": 29,
    "start_time": "2023-07-30T03:36:13.195Z"
   },
   {
    "duration": 3,
    "start_time": "2023-07-30T03:36:34.835Z"
   },
   {
    "duration": 78,
    "start_time": "2023-07-30T03:36:34.841Z"
   },
   {
    "duration": 25,
    "start_time": "2023-07-30T03:36:34.925Z"
   },
   {
    "duration": 43,
    "start_time": "2023-07-30T03:36:34.953Z"
   },
   {
    "duration": 21,
    "start_time": "2023-07-30T03:36:35.001Z"
   },
   {
    "duration": 30,
    "start_time": "2023-07-30T03:36:35.023Z"
   },
   {
    "duration": 9,
    "start_time": "2023-07-30T03:36:35.054Z"
   },
   {
    "duration": 17,
    "start_time": "2023-07-30T03:36:35.065Z"
   },
   {
    "duration": 10,
    "start_time": "2023-07-30T03:36:35.098Z"
   },
   {
    "duration": 14,
    "start_time": "2023-07-30T03:36:35.113Z"
   },
   {
    "duration": 14,
    "start_time": "2023-07-30T03:36:35.131Z"
   },
   {
    "duration": 8,
    "start_time": "2023-07-30T03:36:35.147Z"
   },
   {
    "duration": 335,
    "start_time": "2023-07-30T03:36:35.157Z"
   },
   {
    "duration": 26,
    "start_time": "2023-07-30T03:36:35.494Z"
   },
   {
    "duration": 2162,
    "start_time": "2023-07-30T03:36:35.522Z"
   },
   {
    "duration": 14,
    "start_time": "2023-07-30T03:36:37.687Z"
   },
   {
    "duration": 22,
    "start_time": "2023-07-30T03:36:37.704Z"
   },
   {
    "duration": 13,
    "start_time": "2023-07-30T03:36:37.729Z"
   },
   {
    "duration": 12,
    "start_time": "2023-07-30T03:36:37.745Z"
   },
   {
    "duration": 48,
    "start_time": "2023-07-30T03:36:37.759Z"
   },
   {
    "duration": 9,
    "start_time": "2023-07-30T03:36:37.809Z"
   },
   {
    "duration": 300,
    "start_time": "2023-07-30T03:36:37.822Z"
   },
   {
    "duration": 296,
    "start_time": "2023-07-30T03:36:38.123Z"
   },
   {
    "duration": 9,
    "start_time": "2023-07-30T03:36:38.421Z"
   },
   {
    "duration": 142,
    "start_time": "2023-07-30T03:36:38.432Z"
   },
   {
    "duration": 0,
    "start_time": "2023-07-30T03:36:38.577Z"
   },
   {
    "duration": 0,
    "start_time": "2023-07-30T03:36:38.578Z"
   },
   {
    "duration": 0,
    "start_time": "2023-07-30T03:36:38.580Z"
   },
   {
    "duration": 0,
    "start_time": "2023-07-30T03:36:38.589Z"
   },
   {
    "duration": 1,
    "start_time": "2023-07-30T03:36:38.590Z"
   },
   {
    "duration": 0,
    "start_time": "2023-07-30T03:36:38.591Z"
   },
   {
    "duration": 0,
    "start_time": "2023-07-30T03:36:38.592Z"
   },
   {
    "duration": 0,
    "start_time": "2023-07-30T03:36:38.593Z"
   },
   {
    "duration": 0,
    "start_time": "2023-07-30T03:36:38.594Z"
   },
   {
    "duration": 0,
    "start_time": "2023-07-30T03:36:38.595Z"
   },
   {
    "duration": 0,
    "start_time": "2023-07-30T03:36:38.596Z"
   },
   {
    "duration": 0,
    "start_time": "2023-07-30T03:36:38.599Z"
   },
   {
    "duration": 0,
    "start_time": "2023-07-30T03:36:38.600Z"
   },
   {
    "duration": 0,
    "start_time": "2023-07-30T03:36:38.606Z"
   },
   {
    "duration": 0,
    "start_time": "2023-07-30T03:36:38.607Z"
   },
   {
    "duration": 4,
    "start_time": "2023-07-30T03:37:39.741Z"
   },
   {
    "duration": 95,
    "start_time": "2023-07-30T03:37:39.747Z"
   },
   {
    "duration": 16,
    "start_time": "2023-07-30T03:37:39.844Z"
   },
   {
    "duration": 34,
    "start_time": "2023-07-30T03:37:39.862Z"
   },
   {
    "duration": 23,
    "start_time": "2023-07-30T03:37:39.898Z"
   },
   {
    "duration": 39,
    "start_time": "2023-07-30T03:37:39.923Z"
   },
   {
    "duration": 18,
    "start_time": "2023-07-30T03:37:39.963Z"
   },
   {
    "duration": 35,
    "start_time": "2023-07-30T03:37:39.983Z"
   },
   {
    "duration": 39,
    "start_time": "2023-07-30T03:37:40.020Z"
   },
   {
    "duration": 46,
    "start_time": "2023-07-30T03:37:40.061Z"
   },
   {
    "duration": 131,
    "start_time": "2023-07-30T03:37:40.116Z"
   },
   {
    "duration": 22,
    "start_time": "2023-07-30T03:37:40.249Z"
   },
   {
    "duration": 309,
    "start_time": "2023-07-30T03:37:40.273Z"
   },
   {
    "duration": 31,
    "start_time": "2023-07-30T03:37:40.588Z"
   },
   {
    "duration": 2086,
    "start_time": "2023-07-30T03:37:40.622Z"
   },
   {
    "duration": 9,
    "start_time": "2023-07-30T03:37:42.714Z"
   },
   {
    "duration": 19,
    "start_time": "2023-07-30T03:37:42.724Z"
   },
   {
    "duration": 26,
    "start_time": "2023-07-30T03:37:42.746Z"
   },
   {
    "duration": 12,
    "start_time": "2023-07-30T03:37:42.774Z"
   },
   {
    "duration": 7,
    "start_time": "2023-07-30T03:37:42.790Z"
   },
   {
    "duration": 20,
    "start_time": "2023-07-30T03:37:42.800Z"
   },
   {
    "duration": 303,
    "start_time": "2023-07-30T03:37:42.822Z"
   },
   {
    "duration": 406,
    "start_time": "2023-07-30T03:37:43.127Z"
   },
   {
    "duration": 9,
    "start_time": "2023-07-30T03:37:43.536Z"
   },
   {
    "duration": 335,
    "start_time": "2023-07-30T03:37:43.547Z"
   },
   {
    "duration": 20,
    "start_time": "2023-07-30T03:37:43.887Z"
   },
   {
    "duration": 8,
    "start_time": "2023-07-30T03:37:43.909Z"
   },
   {
    "duration": 330,
    "start_time": "2023-07-30T03:37:43.922Z"
   },
   {
    "duration": 7,
    "start_time": "2023-07-30T03:37:44.255Z"
   },
   {
    "duration": 31,
    "start_time": "2023-07-30T03:37:44.264Z"
   },
   {
    "duration": 315,
    "start_time": "2023-07-30T03:37:44.297Z"
   },
   {
    "duration": 9,
    "start_time": "2023-07-30T03:37:44.615Z"
   },
   {
    "duration": 8,
    "start_time": "2023-07-30T03:37:44.626Z"
   },
   {
    "duration": 279,
    "start_time": "2023-07-30T03:37:44.635Z"
   },
   {
    "duration": 233,
    "start_time": "2023-07-30T03:37:44.916Z"
   },
   {
    "duration": 97,
    "start_time": "2023-07-30T03:37:45.150Z"
   },
   {
    "duration": 0,
    "start_time": "2023-07-30T03:37:45.248Z"
   },
   {
    "duration": 0,
    "start_time": "2023-07-30T03:37:45.250Z"
   },
   {
    "duration": 0,
    "start_time": "2023-07-30T03:37:45.251Z"
   },
   {
    "duration": 0,
    "start_time": "2023-07-30T03:37:45.252Z"
   },
   {
    "duration": 313,
    "start_time": "2023-07-30T03:38:30.970Z"
   },
   {
    "duration": 414,
    "start_time": "2023-07-30T03:38:32.614Z"
   },
   {
    "duration": 222,
    "start_time": "2023-07-30T03:38:33.880Z"
   },
   {
    "duration": 14,
    "start_time": "2023-07-30T03:39:33.087Z"
   },
   {
    "duration": 145,
    "start_time": "2023-07-30T03:39:33.105Z"
   },
   {
    "duration": 26,
    "start_time": "2023-07-30T03:39:33.253Z"
   },
   {
    "duration": 91,
    "start_time": "2023-07-30T03:39:33.282Z"
   },
   {
    "duration": 49,
    "start_time": "2023-07-30T03:39:33.377Z"
   },
   {
    "duration": 36,
    "start_time": "2023-07-30T03:39:33.428Z"
   },
   {
    "duration": 11,
    "start_time": "2023-07-30T03:39:33.466Z"
   },
   {
    "duration": 37,
    "start_time": "2023-07-30T03:39:33.478Z"
   },
   {
    "duration": 8,
    "start_time": "2023-07-30T03:39:33.516Z"
   },
   {
    "duration": 37,
    "start_time": "2023-07-30T03:39:33.526Z"
   },
   {
    "duration": 40,
    "start_time": "2023-07-30T03:39:33.566Z"
   },
   {
    "duration": 18,
    "start_time": "2023-07-30T03:39:33.607Z"
   },
   {
    "duration": 328,
    "start_time": "2023-07-30T03:39:33.627Z"
   },
   {
    "duration": 17,
    "start_time": "2023-07-30T03:39:33.958Z"
   },
   {
    "duration": 2254,
    "start_time": "2023-07-30T03:39:33.992Z"
   },
   {
    "duration": 9,
    "start_time": "2023-07-30T03:39:36.249Z"
   },
   {
    "duration": 95,
    "start_time": "2023-07-30T03:39:36.261Z"
   },
   {
    "duration": 140,
    "start_time": "2023-07-30T03:39:36.358Z"
   },
   {
    "duration": 26,
    "start_time": "2023-07-30T03:39:36.502Z"
   },
   {
    "duration": 23,
    "start_time": "2023-07-30T03:39:36.531Z"
   },
   {
    "duration": 27,
    "start_time": "2023-07-30T03:39:36.557Z"
   },
   {
    "duration": 470,
    "start_time": "2023-07-30T03:39:36.586Z"
   },
   {
    "duration": 324,
    "start_time": "2023-07-30T03:39:37.057Z"
   },
   {
    "duration": 20,
    "start_time": "2023-07-30T03:39:37.384Z"
   },
   {
    "duration": 462,
    "start_time": "2023-07-30T03:39:37.406Z"
   },
   {
    "duration": 28,
    "start_time": "2023-07-30T03:39:37.871Z"
   },
   {
    "duration": 31,
    "start_time": "2023-07-30T03:39:37.901Z"
   },
   {
    "duration": 349,
    "start_time": "2023-07-30T03:39:37.934Z"
   },
   {
    "duration": 18,
    "start_time": "2023-07-30T03:39:38.289Z"
   },
   {
    "duration": 22,
    "start_time": "2023-07-30T03:39:38.314Z"
   },
   {
    "duration": 333,
    "start_time": "2023-07-30T03:39:38.338Z"
   },
   {
    "duration": 6,
    "start_time": "2023-07-30T03:39:38.673Z"
   },
   {
    "duration": 54,
    "start_time": "2023-07-30T03:39:38.680Z"
   },
   {
    "duration": 348,
    "start_time": "2023-07-30T03:39:38.736Z"
   },
   {
    "duration": 314,
    "start_time": "2023-07-30T03:39:39.087Z"
   },
   {
    "duration": 298,
    "start_time": "2023-07-30T03:39:39.403Z"
   },
   {
    "duration": 327,
    "start_time": "2023-07-30T03:39:39.703Z"
   },
   {
    "duration": 243,
    "start_time": "2023-07-30T03:39:40.031Z"
   },
   {
    "duration": 28,
    "start_time": "2023-07-30T03:39:40.276Z"
   },
   {
    "duration": 37,
    "start_time": "2023-07-30T03:39:40.306Z"
   },
   {
    "duration": 1314,
    "start_time": "2023-07-30T03:41:59.579Z"
   },
   {
    "duration": 71,
    "start_time": "2023-07-30T03:42:00.895Z"
   },
   {
    "duration": 33,
    "start_time": "2023-07-30T03:42:00.968Z"
   },
   {
    "duration": 23,
    "start_time": "2023-07-30T03:42:01.007Z"
   },
   {
    "duration": 27,
    "start_time": "2023-07-30T03:42:01.032Z"
   },
   {
    "duration": 87,
    "start_time": "2023-07-30T03:42:01.061Z"
   },
   {
    "duration": 11,
    "start_time": "2023-07-30T03:42:01.150Z"
   },
   {
    "duration": 56,
    "start_time": "2023-07-30T03:42:01.162Z"
   },
   {
    "duration": 19,
    "start_time": "2023-07-30T03:42:01.220Z"
   },
   {
    "duration": 41,
    "start_time": "2023-07-30T03:42:01.242Z"
   },
   {
    "duration": 72,
    "start_time": "2023-07-30T03:42:01.285Z"
   },
   {
    "duration": 52,
    "start_time": "2023-07-30T03:42:01.359Z"
   },
   {
    "duration": 487,
    "start_time": "2023-07-30T03:42:01.419Z"
   },
   {
    "duration": 22,
    "start_time": "2023-07-30T03:42:01.907Z"
   },
   {
    "duration": 2298,
    "start_time": "2023-07-30T03:42:01.930Z"
   },
   {
    "duration": 9,
    "start_time": "2023-07-30T03:42:04.230Z"
   },
   {
    "duration": 42,
    "start_time": "2023-07-30T03:42:04.241Z"
   },
   {
    "duration": 59,
    "start_time": "2023-07-30T03:42:04.285Z"
   },
   {
    "duration": 43,
    "start_time": "2023-07-30T03:42:04.346Z"
   },
   {
    "duration": 56,
    "start_time": "2023-07-30T03:42:04.391Z"
   },
   {
    "duration": 462,
    "start_time": "2023-07-30T03:42:04.449Z"
   },
   {
    "duration": 359,
    "start_time": "2023-07-30T03:42:04.913Z"
   },
   {
    "duration": 14,
    "start_time": "2023-07-30T03:42:05.274Z"
   },
   {
    "duration": 374,
    "start_time": "2023-07-30T03:42:05.290Z"
   },
   {
    "duration": 7,
    "start_time": "2023-07-30T03:42:05.666Z"
   },
   {
    "duration": 39,
    "start_time": "2023-07-30T03:42:05.693Z"
   },
   {
    "duration": 431,
    "start_time": "2023-07-30T03:42:05.734Z"
   },
   {
    "duration": 7,
    "start_time": "2023-07-30T03:42:06.169Z"
   },
   {
    "duration": 45,
    "start_time": "2023-07-30T03:42:06.178Z"
   },
   {
    "duration": 360,
    "start_time": "2023-07-30T03:42:06.225Z"
   },
   {
    "duration": 32,
    "start_time": "2023-07-30T03:42:06.594Z"
   },
   {
    "duration": 8,
    "start_time": "2023-07-30T03:42:06.628Z"
   },
   {
    "duration": 236,
    "start_time": "2023-07-30T03:42:06.638Z"
   },
   {
    "duration": 304,
    "start_time": "2023-07-30T03:42:06.876Z"
   },
   {
    "duration": 381,
    "start_time": "2023-07-30T03:42:07.183Z"
   },
   {
    "duration": 350,
    "start_time": "2023-07-30T03:42:07.565Z"
   },
   {
    "duration": 236,
    "start_time": "2023-07-30T03:42:07.922Z"
   },
   {
    "duration": 33,
    "start_time": "2023-07-30T03:42:08.160Z"
   },
   {
    "duration": 32,
    "start_time": "2023-07-30T03:42:08.194Z"
   }
  ],
  "kernelspec": {
   "display_name": "Python 3 (ipykernel)",
   "language": "python",
   "name": "python3"
  },
  "language_info": {
   "codemirror_mode": {
    "name": "ipython",
    "version": 3
   },
   "file_extension": ".py",
   "mimetype": "text/x-python",
   "name": "python",
   "nbconvert_exporter": "python",
   "pygments_lexer": "ipython3",
   "version": "3.9.5"
  },
  "toc": {
   "base_numbering": 1,
   "nav_menu": {},
   "number_sections": true,
   "sideBar": true,
   "skip_h1_title": true,
   "title_cell": "Table of Contents",
   "title_sidebar": "Contents",
   "toc_cell": false,
   "toc_position": {},
   "toc_section_display": true,
   "toc_window_display": false
  }
 },
 "nbformat": 4,
 "nbformat_minor": 2
}
