{
 "cells": [
  {
   "cell_type": "markdown",
   "id": "cbc2c4f8",
   "metadata": {},
   "source": [
    "# Проект по SQL "
   ]
  },
  {
   "cell_type": "markdown",
   "id": "5efcc93a",
   "metadata": {},
   "source": [
    "### Описание проекта\n",
    "\n",
    "**Цель исследования** - получить данные для формулировки ценностного предложения для крупного сервиса для чтения книг по подписке.\n",
    "\n",
    "**Задача** - проанализировать базу данных (информация о книгах, издательствах, авторах, а также пользовательские обзоры книг).\n",
    "\n",
    "**Шаги для анализа базы данных:**\n",
    "\n",
    "- Посчитать, сколько книг вышло после 1 января 2000 года;\n",
    "\n",
    "- Для каждой книги посчитать количество обзоров и среднюю оценку;\n",
    "\n",
    "- Определить издательство, которое выпустило наибольшее число книг толще 50 страниц — так мы исключим из анализа брошюры;\n",
    "\n",
    "- Определить автора с самой высокой средней оценкой книг — учитывать только книги с 50 и более оценками;\n",
    "\n",
    "- Посчитайть среднее количество обзоров от пользователей, которые поставили больше 50 оценок."
   ]
  },
  {
   "cell_type": "markdown",
   "id": "af94641b",
   "metadata": {},
   "source": [
    "## Подключение к базе данных"
   ]
  },
  {
   "cell_type": "code",
   "execution_count": 1,
   "id": "861ddcbc",
   "metadata": {},
   "outputs": [],
   "source": [
    "# импортируем библиотеки\n",
    "import pandas as pd\n",
    "from sqlalchemy import create_engine\n",
    "\n",
    "# устанавливаем параметры\n",
    "db_config = {'user': 'praktikum_student', # имя пользователя\n",
    "'pwd': 'Sdf4$2;d-d30pp', # пароль\n",
    "'host': 'rc1b-wcoijxj3yxfsf3fs.mdb.yandexcloud.net',\n",
    "'port': 6432, # порт подключения\n",
    "'db': 'data-analyst-final-project-db'} # название базы данных\n",
    "connection_string = 'postgresql://{}:{}@{}:{}/{}'.format(db_config['user'],\n",
    " db_config['pwd'],\n",
    " db_config['host'],\n",
    " db_config['port'],\n",
    " db_config['db'])\n",
    "\n",
    "# сохраняем коннектор\n",
    "engine = create_engine(connection_string, connect_args={'sslmode':'require'})"
   ]
  },
  {
   "cell_type": "markdown",
   "id": "49974ef8",
   "metadata": {},
   "source": [
    "## Загрузка данных и изучение общей информации"
   ]
  },
  {
   "cell_type": "code",
   "execution_count": 2,
   "id": "cdf8e915",
   "metadata": {},
   "outputs": [
    {
     "data": {
      "text/html": [
       "<div>\n",
       "<style scoped>\n",
       "    .dataframe tbody tr th:only-of-type {\n",
       "        vertical-align: middle;\n",
       "    }\n",
       "\n",
       "    .dataframe tbody tr th {\n",
       "        vertical-align: top;\n",
       "    }\n",
       "\n",
       "    .dataframe thead th {\n",
       "        text-align: right;\n",
       "    }\n",
       "</style>\n",
       "<table border=\"1\" class=\"dataframe\">\n",
       "  <thead>\n",
       "    <tr style=\"text-align: right;\">\n",
       "      <th></th>\n",
       "      <th>book_id</th>\n",
       "      <th>author_id</th>\n",
       "      <th>title</th>\n",
       "      <th>num_pages</th>\n",
       "      <th>publication_date</th>\n",
       "      <th>publisher_id</th>\n",
       "    </tr>\n",
       "  </thead>\n",
       "  <tbody>\n",
       "    <tr>\n",
       "      <th>0</th>\n",
       "      <td>1</td>\n",
       "      <td>546</td>\n",
       "      <td>'Salem's Lot</td>\n",
       "      <td>594</td>\n",
       "      <td>2005-11-01</td>\n",
       "      <td>93</td>\n",
       "    </tr>\n",
       "    <tr>\n",
       "      <th>1</th>\n",
       "      <td>2</td>\n",
       "      <td>465</td>\n",
       "      <td>1 000 Places to See Before You Die</td>\n",
       "      <td>992</td>\n",
       "      <td>2003-05-22</td>\n",
       "      <td>336</td>\n",
       "    </tr>\n",
       "    <tr>\n",
       "      <th>2</th>\n",
       "      <td>3</td>\n",
       "      <td>407</td>\n",
       "      <td>13 Little Blue Envelopes (Little Blue Envelope...</td>\n",
       "      <td>322</td>\n",
       "      <td>2010-12-21</td>\n",
       "      <td>135</td>\n",
       "    </tr>\n",
       "    <tr>\n",
       "      <th>3</th>\n",
       "      <td>4</td>\n",
       "      <td>82</td>\n",
       "      <td>1491: New Revelations of the Americas Before C...</td>\n",
       "      <td>541</td>\n",
       "      <td>2006-10-10</td>\n",
       "      <td>309</td>\n",
       "    </tr>\n",
       "    <tr>\n",
       "      <th>4</th>\n",
       "      <td>5</td>\n",
       "      <td>125</td>\n",
       "      <td>1776</td>\n",
       "      <td>386</td>\n",
       "      <td>2006-07-04</td>\n",
       "      <td>268</td>\n",
       "    </tr>\n",
       "    <tr>\n",
       "      <th>...</th>\n",
       "      <td>...</td>\n",
       "      <td>...</td>\n",
       "      <td>...</td>\n",
       "      <td>...</td>\n",
       "      <td>...</td>\n",
       "      <td>...</td>\n",
       "    </tr>\n",
       "    <tr>\n",
       "      <th>995</th>\n",
       "      <td>996</td>\n",
       "      <td>571</td>\n",
       "      <td>Wyrd Sisters (Discworld  #6; Witches #2)</td>\n",
       "      <td>265</td>\n",
       "      <td>2001-02-06</td>\n",
       "      <td>147</td>\n",
       "    </tr>\n",
       "    <tr>\n",
       "      <th>996</th>\n",
       "      <td>997</td>\n",
       "      <td>454</td>\n",
       "      <td>Xenocide (Ender's Saga  #3)</td>\n",
       "      <td>592</td>\n",
       "      <td>1996-07-15</td>\n",
       "      <td>297</td>\n",
       "    </tr>\n",
       "    <tr>\n",
       "      <th>997</th>\n",
       "      <td>998</td>\n",
       "      <td>201</td>\n",
       "      <td>Year of Wonders</td>\n",
       "      <td>358</td>\n",
       "      <td>2002-04-30</td>\n",
       "      <td>212</td>\n",
       "    </tr>\n",
       "    <tr>\n",
       "      <th>998</th>\n",
       "      <td>999</td>\n",
       "      <td>94</td>\n",
       "      <td>You Suck (A Love Story  #2)</td>\n",
       "      <td>328</td>\n",
       "      <td>2007-01-16</td>\n",
       "      <td>331</td>\n",
       "    </tr>\n",
       "    <tr>\n",
       "      <th>999</th>\n",
       "      <td>1000</td>\n",
       "      <td>509</td>\n",
       "      <td>Zen and the Art of Motorcycle Maintenance: An ...</td>\n",
       "      <td>540</td>\n",
       "      <td>2006-04-25</td>\n",
       "      <td>143</td>\n",
       "    </tr>\n",
       "  </tbody>\n",
       "</table>\n",
       "<p>1000 rows × 6 columns</p>\n",
       "</div>"
      ],
      "text/plain": [
       "     book_id  author_id                                              title  \\\n",
       "0          1        546                                       'Salem's Lot   \n",
       "1          2        465                 1 000 Places to See Before You Die   \n",
       "2          3        407  13 Little Blue Envelopes (Little Blue Envelope...   \n",
       "3          4         82  1491: New Revelations of the Americas Before C...   \n",
       "4          5        125                                               1776   \n",
       "..       ...        ...                                                ...   \n",
       "995      996        571           Wyrd Sisters (Discworld  #6; Witches #2)   \n",
       "996      997        454                        Xenocide (Ender's Saga  #3)   \n",
       "997      998        201                                    Year of Wonders   \n",
       "998      999         94                        You Suck (A Love Story  #2)   \n",
       "999     1000        509  Zen and the Art of Motorcycle Maintenance: An ...   \n",
       "\n",
       "     num_pages publication_date  publisher_id  \n",
       "0          594       2005-11-01            93  \n",
       "1          992       2003-05-22           336  \n",
       "2          322       2010-12-21           135  \n",
       "3          541       2006-10-10           309  \n",
       "4          386       2006-07-04           268  \n",
       "..         ...              ...           ...  \n",
       "995        265       2001-02-06           147  \n",
       "996        592       1996-07-15           297  \n",
       "997        358       2002-04-30           212  \n",
       "998        328       2007-01-16           331  \n",
       "999        540       2006-04-25           143  \n",
       "\n",
       "[1000 rows x 6 columns]"
      ]
     },
     "execution_count": 2,
     "metadata": {},
     "output_type": "execute_result"
    }
   ],
   "source": [
    "# таблица с данными о книгах\n",
    "query = ''' SELECT *\n",
    "        FROM books ''' \n",
    "\n",
    "# выводим результат\n",
    "pd.io.sql.read_sql(query, con = engine) "
   ]
  },
  {
   "cell_type": "markdown",
   "id": "a4de50b1",
   "metadata": {},
   "source": [
    "<div class=\"alert alert-info\">\n",
    "    \n",
    "**📝 Комментарий Маши**\n",
    "    \n",
    "База содержит информацию о 1000 книгах (идентификатор, название, кол-во страниц,дата публикации и идентификатор издательства).\n",
    "    \n",
    "</div>"
   ]
  },
  {
   "cell_type": "code",
   "execution_count": 3,
   "id": "9720355e",
   "metadata": {},
   "outputs": [
    {
     "data": {
      "text/html": [
       "<div>\n",
       "<style scoped>\n",
       "    .dataframe tbody tr th:only-of-type {\n",
       "        vertical-align: middle;\n",
       "    }\n",
       "\n",
       "    .dataframe tbody tr th {\n",
       "        vertical-align: top;\n",
       "    }\n",
       "\n",
       "    .dataframe thead th {\n",
       "        text-align: right;\n",
       "    }\n",
       "</style>\n",
       "<table border=\"1\" class=\"dataframe\">\n",
       "  <thead>\n",
       "    <tr style=\"text-align: right;\">\n",
       "      <th></th>\n",
       "      <th>author_id</th>\n",
       "      <th>author</th>\n",
       "    </tr>\n",
       "  </thead>\n",
       "  <tbody>\n",
       "    <tr>\n",
       "      <th>0</th>\n",
       "      <td>1</td>\n",
       "      <td>A.S. Byatt</td>\n",
       "    </tr>\n",
       "    <tr>\n",
       "      <th>1</th>\n",
       "      <td>2</td>\n",
       "      <td>Aesop/Laura Harris/Laura Gibbs</td>\n",
       "    </tr>\n",
       "    <tr>\n",
       "      <th>2</th>\n",
       "      <td>3</td>\n",
       "      <td>Agatha Christie</td>\n",
       "    </tr>\n",
       "    <tr>\n",
       "      <th>3</th>\n",
       "      <td>4</td>\n",
       "      <td>Alan Brennert</td>\n",
       "    </tr>\n",
       "    <tr>\n",
       "      <th>4</th>\n",
       "      <td>5</td>\n",
       "      <td>Alan Moore/David   Lloyd</td>\n",
       "    </tr>\n",
       "    <tr>\n",
       "      <th>...</th>\n",
       "      <td>...</td>\n",
       "      <td>...</td>\n",
       "    </tr>\n",
       "    <tr>\n",
       "      <th>631</th>\n",
       "      <td>632</td>\n",
       "      <td>William Strunk Jr./E.B. White</td>\n",
       "    </tr>\n",
       "    <tr>\n",
       "      <th>632</th>\n",
       "      <td>633</td>\n",
       "      <td>Zadie Smith</td>\n",
       "    </tr>\n",
       "    <tr>\n",
       "      <th>633</th>\n",
       "      <td>634</td>\n",
       "      <td>Zilpha Keatley Snyder</td>\n",
       "    </tr>\n",
       "    <tr>\n",
       "      <th>634</th>\n",
       "      <td>635</td>\n",
       "      <td>Zora Neale Hurston</td>\n",
       "    </tr>\n",
       "    <tr>\n",
       "      <th>635</th>\n",
       "      <td>636</td>\n",
       "      <td>Åsne Seierstad/Ingrid Christopherson</td>\n",
       "    </tr>\n",
       "  </tbody>\n",
       "</table>\n",
       "<p>636 rows × 2 columns</p>\n",
       "</div>"
      ],
      "text/plain": [
       "     author_id                                author\n",
       "0            1                            A.S. Byatt\n",
       "1            2        Aesop/Laura Harris/Laura Gibbs\n",
       "2            3                       Agatha Christie\n",
       "3            4                         Alan Brennert\n",
       "4            5              Alan Moore/David   Lloyd\n",
       "..         ...                                   ...\n",
       "631        632         William Strunk Jr./E.B. White\n",
       "632        633                           Zadie Smith\n",
       "633        634                 Zilpha Keatley Snyder\n",
       "634        635                    Zora Neale Hurston\n",
       "635        636  Åsne Seierstad/Ingrid Christopherson\n",
       "\n",
       "[636 rows x 2 columns]"
      ]
     },
     "execution_count": 3,
     "metadata": {},
     "output_type": "execute_result"
    }
   ],
   "source": [
    "# таблица с данными об авторах\n",
    "query = ''' SELECT *\n",
    "        FROM authors ''' \n",
    "\n",
    "# выводим результат\n",
    "pd.io.sql.read_sql(query, con = engine) "
   ]
  },
  {
   "cell_type": "markdown",
   "id": "9a9d9ee6",
   "metadata": {},
   "source": [
    "<div class=\"alert alert-info\">\n",
    "    \n",
    "**📝 Комментарий Маши**\n",
    "    \n",
    "База содержит информацию о 636 авторах (их идентификатор и имя).\n",
    "    \n",
    "</div>"
   ]
  },
  {
   "cell_type": "code",
   "execution_count": 4,
   "id": "bb36f5a8",
   "metadata": {},
   "outputs": [
    {
     "data": {
      "text/html": [
       "<div>\n",
       "<style scoped>\n",
       "    .dataframe tbody tr th:only-of-type {\n",
       "        vertical-align: middle;\n",
       "    }\n",
       "\n",
       "    .dataframe tbody tr th {\n",
       "        vertical-align: top;\n",
       "    }\n",
       "\n",
       "    .dataframe thead th {\n",
       "        text-align: right;\n",
       "    }\n",
       "</style>\n",
       "<table border=\"1\" class=\"dataframe\">\n",
       "  <thead>\n",
       "    <tr style=\"text-align: right;\">\n",
       "      <th></th>\n",
       "      <th>publisher_id</th>\n",
       "      <th>publisher</th>\n",
       "    </tr>\n",
       "  </thead>\n",
       "  <tbody>\n",
       "    <tr>\n",
       "      <th>0</th>\n",
       "      <td>1</td>\n",
       "      <td>Ace</td>\n",
       "    </tr>\n",
       "    <tr>\n",
       "      <th>1</th>\n",
       "      <td>2</td>\n",
       "      <td>Ace Book</td>\n",
       "    </tr>\n",
       "    <tr>\n",
       "      <th>2</th>\n",
       "      <td>3</td>\n",
       "      <td>Ace Books</td>\n",
       "    </tr>\n",
       "    <tr>\n",
       "      <th>3</th>\n",
       "      <td>4</td>\n",
       "      <td>Ace Hardcover</td>\n",
       "    </tr>\n",
       "    <tr>\n",
       "      <th>4</th>\n",
       "      <td>5</td>\n",
       "      <td>Addison Wesley Publishing Company</td>\n",
       "    </tr>\n",
       "    <tr>\n",
       "      <th>...</th>\n",
       "      <td>...</td>\n",
       "      <td>...</td>\n",
       "    </tr>\n",
       "    <tr>\n",
       "      <th>335</th>\n",
       "      <td>336</td>\n",
       "      <td>Workman Publishing Company</td>\n",
       "    </tr>\n",
       "    <tr>\n",
       "      <th>336</th>\n",
       "      <td>337</td>\n",
       "      <td>Wyatt Book</td>\n",
       "    </tr>\n",
       "    <tr>\n",
       "      <th>337</th>\n",
       "      <td>338</td>\n",
       "      <td>Yale University Press</td>\n",
       "    </tr>\n",
       "    <tr>\n",
       "      <th>338</th>\n",
       "      <td>339</td>\n",
       "      <td>Yearling</td>\n",
       "    </tr>\n",
       "    <tr>\n",
       "      <th>339</th>\n",
       "      <td>340</td>\n",
       "      <td>Yearling Books</td>\n",
       "    </tr>\n",
       "  </tbody>\n",
       "</table>\n",
       "<p>340 rows × 2 columns</p>\n",
       "</div>"
      ],
      "text/plain": [
       "     publisher_id                          publisher\n",
       "0               1                                Ace\n",
       "1               2                           Ace Book\n",
       "2               3                          Ace Books\n",
       "3               4                      Ace Hardcover\n",
       "4               5  Addison Wesley Publishing Company\n",
       "..            ...                                ...\n",
       "335           336         Workman Publishing Company\n",
       "336           337                         Wyatt Book\n",
       "337           338              Yale University Press\n",
       "338           339                           Yearling\n",
       "339           340                     Yearling Books\n",
       "\n",
       "[340 rows x 2 columns]"
      ]
     },
     "execution_count": 4,
     "metadata": {},
     "output_type": "execute_result"
    }
   ],
   "source": [
    "# таблица с данными об издательствах\n",
    "query = ''' SELECT *\n",
    "        FROM publishers ''' \n",
    "\n",
    "# выводим результат\n",
    "pd.io.sql.read_sql(query, con = engine) "
   ]
  },
  {
   "cell_type": "markdown",
   "id": "4a1cecde",
   "metadata": {},
   "source": [
    "<div class=\"alert alert-info\">\n",
    "    \n",
    "**📝 Комментарий Маши**\n",
    "    \n",
    "База содержит информацию о 340 издательства (их идентификатор и название).\n",
    "    \n",
    "</div>"
   ]
  },
  {
   "cell_type": "code",
   "execution_count": 5,
   "id": "8e38373c",
   "metadata": {},
   "outputs": [
    {
     "data": {
      "text/html": [
       "<div>\n",
       "<style scoped>\n",
       "    .dataframe tbody tr th:only-of-type {\n",
       "        vertical-align: middle;\n",
       "    }\n",
       "\n",
       "    .dataframe tbody tr th {\n",
       "        vertical-align: top;\n",
       "    }\n",
       "\n",
       "    .dataframe thead th {\n",
       "        text-align: right;\n",
       "    }\n",
       "</style>\n",
       "<table border=\"1\" class=\"dataframe\">\n",
       "  <thead>\n",
       "    <tr style=\"text-align: right;\">\n",
       "      <th></th>\n",
       "      <th>rating_id</th>\n",
       "      <th>book_id</th>\n",
       "      <th>username</th>\n",
       "      <th>rating</th>\n",
       "    </tr>\n",
       "  </thead>\n",
       "  <tbody>\n",
       "    <tr>\n",
       "      <th>0</th>\n",
       "      <td>1</td>\n",
       "      <td>1</td>\n",
       "      <td>ryanfranco</td>\n",
       "      <td>4</td>\n",
       "    </tr>\n",
       "    <tr>\n",
       "      <th>1</th>\n",
       "      <td>2</td>\n",
       "      <td>1</td>\n",
       "      <td>grantpatricia</td>\n",
       "      <td>2</td>\n",
       "    </tr>\n",
       "    <tr>\n",
       "      <th>2</th>\n",
       "      <td>3</td>\n",
       "      <td>1</td>\n",
       "      <td>brandtandrea</td>\n",
       "      <td>5</td>\n",
       "    </tr>\n",
       "    <tr>\n",
       "      <th>3</th>\n",
       "      <td>4</td>\n",
       "      <td>2</td>\n",
       "      <td>lorichen</td>\n",
       "      <td>3</td>\n",
       "    </tr>\n",
       "    <tr>\n",
       "      <th>4</th>\n",
       "      <td>5</td>\n",
       "      <td>2</td>\n",
       "      <td>mariokeller</td>\n",
       "      <td>2</td>\n",
       "    </tr>\n",
       "    <tr>\n",
       "      <th>...</th>\n",
       "      <td>...</td>\n",
       "      <td>...</td>\n",
       "      <td>...</td>\n",
       "      <td>...</td>\n",
       "    </tr>\n",
       "    <tr>\n",
       "      <th>6451</th>\n",
       "      <td>6452</td>\n",
       "      <td>1000</td>\n",
       "      <td>carolrodriguez</td>\n",
       "      <td>4</td>\n",
       "    </tr>\n",
       "    <tr>\n",
       "      <th>6452</th>\n",
       "      <td>6453</td>\n",
       "      <td>1000</td>\n",
       "      <td>wendy18</td>\n",
       "      <td>4</td>\n",
       "    </tr>\n",
       "    <tr>\n",
       "      <th>6453</th>\n",
       "      <td>6454</td>\n",
       "      <td>1000</td>\n",
       "      <td>jarvispaul</td>\n",
       "      <td>5</td>\n",
       "    </tr>\n",
       "    <tr>\n",
       "      <th>6454</th>\n",
       "      <td>6455</td>\n",
       "      <td>1000</td>\n",
       "      <td>zross</td>\n",
       "      <td>2</td>\n",
       "    </tr>\n",
       "    <tr>\n",
       "      <th>6455</th>\n",
       "      <td>6456</td>\n",
       "      <td>1000</td>\n",
       "      <td>fharris</td>\n",
       "      <td>5</td>\n",
       "    </tr>\n",
       "  </tbody>\n",
       "</table>\n",
       "<p>6456 rows × 4 columns</p>\n",
       "</div>"
      ],
      "text/plain": [
       "      rating_id  book_id        username  rating\n",
       "0             1        1      ryanfranco       4\n",
       "1             2        1   grantpatricia       2\n",
       "2             3        1    brandtandrea       5\n",
       "3             4        2        lorichen       3\n",
       "4             5        2     mariokeller       2\n",
       "...         ...      ...             ...     ...\n",
       "6451       6452     1000  carolrodriguez       4\n",
       "6452       6453     1000         wendy18       4\n",
       "6453       6454     1000      jarvispaul       5\n",
       "6454       6455     1000           zross       2\n",
       "6455       6456     1000         fharris       5\n",
       "\n",
       "[6456 rows x 4 columns]"
      ]
     },
     "execution_count": 5,
     "metadata": {},
     "output_type": "execute_result"
    }
   ],
   "source": [
    "# таблица с данными о пользовательских оценках книг\n",
    "query = ''' SELECT *\n",
    "        FROM ratings ''' \n",
    "\n",
    "# выводим результат\n",
    "pd.io.sql.read_sql(query, con = engine) "
   ]
  },
  {
   "cell_type": "markdown",
   "id": "5d75938b",
   "metadata": {},
   "source": [
    "<div class=\"alert alert-info\">\n",
    "    \n",
    "**📝 Комментарий Маши**\n",
    "    \n",
    "База содержит информацию о 3456 пользовательскх оценках книг (идентификатор оценки, идентификатор книги, имя пользователя и оценка книги).\n",
    "    \n",
    "</div>"
   ]
  },
  {
   "cell_type": "code",
   "execution_count": 6,
   "id": "eb1e17b6",
   "metadata": {},
   "outputs": [
    {
     "data": {
      "text/html": [
       "<div>\n",
       "<style scoped>\n",
       "    .dataframe tbody tr th:only-of-type {\n",
       "        vertical-align: middle;\n",
       "    }\n",
       "\n",
       "    .dataframe tbody tr th {\n",
       "        vertical-align: top;\n",
       "    }\n",
       "\n",
       "    .dataframe thead th {\n",
       "        text-align: right;\n",
       "    }\n",
       "</style>\n",
       "<table border=\"1\" class=\"dataframe\">\n",
       "  <thead>\n",
       "    <tr style=\"text-align: right;\">\n",
       "      <th></th>\n",
       "      <th>review_id</th>\n",
       "      <th>book_id</th>\n",
       "      <th>username</th>\n",
       "      <th>text</th>\n",
       "    </tr>\n",
       "  </thead>\n",
       "  <tbody>\n",
       "    <tr>\n",
       "      <th>0</th>\n",
       "      <td>1</td>\n",
       "      <td>1</td>\n",
       "      <td>brandtandrea</td>\n",
       "      <td>Mention society tell send professor analysis. ...</td>\n",
       "    </tr>\n",
       "    <tr>\n",
       "      <th>1</th>\n",
       "      <td>2</td>\n",
       "      <td>1</td>\n",
       "      <td>ryanfranco</td>\n",
       "      <td>Foot glass pretty audience hit themselves. Amo...</td>\n",
       "    </tr>\n",
       "    <tr>\n",
       "      <th>2</th>\n",
       "      <td>3</td>\n",
       "      <td>2</td>\n",
       "      <td>lorichen</td>\n",
       "      <td>Listen treat keep worry. Miss husband tax but ...</td>\n",
       "    </tr>\n",
       "    <tr>\n",
       "      <th>3</th>\n",
       "      <td>4</td>\n",
       "      <td>3</td>\n",
       "      <td>johnsonamanda</td>\n",
       "      <td>Finally month interesting blue could nature cu...</td>\n",
       "    </tr>\n",
       "    <tr>\n",
       "      <th>4</th>\n",
       "      <td>5</td>\n",
       "      <td>3</td>\n",
       "      <td>scotttamara</td>\n",
       "      <td>Nation purpose heavy give wait song will. List...</td>\n",
       "    </tr>\n",
       "    <tr>\n",
       "      <th>...</th>\n",
       "      <td>...</td>\n",
       "      <td>...</td>\n",
       "      <td>...</td>\n",
       "      <td>...</td>\n",
       "    </tr>\n",
       "    <tr>\n",
       "      <th>2788</th>\n",
       "      <td>2789</td>\n",
       "      <td>999</td>\n",
       "      <td>martinadam</td>\n",
       "      <td>Later hospital turn easy community. Fact same ...</td>\n",
       "    </tr>\n",
       "    <tr>\n",
       "      <th>2789</th>\n",
       "      <td>2790</td>\n",
       "      <td>1000</td>\n",
       "      <td>wknight</td>\n",
       "      <td>Change lose answer close pressure. Spend so now.</td>\n",
       "    </tr>\n",
       "    <tr>\n",
       "      <th>2790</th>\n",
       "      <td>2791</td>\n",
       "      <td>1000</td>\n",
       "      <td>carolrodriguez</td>\n",
       "      <td>Authority go who television entire hair guy po...</td>\n",
       "    </tr>\n",
       "    <tr>\n",
       "      <th>2791</th>\n",
       "      <td>2792</td>\n",
       "      <td>1000</td>\n",
       "      <td>wendy18</td>\n",
       "      <td>Or western offer wonder ask. More hear phone f...</td>\n",
       "    </tr>\n",
       "    <tr>\n",
       "      <th>2792</th>\n",
       "      <td>2793</td>\n",
       "      <td>1000</td>\n",
       "      <td>jarvispaul</td>\n",
       "      <td>Republican staff bit eat material measure plan...</td>\n",
       "    </tr>\n",
       "  </tbody>\n",
       "</table>\n",
       "<p>2793 rows × 4 columns</p>\n",
       "</div>"
      ],
      "text/plain": [
       "      review_id  book_id        username  \\\n",
       "0             1        1    brandtandrea   \n",
       "1             2        1      ryanfranco   \n",
       "2             3        2        lorichen   \n",
       "3             4        3   johnsonamanda   \n",
       "4             5        3     scotttamara   \n",
       "...         ...      ...             ...   \n",
       "2788       2789      999      martinadam   \n",
       "2789       2790     1000         wknight   \n",
       "2790       2791     1000  carolrodriguez   \n",
       "2791       2792     1000         wendy18   \n",
       "2792       2793     1000      jarvispaul   \n",
       "\n",
       "                                                   text  \n",
       "0     Mention society tell send professor analysis. ...  \n",
       "1     Foot glass pretty audience hit themselves. Amo...  \n",
       "2     Listen treat keep worry. Miss husband tax but ...  \n",
       "3     Finally month interesting blue could nature cu...  \n",
       "4     Nation purpose heavy give wait song will. List...  \n",
       "...                                                 ...  \n",
       "2788  Later hospital turn easy community. Fact same ...  \n",
       "2789   Change lose answer close pressure. Spend so now.  \n",
       "2790  Authority go who television entire hair guy po...  \n",
       "2791  Or western offer wonder ask. More hear phone f...  \n",
       "2792  Republican staff bit eat material measure plan...  \n",
       "\n",
       "[2793 rows x 4 columns]"
      ]
     },
     "execution_count": 6,
     "metadata": {},
     "output_type": "execute_result"
    }
   ],
   "source": [
    "# таблица с данными о пользовательских обзорах на книги\n",
    "query = ''' SELECT *\n",
    "        FROM reviews ''' \n",
    "\n",
    "# выводим результат\n",
    "pd.io.sql.read_sql(query, con = engine) "
   ]
  },
  {
   "cell_type": "markdown",
   "id": "7d55e9eb",
   "metadata": {},
   "source": [
    "<div class=\"alert alert-info\">\n",
    "    \n",
    "**📝 Комментарий Маши**\n",
    "    \n",
    "База содержит информацию о 2793 пользовательских обзорах на книги (идентификатор обзора, идентификатор книги, имя пользователя и текст обзора).\n",
    "    \n",
    "</div>"
   ]
  },
  {
   "cell_type": "markdown",
   "id": "a70a337c",
   "metadata": {},
   "source": [
    "## Исследовательский анализ данных"
   ]
  },
  {
   "cell_type": "markdown",
   "id": "1bff2bb9",
   "metadata": {},
   "source": [
    "### Посчитать, сколько книг вышло после 1 января 2000 года;"
   ]
  },
  {
   "cell_type": "code",
   "execution_count": 7,
   "id": "12d9350e",
   "metadata": {},
   "outputs": [
    {
     "data": {
      "text/html": [
       "<div>\n",
       "<style scoped>\n",
       "    .dataframe tbody tr th:only-of-type {\n",
       "        vertical-align: middle;\n",
       "    }\n",
       "\n",
       "    .dataframe tbody tr th {\n",
       "        vertical-align: top;\n",
       "    }\n",
       "\n",
       "    .dataframe thead th {\n",
       "        text-align: right;\n",
       "    }\n",
       "</style>\n",
       "<table border=\"1\" class=\"dataframe\">\n",
       "  <thead>\n",
       "    <tr style=\"text-align: right;\">\n",
       "      <th></th>\n",
       "      <th>count</th>\n",
       "    </tr>\n",
       "  </thead>\n",
       "  <tbody>\n",
       "    <tr>\n",
       "      <th>0</th>\n",
       "      <td>819</td>\n",
       "    </tr>\n",
       "  </tbody>\n",
       "</table>\n",
       "</div>"
      ],
      "text/plain": [
       "   count\n",
       "0    819"
      ]
     },
     "execution_count": 7,
     "metadata": {},
     "output_type": "execute_result"
    }
   ],
   "source": [
    "# формулировка запроса\n",
    "query = ''' SELECT COUNT(book_id)\n",
    "        FROM books\n",
    "        WHERE publication_date > '2000-01-01'  '''\n",
    "\n",
    "# выводим результат\n",
    "pd.io.sql.read_sql(query, con = engine) "
   ]
  },
  {
   "cell_type": "markdown",
   "id": "ad32de27",
   "metadata": {},
   "source": [
    "<div class=\"alert alert-info\">\n",
    "    \n",
    "**📝 Комментарий Маши**\n",
    "    \n",
    "В базе 819 книг, которые вышли после 1 января 2000 года. \n",
    "    \n",
    "</div>"
   ]
  },
  {
   "cell_type": "markdown",
   "id": "102028af",
   "metadata": {},
   "source": [
    "### Для каждой книги посчитать количество обзоров и среднюю оценку;"
   ]
  },
  {
   "cell_type": "code",
   "execution_count": 8,
   "id": "bfd7d612",
   "metadata": {},
   "outputs": [
    {
     "data": {
      "text/html": [
       "<div>\n",
       "<style scoped>\n",
       "    .dataframe tbody tr th:only-of-type {\n",
       "        vertical-align: middle;\n",
       "    }\n",
       "\n",
       "    .dataframe tbody tr th {\n",
       "        vertical-align: top;\n",
       "    }\n",
       "\n",
       "    .dataframe thead th {\n",
       "        text-align: right;\n",
       "    }\n",
       "</style>\n",
       "<table border=\"1\" class=\"dataframe\">\n",
       "  <thead>\n",
       "    <tr style=\"text-align: right;\">\n",
       "      <th></th>\n",
       "      <th>title</th>\n",
       "      <th>review_count</th>\n",
       "      <th>avg_rat</th>\n",
       "    </tr>\n",
       "  </thead>\n",
       "  <tbody>\n",
       "    <tr>\n",
       "      <th>0</th>\n",
       "      <td>Twilight (Twilight  #1)</td>\n",
       "      <td>7</td>\n",
       "      <td>3.662500</td>\n",
       "    </tr>\n",
       "    <tr>\n",
       "      <th>1</th>\n",
       "      <td>Water for Elephants</td>\n",
       "      <td>6</td>\n",
       "      <td>3.977273</td>\n",
       "    </tr>\n",
       "    <tr>\n",
       "      <th>2</th>\n",
       "      <td>The Glass Castle</td>\n",
       "      <td>6</td>\n",
       "      <td>4.206897</td>\n",
       "    </tr>\n",
       "    <tr>\n",
       "      <th>3</th>\n",
       "      <td>Harry Potter and the Prisoner of Azkaban (Harr...</td>\n",
       "      <td>6</td>\n",
       "      <td>4.414634</td>\n",
       "    </tr>\n",
       "    <tr>\n",
       "      <th>4</th>\n",
       "      <td>The Curious Incident of the Dog in the Night-Time</td>\n",
       "      <td>6</td>\n",
       "      <td>4.081081</td>\n",
       "    </tr>\n",
       "    <tr>\n",
       "      <th>...</th>\n",
       "      <td>...</td>\n",
       "      <td>...</td>\n",
       "      <td>...</td>\n",
       "    </tr>\n",
       "    <tr>\n",
       "      <th>995</th>\n",
       "      <td>Anne Rice's The Vampire Lestat: A Graphic Novel</td>\n",
       "      <td>0</td>\n",
       "      <td>3.666667</td>\n",
       "    </tr>\n",
       "    <tr>\n",
       "      <th>996</th>\n",
       "      <td>The Natural Way to Draw</td>\n",
       "      <td>0</td>\n",
       "      <td>3.000000</td>\n",
       "    </tr>\n",
       "    <tr>\n",
       "      <th>997</th>\n",
       "      <td>The Cat in the Hat and Other Dr. Seuss Favorites</td>\n",
       "      <td>0</td>\n",
       "      <td>5.000000</td>\n",
       "    </tr>\n",
       "    <tr>\n",
       "      <th>998</th>\n",
       "      <td>Essential Tales and Poems</td>\n",
       "      <td>0</td>\n",
       "      <td>4.000000</td>\n",
       "    </tr>\n",
       "    <tr>\n",
       "      <th>999</th>\n",
       "      <td>Disney's Beauty and the Beast (A Little Golden...</td>\n",
       "      <td>0</td>\n",
       "      <td>4.000000</td>\n",
       "    </tr>\n",
       "  </tbody>\n",
       "</table>\n",
       "<p>1000 rows × 3 columns</p>\n",
       "</div>"
      ],
      "text/plain": [
       "                                                 title  review_count   avg_rat\n",
       "0                              Twilight (Twilight  #1)             7  3.662500\n",
       "1                                  Water for Elephants             6  3.977273\n",
       "2                                     The Glass Castle             6  4.206897\n",
       "3    Harry Potter and the Prisoner of Azkaban (Harr...             6  4.414634\n",
       "4    The Curious Incident of the Dog in the Night-Time             6  4.081081\n",
       "..                                                 ...           ...       ...\n",
       "995    Anne Rice's The Vampire Lestat: A Graphic Novel             0  3.666667\n",
       "996                            The Natural Way to Draw             0  3.000000\n",
       "997   The Cat in the Hat and Other Dr. Seuss Favorites             0  5.000000\n",
       "998                          Essential Tales and Poems             0  4.000000\n",
       "999  Disney's Beauty and the Beast (A Little Golden...             0  4.000000\n",
       "\n",
       "[1000 rows x 3 columns]"
      ]
     },
     "execution_count": 8,
     "metadata": {},
     "output_type": "execute_result"
    }
   ],
   "source": [
    "# формулировка запроса\n",
    "query = ''' SELECT b.title,\n",
    "                   COUNT(DISTINCT r.review_id) AS review_count,\n",
    "                   AVG(rat.rating) AS avg_rat\n",
    "            FROM books AS b\n",
    "            LEFT JOIN ratings AS rat ON b.book_id = rat.book_id\n",
    "            LEFT JOIN reviews AS r ON b.book_id = r.book_id\n",
    "            GROUP BY b.book_id\n",
    "            ORDER BY review_count DESC'''\n",
    "\n",
    "# выводим результат\n",
    "pd.io.sql.read_sql(query, con = engine) "
   ]
  },
  {
   "cell_type": "markdown",
   "id": "07fd33f6",
   "metadata": {},
   "source": [
    "<div class=\"alert alert-info\">\n",
    "    \n",
    "**📝 Комментарий Маши**\n",
    "    \n",
    "Для каждой книги посчитаны количество обзоров и средняя оценка. Таблица отсортирована по количеству отзывов. Больше всего отзывов у Twilight (Twilight #1) (7).\n",
    "    \n",
    "</div>"
   ]
  },
  {
   "cell_type": "markdown",
   "id": "e63ded0a",
   "metadata": {},
   "source": [
    "### Определить издательство, которое выпустило наибольшее число книг толще 50 страниц — так мы исключим из анализа брошюры;"
   ]
  },
  {
   "cell_type": "code",
   "execution_count": 9,
   "id": "69bd3ea1",
   "metadata": {},
   "outputs": [
    {
     "data": {
      "text/html": [
       "<div>\n",
       "<style scoped>\n",
       "    .dataframe tbody tr th:only-of-type {\n",
       "        vertical-align: middle;\n",
       "    }\n",
       "\n",
       "    .dataframe tbody tr th {\n",
       "        vertical-align: top;\n",
       "    }\n",
       "\n",
       "    .dataframe thead th {\n",
       "        text-align: right;\n",
       "    }\n",
       "</style>\n",
       "<table border=\"1\" class=\"dataframe\">\n",
       "  <thead>\n",
       "    <tr style=\"text-align: right;\">\n",
       "      <th></th>\n",
       "      <th>publisher</th>\n",
       "      <th>count</th>\n",
       "    </tr>\n",
       "  </thead>\n",
       "  <tbody>\n",
       "    <tr>\n",
       "      <th>0</th>\n",
       "      <td>Penguin Books</td>\n",
       "      <td>42</td>\n",
       "    </tr>\n",
       "  </tbody>\n",
       "</table>\n",
       "</div>"
      ],
      "text/plain": [
       "       publisher  count\n",
       "0  Penguin Books     42"
      ]
     },
     "execution_count": 9,
     "metadata": {},
     "output_type": "execute_result"
    }
   ],
   "source": [
    "# формулировка запроса\n",
    "query = ''' SELECT p.publisher,\n",
    "                   COUNT(book_id)\n",
    "            FROM books AS b\n",
    "            JOIN publishers AS p ON b.publisher_id = p.publisher_id\n",
    "            WHERE num_pages > 50\n",
    "            GROUP BY p.publisher\n",
    "            ORDER BY COUNT(book_id) DESC\n",
    "            LIMIT 1 '''\n",
    "\n",
    "# выводим результат\n",
    "pd.io.sql.read_sql(query, con = engine) "
   ]
  },
  {
   "cell_type": "markdown",
   "id": "5621bbd6",
   "metadata": {},
   "source": [
    "<div class=\"alert alert-info\">\n",
    "    \n",
    "**📝 Комментарий Маши**\n",
    "    \n",
    "Издательство, которое выпустило наибольшее число книг толще 50 страниц - Penguin Books\t(42 книги).\n",
    "    \n",
    "</div>"
   ]
  },
  {
   "cell_type": "markdown",
   "id": "6a941aa1",
   "metadata": {},
   "source": [
    "### Определить автора с самой высокой средней оценкой книг — учитывать только книги с 50 и более оценками;"
   ]
  },
  {
   "cell_type": "code",
   "execution_count": 10,
   "id": "4f58e4da",
   "metadata": {},
   "outputs": [
    {
     "data": {
      "text/html": [
       "<div>\n",
       "<style scoped>\n",
       "    .dataframe tbody tr th:only-of-type {\n",
       "        vertical-align: middle;\n",
       "    }\n",
       "\n",
       "    .dataframe tbody tr th {\n",
       "        vertical-align: top;\n",
       "    }\n",
       "\n",
       "    .dataframe thead th {\n",
       "        text-align: right;\n",
       "    }\n",
       "</style>\n",
       "<table border=\"1\" class=\"dataframe\">\n",
       "  <thead>\n",
       "    <tr style=\"text-align: right;\">\n",
       "      <th></th>\n",
       "      <th>author</th>\n",
       "      <th>avg</th>\n",
       "    </tr>\n",
       "  </thead>\n",
       "  <tbody>\n",
       "    <tr>\n",
       "      <th>0</th>\n",
       "      <td>J.K. Rowling/Mary GrandPré</td>\n",
       "      <td>4.283844</td>\n",
       "    </tr>\n",
       "  </tbody>\n",
       "</table>\n",
       "</div>"
      ],
      "text/plain": [
       "                       author       avg\n",
       "0  J.K. Rowling/Mary GrandPré  4.283844"
      ]
     },
     "execution_count": 10,
     "metadata": {},
     "output_type": "execute_result"
    }
   ],
   "source": [
    "# формулировка запроса\n",
    "query = ''' WITH rat AS (SELECT book_id,\n",
    "                                AVG(rating) AS avg_rating,\n",
    "                                COUNT(rating_id) AS count_rating\n",
    "                         FROM ratings\n",
    "                         GROUP BY book_id)\n",
    "            SELECT a.author,\n",
    "                   AVG(rat.avg_rating) AS avg \n",
    "            FROM books AS b\n",
    "            JOIN rat ON b.book_id = rat.book_id\n",
    "            JOIN authors AS a ON b.author_id = a.author_id\n",
    "            WHERE rat.count_rating >= 50\n",
    "            GROUP BY a.author\n",
    "            ORDER BY avg DESC\n",
    "            LIMIT 1 '''\n",
    "\n",
    "pd.io.sql.read_sql(query, con = engine) # выводим результат"
   ]
  },
  {
   "cell_type": "markdown",
   "id": "e65453bc",
   "metadata": {},
   "source": [
    "<div class=\"alert alert-info\">\n",
    "    \n",
    "**📝 Комментарий Маши**\n",
    "    \n",
    "Автор с самой высокой средней оценкой книг — J.K. Rowling/Mary GrandPré\t (учитывались книги с 50 и более оценками).\n",
    "    \n",
    "</div>"
   ]
  },
  {
   "cell_type": "markdown",
   "id": "d667af7c",
   "metadata": {},
   "source": [
    "### Посчитать среднее количество обзоров от пользователей, которые поставили больше 50 оценок."
   ]
  },
  {
   "cell_type": "code",
   "execution_count": 11,
   "id": "cf2dc962",
   "metadata": {},
   "outputs": [
    {
     "data": {
      "text/html": [
       "<div>\n",
       "<style scoped>\n",
       "    .dataframe tbody tr th:only-of-type {\n",
       "        vertical-align: middle;\n",
       "    }\n",
       "\n",
       "    .dataframe tbody tr th {\n",
       "        vertical-align: top;\n",
       "    }\n",
       "\n",
       "    .dataframe thead th {\n",
       "        text-align: right;\n",
       "    }\n",
       "</style>\n",
       "<table border=\"1\" class=\"dataframe\">\n",
       "  <thead>\n",
       "    <tr style=\"text-align: right;\">\n",
       "      <th></th>\n",
       "      <th>avg_review</th>\n",
       "    </tr>\n",
       "  </thead>\n",
       "  <tbody>\n",
       "    <tr>\n",
       "      <th>0</th>\n",
       "      <td>24.0</td>\n",
       "    </tr>\n",
       "  </tbody>\n",
       "</table>\n",
       "</div>"
      ],
      "text/plain": [
       "   avg_review\n",
       "0        24.0"
      ]
     },
     "execution_count": 11,
     "metadata": {},
     "output_type": "execute_result"
    }
   ],
   "source": [
    "# формулировка запроса\n",
    "query = ''' WITH rat AS (SELECT username,\n",
    "                                COUNT(rating_id) AS count_rating\n",
    "                         FROM ratings\n",
    "                         GROUP BY username\n",
    "                         HAVING COUNT(rating_id) > 50), \n",
    "            rev AS (SELECT username,\n",
    "                           COUNT(review_id) AS count_review\n",
    "                    FROM reviews\n",
    "                    GROUP BY username)\n",
    "            SELECT ROUND(AVG(count_review)) as avg_review\n",
    "            FROM rat\n",
    "            JOIN rev ON rat.username = rev.username '''\n",
    "\n",
    "# выводим результат\n",
    "pd.io.sql.read_sql(query, con = engine) "
   ]
  },
  {
   "cell_type": "markdown",
   "id": "c066728b",
   "metadata": {},
   "source": [
    "<div class=\"alert alert-info\">\n",
    "    \n",
    "**📝 Комментарий Маши**\n",
    "    \n",
    "Cреднее количество обзоров от пользователей, которые поставили больше 50 оценок - 24. \n",
    "    \n",
    "</div>"
   ]
  },
  {
   "cell_type": "markdown",
   "id": "5ad0b07a",
   "metadata": {},
   "source": [
    "## Общий вывод\n",
    "\n",
    "Анализ базы данных крупного сервиса для чтения книг по подписке показал, что:\n",
    "- В базе 819 книг, которые вышли после 1 января 2000 года.\n",
    "- Для каждой книги посчитаны количество обзоров и средняя оценка. Таблица отсортирована по количеству отзывов. Больше всего отзывов у Twilight (Twilight #1) (7).\n",
    "- Издательство, которое выпустило наибольшее число книг толще 50 страниц - Penguin Books (42 книги).\n",
    "- Автор с самой высокой средней оценкой книг — J.K. Rowling/Mary GrandPré (учитывались книги с 50 и более оценками).\n",
    "- Cреднее количество обзоров от пользователей, которые поставили больше 50 оценок - 24. "
   ]
  }
 ],
 "metadata": {
  "ExecuteTimeLog": [
   {
    "duration": 8350,
    "start_time": "2023-03-23T15:26:13.024Z"
   },
   {
    "duration": 392,
    "start_time": "2023-03-23T15:26:21.376Z"
   },
   {
    "duration": 82,
    "start_time": "2023-03-23T15:26:21.770Z"
   },
   {
    "duration": 81,
    "start_time": "2023-03-23T15:26:21.855Z"
   },
   {
    "duration": 116,
    "start_time": "2023-03-23T15:26:21.938Z"
   },
   {
    "duration": 110,
    "start_time": "2023-03-23T15:26:22.056Z"
   },
   {
    "duration": 84,
    "start_time": "2023-03-23T15:26:22.168Z"
   },
   {
    "duration": 99,
    "start_time": "2023-03-23T15:26:22.255Z"
   },
   {
    "duration": 83,
    "start_time": "2023-03-23T15:26:22.357Z"
   },
   {
    "duration": 83,
    "start_time": "2023-03-23T15:26:22.442Z"
   },
   {
    "duration": 86,
    "start_time": "2023-03-23T15:26:22.527Z"
   },
   {
    "duration": 73,
    "start_time": "2023-03-23T16:11:55.780Z"
   },
   {
    "duration": 10313,
    "start_time": "2023-03-23T16:11:59.918Z"
   },
   {
    "duration": 117,
    "start_time": "2023-03-23T16:12:10.236Z"
   },
   {
    "duration": 14,
    "start_time": "2023-03-23T16:12:10.355Z"
   },
   {
    "duration": 13,
    "start_time": "2023-03-23T16:12:10.370Z"
   },
   {
    "duration": 54,
    "start_time": "2023-03-23T16:12:10.385Z"
   },
   {
    "duration": 21,
    "start_time": "2023-03-23T16:12:10.441Z"
   },
   {
    "duration": 12,
    "start_time": "2023-03-23T16:12:10.464Z"
   },
   {
    "duration": 51,
    "start_time": "2023-03-23T16:12:10.478Z"
   },
   {
    "duration": 15,
    "start_time": "2023-03-23T16:12:10.531Z"
   },
   {
    "duration": 20,
    "start_time": "2023-03-23T16:12:10.549Z"
   },
   {
    "duration": 25,
    "start_time": "2023-03-23T16:12:10.572Z"
   },
   {
    "duration": 216,
    "start_time": "2023-03-23T16:12:31.315Z"
   },
   {
    "duration": 24,
    "start_time": "2023-03-23T16:12:41.962Z"
   },
   {
    "duration": 34,
    "start_time": "2023-03-23T16:16:10.262Z"
   },
   {
    "duration": 27,
    "start_time": "2023-03-23T16:16:45.923Z"
   },
   {
    "duration": 45,
    "start_time": "2023-03-23T16:19:03.679Z"
   },
   {
    "duration": 130,
    "start_time": "2023-03-23T16:20:35.126Z"
   },
   {
    "duration": 25,
    "start_time": "2023-03-23T16:20:40.110Z"
   },
   {
    "duration": 33,
    "start_time": "2023-03-23T16:22:33.211Z"
   },
   {
    "duration": 124,
    "start_time": "2023-03-23T16:23:18.938Z"
   },
   {
    "duration": 120,
    "start_time": "2023-03-23T16:24:30.881Z"
   },
   {
    "duration": 27,
    "start_time": "2023-03-23T16:24:43.434Z"
   },
   {
    "duration": 34,
    "start_time": "2023-03-23T16:25:37.405Z"
   },
   {
    "duration": 146,
    "start_time": "2023-03-23T16:26:00.711Z"
   },
   {
    "duration": 24,
    "start_time": "2023-03-23T16:26:08.239Z"
   },
   {
    "duration": 25,
    "start_time": "2023-03-23T16:27:55.520Z"
   },
   {
    "duration": 24,
    "start_time": "2023-03-23T16:28:23.362Z"
   },
   {
    "duration": 38,
    "start_time": "2023-03-23T16:28:56.666Z"
   },
   {
    "duration": 31,
    "start_time": "2023-03-23T16:29:07.812Z"
   },
   {
    "duration": 34,
    "start_time": "2023-03-23T16:29:58.806Z"
   },
   {
    "duration": 33,
    "start_time": "2023-03-23T16:30:18.820Z"
   },
   {
    "duration": 36,
    "start_time": "2023-03-23T16:30:57.029Z"
   },
   {
    "duration": 28,
    "start_time": "2023-03-23T16:35:02.759Z"
   },
   {
    "duration": 29,
    "start_time": "2023-03-23T16:35:16.916Z"
   },
   {
    "duration": 24,
    "start_time": "2023-03-23T16:36:47.850Z"
   },
   {
    "duration": 40,
    "start_time": "2023-03-23T16:37:29.625Z"
   },
   {
    "duration": 120,
    "start_time": "2023-03-23T16:42:33.360Z"
   },
   {
    "duration": 24,
    "start_time": "2023-03-23T16:42:54.122Z"
   },
   {
    "duration": 115,
    "start_time": "2023-03-23T16:43:34.022Z"
   },
   {
    "duration": 38,
    "start_time": "2023-03-23T16:43:41.106Z"
   },
   {
    "duration": 49,
    "start_time": "2023-03-23T16:44:58.771Z"
   },
   {
    "duration": 29,
    "start_time": "2023-03-23T16:45:06.019Z"
   },
   {
    "duration": 34,
    "start_time": "2023-03-23T16:45:11.814Z"
   },
   {
    "duration": 29,
    "start_time": "2023-03-23T16:45:31.615Z"
   },
   {
    "duration": 141,
    "start_time": "2023-03-23T16:56:41.088Z"
   },
   {
    "duration": 170,
    "start_time": "2023-03-23T16:58:09.054Z"
   },
   {
    "duration": 32,
    "start_time": "2023-03-23T16:58:24.071Z"
   },
   {
    "duration": 109,
    "start_time": "2023-03-23T16:58:48.457Z"
   },
   {
    "duration": 43,
    "start_time": "2023-03-23T16:58:56.969Z"
   },
   {
    "duration": 118,
    "start_time": "2023-03-23T16:59:06.896Z"
   },
   {
    "duration": 27,
    "start_time": "2023-03-23T17:00:22.564Z"
   },
   {
    "duration": 25,
    "start_time": "2023-03-23T17:01:17.055Z"
   },
   {
    "duration": 359,
    "start_time": "2023-03-23T17:01:31.667Z"
   },
   {
    "duration": 32,
    "start_time": "2023-03-23T17:01:46.870Z"
   },
   {
    "duration": 30,
    "start_time": "2023-03-23T17:02:44.071Z"
   },
   {
    "duration": 107,
    "start_time": "2023-03-23T17:02:48.411Z"
   },
   {
    "duration": 25,
    "start_time": "2023-03-23T17:02:51.951Z"
   },
   {
    "duration": 28,
    "start_time": "2023-03-23T17:02:55.566Z"
   },
   {
    "duration": 158,
    "start_time": "2023-03-23T17:12:57.585Z"
   },
   {
    "duration": 28,
    "start_time": "2023-03-23T17:13:26.726Z"
   },
   {
    "duration": 35,
    "start_time": "2023-03-23T17:13:36.801Z"
   },
   {
    "duration": 130,
    "start_time": "2023-03-23T17:25:15.614Z"
   },
   {
    "duration": 101,
    "start_time": "2023-03-23T17:25:37.375Z"
   },
   {
    "duration": 115,
    "start_time": "2023-03-23T17:26:05.039Z"
   },
   {
    "duration": 48,
    "start_time": "2023-03-23T17:26:19.485Z"
   },
   {
    "duration": 138,
    "start_time": "2023-03-23T17:26:55.984Z"
   },
   {
    "duration": 30,
    "start_time": "2023-03-23T17:27:00.662Z"
   },
   {
    "duration": 60,
    "start_time": "2023-03-23T17:27:15.160Z"
   },
   {
    "duration": 139,
    "start_time": "2023-03-23T17:29:02.642Z"
   },
   {
    "duration": 27,
    "start_time": "2023-03-23T17:29:26.036Z"
   },
   {
    "duration": 31,
    "start_time": "2023-03-23T17:32:13.021Z"
   },
   {
    "duration": 120,
    "start_time": "2023-03-23T17:33:43.605Z"
   },
   {
    "duration": 107,
    "start_time": "2023-03-23T17:34:03.153Z"
   },
   {
    "duration": 97,
    "start_time": "2023-03-23T17:34:16.933Z"
   },
   {
    "duration": 33,
    "start_time": "2023-03-23T17:34:26.109Z"
   },
   {
    "duration": 35,
    "start_time": "2023-03-23T17:34:36.644Z"
   },
   {
    "duration": 39,
    "start_time": "2023-03-23T17:38:09.981Z"
   },
   {
    "duration": 38,
    "start_time": "2023-03-23T17:39:07.483Z"
   },
   {
    "duration": 33,
    "start_time": "2023-03-23T17:39:28.831Z"
   },
   {
    "duration": 32,
    "start_time": "2023-03-23T17:39:44.000Z"
   },
   {
    "duration": 76,
    "start_time": "2023-03-23T17:40:09.282Z"
   },
   {
    "duration": 33960,
    "start_time": "2023-07-28T13:05:30.186Z"
   },
   {
    "duration": 301,
    "start_time": "2023-07-28T13:06:04.148Z"
   },
   {
    "duration": 76,
    "start_time": "2023-07-28T13:06:04.451Z"
   },
   {
    "duration": 75,
    "start_time": "2023-07-28T13:06:04.529Z"
   },
   {
    "duration": 98,
    "start_time": "2023-07-28T13:06:04.606Z"
   },
   {
    "duration": 90,
    "start_time": "2023-07-28T13:06:04.706Z"
   },
   {
    "duration": 72,
    "start_time": "2023-07-28T13:06:04.798Z"
   },
   {
    "duration": 90,
    "start_time": "2023-07-28T13:06:04.872Z"
   },
   {
    "duration": 73,
    "start_time": "2023-07-28T13:06:04.964Z"
   },
   {
    "duration": 83,
    "start_time": "2023-07-28T13:06:05.039Z"
   },
   {
    "duration": 81,
    "start_time": "2023-07-28T13:06:05.123Z"
   }
  ],
  "kernelspec": {
   "display_name": "Python 3 (ipykernel)",
   "language": "python",
   "name": "python3"
  },
  "language_info": {
   "codemirror_mode": {
    "name": "ipython",
    "version": 3
   },
   "file_extension": ".py",
   "mimetype": "text/x-python",
   "name": "python",
   "nbconvert_exporter": "python",
   "pygments_lexer": "ipython3",
   "version": "3.9.5"
  },
  "toc": {
   "base_numbering": 1,
   "nav_menu": {},
   "number_sections": true,
   "sideBar": true,
   "skip_h1_title": true,
   "title_cell": "Table of Contents",
   "title_sidebar": "Contents",
   "toc_cell": false,
   "toc_position": {
    "height": "calc(100% - 180px)",
    "left": "10px",
    "top": "150px",
    "width": "165px"
   },
   "toc_section_display": true,
   "toc_window_display": true
  }
 },
 "nbformat": 4,
 "nbformat_minor": 5
}
